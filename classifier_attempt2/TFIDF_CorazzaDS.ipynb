{
  "nbformat": 4,
  "nbformat_minor": 0,
  "metadata": {
    "colab": {
      "name": "CorazzaDS.ipynb",
      "provenance": [],
      "collapsed_sections": []
    },
    "kernelspec": {
      "name": "python3",
      "display_name": "Python 3"
    }
  },
  "cells": [
    {
      "cell_type": "code",
      "metadata": {
        "id": "joFmO0BMKhHq"
      },
      "source": [
        "codata_url = 'http://www2.unibas.it/gscanniello/coherence/report_files/Benchmark_Raw_Data.txt'"
      ],
      "execution_count": null,
      "outputs": []
    },
    {
      "cell_type": "code",
      "metadata": {
        "id": "Hv0H-fZKKsmK",
        "colab": {
          "base_uri": "https://localhost:8080/"
        },
        "outputId": "c01bedc4-0e8f-4cb5-ceff-022b90006d22"
      },
      "source": [
        "import requests\n",
        "\n",
        "r = requests.get(data_url, allow_redirects=True)\n",
        "r"
      ],
      "execution_count": null,
      "outputs": [
        {
          "output_type": "execute_result",
          "data": {
            "text/plain": [
              "<Response [200]>"
            ]
          },
          "metadata": {
            "tags": []
          },
          "execution_count": 2
        }
      ]
    },
    {
      "cell_type": "code",
      "metadata": {
        "id": "5IT61GHrK1-h"
      },
      "source": [
        "raw_data = r.content.decode(encoding='utf-8')"
      ],
      "execution_count": null,
      "outputs": []
    },
    {
      "cell_type": "code",
      "metadata": {
        "id": "DPv_uyeRLaIq",
        "colab": {
          "base_uri": "https://localhost:8080/"
        },
        "outputId": "5e09dd2e-44ba-460a-d407-c2153d6faac7"
      },
      "source": [
        "print(raw_data[:1000])"
      ],
      "execution_count": null,
      "outputs": [
        {
          "output_type": "stream",
          "text": [
            "1, makeCoffee, Main, CoffeeMaker10\n",
            "CoffeeMaker_Web/src/edu/ncsu/csc326/coffeemaker/Main.java, 217, 244\n",
            "3\n",
            "/**\r\n",
            "   * Make coffee user interface the processes input.\r\n",
            "   */\n",
            "28\n",
            "  public static void makeCoffee() {\r\n",
            "    Recipe [] recipes = coffeeMaker.getRecipes();\r\n",
            "    for(int i = 0; i < recipes.length; i++) {\r\n",
            "      if (recipes[i] != null) {\r\n",
            "        System.out.println((i+1) + \". \" + recipes[i].getName());\r\n",
            "      }\r\n",
            "    }\r\n",
            "    \r\n",
            "    int recipeToPurchase = recipeListSelection(\"Please select the number of the recipe to purchase.\");\r\n",
            "    \r\n",
            "    String amountPaid = inputOutput(\"Please enter the amount you wish to pay\");\r\n",
            "    int amtPaid = 0;\r\n",
            "    try {\r\n",
            "      amtPaid = Integer.parseInt(amountPaid);\r\n",
            "    } catch (NumberFormatException e) {\r\n",
            "      System.out.println(\"Please enter a positive integer\");\r\n",
            "      mainMenu();\r\n",
            "    }\r\n",
            "    \r\n",
            "    int change = coffeeMaker.makeCoffee(recipeToPurchase, amtPaid);\r\n",
            "    \r\n",
            "    if (change == amtPaid) {\r\n",
            "      System.out.println(\"Insufficient funds to purchase.\");\n"
          ],
          "name": "stdout"
        }
      ]
    },
    {
      "cell_type": "code",
      "metadata": {
        "id": "wgXl0uZALpXD",
        "colab": {
          "base_uri": "https://localhost:8080/",
          "height": 35
        },
        "outputId": "ca29bb33-4d1b-49e1-8b3d-a56fcae141f7"
      },
      "source": [
        "# Data format::\n",
        "\"\"\"\n",
        "method_id, method_name, class_name, software_system\n",
        "filepath, start_line, end_line,\n",
        "Length of the Head Comments\n",
        "Head Comment\n",
        "Length of the Implementation\n",
        "Method Implementation\n",
        "###\n",
        "\"\"\""
      ],
      "execution_count": null,
      "outputs": [
        {
          "output_type": "execute_result",
          "data": {
            "application/vnd.google.colaboratory.intrinsic+json": {
              "type": "string"
            },
            "text/plain": [
              "'\\nmethod_id, method_name, class_name, software_system\\nfilepath, start_line, end_line,\\nLength of the Head Comments\\nHead Comment\\nLength of the Implementation\\nMethod Implementation\\n###\\n'"
            ]
          },
          "metadata": {
            "tags": []
          },
          "execution_count": 5
        }
      ]
    },
    {
      "cell_type": "code",
      "metadata": {
        "id": "yBo2auZ2MWxR"
      },
      "source": [
        "def parse_raw(raw_data):\n",
        "  raw_lines = raw_data.split('\\n')\n",
        "  index = 0\n",
        "  data = []\n",
        "  ids = []\n",
        "  while True:\n",
        "    try:\n",
        "      method_id = int(raw_lines[index].split(',')[0].strip())\n",
        "    except:\n",
        "      print('parse error')\n",
        "      print(f'left:', *raw_lines[index:], sep='\\n')\n",
        "      return data, ids\n",
        "    #file_meta = raw_lines[index + 1]\n",
        "    index += 2\n",
        "    try:\n",
        "      comment_len = int(raw_lines[index].strip())\n",
        "    except:\n",
        "      print('parse error')\n",
        "      print(f'left:', *raw_lines[index:], sep='\\n')\n",
        "      return data, ids\n",
        "    comment = ('\\n'.join([line for line in raw_lines[index + 1: index + comment_len + 1]])).replace('\\r', '') \n",
        "    index += comment_len + 1\n",
        "    try:\n",
        "      code_len = int(raw_lines[index].strip())\n",
        "    except Exception:\n",
        "      print('parse error')\n",
        "      print(f'left:', *raw_lines[index:], sep='\\n')\n",
        "      return data, ids\n",
        "    code = ('\\n'.join([line for line in raw_lines[index + 1: index + code_len + 1]])).replace('\\r', '')\n",
        "    index += code_len + 1\n",
        "    try: \n",
        "      assert raw_lines[index].startswith(\"###\")\n",
        "    except:\n",
        "      print(raw_lines[index],  \"  not equal ###\\n\")\n",
        "      return data, ids\n",
        "    data.append((code, comment))\n",
        "    ids.append(method_id)\n",
        "    index += 1"
      ],
      "execution_count": null,
      "outputs": []
    },
    {
      "cell_type": "code",
      "metadata": {
        "id": "JMK8HNV7PFcU",
        "colab": {
          "base_uri": "https://localhost:8080/"
        },
        "outputId": "3a702933-86a4-4656-d6df-62ff05904505"
      },
      "source": [
        "all, ids = parse_raw(raw_data)"
      ],
      "execution_count": null,
      "outputs": [
        {
          "output_type": "stream",
          "text": [
            "parse error\n",
            "left:\n",
            "\n"
          ],
          "name": "stdout"
        }
      ]
    },
    {
      "cell_type": "code",
      "metadata": {
        "id": "Gl6UZBiI2ka8",
        "colab": {
          "base_uri": "https://localhost:8080/"
        },
        "outputId": "b45533f0-6cad-4fcf-c78b-d71dc3430985"
      },
      "source": [
        "len(all), len(ids), ids[:10]"
      ],
      "execution_count": null,
      "outputs": [
        {
          "output_type": "execute_result",
          "data": {
            "text/plain": [
              "(2881, 2881, [1, 2, 3, 4, 5, 6, 7, 8, 9, 10])"
            ]
          },
          "metadata": {
            "tags": []
          },
          "execution_count": 8
        }
      ]
    },
    {
      "cell_type": "code",
      "metadata": {
        "id": "zUcgVclb6dpH",
        "colab": {
          "base_uri": "https://localhost:8080/"
        },
        "outputId": "b82b2e36-e780-491b-b1ad-bbcc125a7beb"
      },
      "source": [
        "ids == list(sorted(ids))"
      ],
      "execution_count": null,
      "outputs": [
        {
          "output_type": "execute_result",
          "data": {
            "text/plain": [
              "True"
            ]
          },
          "metadata": {
            "tags": []
          },
          "execution_count": 9
        }
      ]
    },
    {
      "cell_type": "code",
      "metadata": {
        "id": "hKQ2YGOPQcWo",
        "colab": {
          "base_uri": "https://localhost:8080/"
        },
        "outputId": "ec3023f0-cebe-4cd8-c3d6-8143bcb240ce"
      },
      "source": [
        "index = 23\n",
        "print(all[index][1], all[index][0], sep='\\n_________________________________\\n')"
      ],
      "execution_count": null,
      "outputs": [
        {
          "output_type": "stream",
          "text": [
            "/**\n",
            "   * @param amtMilk   The amtMilk to set.\n",
            "   */\n",
            "_________________________________\n",
            "  public void setAmtMilk(String milk) throws RecipeException{\n",
            "    int amtMilk = 0;\n",
            "    try {\n",
            "      amtMilk = Integer.parseInt(milk);\n",
            "    } catch (NumberFormatException e) {\n",
            "      throw new RecipeException(\"Units of milk must be a positive integer\");\n",
            "    }\n",
            "    if (amtMilk >= 0) {\n",
            "      this.amtMilk = amtMilk;\n",
            "    } else {\n",
            "      throw new RecipeException(\"Units of milk must be a positive integer\");\n"
          ],
          "name": "stdout"
        }
      ]
    },
    {
      "cell_type": "code",
      "metadata": {
        "id": "JDgT3b5wTPip"
      },
      "source": [
        "from nltk.tokenize import regexp_tokenize\n",
        "from nltk.corpus import stopwords\n",
        "from nltk.stem.snowball import EnglishStemmer"
      ],
      "execution_count": null,
      "outputs": []
    },
    {
      "cell_type": "code",
      "metadata": {
        "id": "9TFfxWk4csp-",
        "colab": {
          "base_uri": "https://localhost:8080/"
        },
        "outputId": "b6243af6-dfd9-4511-a0a8-0facd9d31c1b"
      },
      "source": [
        "!pip install javalang"
      ],
      "execution_count": null,
      "outputs": [
        {
          "output_type": "stream",
          "text": [
            "Collecting javalang\n",
            "  Downloading https://files.pythonhosted.org/packages/cb/e0/12344443d66b9a84844171be90112892a371da6db09866741774b8bc0a2f/javalang-0.13.0-py3-none-any.whl\n",
            "Requirement already satisfied: six in /usr/local/lib/python3.6/dist-packages (from javalang) (1.15.0)\n",
            "Installing collected packages: javalang\n",
            "Successfully installed javalang-0.13.0\n"
          ],
          "name": "stdout"
        }
      ]
    },
    {
      "cell_type": "code",
      "metadata": {
        "id": "Beg-HYSUc1P7",
        "colab": {
          "base_uri": "https://localhost:8080/"
        },
        "outputId": "1a94717d-9ea1-464b-c3cc-b2872fcbd842"
      },
      "source": [
        "import javalang\n",
        "print(list(javalang.tokenizer.tokenize('System.out.println(\"Hello \" + \"world\");')))\n",
        "print(\n",
        "list(javalang.tokenizer.tokenize('System.out.println(\"Hello \" + \"world\");'))[0].position)"
      ],
      "execution_count": null,
      "outputs": [
        {
          "output_type": "stream",
          "text": [
            "[Identifier \"System\" line 1, position 1, Separator \".\" line 1, position 7, Identifier \"out\" line 1, position 8, Separator \".\" line 1, position 11, Identifier \"println\" line 1, position 12, Separator \"(\" line 1, position 19, String \"\"Hello \"\" line 1, position 20, Operator \"+\" line 1, position 29, String \"\"world\"\" line 1, position 31, Separator \")\" line 1, position 38, Separator \";\" line 1, position 39]\n",
            "Position(line=1, column=1)\n"
          ],
          "name": "stdout"
        }
      ]
    },
    {
      "cell_type": "code",
      "metadata": {
        "id": "6lzQEbuZdOHO",
        "colab": {
          "base_uri": "https://localhost:8080/"
        },
        "outputId": "2e956be1-447a-4586-cb69-c5154d05471e"
      },
      "source": [
        "# what tokens are there? \n",
        "javatokens = set()\n",
        "for code, _ in all:\n",
        "  javatokens.update(map(type, javalang.tokenizer.tokenize(code)))\n",
        "print(*javatokens, sep='\\n')"
      ],
      "execution_count": null,
      "outputs": [
        {
          "output_type": "stream",
          "text": [
            "<class 'javalang.tokenizer.Operator'>\n",
            "<class 'javalang.tokenizer.Null'>\n",
            "<class 'javalang.tokenizer.String'>\n",
            "<class 'javalang.tokenizer.DecimalInteger'>\n",
            "<class 'javalang.tokenizer.Boolean'>\n",
            "<class 'javalang.tokenizer.HexInteger'>\n",
            "<class 'javalang.tokenizer.Identifier'>\n",
            "<class 'javalang.tokenizer.BasicType'>\n",
            "<class 'javalang.tokenizer.DecimalFloatingPoint'>\n",
            "<class 'javalang.tokenizer.Modifier'>\n",
            "<class 'javalang.tokenizer.Annotation'>\n",
            "<class 'javalang.tokenizer.Keyword'>\n",
            "<class 'javalang.tokenizer.Separator'>\n"
          ],
          "name": "stdout"
        }
      ]
    },
    {
      "cell_type": "code",
      "metadata": {
        "id": "I-n1kdVjfZeZ"
      },
      "source": [
        "# We only interested in [Keyword, String, Identifier, Modifier, Annotation] tokens\n",
        "language_tokens = set([javalang.tokenizer.Keyword, javalang.tokenizer.String, javalang.tokenizer.String, javalang.tokenizer.Identifier, \n",
        "                      javalang.tokenizer.Modifier, javalang.tokenizer.Annotation])"
      ],
      "execution_count": null,
      "outputs": []
    },
    {
      "cell_type": "code",
      "metadata": {
        "id": "1k2zp6LIkxXi"
      },
      "source": [
        "import re\n",
        "\n",
        "def split_identifiers(identifier):\n",
        "  if '_' in identifier:\n",
        "    splitted = identifier.split('_')\n",
        "  else:\n",
        "    splitted = re.sub('([A-Z][a-z]+)', r' \\1', re.sub('([A-Z]+)', r' \\1', identifier)).split()\n",
        "  return list(filter(lambda x: x.isalpha(), splitted))\n",
        "\n",
        "  \n"
      ],
      "execution_count": null,
      "outputs": []
    },
    {
      "cell_type": "code",
      "metadata": {
        "id": "bSpSJRAWghMt",
        "colab": {
          "base_uri": "https://localhost:8080/"
        },
        "outputId": "63cda206-8ee3-456a-b534-3dcf469c544b"
      },
      "source": [
        "name = 'CamelCaseTest123'\n",
        "print(split_identifiers(name))\n",
        "print(split_identifiers('snake_case_split_123_lol'))\n",
        "print(split_identifiers('WWWWWWW'))"
      ],
      "execution_count": null,
      "outputs": [
        {
          "output_type": "stream",
          "text": [
            "['Camel', 'Case']\n",
            "['snake', 'case', 'split', 'lol']\n",
            "['WWWWWWW']\n"
          ],
          "name": "stdout"
        }
      ]
    },
    {
      "cell_type": "code",
      "metadata": {
        "id": "_jjWyHFYkKn3"
      },
      "source": [
        "from nltk.tokenize import regexp_tokenize\n",
        "def tokenize_comment(comment):\n",
        "  tokens = regexp_tokenize(comment, pattern=\"\\w+\")\n",
        "  result = []\n",
        "  for token in tokens:\n",
        "    split_id = split_identifiers(token) \n",
        "    result.extend(split_id)\n",
        "  return result"
      ],
      "execution_count": null,
      "outputs": []
    },
    {
      "cell_type": "code",
      "metadata": {
        "id": "CL7RtnCygGnB"
      },
      "source": [
        "def tokenize_code(code):\n",
        "  tokens =  list(filter(lambda x: isinstance(x, tuple(language_tokens)), javalang.tokenizer.tokenize(code)))\n",
        "  result = []\n",
        "  for token in tokens:\n",
        "    if isinstance(token, javalang.tokenizer.Identifier):\n",
        "      result.extend(split_identifiers(token.value))\n",
        "    elif isinstance(token, javalang.tokenizer.String):\n",
        "      result.extend(tokenize_comment(token.value))\n",
        "    else:\n",
        "      result.append(token.value)\n",
        "  return result"
      ],
      "execution_count": null,
      "outputs": []
    },
    {
      "cell_type": "code",
      "metadata": {
        "id": "jecjCZsziZI1",
        "colab": {
          "base_uri": "https://localhost:8080/"
        },
        "outputId": "b51816e6-559f-4ded-d9fe-750751513d45"
      },
      "source": [
        "tokenize_code(\"kek lol java\")"
      ],
      "execution_count": null,
      "outputs": [
        {
          "output_type": "execute_result",
          "data": {
            "text/plain": [
              "['kek', 'lol', 'java']"
            ]
          },
          "metadata": {
            "tags": []
          },
          "execution_count": 20
        }
      ]
    },
    {
      "cell_type": "code",
      "metadata": {
        "id": "lJuI7gIBil77",
        "colab": {
          "base_uri": "https://localhost:8080/"
        },
        "outputId": "f1d48bf0-6f33-4596-eed4-b7ee6ccfe3a9"
      },
      "source": [
        "tokenize_code(\"\"\"public static void mainMenu() {\n",
        "    System.out.println(\"1. Add a recipe\");\n",
        "    System.out.println(\"2. Delete a recipe\");\n",
        "    System.out.println(\"3. Edit a recipe\");\n",
        "    System.out.println(\"4. Add inventory\");\n",
        "    System.out.println(\"5. Check inventory\");\n",
        "    System.out.println(\"6. Make coffee\");\n",
        "    System.out.println(\"0. Exit\\n\");\n",
        "    \n",
        "    //Get user input\n",
        "    try {\n",
        "      int userInput = Integer.parseInt(inputOutput(\"Please press the number that corresponds to what you would like the coffee maker to do.\"));\n",
        "      \n",
        "      if (userInput >= 0 && userInput <=6) {\n",
        "        if (userInput == 1) addRecipe();\n",
        "        if (userInput == 2) deleteRecipe();\n",
        "        if (userInput == 3) editRecipe();\n",
        "        if (userInput == 4) addInventory();\n",
        "        if (userInput == 5) checkInventory();\n",
        "        if (userInput == 6) makeCoffee();\n",
        "        if (userInput == 0) System.exit(0);\n",
        "      } else {\n",
        "        System.out.println(\"Please enter a number from 0 - 6\");\n",
        "        mainMenu();\n",
        "      }\n",
        "    } catch (NumberFormatException e) {\n",
        "      System.out.println(\"Please enter a number from 0 - 6\");\n",
        "      mainMenu();\"\"\")"
      ],
      "execution_count": null,
      "outputs": [
        {
          "output_type": "execute_result",
          "data": {
            "text/plain": [
              "['public',\n",
              " 'static',\n",
              " 'void',\n",
              " 'main',\n",
              " 'Menu',\n",
              " 'System',\n",
              " 'out',\n",
              " 'println',\n",
              " 'Add',\n",
              " 'a',\n",
              " 'recipe',\n",
              " 'System',\n",
              " 'out',\n",
              " 'println',\n",
              " 'Delete',\n",
              " 'a',\n",
              " 'recipe',\n",
              " 'System',\n",
              " 'out',\n",
              " 'println',\n",
              " 'Edit',\n",
              " 'a',\n",
              " 'recipe',\n",
              " 'System',\n",
              " 'out',\n",
              " 'println',\n",
              " 'Add',\n",
              " 'inventory',\n",
              " 'System',\n",
              " 'out',\n",
              " 'println',\n",
              " 'Check',\n",
              " 'inventory',\n",
              " 'System',\n",
              " 'out',\n",
              " 'println',\n",
              " 'Make',\n",
              " 'coffee',\n",
              " 'System',\n",
              " 'out',\n",
              " 'println',\n",
              " 'Exit',\n",
              " 'try',\n",
              " 'int',\n",
              " 'user',\n",
              " 'Input',\n",
              " 'Integer',\n",
              " 'parse',\n",
              " 'Int',\n",
              " 'input',\n",
              " 'Output',\n",
              " 'Please',\n",
              " 'press',\n",
              " 'the',\n",
              " 'number',\n",
              " 'that',\n",
              " 'corresponds',\n",
              " 'to',\n",
              " 'what',\n",
              " 'you',\n",
              " 'would',\n",
              " 'like',\n",
              " 'the',\n",
              " 'coffee',\n",
              " 'maker',\n",
              " 'to',\n",
              " 'do',\n",
              " 'if',\n",
              " 'user',\n",
              " 'Input',\n",
              " 'user',\n",
              " 'Input',\n",
              " 'if',\n",
              " 'user',\n",
              " 'Input',\n",
              " 'add',\n",
              " 'Recipe',\n",
              " 'if',\n",
              " 'user',\n",
              " 'Input',\n",
              " 'delete',\n",
              " 'Recipe',\n",
              " 'if',\n",
              " 'user',\n",
              " 'Input',\n",
              " 'edit',\n",
              " 'Recipe',\n",
              " 'if',\n",
              " 'user',\n",
              " 'Input',\n",
              " 'add',\n",
              " 'Inventory',\n",
              " 'if',\n",
              " 'user',\n",
              " 'Input',\n",
              " 'check',\n",
              " 'Inventory',\n",
              " 'if',\n",
              " 'user',\n",
              " 'Input',\n",
              " 'make',\n",
              " 'Coffee',\n",
              " 'if',\n",
              " 'user',\n",
              " 'Input',\n",
              " 'System',\n",
              " 'exit',\n",
              " 'else',\n",
              " 'System',\n",
              " 'out',\n",
              " 'println',\n",
              " 'Please',\n",
              " 'enter',\n",
              " 'a',\n",
              " 'number',\n",
              " 'from',\n",
              " 'main',\n",
              " 'Menu',\n",
              " 'catch',\n",
              " 'Number',\n",
              " 'Format',\n",
              " 'Exception',\n",
              " 'e',\n",
              " 'System',\n",
              " 'out',\n",
              " 'println',\n",
              " 'Please',\n",
              " 'enter',\n",
              " 'a',\n",
              " 'number',\n",
              " 'from',\n",
              " 'main',\n",
              " 'Menu']"
            ]
          },
          "metadata": {
            "tags": []
          },
          "execution_count": 21
        }
      ]
    },
    {
      "cell_type": "code",
      "metadata": {
        "id": "EfV0q-9qoo_e",
        "colab": {
          "base_uri": "https://localhost:8080/"
        },
        "outputId": "a8b16cb5-c928-479d-e594-934316a90c3c"
      },
      "source": [
        "import nltk\n",
        "from nltk.corpus import stopwords\n",
        "from nltk.stem.snowball import EnglishStemmer\n",
        "\n",
        "nltk.download('stopwords')\n",
        "stemmer = EnglishStemmer()\n",
        "stopwords = stopwords.words('english')"
      ],
      "execution_count": null,
      "outputs": [
        {
          "output_type": "stream",
          "text": [
            "[nltk_data] Downloading package stopwords to /root/nltk_data...\n",
            "[nltk_data]   Unzipping corpora/stopwords.zip.\n"
          ],
          "name": "stdout"
        }
      ]
    },
    {
      "cell_type": "code",
      "metadata": {
        "id": "T1rPeR8Zi-1d"
      },
      "source": [
        "\n",
        "def process_code_comment(code, comment):\n",
        "  code_tokens = tokenize_code(code)\n",
        "  comment_tokens = tokenize_comment(comment)\n",
        "  filtered_code_tokens, filtered_comment_tokens = [], []\n",
        "  \n",
        "  for token in code_tokens:\n",
        "    token = token.lower()\n",
        "    if token not in stopwords and token.isalpha():\n",
        "      filtered_code_tokens.append(stemmer.stem(token.lower()))\n",
        "  for token in comment_tokens:\n",
        "    token = token.lower()\n",
        "    if token not in stopwords and token.isalpha():\n",
        "      filtered_comment_tokens.append(stemmer.stem(token))\n",
        "  return filtered_code_tokens, filtered_comment_tokens"
      ],
      "execution_count": null,
      "outputs": []
    },
    {
      "cell_type": "code",
      "metadata": {
        "id": "1htr_Lx2otVb",
        "colab": {
          "base_uri": "https://localhost:8080/"
        },
        "outputId": "b91fec8c-34c8-4e50-b09c-82cdfc212335"
      },
      "source": [
        "print(all[0][1], tokenize_comment(all[0][1]))"
      ],
      "execution_count": null,
      "outputs": [
        {
          "output_type": "stream",
          "text": [
            "/**\n",
            "   * Make coffee user interface the processes input.\n",
            "   */ ['Make', 'coffee', 'user', 'interface', 'the', 'processes', 'input']\n"
          ],
          "name": "stdout"
        }
      ]
    },
    {
      "cell_type": "code",
      "metadata": {
        "id": "jBqkg8Wzplnl",
        "colab": {
          "base_uri": "https://localhost:8080/"
        },
        "outputId": "68210485-381c-4916-8b6b-536c6d3dc35c"
      },
      "source": [
        "process_code_comment(*all[0])"
      ],
      "execution_count": null,
      "outputs": [
        {
          "output_type": "execute_result",
          "data": {
            "text/plain": [
              "(['public',\n",
              "  'static',\n",
              "  'void',\n",
              "  'make',\n",
              "  'coffe',\n",
              "  'recip',\n",
              "  'recip',\n",
              "  'coffe',\n",
              "  'maker',\n",
              "  'get',\n",
              "  'recip',\n",
              "  'int',\n",
              "  'recip',\n",
              "  'length',\n",
              "  'recip',\n",
              "  'system',\n",
              "  'println',\n",
              "  'recip',\n",
              "  'get',\n",
              "  'name',\n",
              "  'int',\n",
              "  'recip',\n",
              "  'purchas',\n",
              "  'recip',\n",
              "  'list',\n",
              "  'select',\n",
              "  'pleas',\n",
              "  'select',\n",
              "  'number',\n",
              "  'recip',\n",
              "  'purchas',\n",
              "  'string',\n",
              "  'amount',\n",
              "  'paid',\n",
              "  'input',\n",
              "  'output',\n",
              "  'pleas',\n",
              "  'enter',\n",
              "  'amount',\n",
              "  'wish',\n",
              "  'pay',\n",
              "  'int',\n",
              "  'amt',\n",
              "  'paid',\n",
              "  'tri',\n",
              "  'amt',\n",
              "  'paid',\n",
              "  'integ',\n",
              "  'pars',\n",
              "  'int',\n",
              "  'amount',\n",
              "  'paid',\n",
              "  'catch',\n",
              "  'number',\n",
              "  'format',\n",
              "  'except',\n",
              "  'e',\n",
              "  'system',\n",
              "  'println',\n",
              "  'pleas',\n",
              "  'enter',\n",
              "  'posit',\n",
              "  'integ',\n",
              "  'main',\n",
              "  'menu',\n",
              "  'int',\n",
              "  'chang',\n",
              "  'coffe',\n",
              "  'maker',\n",
              "  'make',\n",
              "  'coffe',\n",
              "  'recip',\n",
              "  'purchas',\n",
              "  'amt',\n",
              "  'paid',\n",
              "  'chang',\n",
              "  'amt',\n",
              "  'paid',\n",
              "  'system',\n",
              "  'println',\n",
              "  'insuffici',\n",
              "  'fund',\n",
              "  'purchas',\n",
              "  'els',\n",
              "  'system',\n",
              "  'println',\n",
              "  'thank',\n",
              "  'purchas',\n",
              "  'coffe',\n",
              "  'maker',\n",
              "  'get',\n",
              "  'recip',\n",
              "  'recip',\n",
              "  'purchas',\n",
              "  'get',\n",
              "  'name',\n",
              "  'system',\n",
              "  'println',\n",
              "  'chang',\n",
              "  'chang',\n",
              "  'n',\n",
              "  'main',\n",
              "  'menu'],\n",
              " ['make', 'coffe', 'user', 'interfac', 'process', 'input'])"
            ]
          },
          "metadata": {
            "tags": []
          },
          "execution_count": 25
        }
      ]
    },
    {
      "cell_type": "code",
      "metadata": {
        "id": "Hw61FGOwqn9a"
      },
      "source": [
        "def jaccard_coefficient(code_lexemes, comment_lexemes):\n",
        "  \"\"\"\n",
        "  Calculate the `Jaccard Coefficient` amont resulting Code and\n",
        "  Comments\n",
        "  \"\"\"\n",
        "\n",
        "  comment_set = set(comment_lexemes)\n",
        "  code_set = set(code_lexemes)\n",
        "\n",
        "  jaccard_coeff = len(comment_set.intersection(code_set)) / len(comment_set.union(code_set))\n",
        "  return jaccard_coeff"
      ],
      "execution_count": null,
      "outputs": []
    },
    {
      "cell_type": "code",
      "metadata": {
        "id": "7l1xIEl2qx_U",
        "colab": {
          "base_uri": "https://localhost:8080/"
        },
        "outputId": "9e7aacf5-be45-497f-8b38-d321b685effe"
      },
      "source": [
        "index = 120\n",
        "print(jaccard_coefficient(*process_code_comment(*all[index])), \n",
        "process_code_comment(*all[index]))"
      ],
      "execution_count": null,
      "outputs": [
        {
          "output_type": "stream",
          "text": [
            "0.4166666666666667 (['public', 'void', 'add', 'intern', 'entiti', 'string', 'name', 'string', 'valu', 'entiti', 'contain', 'key', 'name', 'entiti', 'put', 'name', 'valu'], ['add', 'intern', 'entiti', 'param', 'name', 'name', 'entiti', 'param', 'valu', 'valu', 'entiti'])\n"
          ],
          "name": "stdout"
        }
      ]
    },
    {
      "cell_type": "code",
      "metadata": {
        "id": "kKPXzvQ4rwXm"
      },
      "source": [
        "vocab = set()\n",
        "for code, comment in all:\n",
        "  pcode, pcomment = process_code_comment(code, comment)\n",
        "  vocab = vocab.union(pcode)\n",
        "  vocab = vocab.union(pcomment)"
      ],
      "execution_count": null,
      "outputs": []
    },
    {
      "cell_type": "code",
      "metadata": {
        "id": "fT5ogBOksGm1",
        "colab": {
          "base_uri": "https://localhost:8080/"
        },
        "outputId": "79da377f-ca00-44ae-d496-64d8bc2f7a7c"
      },
      "source": [
        "len(vocab)"
      ],
      "execution_count": null,
      "outputs": [
        {
          "output_type": "execute_result",
          "data": {
            "text/plain": [
              "2179"
            ]
          },
          "metadata": {
            "tags": []
          },
          "execution_count": 29
        }
      ]
    },
    {
      "cell_type": "code",
      "metadata": {
        "id": "_nn5nGeMvCHj",
        "colab": {
          "base_uri": "https://localhost:8080/",
          "height": 204
        },
        "outputId": "755d75cf-4b1f-4d86-f20f-ce76429ede4a"
      },
      "source": [
        "# Загрузим ответы, как без них\n",
        "ans_url = 'http://www2.unibas.it/gscanniello/coherence/report_files/Benchmark_Coherence_Data.txt'\n",
        "import requests\n",
        "\n",
        "r = requests.get(ans_url, allow_redirects=True)\n",
        "str_content = r.content.decode(encoding='utf-8')\n",
        "import pandas as pd\n",
        "df = pd.DataFrame([x.split(',') for x in str_content.split('\\n')], columns=['id', 'target'])\n",
        "df.head()"
      ],
      "execution_count": null,
      "outputs": [
        {
          "output_type": "execute_result",
          "data": {
            "text/html": [
              "<div>\n",
              "<style scoped>\n",
              "    .dataframe tbody tr th:only-of-type {\n",
              "        vertical-align: middle;\n",
              "    }\n",
              "\n",
              "    .dataframe tbody tr th {\n",
              "        vertical-align: top;\n",
              "    }\n",
              "\n",
              "    .dataframe thead th {\n",
              "        text-align: right;\n",
              "    }\n",
              "</style>\n",
              "<table border=\"1\" class=\"dataframe\">\n",
              "  <thead>\n",
              "    <tr style=\"text-align: right;\">\n",
              "      <th></th>\n",
              "      <th>id</th>\n",
              "      <th>target</th>\n",
              "    </tr>\n",
              "  </thead>\n",
              "  <tbody>\n",
              "    <tr>\n",
              "      <th>0</th>\n",
              "      <td>1</td>\n",
              "      <td>NOT_COHERENT</td>\n",
              "    </tr>\n",
              "    <tr>\n",
              "      <th>1</th>\n",
              "      <td>2</td>\n",
              "      <td>NOT_COHERENT</td>\n",
              "    </tr>\n",
              "    <tr>\n",
              "      <th>2</th>\n",
              "      <td>3</td>\n",
              "      <td>COHERENT</td>\n",
              "    </tr>\n",
              "    <tr>\n",
              "      <th>3</th>\n",
              "      <td>4</td>\n",
              "      <td>NOT_COHERENT</td>\n",
              "    </tr>\n",
              "    <tr>\n",
              "      <th>4</th>\n",
              "      <td>5</td>\n",
              "      <td>NOT_COHERENT</td>\n",
              "    </tr>\n",
              "  </tbody>\n",
              "</table>\n",
              "</div>"
            ],
            "text/plain": [
              "  id         target\n",
              "0  1   NOT_COHERENT\n",
              "1  2   NOT_COHERENT\n",
              "2  3       COHERENT\n",
              "3  4   NOT_COHERENT\n",
              "4  5   NOT_COHERENT"
            ]
          },
          "metadata": {
            "tags": []
          },
          "execution_count": 30
        }
      ]
    },
    {
      "cell_type": "code",
      "metadata": {
        "id": "L3abwAbZvsjK"
      },
      "source": [
        "import numpy as np\n",
        "Y = np.array(df['target'].map({' NOT_COHERENT': 0,' COHERENT': 1})) \n",
        "Y, sum(np.isnan(Y))\n",
        "# last value is nan, because it is just \\n\n",
        "Y = Y[:-1]"
      ],
      "execution_count": null,
      "outputs": []
    },
    {
      "cell_type": "code",
      "metadata": {
        "id": "M0y7zfbVxSq4",
        "colab": {
          "base_uri": "https://localhost:8080/"
        },
        "outputId": "595c5005-ca83-4b39-b801-6ce08a4509b5"
      },
      "source": [
        "len(all), len(Y)"
      ],
      "execution_count": null,
      "outputs": [
        {
          "output_type": "execute_result",
          "data": {
            "text/plain": [
              "(2881, 2881)"
            ]
          },
          "metadata": {
            "tags": []
          },
          "execution_count": 32
        }
      ]
    },
    {
      "cell_type": "code",
      "metadata": {
        "id": "XHCQ_Ni5xYYe",
        "colab": {
          "base_uri": "https://localhost:8080/"
        },
        "outputId": "d37073c3-f814-40bb-ffcc-091c7b8d8639"
      },
      "source": [
        "df[df['id'] == '3']['target'].iloc[0] == ' COHERENT'"
      ],
      "execution_count": null,
      "outputs": [
        {
          "output_type": "execute_result",
          "data": {
            "text/plain": [
              "True"
            ]
          },
          "metadata": {
            "tags": []
          },
          "execution_count": 33
        }
      ]
    },
    {
      "cell_type": "code",
      "metadata": {
        "id": "cC8YjUAY-ExG",
        "colab": {
          "base_uri": "https://localhost:8080/"
        },
        "outputId": "7f2dccf1-05cd-4fca-a6b1-e8f47c18af66"
      },
      "source": [
        "for index in range(100):\n",
        "    print(\"=\" * 100)\n",
        "    print(all[index][1], all[index][0], ids[index], 'COHERENT' if Y[index] else 'NOT COHERENT', sep='\\n')\n",
        "    print(\"=\" * 100)"
      ],
      "execution_count": null,
      "outputs": [
        {
          "output_type": "stream",
          "text": [
            "====================================================================================================\n",
            "/**\n",
            "   * Make coffee user interface the processes input.\n",
            "   */\n",
            "  public static void makeCoffee() {\n",
            "    Recipe [] recipes = coffeeMaker.getRecipes();\n",
            "    for(int i = 0; i < recipes.length; i++) {\n",
            "      if (recipes[i] != null) {\n",
            "        System.out.println((i+1) + \". \" + recipes[i].getName());\n",
            "      }\n",
            "    }\n",
            "    \n",
            "    int recipeToPurchase = recipeListSelection(\"Please select the number of the recipe to purchase.\");\n",
            "    \n",
            "    String amountPaid = inputOutput(\"Please enter the amount you wish to pay\");\n",
            "    int amtPaid = 0;\n",
            "    try {\n",
            "      amtPaid = Integer.parseInt(amountPaid);\n",
            "    } catch (NumberFormatException e) {\n",
            "      System.out.println(\"Please enter a positive integer\");\n",
            "      mainMenu();\n",
            "    }\n",
            "    \n",
            "    int change = coffeeMaker.makeCoffee(recipeToPurchase, amtPaid);\n",
            "    \n",
            "    if (change == amtPaid) {\n",
            "      System.out.println(\"Insufficient funds to purchase.\");\n",
            "    } else {\n",
            "      System.out.println(\"Thank you for purchasing \" + coffeeMaker.getRecipes()[recipeToPurchase].getName());\n",
            "    }\n",
            "    System.out.println(\"Your change is: \" + change + \"\\n\");\n",
            "    mainMenu();\n",
            "1\n",
            "NOT COHERENT\n",
            "====================================================================================================\n",
            "====================================================================================================\n",
            "/**\n",
            "   * Delete recipe user interface that processes input.\n",
            "   */\n",
            "  public static void deleteRecipe() {\n",
            "    Recipe [] recipes = coffeeMaker.getRecipes();\n",
            "    for(int i = 0; i < recipes.length; i++) {\n",
            "      if (recipes[i] != null) {\n",
            "        System.out.println((i+1) + \". \" + recipes[i].getName());\n",
            "      }\n",
            "    }\n",
            "    int recipeToDelete = recipeListSelection(\"Please select the number of the recipe to delete.\");\n",
            "    \n",
            "    if(recipeToDelete < 0) {\n",
            "      mainMenu();\n",
            "    }\n",
            "    \n",
            "    String recipeDeleted = coffeeMaker.deleteRecipe(recipeToDelete);\n",
            "    \n",
            "    if (recipeDeleted != null) {\n",
            "      System.out.println(recipeDeleted + \" successfully deleted.\\n\");\n",
            "    } else {\n",
            "      System.out.println(\"Selected recipe doesn't exist and could not be deleted.\\n\");\n",
            "    }\n",
            "    mainMenu();\n",
            "2\n",
            "NOT COHERENT\n",
            "====================================================================================================\n",
            "====================================================================================================\n",
            "/**\n",
            "   * Prints the main menu and handles user input for \n",
            "   * main menu commands.\n",
            "   */\n",
            "  public static void mainMenu() {\n",
            "    System.out.println(\"1. Add a recipe\");\n",
            "    System.out.println(\"2. Delete a recipe\");\n",
            "    System.out.println(\"3. Edit a recipe\");\n",
            "    System.out.println(\"4. Add inventory\");\n",
            "    System.out.println(\"5. Check inventory\");\n",
            "    System.out.println(\"6. Make coffee\");\n",
            "    System.out.println(\"0. Exit\\n\");\n",
            "    \n",
            "    //Get user input\n",
            "    try {\n",
            "      int userInput = Integer.parseInt(inputOutput(\"Please press the number that corresponds to what you would like the coffee maker to do.\"));\n",
            "      \n",
            "      if (userInput >= 0 && userInput <=6) {\n",
            "        if (userInput == 1) addRecipe();\n",
            "        if (userInput == 2) deleteRecipe();\n",
            "        if (userInput == 3) editRecipe();\n",
            "        if (userInput == 4) addInventory();\n",
            "        if (userInput == 5) checkInventory();\n",
            "        if (userInput == 6) makeCoffee();\n",
            "        if (userInput == 0) System.exit(0);\n",
            "      } else {\n",
            "        System.out.println(\"Please enter a number from 0 - 6\");\n",
            "        mainMenu();\n",
            "      }\n",
            "    } catch (NumberFormatException e) {\n",
            "      System.out.println(\"Please enter a number from 0 - 6\");\n",
            "      mainMenu();\n",
            "3\n",
            "COHERENT\n",
            "====================================================================================================\n",
            "====================================================================================================\n",
            "/**\n",
            "   * Passes a prompt to the user and returns the user specified \n",
            "   * string.\n",
            "   * @param message\n",
            "   * @return String\n",
            "   */\n",
            "  private static String inputOutput(String message) {\n",
            "    System.out.println(message);\n",
            "    BufferedReader br = new BufferedReader(new InputStreamReader(System.in));\n",
            "    String returnString = \"\";\n",
            "    try {\n",
            "      returnString = br.readLine();\n",
            "    }\n",
            "    catch (IOException e){\n",
            "      System.out.println(\"Error reading in value\");\n",
            "      mainMenu();\n",
            "    }\n",
            "    return returnString;\n",
            "4\n",
            "NOT COHERENT\n",
            "====================================================================================================\n",
            "====================================================================================================\n",
            "/**\n",
            "   * Add inventory user interface that processes input.\n",
            "   */\n",
            "  public static void addInventory() {\n",
            "    //Read in amt coffee\n",
            "    String coffeeString = inputOutput(\"\\nPlease enter the units of coffee to add: \");\n",
            "        \n",
            "    //Read in amt milk\n",
            "    String milkString = inputOutput(\"\\nPlease enter the units of milk to add: \");\n",
            "        \n",
            "    //Read in amt sugar\n",
            "    String sugarString = inputOutput(\"\\nPlease enter the units of sugar to add: \");\n",
            "        \n",
            "    //Read in amt chocolate\n",
            "    String chocolateString = inputOutput(\"\\nPlease enter the units of chocolate to add: \");\n",
            "        \n",
            "    try {\n",
            "      coffeeMaker.addInventory(coffeeString, milkString, sugarString, chocolateString);\n",
            "      System.out.println(\"Inventory successfully added\");\n",
            "    } catch (InventoryException e) {\n",
            "      System.out.println(\"Inventory was not added\");\n",
            "    } finally {\n",
            "      mainMenu();\n",
            "5\n",
            "NOT COHERENT\n",
            "====================================================================================================\n",
            "====================================================================================================\n",
            "/**\n",
            "   * Edit recipe user interface the processes user input.\n",
            "   */\n",
            "  public static void editRecipe() {\n",
            "    Recipe [] recipes = coffeeMaker.getRecipes();\n",
            "    for(int i = 0; i < recipes.length; i++) {\n",
            "      if (recipes[i] != null) {\n",
            "        System.out.println((i+1) + \". \" + recipes[i].getName());\n",
            "      }\n",
            "    }\n",
            "    int recipeToEdit = recipeListSelection(\"Please select the number of the recipe to edit.\");\n",
            "    \n",
            "    if(recipeToEdit < 0) {\n",
            "      mainMenu();\n",
            "    }\n",
            "    \n",
            "    //Read in recipe price\n",
            "    String priceString = inputOutput(\"\\nPlease enter the recipe price: $\");\n",
            "    \n",
            "    //Read in amt coffee\n",
            "    String coffeeString = inputOutput(\"\\nPlease enter the units of coffee in the recipe: \");\n",
            "    \n",
            "    //Read in amt milk\n",
            "    String milkString = inputOutput(\"\\nPlease enter the units of milk in the recipe: \");\n",
            "    \n",
            "    //Read in amt sugar\n",
            "    String sugarString = inputOutput(\"\\nPlease enter the units of sugar in the recipe: \");\n",
            "    \n",
            "    //Read in amt chocolate\n",
            "    String chocolateString = inputOutput(\"\\nPlease enter the units of chocolate in the recipe: \");\n",
            "    \n",
            "    Recipe newRecipe = new Recipe();\n",
            "    try {\n",
            "      newRecipe.setPrice(priceString);\n",
            "      newRecipe.setAmtCoffee(coffeeString);\n",
            "      newRecipe.setAmtMilk(milkString);\n",
            "      newRecipe.setAmtSugar(sugarString);\n",
            "      newRecipe.setAmtChocolate(chocolateString);\n",
            "      \n",
            "      String recipeEdited = coffeeMaker.editRecipe(recipeToEdit, newRecipe);\n",
            "      \n",
            "      if (recipeEdited != null) {\n",
            "        System.out.println(recipeEdited + \" successfully edited.\\n\");\n",
            "      }\n",
            "      else {\n",
            "        System.out.println(recipeEdited + \"could not be edited.\\n\");\n",
            "      }\n",
            "    } catch (RecipeException e) {\n",
            "      System.out.println(e.getMessage());\n",
            "    } finally {\n",
            "      mainMenu();\n",
            "6\n",
            "NOT COHERENT\n",
            "====================================================================================================\n",
            "====================================================================================================\n",
            "/**\n",
            "   * Passes a prompt to the user that deals with the recipe list\n",
            "   * and returns the user selected number.\n",
            "   * @param message\n",
            "   * @return int\n",
            "   */\n",
            "  private static int recipeListSelection(String message) {\n",
            "    String userSelection = inputOutput(message);\n",
            "    int recipe = 0;\n",
            "    try {\n",
            "      recipe = Integer.parseInt(userSelection) - 1;\n",
            "      if (recipe >= 0 && recipe <=2) {\n",
            "        //do nothing here.\n",
            "      } else {\n",
            "        recipe = -1;\n",
            "      }\n",
            "    } catch (NumberFormatException e) {\n",
            "      System.out.println(\"Please select a number from 1-3.\");\n",
            "      recipe = -1;\n",
            "    }\n",
            "    return recipe;\n",
            "7\n",
            "NOT COHERENT\n",
            "====================================================================================================\n",
            "====================================================================================================\n",
            "/**\n",
            "   * The add recipe user interface that process user input.\n",
            "   */\n",
            "  public static void addRecipe() {\n",
            "    \n",
            "    //Read in recipe name\n",
            "    String name = inputOutput(\"\\nPlease enter the recipe name: \");\n",
            "    \n",
            "    //Read in recipe price\n",
            "    String priceString = inputOutput(\"\\nPlease enter the recipe price: $\");\n",
            "        \n",
            "    //Read in amt coffee\n",
            "    String coffeeString = inputOutput(\"\\nPlease enter the units of coffee in the recipe: \");\n",
            "        \n",
            "    //Read in amt milk\n",
            "    String milkString = inputOutput(\"\\nPlease enter the units of milk in the recipe: \");\n",
            "        \n",
            "    //Read in amt sugar\n",
            "    String sugarString = inputOutput(\"\\nPlease enter the units of sugar in the recipe: \");\n",
            "        \n",
            "    //Read in amt chocolate\n",
            "    String chocolateString = inputOutput(\"\\nPlease enter the units of chocolate in the recipe: \");\n",
            "        \n",
            "    Recipe r = new Recipe();\n",
            "    try {\n",
            "      r.setName(name);\n",
            "      r.setPrice(priceString);\n",
            "      r.setAmtCoffee(coffeeString);\n",
            "      r.setAmtMilk(milkString);\n",
            "      r.setAmtSugar(sugarString);\n",
            "      r.setAmtChocolate(chocolateString);\n",
            "      \n",
            "      boolean recipeAdded = coffeeMaker.addRecipe(r);\n",
            "      \n",
            "      if(recipeAdded) {\n",
            "        System.out.println(name + \" successfully added.\\n\");\n",
            "      } else {\n",
            "        System.out.println(name + \" could not be added.\\n\");\n",
            "      }\n",
            "    } catch (RecipeException e) {\n",
            "      System.out.println(e.getMessage());\n",
            "    } finally {\n",
            "      mainMenu();\n",
            "8\n",
            "NOT COHERENT\n",
            "====================================================================================================\n",
            "====================================================================================================\n",
            "/**\n",
            "   * Check inventory user interface that processes input.\n",
            "   */\n",
            "  public static void checkInventory() {\n",
            "    System.out.println(coffeeMaker.checkInventory());\n",
            "    mainMenu();\n",
            "9\n",
            "NOT COHERENT\n",
            "====================================================================================================\n",
            "====================================================================================================\n",
            "/**\n",
            "   * Returns the recipe array.\n",
            "   * @param r\n",
            "   * @return Recipe[]\n",
            "   */\n",
            "  public synchronized Recipe[] getRecipes() {\n",
            "    return recipeArray;\n",
            "10\n",
            "COHERENT\n",
            "====================================================================================================\n",
            "====================================================================================================\n",
            "/**\n",
            "   * Returns the name of the recipe deleted at the position specified\n",
            "   * and null if the recipe does not exist.\n",
            "   * @param recipeToDelete\n",
            "   * @return String\n",
            "   */\n",
            "  public synchronized String deleteRecipe(int recipeToDelete) {\n",
            "    if (recipeArray[recipeToDelete] != null) {\n",
            "      String recipeName = recipeArray[recipeToDelete].getName();\n",
            "      recipeArray[recipeToDelete] = null;\n",
            "      return recipeName;\n",
            "    } else {\n",
            "      return null;\n",
            "11\n",
            "COHERENT\n",
            "====================================================================================================\n",
            "====================================================================================================\n",
            "/**\n",
            "   * Default constructor for a RecipeBook.\n",
            "   */\n",
            "  public RecipeBook() {\n",
            "    recipeArray = new Recipe[NUM_RECIPES];\n",
            "12\n",
            "COHERENT\n",
            "====================================================================================================\n",
            "====================================================================================================\n",
            "/**\n",
            "   * Returns the change of a user's beverage purchase, or\n",
            "   * the user's money if the beverage cannot be made\n",
            "   * @param r\n",
            "   * @param amtPaid\n",
            "   * @return int\n",
            "   */\n",
            "  public synchronized int makeCoffee(int recipeToPurchase, int amtPaid) {\n",
            "    int change = 0;\n",
            "    \n",
            "    if (getRecipes()[recipeToPurchase] == null) {\n",
            "      change = amtPaid;\n",
            "    } else if (getRecipes()[recipeToPurchase].getPrice() <= amtPaid) {\n",
            "      if (inventory.useIngredients(getRecipes()[recipeToPurchase])) {\n",
            "        change = amtPaid - getRecipes()[recipeToPurchase].getPrice();\n",
            "      } else {\n",
            "        change = amtPaid;\n",
            "      }\n",
            "    } else {\n",
            "      change = amtPaid;\n",
            "    }\n",
            "    \n",
            "    return change;\n",
            "13\n",
            "COHERENT\n",
            "====================================================================================================\n",
            "====================================================================================================\n",
            "/**\n",
            "   * Returns true if inventory was successfully added\n",
            "   * @param amtCoffee\n",
            "   * @param amtMilk\n",
            "   * @param amtSugar\n",
            "   * @param amtChocolate\n",
            "   * @return boolean\n",
            "   */\n",
            "  public synchronized void addInventory(String amtCoffee, String amtMilk, String amtSugar, String amtChocolate) throws InventoryException {\n",
            "    inventory.addCoffee(amtCoffee);\n",
            "    inventory.addMilk(amtMilk);\n",
            "    inventory.addSugar(amtSugar);\n",
            "    inventory.addChocolate(amtChocolate);\n",
            "14\n",
            "NOT COHERENT\n",
            "====================================================================================================\n",
            "====================================================================================================\n",
            "/**\n",
            "   * Returns the inventory of the coffee maker\n",
            "   * @return Inventory\n",
            "   */\n",
            "  public synchronized String checkInventory() {\n",
            "    return inventory.toString();\n",
            "15\n",
            "COHERENT\n",
            "====================================================================================================\n",
            "====================================================================================================\n",
            "/**\n",
            "   * Returns the name of the successfully deleted recipe\n",
            "   * or null if the recipe cannot be deleted.\n",
            "   * \n",
            "   * @param recipeToDelete\n",
            "   * @return String\n",
            "   */\n",
            "  public String deleteRecipe(int recipeToDelete) {\n",
            "    return recipeBook.deleteRecipe(recipeToDelete);\n",
            "16\n",
            "COHERENT\n",
            "====================================================================================================\n",
            "====================================================================================================\n",
            "/**\n",
            "   * Returns the name of the successfully edited recipe\n",
            "   * or null if the recipe cannot be edited.\n",
            "   * @param recipeToEdit\n",
            "   * @param r\n",
            "   * @return String\n",
            "   */\n",
            "  public String editRecipe(int recipeToEdit, Recipe r) {\n",
            "    return recipeBook.editRecipe(recipeToEdit, r);\n",
            "17\n",
            "COHERENT\n",
            "====================================================================================================\n",
            "====================================================================================================\n",
            "/**\n",
            "   * Constructor for the coffee maker\n",
            "   *\n",
            "   */\n",
            "  public CoffeeMaker() {\n",
            "    recipeBook = new RecipeBook();\n",
            "    inventory = new Inventory();\n",
            "18\n",
            "COHERENT\n",
            "====================================================================================================\n",
            "====================================================================================================\n",
            "/**\n",
            "   * Returns true if the recipe is added to the\n",
            "   * list of recipes in the CoffeeMaker and false\n",
            "   * otherwise.\n",
            "   * @param r\n",
            "   * @return boolean\n",
            "   */\n",
            "  public boolean addRecipe(Recipe r) {\n",
            "    return recipeBook.addRecipe(r);\n",
            "19\n",
            "COHERENT\n",
            "====================================================================================================\n",
            "====================================================================================================\n",
            "/**\n",
            "   * @param amtChocolate   The amtChocolate to set.\n",
            "   */\n",
            "  public void setAmtChocolate(String chocolate) throws RecipeException {\n",
            "    int amtChocolate = 0;\n",
            "    try {\n",
            "      amtChocolate = Integer.parseInt(chocolate);\n",
            "    } catch (NumberFormatException e) {\n",
            "      throw new RecipeException(\"Units of chocolate must be a positive integer\");\n",
            "    }\n",
            "    if (amtChocolate >= 0) {\n",
            "      this.amtChocolate = amtChocolate;\n",
            "    } else {\n",
            "      throw new RecipeException(\"Units of chocolate must be a positive integer\");\n",
            "20\n",
            "NOT COHERENT\n",
            "====================================================================================================\n",
            "====================================================================================================\n",
            "/**\n",
            "   * @return   Returns the price.\n",
            "   */\n",
            "  public int getPrice() {\n",
            "    return price;\n",
            "21\n",
            "COHERENT\n",
            "====================================================================================================\n",
            "====================================================================================================\n",
            "/**\n",
            "   * @param price   The price to set.\n",
            "   */\n",
            "  public void setPrice(String price) throws RecipeException{\n",
            "    int amtPrice = 0;\n",
            "    try {\n",
            "      amtPrice = Integer.parseInt(price);\n",
            "    } catch (NumberFormatException e) {\n",
            "      throw new RecipeException(\"Price must be a positive integer\");\n",
            "    }\n",
            "    if (amtPrice >= 0) {\n",
            "      this.price = amtPrice;\n",
            "    } else {\n",
            "      throw new RecipeException(\"Price must be a positive integer\");\n",
            "22\n",
            "NOT COHERENT\n",
            "====================================================================================================\n",
            "====================================================================================================\n",
            "/**\n",
            "   * @return   Returns the amtCoffee.\n",
            "   */\n",
            "  public int getAmtCoffee() {\n",
            "    return amtCoffee;\n",
            "23\n",
            "COHERENT\n",
            "====================================================================================================\n",
            "====================================================================================================\n",
            "/**\n",
            "   * @param amtMilk   The amtMilk to set.\n",
            "   */\n",
            "  public void setAmtMilk(String milk) throws RecipeException{\n",
            "    int amtMilk = 0;\n",
            "    try {\n",
            "      amtMilk = Integer.parseInt(milk);\n",
            "    } catch (NumberFormatException e) {\n",
            "      throw new RecipeException(\"Units of milk must be a positive integer\");\n",
            "    }\n",
            "    if (amtMilk >= 0) {\n",
            "      this.amtMilk = amtMilk;\n",
            "    } else {\n",
            "      throw new RecipeException(\"Units of milk must be a positive integer\");\n",
            "24\n",
            "NOT COHERENT\n",
            "====================================================================================================\n",
            "====================================================================================================\n",
            "/**\n",
            "   * @return   Returns the amtMilk.\n",
            "   */\n",
            "  public int getAmtMilk() {\n",
            "    return amtMilk;\n",
            "25\n",
            "COHERENT\n",
            "====================================================================================================\n",
            "====================================================================================================\n",
            "/**\n",
            "   * @param amtCoffee   The amtCoffee to set.\n",
            "   */\n",
            "  public void setAmtCoffee(String coffee) throws RecipeException {\n",
            "    int amtCoffee = 0;\n",
            "    try {\n",
            "      amtCoffee = Integer.parseInt(coffee);\n",
            "    } catch (NumberFormatException e) {\n",
            "      throw new RecipeException(\"Units of coffee must be a positive integer\");\n",
            "    }\n",
            "    if (amtCoffee >= 0) {\n",
            "      this.amtCoffee = amtCoffee;\n",
            "    } else {\n",
            "      throw new RecipeException(\"Units of coffee must be a positive integer\");\n",
            "26\n",
            "NOT COHERENT\n",
            "====================================================================================================\n",
            "====================================================================================================\n",
            "/**\n",
            "   * @return   Returns the amtSugar.\n",
            "   */\n",
            "  public int getAmtSugar() {\n",
            "    return amtSugar;\n",
            "27\n",
            "COHERENT\n",
            "====================================================================================================\n",
            "====================================================================================================\n",
            "/**\n",
            "   * @return   Returns the name.\n",
            "   */\n",
            "  public String getName() {\n",
            "    return name;\n",
            "28\n",
            "COHERENT\n",
            "====================================================================================================\n",
            "====================================================================================================\n",
            "/**\n",
            "   * @return   Returns the amtChocolate.\n",
            "   */\n",
            "  public int getAmtChocolate() {\n",
            "    return amtChocolate;\n",
            "29\n",
            "COHERENT\n",
            "====================================================================================================\n",
            "====================================================================================================\n",
            "/**\n",
            "   * @param name   The name to set.\n",
            "   */\n",
            "  public void setName(String name) {\n",
            "    if(name != null) {\n",
            "      this.name = name;\n",
            "30\n",
            "NOT COHERENT\n",
            "====================================================================================================\n",
            "====================================================================================================\n",
            "/**\n",
            "   * Creates a default recipe for the coffee maker.\n",
            "   */\n",
            "  public Recipe() {\n",
            "    this.name = \"\";\n",
            "    this.price = 0;\n",
            "    this.amtCoffee = 0;\n",
            "    this.amtMilk = 0;\n",
            "    this.amtSugar = 0;\n",
            "    this.amtChocolate = 0;\n",
            "31\n",
            "COHERENT\n",
            "====================================================================================================\n",
            "====================================================================================================\n",
            "/**\n",
            "   * @param amtSugar   The amtSugar to set.\n",
            "   */\n",
            "  public void setAmtSugar(String sugar) throws RecipeException {\n",
            "    int amtSugar = 0;\n",
            "    try {\n",
            "      amtSugar = Integer.parseInt(sugar);\n",
            "    } catch (NumberFormatException e) {\n",
            "      throw new RecipeException(\"Units of sugar must be a positive integer\");\n",
            "    }\n",
            "    if (amtSugar >= 0) {\n",
            "      this.amtSugar = amtSugar;\n",
            "    } else {\n",
            "      throw new RecipeException(\"Units of sugar must be a positive integer\");\n",
            "32\n",
            "NOT COHERENT\n",
            "====================================================================================================\n",
            "====================================================================================================\n",
            "/**\n",
            "   * Sets the number of milk units in the inventory\n",
            "   * to the specified amount.\n",
            "   * @param milk\n",
            "   */\n",
            "  public synchronized void setMilk(int milk) {\n",
            "    if(milk >= 0) {\n",
            "      Inventory.milk = milk;\n",
            "33\n",
            "COHERENT\n",
            "====================================================================================================\n",
            "====================================================================================================\n",
            "/**\n",
            "   * Returns the current number of chocolate units in \n",
            "   * the inventory.\n",
            "   * @return int\n",
            "   */\n",
            "  public int getChocolate() {\n",
            "    return chocolate;\n",
            "34\n",
            "COHERENT\n",
            "====================================================================================================\n",
            "====================================================================================================\n",
            "/**\n",
            "   * Add the number of sugar units in the inventory \n",
            "   * to the current amount of sugar units.\n",
            "   * @param sugar\n",
            "   * @throws InventoryException\n",
            "   */\n",
            "  public synchronized void addSugar(String sugar) throws InventoryException {\n",
            "    int amtSugar = 0;\n",
            "    try {\n",
            "      amtSugar = Integer.parseInt(sugar);\n",
            "    } catch (NumberFormatException e) {\n",
            "      throw new InventoryException(\"Units of sugar must be a positive integer\");\n",
            "    }\n",
            "    if (amtSugar >= 0) { \n",
            "      Inventory.sugar += amtSugar;\n",
            "    } else {\n",
            "      throw new InventoryException(\"Units of sugar must be a positive integer\");\n",
            "35\n",
            "NOT COHERENT\n",
            "====================================================================================================\n",
            "====================================================================================================\n",
            "/**\n",
            "   * Sets the number of sugar units in the inventory\n",
            "   * to the specified amount.\n",
            "   * @param sugar\n",
            "   */\n",
            "  public synchronized void setSugar(int sugar) {\n",
            "    if(sugar >= 0) {\n",
            "      Inventory.sugar = sugar;\n",
            "36\n",
            "NOT COHERENT\n",
            "====================================================================================================\n",
            "====================================================================================================\n",
            "/**\n",
            "   * Returns the current number of sugar units in \n",
            "   * the inventory.\n",
            "   * @return int\n",
            "   */\n",
            "  public int getSugar() {\n",
            "    return sugar;\n",
            "37\n",
            "COHERENT\n",
            "====================================================================================================\n",
            "====================================================================================================\n",
            "/**\n",
            "   * Removes the ingredients used to make the specified \n",
            "   * recipe.  Assumes that the user has checked that there\n",
            "   * are enough ingredients to make \n",
            "   * @param r\n",
            "   */\n",
            "  public synchronized boolean useIngredients(Recipe r) {\n",
            "    if (enoughIngredients(r)) {\n",
            "      Inventory.coffee -= r.getAmtCoffee();\n",
            "      Inventory.milk -= r.getAmtMilk();\n",
            "      Inventory.sugar -= r.getAmtSugar();\n",
            "      Inventory.chocolate -= r.getAmtChocolate();\n",
            "      return true;\n",
            "    } else {\n",
            "      return false;\n",
            "38\n",
            "COHERENT\n",
            "====================================================================================================\n",
            "====================================================================================================\n",
            "/**\n",
            "   * Sets the number of coffee units in the inventory \n",
            "   * to the specified amount.\n",
            "   * @param coffee\n",
            "   */\n",
            "  public synchronized void setCoffee(int coffee) {\n",
            "    if(coffee >= 0) {\n",
            "      Inventory.coffee = coffee;\n",
            "39\n",
            "COHERENT\n",
            "====================================================================================================\n",
            "====================================================================================================\n",
            "/**\n",
            "   * Add the number of chocolate units in the inventory \n",
            "   * to the current amount of chocolate units.\n",
            "   * @param chocolate\n",
            "   * @throws InventoryException\n",
            "   */\n",
            "  public synchronized void addChocolate(String chocolate) throws InventoryException {\n",
            "    int amtChocolate = 0;\n",
            "    try {\n",
            "      amtChocolate = Integer.parseInt(chocolate);\n",
            "    } catch (NumberFormatException e) {\n",
            "      throw new InventoryException(\"Units of chocolate must be a positive integer\");\n",
            "    }\n",
            "    if (amtChocolate >= 0) {\n",
            "      Inventory.chocolate += amtChocolate;\n",
            "    } else {\n",
            "      throw new InventoryException(\"Units of chocolate must be a positive integer\");\n",
            "40\n",
            "NOT COHERENT\n",
            "====================================================================================================\n",
            "====================================================================================================\n",
            "/**\n",
            "   * Sets the number of chocolate units in the inventory\n",
            "   * to the specified amount.\n",
            "   * @param chocolate\n",
            "   */\n",
            "  public synchronized void setChocolate(int chocolate) {\n",
            "    if(chocolate >= 0) {\n",
            "      Inventory.chocolate = chocolate;\n",
            "41\n",
            "COHERENT\n",
            "====================================================================================================\n",
            "====================================================================================================\n",
            "/**\n",
            "   * Returns the current number of coffee units in\n",
            "   * the inventory.\n",
            "   * @return int\n",
            "   */\n",
            "  public int getCoffee() {\n",
            "    return coffee;\n",
            "42\n",
            "COHERENT\n",
            "====================================================================================================\n",
            "====================================================================================================\n",
            "/**\n",
            "   * Returns the current number of milk units in\n",
            "   * the inventory.\n",
            "   * @return int\n",
            "   */\n",
            "  public int getMilk() {\n",
            "    return milk;\n",
            "43\n",
            "COHERENT\n",
            "====================================================================================================\n",
            "====================================================================================================\n",
            "/**\n",
            "   * Returns true if there are enough ingredients to make\n",
            "   * the beverage.\n",
            "   * @param r\n",
            "   * @return boolean\n",
            "   */\n",
            "  protected synchronized boolean enoughIngredients(Recipe r) {\n",
            "    boolean isEnough = true;\n",
            "    if(Inventory.coffee < r.getAmtCoffee()) {\n",
            "      isEnough = false;\n",
            "    }\n",
            "    if(Inventory.milk < r.getAmtMilk()) {\n",
            "      isEnough = false;\n",
            "    }\n",
            "    if(Inventory.sugar < r.getAmtSugar()) {\n",
            "      isEnough = false;\n",
            "    }\n",
            "    if(Inventory.chocolate < r.getAmtChocolate()) {\n",
            "      isEnough = false;\n",
            "    }\n",
            "    return isEnough;\n",
            "44\n",
            "COHERENT\n",
            "====================================================================================================\n",
            "====================================================================================================\n",
            "/**\n",
            "   * Add the number of milk units in the inventory \n",
            "   * to the current amount of milk units.\n",
            "   * @param milk\n",
            "   * @throws InventoryException\n",
            "   */\n",
            "  public synchronized void addMilk(String milk) throws InventoryException {\n",
            "    int amtMilk = 0;\n",
            "    try {\n",
            "      amtMilk = Integer.parseInt(milk);\n",
            "    } catch (NumberFormatException e) {\n",
            "      throw new InventoryException(\"Units of milk must be a positive integer\");\n",
            "    }\n",
            "    if (amtMilk >= 0) {\n",
            "      Inventory.milk += amtMilk;\n",
            "    } else {\n",
            "      throw new InventoryException(\"Units of milk must be a positive integer\");\n",
            "45\n",
            "NOT COHERENT\n",
            "====================================================================================================\n",
            "====================================================================================================\n",
            "/**\n",
            "   * Creates a coffee maker inventory object and\n",
            "   * fills each item in the inventory with 15 units.\n",
            "   */\n",
            "  public Inventory() {\n",
            "    setCoffee(15);\n",
            "    setMilk(15);\n",
            "    setSugar(15);\n",
            "    setChocolate(15);\n",
            "46\n",
            "COHERENT\n",
            "====================================================================================================\n",
            "====================================================================================================\n",
            "/**\n",
            "   * Add the number of coffee units in the inventory \n",
            "   * to the current amount of coffee units.\n",
            "   * @param coffee\n",
            "   * @throws InventoryException\n",
            "   */\n",
            "  public synchronized void addCoffee(String coffee) throws InventoryException {\n",
            "    int amtCoffee = 0;\n",
            "    try {\n",
            "      amtCoffee = Integer.parseInt(coffee);\n",
            "    } catch (NumberFormatException e) {\n",
            "      throw new InventoryException(\"Units of coffee must be a positive integer\");\n",
            "    }\n",
            "    if (amtCoffee >= 0) {\n",
            "      Inventory.coffee += amtCoffee;\n",
            "    } else {\n",
            "      throw new InventoryException(\"Units of coffee must be a positive integer\");\n",
            "47\n",
            "NOT COHERENT\n",
            "====================================================================================================\n",
            "====================================================================================================\n",
            "/**\n",
            "  * Skips remaining data and closes the stream.\n",
            "  *\n",
            "  * @throws java.io.IOException\n",
            "  *    if an error occurred reading the data\n",
            "  */\n",
            "   public void close()\n",
            "    throws IOException\n",
            "   {\n",
            "    try {\n",
            "     int bufferLength = this.buffer.length();\n",
            "     for (;;) {\n",
            "      String str = \"\";\n",
            "      char ch;\n",
            "      if (this.bufferIndex >= bufferLength) {\n",
            "         str = XMLUtil.read(this.reader, '&');\n",
            "         ch = str.charAt(0);\n",
            "      } else {\n",
            "         ch = this.buffer.charAt(this.bufferIndex);\n",
            "         this.bufferIndex++;\n",
            "         continue; // don't interprete chars in the buffer\n",
            "      }\n",
            "      if (ch == '<') {\n",
            "         this.reader.unread(ch);\n",
            "         break;\n",
            "      }\n",
            "      if ((ch == '&') && (str.length() > 1)) {\n",
            "         if (str.charAt(1) != '#') {\n",
            "          XMLUtil.processEntity(str, this.reader, this.resolver);\n",
            "         }\n",
            "      }\n",
            "     }\n",
            "    } catch (XMLParseException e) {\n",
            "     throw new IOException(e.getMessage());\n",
            "58\n",
            "COHERENT\n",
            "====================================================================================================\n",
            "====================================================================================================\n",
            "/**\n",
            "  * Creates the reader.\n",
            "  *\n",
            "  * @param reader the encapsulated reader\n",
            "  * @param resolver the entity resolver\n",
            "  * @param buffer data that has already been read from <code>reader</code>\n",
            "  */\n",
            "   ContentReader(IXMLReader     reader,\n",
            "         IXMLEntityResolver resolver,\n",
            "         String       buffer)\n",
            "   {\n",
            "    this.reader = reader;\n",
            "    this.resolver = resolver;\n",
            "    this.buffer = buffer;\n",
            "    this.bufferIndex = 0;\n",
            "59\n",
            "COHERENT\n",
            "====================================================================================================\n",
            "====================================================================================================\n",
            "/**\n",
            "  * Reads a block of data.\n",
            "  *\n",
            "  * @param outputBuffer where to put the read data\n",
            "  * @param offset first position in buffer to put the data\n",
            "  * @param size maximum number of chars to read\n",
            "  *\n",
            "  * @return the number of chars read, or -1 if at EOF\n",
            "  *\n",
            "  * @throws java.io.IOException\n",
            "  *    if an error occurred reading the data\n",
            "  */\n",
            "   public int read(char[] outputBuffer,\n",
            "           int  offset,\n",
            "           int  size)\n",
            "    throws IOException\n",
            "   {\n",
            "    try {\n",
            "     int charsRead = 0;\n",
            "     int bufferLength = this.buffer.length();\n",
            "     if ((offset + size) > outputBuffer.length) {\n",
            "      size = outputBuffer.length - offset;\n",
            "     }\n",
            "     while (charsRead < size) {\n",
            "      String str = \"\";\n",
            "      char ch;\n",
            "      if (this.bufferIndex >= bufferLength) {\n",
            "         str = XMLUtil.read(this.reader, '&');\n",
            "         ch = str.charAt(0);\n",
            "      } else {\n",
            "         ch = this.buffer.charAt(this.bufferIndex);\n",
            "         this.bufferIndex++;\n",
            "         outputBuffer[charsRead] = ch;\n",
            "         charsRead++;\n",
            "         continue; // don't interprete chars in the buffer\n",
            "      }\n",
            "      if (ch == '<') {\n",
            "         this.reader.unread(ch);\n",
            "         break;\n",
            "      }\n",
            "      if ((ch == '&') && (str.length() > 1)) {\n",
            "         if (str.charAt(1) == '#') {\n",
            "          ch = XMLUtil.processCharLiteral(str);\n",
            "         } else {\n",
            "          XMLUtil.processEntity(str, this.reader, this.resolver);\n",
            "          continue;\n",
            "         }\n",
            "      }\n",
            "      outputBuffer[charsRead] = ch;\n",
            "      charsRead++;\n",
            "     }\n",
            "     if (charsRead == 0) {\n",
            "      charsRead = -1;\n",
            "     }\n",
            "     return charsRead;\n",
            "    } catch (XMLParseException e) {\n",
            "     throw new IOException(e.getMessage());\n",
            "60\n",
            "NOT COHERENT\n",
            "====================================================================================================\n",
            "====================================================================================================\n",
            "/**\n",
            "  * Cleans up the object when it's destroyed.\n",
            "  */\n",
            "   protected void finalize()\n",
            "    throws Throwable\n",
            "   {\n",
            "    this.reader = null;\n",
            "    this.resolver = null;\n",
            "    this.buffer = null;\n",
            "    super.finalize();\n",
            "61\n",
            "COHERENT\n",
            "====================================================================================================\n",
            "====================================================================================================\n",
            "/**\n",
            "  * Cleans up the object when it's destroyed.\n",
            "  */\n",
            "   protected void finalize()\n",
            "    throws Throwable\n",
            "   {\n",
            "    this.reader = null;\n",
            "    super.finalize();\n",
            "62\n",
            "COHERENT\n",
            "====================================================================================================\n",
            "====================================================================================================\n",
            "/**\n",
            "  * Reads a block of data.\n",
            "  *\n",
            "  * @param buffer where to put the read data\n",
            "  * @param offset first position in buffer to put the data\n",
            "  * @param size maximum number of chars to read\n",
            "  *\n",
            "  * @return the number of chars read, or -1 if at EOF\n",
            "  *\n",
            "  * @throws java.io.IOException\n",
            "  *    if an error occurred reading the data\n",
            "  */\n",
            "   public int read(char[] buffer,\n",
            "           int  offset,\n",
            "           int  size)\n",
            "    throws IOException\n",
            "   {\n",
            "    if (this.atEndOfData) {\n",
            "     return -1;\n",
            "    }\n",
            "    int charsRead = 0;\n",
            "    if ((offset + size) > buffer.length) {\n",
            "     size = buffer.length - offset;\n",
            "    }\n",
            "    while (charsRead < size) {\n",
            "     char ch = this.reader.read();\n",
            "     if (ch == '?') {\n",
            "      char ch2 = this.reader.read();\n",
            "      if (ch2 == '>') {\n",
            "         this.atEndOfData = true;\n",
            "         break;\n",
            "      }\n",
            "      this.reader.unread(ch2);\n",
            "     }\n",
            "     buffer[charsRead] = ch;\n",
            "     charsRead++;\n",
            "    }\n",
            "    if (charsRead == 0) {\n",
            "     charsRead = -1;\n",
            "    }\n",
            "    return charsRead;\n",
            "63\n",
            "NOT COHERENT\n",
            "====================================================================================================\n",
            "====================================================================================================\n",
            "/**\n",
            "  * Creates the reader.\n",
            "  *\n",
            "  * @param reader the encapsulated reader\n",
            "  */\n",
            "   PIReader(IXMLReader reader)\n",
            "   {\n",
            "    this.reader = reader;\n",
            "    this.atEndOfData = false;\n",
            "64\n",
            "NOT COHERENT\n",
            "====================================================================================================\n",
            "====================================================================================================\n",
            "/**\n",
            "  * Returns the parameter entity resolver.\n",
            "  *\n",
            "  * @return the entity resolver.\n",
            "  */\n",
            "   public IXMLEntityResolver getParameterEntityResolver()\n",
            "   {\n",
            "    return this.parameterEntityResolver;\n",
            "77\n",
            "COHERENT\n",
            "====================================================================================================\n",
            "====================================================================================================\n",
            "/**\n",
            "  * Indicates that an attribute has been added to the current element.\n",
            "  *\n",
            "  * @param key    the name of the attribute.\n",
            "  * @param value    the value of the attribute.\n",
            "  * @param systemId   the system ID of the XML data of the element.\n",
            "  * @param lineNr   the line number in the XML data of the element.\n",
            "  */\n",
            "   public void attributeAdded(String key,\n",
            "                String value,\n",
            "                String systemId,\n",
            "                int  lineNr)\n",
            "   {\n",
            "    Properties props = (Properties) this.currentElements.peek();\n",
            "    if (props.containsKey(key)) {\n",
            "     props.remove(key);\n",
            "78\n",
            "COHERENT\n",
            "====================================================================================================\n",
            "====================================================================================================\n",
            "/**\n",
            "  * Processes an element in the DTD.\n",
            "  *\n",
            "  * @param reader     the reader to read data from.\n",
            "  * @param entityResolver the entity resolver.\n",
            "  *\n",
            "  * @throws java.lang.Exception\n",
            "  *   If something went wrong.\n",
            "  */\n",
            "   protected void processElement(IXMLReader     reader,\n",
            "                 IXMLEntityResolver entityResolver)\n",
            "    throws Exception\n",
            "   {\n",
            "    String str = XMLUtil.read(reader, '%');\n",
            "    char ch = str.charAt(0);\n",
            "    if (ch != '!') {\n",
            "     XMLUtil.skipTag(reader);\n",
            "     return;\n",
            "    }\n",
            "    str = XMLUtil.read(reader, '%');\n",
            "    ch = str.charAt(0);\n",
            "    switch (ch) {\n",
            "     case '-':\n",
            "      XMLUtil.skipComment(reader);\n",
            "      break;\n",
            "     case '[':\n",
            "      this.processConditionalSection(reader, entityResolver);\n",
            "      break;\n",
            "     case 'E':\n",
            "      this.processEntity(reader, entityResolver);\n",
            "      break;\n",
            "     case 'A':\n",
            "      this.processAttList(reader, entityResolver);\n",
            "      break;\n",
            "     default:\n",
            "      XMLUtil.skipTag(reader);\n",
            "79\n",
            "NOT COHERENT\n",
            "====================================================================================================\n",
            "====================================================================================================\n",
            "/**\n",
            "  * Creates the &quot;validator&quot;.\n",
            "  */\n",
            "   public NonValidator()\n",
            "   {\n",
            "    this.attributeDefaultValues = new Hashtable();\n",
            "    this.currentElements = new Stack();\n",
            "    this.parameterEntityResolver = new XMLEntityResolver();\n",
            "80\n",
            "NOT COHERENT\n",
            "====================================================================================================\n",
            "====================================================================================================\n",
            "/**\n",
            "  * Processes an ENTITY element.\n",
            "  *\n",
            "  * @param reader     the reader to read data from.\n",
            "  * @param entityResolver the entity resolver.\n",
            "  *\n",
            "  * @throws java.lang.Exception\n",
            "  *   If something went wrong.\n",
            "  */\n",
            "   protected void processEntity(IXMLReader     reader,\n",
            "                IXMLEntityResolver entityResolver)\n",
            "    throws Exception\n",
            "   {\n",
            "    if (! XMLUtil.checkLiteral(reader, \"NTITY\")) {\n",
            "     XMLUtil.skipTag(reader);\n",
            "     return;\n",
            "    }\n",
            "    XMLUtil.skipWhitespace(reader, null);\n",
            "    char ch = XMLUtil.readChar(reader, '\\0');\n",
            "    if (ch == '%') {\n",
            "     XMLUtil.skipWhitespace(reader, null);\n",
            "     entityResolver = this.parameterEntityResolver;\n",
            "    } else {\n",
            "     reader.unread(ch);\n",
            "    }\n",
            "    String key = XMLUtil.scanIdentifier(reader);\n",
            "    XMLUtil.skipWhitespace(reader, null);\n",
            "    ch = XMLUtil.readChar(reader, '%');\n",
            "    String systemID = null;\n",
            "    String publicID = null;\n",
            "    switch (ch) {\n",
            "     case 'P':\n",
            "      if (! XMLUtil.checkLiteral(reader, \"UBLIC\")) {\n",
            "         XMLUtil.skipTag(reader);\n",
            "         return;\n",
            "      }\n",
            "      XMLUtil.skipWhitespace(reader, null);\n",
            "      publicID = XMLUtil.scanString(reader, '%',\n",
            "                      this.parameterEntityResolver);\n",
            "      XMLUtil.skipWhitespace(reader, null);\n",
            "      systemID = XMLUtil.scanString(reader, '%',\n",
            "                      this.parameterEntityResolver);\n",
            "      XMLUtil.skipWhitespace(reader, null);\n",
            "      XMLUtil.readChar(reader, '%');\n",
            "      break;\n",
            "     case 'S':\n",
            "      if (! XMLUtil.checkLiteral(reader, \"YSTEM\")) {\n",
            "         XMLUtil.skipTag(reader);\n",
            "         return;\n",
            "      }\n",
            "      XMLUtil.skipWhitespace(reader, null);\n",
            "      systemID = XMLUtil.scanString(reader, '%',\n",
            "                      this.parameterEntityResolver);\n",
            "      XMLUtil.skipWhitespace(reader, null);\n",
            "      XMLUtil.readChar(reader, '%');\n",
            "      break;\n",
            "     case '\"':\n",
            "     case '\\'':\n",
            "      reader.unread(ch);\n",
            "      String value = XMLUtil.scanString(reader, '%',\n",
            "                        this.parameterEntityResolver);\n",
            "      entityResolver.addInternalEntity(key, value);\n",
            "      XMLUtil.skipWhitespace(reader, null);\n",
            "      XMLUtil.readChar(reader, '%');\n",
            "      break;\n",
            "     default:\n",
            "      XMLUtil.skipTag(reader);\n",
            "    }\n",
            "    if (systemID != null) {\n",
            "     entityResolver.addExternalEntity(key, publicID, systemID);\n",
            "81\n",
            "NOT COHERENT\n",
            "====================================================================================================\n",
            "====================================================================================================\n",
            "/**\n",
            "  * Parses the DTD. The validator object is responsible for reading the\n",
            "  * full DTD.\n",
            "  *\n",
            "  * @param publicID     the public ID, which may be null.\n",
            "  * @param reader     the reader to read the DTD from.\n",
            "  * @param entityResolver the entity resolver.\n",
            "  * @param external     true if the DTD is external.\n",
            "  *\n",
            "  * @throws java.lang.Exception\n",
            "  *   If something went wrong.\n",
            "  */\n",
            "   public void parseDTD(String       publicID,\n",
            "            IXMLReader     reader,\n",
            "            IXMLEntityResolver entityResolver,\n",
            "            boolean      external)\n",
            "    throws Exception\n",
            "   {\n",
            "    XMLUtil.skipWhitespace(reader, null);\n",
            "    int origLevel = reader.getStreamLevel();\n",
            "    for (;;) {\n",
            "     String str = XMLUtil.read(reader, '%');\n",
            "     char ch = str.charAt(0);\n",
            "     if (ch == '%') {\n",
            "      XMLUtil.processEntity(str, reader,\n",
            "                  this.parameterEntityResolver);\n",
            "      continue;\n",
            "     } else if (ch == '<') {\n",
            "      this.processElement(reader, entityResolver);\n",
            "     } else if (ch == ']') {\n",
            "      return; // end internal DTD\n",
            "     } else {\n",
            "      XMLUtil.errorInvalidInput(reader.getSystemID(),\n",
            "                    reader.getLineNr(),\n",
            "                    str);\n",
            "     }\n",
            "     do {\n",
            "      ch = reader.read();\n",
            "      if (external && (reader.getStreamLevel() < origLevel)) {\n",
            "         reader.unread(ch);\n",
            "         return; // end external DTD\n",
            "      }\n",
            "     } while ((ch == ' ') || (ch == '\\t') || (ch == '\\n')\n",
            "          || (ch == '\\r'));\n",
            "     reader.unread(ch);\n",
            "83\n",
            "NOT COHERENT\n",
            "====================================================================================================\n",
            "====================================================================================================\n",
            "/**\n",
            "  * Indicates that an element has been started.\n",
            "  *\n",
            "  * @param name     the name of the element.\n",
            "  * @param systemId   the system ID of the XML data of the element.\n",
            "  * @param lineNr   the line number in the XML data of the element.\n",
            "  */\n",
            "   public void elementStarted(String name,\n",
            "                String systemId,\n",
            "                int  lineNr)\n",
            "   {\n",
            "    Properties attribs\n",
            "     = (Properties) this.attributeDefaultValues.get(name);\n",
            "    if (attribs == null) {\n",
            "     attribs = new Properties();\n",
            "    } else {\n",
            "     attribs = (Properties) attribs.clone();\n",
            "    }\n",
            "    this.currentElements.push(attribs);\n",
            "84\n",
            "COHERENT\n",
            "====================================================================================================\n",
            "====================================================================================================\n",
            "/**\n",
            "  * This method is called when the attributes of an XML element have been\n",
            "  * processed.\n",
            "  * If there are attributes with a default value which have not been\n",
            "  * specified yet, they have to be put into <I>extraAttributes</I>.\n",
            "  *\n",
            "  * @param name      the name of the element.\n",
            "  * @param extraAttributes where to put extra attributes.\n",
            "  * @param systemId    the system ID of the XML data of the element.\n",
            "  * @param lineNr      the line number in the XML data of the element.\n",
            "  */\n",
            " --------------\n",
            "// nothing to do\n",
            " --------------\n",
            "   public void elementAttributesProcessed(String   name,\n",
            "                      Properties extraAttributes,\n",
            "                      String   systemId,\n",
            "                      int    lineNr)\n",
            "   {\n",
            "    Properties props = (Properties) this.currentElements.pop();\n",
            "    Enumeration enm = props.keys();\n",
            "    while (enm.hasMoreElements()) {\n",
            "     String key = (String) enm.nextElement();\n",
            "     extraAttributes.put(key, props.get(key));\n",
            "85\n",
            "COHERENT\n",
            "====================================================================================================\n",
            "====================================================================================================\n",
            "/**\n",
            "  * Processes an ignore section.\n",
            "  *\n",
            "  * @param reader     the reader to read data from.\n",
            "  * @param entityResolver the entity resolver.\n",
            "  *\n",
            "  * @throws java.lang.Exception\n",
            "  *   If something went wrong.\n",
            "  */\n",
            "   protected void processIgnoreSection(IXMLReader     reader,\n",
            "                     IXMLEntityResolver entityResolver)\n",
            "    throws Exception\n",
            "   {\n",
            "    if (! XMLUtil.checkLiteral(reader, \"NORE\")) {\n",
            "     XMLUtil.skipTag(reader);\n",
            "     return;\n",
            "    }\n",
            "    XMLUtil.skipWhitespace(reader, null);\n",
            "    String str = XMLUtil.read(reader, '%');\n",
            "    char ch = str.charAt(0);\n",
            "    if (ch != '[') {\n",
            "     XMLUtil.skipTag(reader);\n",
            "     return;\n",
            "    }\n",
            "    Reader subreader = new CDATAReader(reader);\n",
            "    subreader.close();\n",
            "86\n",
            "NOT COHERENT\n",
            "====================================================================================================\n",
            "====================================================================================================\n",
            "/**\n",
            "  * Processes a conditional section.\n",
            "  *\n",
            "  * @param reader     the reader to read data from.\n",
            "  * @param entityResolver the entity resolver.\n",
            "  *\n",
            "  * @throws java.lang.Exception\n",
            "  *   If something went wrong.\n",
            "  */\n",
            "   protected void processConditionalSection(IXMLReader     reader,\n",
            "                      IXMLEntityResolver entityResolver)\n",
            "    throws Exception\n",
            "   {\n",
            "    XMLUtil.skipWhitespace(reader, null);\n",
            "    String str = XMLUtil.read(reader, '%');\n",
            "    char ch = str.charAt(0);\n",
            "    if (ch != 'I') {\n",
            "     XMLUtil.skipTag(reader);\n",
            "     return;\n",
            "    }\n",
            "    str = XMLUtil.read(reader, '%');\n",
            "    ch = str.charAt(0);\n",
            "    switch (ch) {\n",
            "     case 'G':\n",
            "      this.processIgnoreSection(reader, entityResolver);\n",
            "      return;\n",
            "     case 'N':\n",
            "      break;\n",
            "     default:\n",
            "      XMLUtil.skipTag(reader);\n",
            "      return;\n",
            "    }\n",
            "    if (! XMLUtil.checkLiteral(reader, \"CLUDE\")) {\n",
            "     XMLUtil.skipTag(reader);\n",
            "     return;\n",
            "    }\n",
            "    XMLUtil.skipWhitespace(reader, null);\n",
            "    str = XMLUtil.read(reader, '%');\n",
            "    ch = str.charAt(0);\n",
            "    if (ch != '[') {\n",
            "     XMLUtil.skipTag(reader);\n",
            "     return;\n",
            "    }\n",
            "    Reader subreader = new CDATAReader(reader);\n",
            "    StringBuffer buf = new StringBuffer(1024);\n",
            "    for (;;) {\n",
            "     int ch2 = subreader.read();\n",
            "     if (ch2 < 0) {\n",
            "      break;\n",
            "     }\n",
            "     buf.append((char) ch2);\n",
            "    }\n",
            "    subreader.close();\n",
            "    reader.startNewStream(new StringReader(buf.toString()));\n",
            "87\n",
            "NOT COHERENT\n",
            "====================================================================================================\n",
            "====================================================================================================\n",
            "/**\n",
            "  * Sets the parameter entity resolver.\n",
            "  *\n",
            "  * @param resolver the entity resolver.\n",
            "  */\n",
            "   public void setParameterEntityResolver(IXMLEntityResolver resolver)\n",
            "   {\n",
            "    this.parameterEntityResolver = resolver;\n",
            "88\n",
            "COHERENT\n",
            "====================================================================================================\n",
            "====================================================================================================\n",
            "/**\n",
            "  * Processes an ATTLIST element.\n",
            "  *\n",
            "  * @param reader     the reader to read data from.\n",
            "  * @param entityResolver the entity resolver.\n",
            "  *\n",
            "  * @throws java.lang.Exception\n",
            "  *   If something went wrong.\n",
            "  */\n",
            "   protected void processAttList(IXMLReader     reader,\n",
            "                 IXMLEntityResolver entityResolver)\n",
            "    throws Exception\n",
            "   {\n",
            "    if (! XMLUtil.checkLiteral(reader,  \"TTLIST\")) {\n",
            "     XMLUtil.skipTag(reader);\n",
            "     return;\n",
            "    }\n",
            "    XMLUtil.skipWhitespace(reader, null);\n",
            "    String str = XMLUtil.read(reader, '%');\n",
            "    char ch = str.charAt(0);\n",
            "    while (ch == '%') {\n",
            "     XMLUtil.processEntity(str, reader,\n",
            "                 this.parameterEntityResolver);\n",
            "     str = XMLUtil.read(reader, '%');\n",
            "     ch = str.charAt(0);\n",
            "    }\n",
            "    reader.unread(ch);\n",
            "    String elementName = XMLUtil.scanIdentifier(reader);\n",
            "    XMLUtil.skipWhitespace(reader, null);\n",
            "    \n",
            "    str = XMLUtil.read(reader, '%');\n",
            "    ch = str.charAt(0);\n",
            "    while (ch == '%') {\n",
            "     XMLUtil.processEntity(str, reader,\n",
            "                 this.parameterEntityResolver);\n",
            "     str = XMLUtil.read(reader, '%');\n",
            "     ch = str.charAt(0);\n",
            "    }\n",
            "    Properties props = new Properties();\n",
            "    while (ch != '>') {\n",
            "     reader.unread(ch);\n",
            "     String attName = XMLUtil.scanIdentifier(reader);\n",
            "     XMLUtil.skipWhitespace(reader, null);\n",
            "     str = XMLUtil.read(reader, '%');\n",
            "     ch = str.charAt(0);\n",
            "     while (ch == '%') {\n",
            "       XMLUtil.processEntity(str, reader,\n",
            "                   this.parameterEntityResolver);\n",
            "       str = XMLUtil.read(reader, '%');\n",
            "       ch = str.charAt(0);\n",
            "     }\n",
            "     if (ch == '(') {\n",
            "       while (ch != ')') {\n",
            "         str = XMLUtil.read(reader, '%');\n",
            "         ch = str.charAt(0);\n",
            "         while (ch == '%') {\n",
            "           XMLUtil.processEntity(str, reader,\n",
            "                       this.parameterEntityResolver);\n",
            "           str = XMLUtil.read(reader, '%');\n",
            "           ch = str.charAt(0);\n",
            "         }\n",
            "       }\n",
            "     } else {\n",
            "      reader.unread(ch);\n",
            "      XMLUtil.scanIdentifier(reader);\n",
            "     }\n",
            "     XMLUtil.skipWhitespace(reader, null);\n",
            "     str = XMLUtil.read(reader, '%');\n",
            "     ch = str.charAt(0);\n",
            "     while (ch == '%') {\n",
            "       XMLUtil.processEntity(str, reader,\n",
            "                   this.parameterEntityResolver);\n",
            "       str = XMLUtil.read(reader, '%');\n",
            "       ch = str.charAt(0);\n",
            "     }\n",
            "     \n",
            "     if (ch == '#') {\n",
            "      str = XMLUtil.scanIdentifier(reader);\n",
            "      XMLUtil.skipWhitespace(reader, null);\n",
            "      if (! str.equals(\"FIXED\")) {\n",
            "         XMLUtil.skipWhitespace(reader, null);\n",
            "         str = XMLUtil.read(reader, '%');\n",
            "         ch = str.charAt(0);\n",
            "         while (ch == '%') {\n",
            "          XMLUtil.processEntity(str, reader,\n",
            "                    this.parameterEntityResolver);\n",
            "          str = XMLUtil.read(reader, '%');\n",
            "          ch = str.charAt(0);\n",
            "         }\n",
            "         continue;\n",
            "      }\n",
            "     } else {\n",
            "      reader.unread(ch);\n",
            "     }\n",
            "     String value = XMLUtil.scanString(reader, '%',\n",
            "                       this.parameterEntityResolver);\n",
            "     props.put(attName, value);\n",
            "     XMLUtil.skipWhitespace(reader, null);\n",
            "     str = XMLUtil.read(reader, '%');\n",
            "     ch = str.charAt(0);\n",
            "     while (ch == '%') {\n",
            "      XMLUtil.processEntity(str, reader,\n",
            "                  this.parameterEntityResolver);\n",
            "      str = XMLUtil.read(reader, '%');\n",
            "      ch = str.charAt(0);\n",
            "     }\n",
            "    }\n",
            "    if (! props.isEmpty()) {\n",
            "     this.attributeDefaultValues.put(elementName, props);\n",
            "89\n",
            "NOT COHERENT\n",
            "====================================================================================================\n",
            "====================================================================================================\n",
            "/**\n",
            "  * Cleans up the object when it's destroyed.\n",
            "  */\n",
            "   protected void finalize()\n",
            "    throws Throwable\n",
            "   {\n",
            "    this.parameterEntityResolver = null;\n",
            "    this.attributeDefaultValues.clear();\n",
            "    this.attributeDefaultValues = null;\n",
            "    this.currentElements.clear();\n",
            "    this.currentElements = null;\n",
            "    super.finalize();\n",
            "90\n",
            "COHERENT\n",
            "====================================================================================================\n",
            "====================================================================================================\n",
            "/**\n",
            "  * Creates the reader.\n",
            "  *\n",
            "  * @param reader the encapsulated reader\n",
            "  */\n",
            "   CDATAReader(IXMLReader reader)\n",
            "   {\n",
            "    this.reader = reader;\n",
            "    this.savedChar = 0;\n",
            "    this.atEndOfData = false;\n",
            "149\n",
            "COHERENT\n",
            "====================================================================================================\n",
            "====================================================================================================\n",
            "/**\n",
            "  * Cleans up the object when it's destroyed.\n",
            "  */\n",
            "   protected void finalize()\n",
            "    throws Throwable\n",
            "   {\n",
            "    this.reader = null;\n",
            "    super.finalize();\n",
            "150\n",
            "COHERENT\n",
            "====================================================================================================\n",
            "====================================================================================================\n",
            "/**\n",
            "  * Reads a block of data.\n",
            "  *\n",
            "  * @param buffer where to put the read data\n",
            "  * @param offset first position in buffer to put the data\n",
            "  * @param size maximum number of chars to read\n",
            "  *\n",
            "  * @return the number of chars read, or -1 if at EOF\n",
            "  *\n",
            "  * @throws java.io.IOException\n",
            "  *    if an error occurred reading the data\n",
            "  */\n",
            "   public int read(char[] buffer,\n",
            "           int  offset,\n",
            "           int  size)\n",
            "    throws IOException\n",
            "   {\n",
            "    int charsRead = 0;\n",
            "    if (this.atEndOfData) {\n",
            "     return -1;\n",
            "    }\n",
            "    if ((offset + size) > buffer.length) {\n",
            "     size = buffer.length - offset;\n",
            "    }\n",
            "    while (charsRead < size) {\n",
            "     char ch = this.savedChar;\n",
            "     if (ch == 0) {\n",
            "      ch = this.reader.read();\n",
            "     } else {\n",
            "      this.savedChar = 0;\n",
            "     }\n",
            "     if (ch == ']') {\n",
            "      char ch2 = this.reader.read();\n",
            "      \n",
            "      if (ch2 == ']') {\n",
            "         char ch3 = this.reader.read();\n",
            "         if (ch3 == '>') {\n",
            "          this.atEndOfData = true;\n",
            "          break;\n",
            "         }\n",
            "         this.savedChar = ch2;\n",
            "         this.reader.unread(ch3);\n",
            "      } else {\n",
            "         this.reader.unread(ch2);\n",
            "      }\n",
            "     }\n",
            "     buffer[charsRead] = ch;\n",
            "     charsRead++;\n",
            "    }\n",
            "    if (charsRead == 0) {\n",
            "     charsRead = -1;\n",
            "    }\n",
            "    return charsRead;\n",
            "151\n",
            "NOT COHERENT\n",
            "====================================================================================================\n",
            "====================================================================================================\n",
            "/**\n",
            "  * Returns the name of the element in which the validation is violated.\n",
            "  * If there is no current element, null is returned.\n",
            "  */\n",
            "   public String getElementName()\n",
            "   {\n",
            "    return this.elementName;\n",
            "215\n",
            "COHERENT\n",
            "====================================================================================================\n",
            "====================================================================================================\n",
            "/**\n",
            "  * Returns the name of the attribute in which the validation is violated.\n",
            "  * If there is no current attribute, null is returned.\n",
            "  */\n",
            "   public String getAttributeName()\n",
            "   {\n",
            "    return this.attributeName;\n",
            "216\n",
            "COHERENT\n",
            "====================================================================================================\n",
            "====================================================================================================\n",
            "/**\n",
            "  * Creates a new exception.\n",
            "  *\n",
            "  * @param errorType    the type of validity error\n",
            "  * @param systemID     the system ID from where the data came\n",
            "  * @param lineNr     the line number in the XML data where the\n",
            "  *             exception occurred.\n",
            "  * @param elementName  the name of the offending element\n",
            "  * @param attributeName  the name of the offending attribute\n",
            "  * @param attributeValue the value of the offending attribute\n",
            "  * @param msg      the message of the exception.\n",
            "  */\n",
            "   public XMLValidationException(int  errorType,\n",
            "                 String systemID,\n",
            "                 int  lineNr,\n",
            "                 String elementName,\n",
            "                 String attributeName,\n",
            "                 String attributeValue,\n",
            "                 String msg)\n",
            "   {\n",
            "    super(systemID, lineNr, null,\n",
            "      msg + ((elementName == null) ? \"\" : (\", element=\" + elementName))\n",
            "      + ((attributeName == null) ? \"\"\n",
            "                     : (\", attribute=\" + attributeName))\n",
            "      + ((attributeValue == null) ? \"\"\n",
            "                     : (\", value='\" + attributeValue + \"'\")),\n",
            "      false);\n",
            "    this.elementName = elementName;\n",
            "    this.attributeName = attributeName;\n",
            "    this.attributeValue = attributeValue;\n",
            "217\n",
            "COHERENT\n",
            "====================================================================================================\n",
            "====================================================================================================\n",
            "/**\n",
            "  * Cleans up the object when it's destroyed.\n",
            "  */\n",
            "   protected void finalize()\n",
            "    throws Throwable\n",
            "   {\n",
            "    this.elementName = null;\n",
            "    this.attributeName = null;\n",
            "    this.attributeValue = null;\n",
            "    super.finalize();\n",
            "218\n",
            "COHERENT\n",
            "====================================================================================================\n",
            "====================================================================================================\n",
            "/**\n",
            "  * Throws an XMLParseException to indicate that extra data is encountered\n",
            "  * in a closing tag.\n",
            "  *\n",
            "  * @param systemID     the system ID of the data source\n",
            "  * @param lineNr     the line number in the data source\n",
            "  */\n",
            "   static void errorClosingTagNotEmpty(String systemID,\n",
            "                     int  lineNr)\n",
            "    throws XMLParseException\n",
            "   {\n",
            "    throw new XMLParseException(systemID, lineNr,\n",
            "                  \"Closing tag must be empty\");\n",
            "219\n",
            "COHERENT\n",
            "====================================================================================================\n",
            "====================================================================================================\n",
            "/**\n",
            "  * Throws an XMLValidationException to indicate that a #PCDATA element was\n",
            "  * unexpected.\n",
            "  *\n",
            "  * @param systemID     the system ID of the data source\n",
            "  * @param lineNr     the line number in the data source\n",
            "  * @param parentElementName the name of the parent element\n",
            "  */\n",
            "   static void errorUnexpectedPCData(String systemID,\n",
            "                   int  lineNr,\n",
            "                   String parentElementName)\n",
            "    throws XMLValidationException\n",
            "   {\n",
            "    throw new XMLValidationException(\n",
            "            XMLValidationException.UNEXPECTED_PCDATA,\n",
            "            systemID, lineNr,\n",
            "            /*elementName*/ null,\n",
            "            /*attributeName*/ null,\n",
            "            /*attributeValue*/ null,\n",
            "            \"Unexpected #PCDATA in element \" + parentElementName);\n",
            "221\n",
            "COHERENT\n",
            "====================================================================================================\n",
            "====================================================================================================\n",
            "/**\n",
            "  * Throws an XMLParseException to indicate that a CDATA section is\n",
            "  * unexpected at this point.\n",
            "  *\n",
            "  * @param systemID     the system ID of the data source\n",
            "  * @param lineNr     the line number in the data source\n",
            "  */\n",
            "   static void errorUnexpectedCDATA(String systemID,\n",
            "                  int  lineNr)\n",
            "    throws XMLParseException\n",
            "   {\n",
            "    throw new XMLParseException(systemID, lineNr,\n",
            "                  \"No CDATA section is expected here\");\n",
            "223\n",
            "COHERENT\n",
            "====================================================================================================\n",
            "====================================================================================================\n",
            "/**\n",
            "  * Throws an XMLValidationException to indicate that an attribute has an\n",
            "  * invalid value.\n",
            "  *\n",
            "  * @param systemID     the system ID of the data source\n",
            "  * @param lineNr     the line number in the data source\n",
            "  * @param elementName  the name of the element\n",
            "  * @param attributeName  the name of the attribute\n",
            "  * @param attributeValue the value of that attribute\n",
            "  */\n",
            "   static void errorInvalidAttributeValue(String systemID,\n",
            "                      int  lineNr,\n",
            "                      String elementName,\n",
            "                      String attributeName,\n",
            "                      String attributeValue)\n",
            "    throws XMLValidationException\n",
            "   {\n",
            "    throw new XMLValidationException(\n",
            "               XMLValidationException.ATTRIBUTE_WITH_INVALID_VALUE,\n",
            "               systemID, lineNr,\n",
            "               elementName,\n",
            "               attributeName,\n",
            "               attributeValue,\n",
            "               \"Invalid value for attribute \" + attributeName);\n",
            "225\n",
            "COHERENT\n",
            "====================================================================================================\n",
            "====================================================================================================\n",
            "/**\n",
            "  * Throws an XMLValidationException to indicate that an attribute is\n",
            "  * unexpected.\n",
            "  *\n",
            "  * @param systemID     the system ID of the data source\n",
            "  * @param lineNr     the line number in the data source\n",
            "  * @param elementName  the name of the element\n",
            "  * @param attributeName  the name of the unexpected attribute\n",
            "  */\n",
            "   static void errorUnexpectedAttribute(String systemID,\n",
            "                    int  lineNr,\n",
            "                    String elementName,\n",
            "                    String attributeName)\n",
            "    throws XMLValidationException\n",
            "   {\n",
            "    throw new XMLValidationException(\n",
            "           XMLValidationException.UNEXPECTED_ATTRIBUTE,\n",
            "           systemID, lineNr,\n",
            "           elementName,\n",
            "           attributeName,\n",
            "           /*attributeValue*/ null,\n",
            "           \"Element \" + elementName + \" did not expect an attribute \"\n",
            "           + \"named \" + attributeName);\n",
            "227\n",
            "COHERENT\n",
            "====================================================================================================\n",
            "====================================================================================================\n",
            "/**\n",
            "  * Scans a public ID.\n",
            "  *\n",
            "  * @param publicID     will contain the public ID\n",
            "  * @param reader     the reader\n",
            "  *\n",
            "  * @return the system ID\n",
            "  *\n",
            "  * @throws java.io.IOException\n",
            "  *    if an error occurred reading the data\n",
            "  */\n",
            "   static String scanPublicID(StringBuffer publicID,\n",
            "                IXMLReader   reader)\n",
            "    throws IOException,\n",
            "       XMLParseException\n",
            "   {\n",
            "    if (! XMLUtil.checkLiteral(reader, \"UBLIC\")) {\n",
            "     return null;\n",
            "    }\n",
            "    XMLUtil.skipWhitespace(reader, null);\n",
            "    publicID.append(XMLUtil.scanString(reader, '\\0', null));\n",
            "    XMLUtil.skipWhitespace(reader, null);\n",
            "    return XMLUtil.scanString(reader, '\\0', null);\n",
            "230\n",
            "NOT COHERENT\n",
            "====================================================================================================\n",
            "====================================================================================================\n",
            "/**\n",
            "  * Throws an XMLParseException to indicate that the closing tag of an\n",
            "  * element does not match the opening tag.\n",
            "  *\n",
            "  * @param systemID     the system ID of the data source\n",
            "  * @param lineNr     the line number in the data source\n",
            "  * @param expectedName the name of the opening tag\n",
            "  * @param wrongName  the name of the closing tag\n",
            "  */\n",
            "   static void errorWrongClosingTag(String systemID,\n",
            "                  int  lineNr,\n",
            "                  String   expectedName,\n",
            "                  String   wrongName)\n",
            "    throws XMLParseException\n",
            "   {\n",
            "    throw new XMLParseException(systemID, lineNr,\n",
            "                  \"Closing tag does not match opening tag: `\"\n",
            "                  + wrongName + \"' != `\" + expectedName\n",
            "                  + \"'\");\n",
            "231\n",
            "COHERENT\n",
            "====================================================================================================\n",
            "====================================================================================================\n",
            "/**\n",
            "  * Reads a character from the reader disallowing entities.\n",
            "  *\n",
            "  * @param reader     the reader\n",
            "  * @param entityChar   the escape character (&amp; or %) used to indicate\n",
            "  *             an entity\n",
            "  */\n",
            "   static char readChar(IXMLReader reader,\n",
            "            char     entityChar)\n",
            "    throws IOException,\n",
            "       XMLParseException\n",
            "   {\n",
            "    String str = XMLUtil.read(reader, entityChar);\n",
            "    char ch = str.charAt(0);\n",
            "    if (ch == entityChar) {\n",
            "     XMLUtil.errorUnexpectedEntity(reader.getSystemID(),\n",
            "                     reader.getLineNr(),\n",
            "                     str);\n",
            "    }\n",
            "    return ch;\n",
            "232\n",
            "NOT COHERENT\n",
            "====================================================================================================\n",
            "====================================================================================================\n",
            "/**\n",
            "   * Updates the enabled state of this action depending on the new enabled\n",
            "   * state of the application.\n",
            "   */\n",
            "  protected void updateApplicationEnabled() {\n",
            "    firePropertyChange(\"enabled\",\n",
            "        Boolean.valueOf(!isEnabled()),\n",
            "        Boolean.valueOf(isEnabled()));\n",
            "233\n",
            "COHERENT\n",
            "====================================================================================================\n",
            "====================================================================================================\n",
            "/**\n",
            "  * Returns true if the data starts with <I>literal</I>.\n",
            "  * Enough chars are read to determine this result.\n",
            "  *\n",
            "  * @param reader     the reader\n",
            "  * @param literal    the literal to check\n",
            "  *\n",
            "  * @throws java.io.IOException\n",
            "  *    if an error occurred reading the data\n",
            "  */\n",
            "   static boolean checkLiteral(IXMLReader     reader,\n",
            "                 String       literal)\n",
            "    throws IOException,\n",
            "       XMLParseException\n",
            "   {\n",
            "    for (int i = 0; i < literal.length(); i++) {\n",
            "     if (reader.read() != literal.charAt(i)) {\n",
            "      return false;\n",
            "     }\n",
            "    }\n",
            "    return true;\n",
            "234\n",
            "NOT COHERENT\n",
            "====================================================================================================\n",
            "====================================================================================================\n",
            "/**\n",
            "   * Returns true if the action is enabled.\n",
            "   * The enabled state of the action depends on the state that has been set\n",
            "   * using setEnabled() and on the enabled state of the application.\n",
            "   *\n",
            "   * @return true if the action is enabled, false otherwise\n",
            "   * @see Action#isEnabled\n",
            "   */\n",
            "  @Override\n",
            "  public boolean isEnabled() {\n",
            "    return app != null && app.isEnabled() && enabled;\n",
            "235\n",
            "COHERENT\n",
            "====================================================================================================\n",
            "====================================================================================================\n",
            "/*\n",
            "   * Installs listeners on the application object.\n",
            "   */\n",
            "  protected void installApplicationListeners(Application app) {\n",
            "    if (applicationListener == null) {\n",
            "      applicationListener = createApplicationListener();\n",
            "    }\n",
            "    app.addPropertyChangeListener(new WeakPropertyChangeListener(applicationListener));\n",
            "236\n",
            "NOT COHERENT\n",
            "====================================================================================================\n",
            "====================================================================================================\n",
            "/**\n",
            "  * Retrieves a delimited string from the data.\n",
            "  *\n",
            "  * @param reader        the reader\n",
            "  * @param entityChar      the escape character (&amp; or %)\n",
            "  * @param entityResolver    the entity resolver\n",
            "  *\n",
            "  * @throws java.io.IOException\n",
            "  *    if an error occurred reading the data\n",
            "  */\n",
            "   static String scanString(IXMLReader     reader,\n",
            "              char         entityChar,\n",
            "              IXMLEntityResolver entityResolver)\n",
            "    throws IOException,\n",
            "       XMLParseException\n",
            "   {\n",
            "    StringBuffer result = new StringBuffer();\n",
            "    int startingLevel = reader.getStreamLevel();\n",
            "    char delim = reader.read();\n",
            "    if ((delim != '\\'') && (delim != '\"')) {\n",
            "     XMLUtil.errorExpectedInput(reader.getSystemID(),\n",
            "                  reader.getLineNr(),\n",
            "                  \"delimited string\");\n",
            "    }\n",
            "    for (;;) {\n",
            "     String str = XMLUtil.read(reader, entityChar);\n",
            "     char ch = str.charAt(0);\n",
            "     if (ch == entityChar) {\n",
            "      if (str.charAt(1) == '#') {\n",
            "         result.append(XMLUtil.processCharLiteral(str));\n",
            "      } else {\n",
            "         XMLUtil.processEntity(str, reader, entityResolver);\n",
            "      }\n",
            "     } else if (ch == '&') {\n",
            "      reader.unread(ch);\n",
            "      str = XMLUtil.read(reader, '&');\n",
            "      if (str.charAt(1) == '#') {\n",
            "         result.append(XMLUtil.processCharLiteral(str));\n",
            "      } else {\n",
            "         result.append(str);\n",
            "      }\n",
            "     } else if (reader.getStreamLevel() == startingLevel) {\n",
            "      if (ch == delim) {\n",
            "         break;\n",
            "      } else if ((ch == 9) || (ch == 10) || (ch == 13)) {\n",
            "         result.append(' ');\n",
            "      } else {\n",
            "         result.append(ch);\n",
            "      }\n",
            "     } else {\n",
            "      result.append(ch);\n",
            "     }\n",
            "    }\n",
            "    return result.toString();\n",
            "237\n",
            "COHERENT\n",
            "====================================================================================================\n",
            "====================================================================================================\n",
            "/**\n",
            "   * Installs listeners on the application object.\n",
            "   */\n",
            "  protected void uninstallApplicationListeners(Application app) {\n",
            "    app.removePropertyChangeListener(applicationListener);\n",
            "238\n",
            "NOT COHERENT\n",
            "====================================================================================================\n",
            "====================================================================================================\n",
            "/** Creates a new instance. */\n",
            "  public AbstractApplicationAction(Application app) {\n",
            "    this.app = app;\n",
            "    installApplicationListeners(app);\n",
            "    updateApplicationEnabled();\n",
            "239\n",
            "NOT COHERENT\n",
            "====================================================================================================\n",
            "====================================================================================================\n",
            "/**\n",
            "  * Throws an XMLValidationException to indicate that an attribute is\n",
            "  * missing.\n",
            "  *\n",
            "  * @param systemID     the system ID of the data source\n",
            "  * @param lineNr     the line number in the data source\n",
            "  * @param elementName  the name of the element\n",
            "  * @param attributeName  the name of the missing attribute\n",
            "  */\n",
            "   static void errorMissingAttribute(String systemID,\n",
            "                   int  lineNr,\n",
            "                   String elementName,\n",
            "                   String attributeName)\n",
            "    throws XMLValidationException\n",
            "   {\n",
            "    throw new XMLValidationException(\n",
            "           XMLValidationException.MISSING_ATTRIBUTE,\n",
            "           systemID, lineNr,\n",
            "           elementName,\n",
            "           attributeName,\n",
            "           /*attributeValue*/ null,\n",
            "           \"Element \" + elementName + \" expects an attribute named \"\n",
            "           + attributeName);\n",
            "240\n",
            "COHERENT\n",
            "====================================================================================================\n",
            "====================================================================================================\n",
            "/**\n",
            "  * Scans a system ID.\n",
            "  *\n",
            "  * @param reader     the reader\n",
            "  *\n",
            "  * @return the system ID\n",
            "  *\n",
            "  * @throws java.io.IOException\n",
            "  *    if an error occurred reading the data\n",
            "  */\n",
            "   static String scanSystemID(IXMLReader reader)\n",
            "    throws IOException,\n",
            "      XMLParseException\n",
            "   {\n",
            "    if (! XMLUtil.checkLiteral(reader, \"YSTEM\")) {\n",
            "     return null;\n",
            "    }\n",
            "    XMLUtil.skipWhitespace(reader, null);\n",
            "    return XMLUtil.scanString(reader, '\\0', null);\n",
            "241\n",
            "NOT COHERENT\n",
            "====================================================================================================\n",
            "====================================================================================================\n",
            "/**\n",
            "  * Skips the remainder of a comment.\n",
            "  * It is assumed that &lt;!- is already read.\n",
            "  *\n",
            "  * @param reader the reader\n",
            "  *\n",
            "  * @throws java.io.IOException\n",
            "  *    if an error occurred reading the data\n",
            "  */\n",
            "   static void skipComment(IXMLReader reader)\n",
            "    throws IOException,\n",
            "       XMLParseException\n",
            "   {\n",
            "    if (reader.read() != '-') {\n",
            "     XMLUtil.errorExpectedInput(reader.getSystemID(),\n",
            "                  reader.getLineNr(),\n",
            "                  \"<!--\");\n",
            "    }\n",
            "    \n",
            "    int dashesRead = 0;\n",
            "    for (;;) {\n",
            "     char ch = reader.read();\n",
            "     switch (ch) {\n",
            "      case '-':\n",
            "         dashesRead++;\n",
            "         break;\n",
            "      case '>':\n",
            "         if (dashesRead == 2) {\n",
            "          return;\n",
            "         }\n",
            "      default:\n",
            "         dashesRead = 0;\n",
            "242\n",
            "COHERENT\n",
            "====================================================================================================\n",
            "====================================================================================================\n",
            "/**\n",
            "  * Reads a character from the reader.\n",
            "  *\n",
            "  * @param reader     the reader\n",
            "  * @param entityChar   the escape character (&amp; or %) used to indicate\n",
            "  *             an entity\n",
            "  *\n",
            "  * @return the character, or an entity expression (like e.g. &amp;lt;)\n",
            "  *\n",
            "  * @throws java.io.IOException\n",
            "  *    if an error occurred reading the data\n",
            "  */\n",
            "   static String read(IXMLReader     reader,\n",
            "            char         entityChar)\n",
            "    throws IOException,\n",
            "       XMLParseException\n",
            "   {\n",
            "    char ch = reader.read();\n",
            "    StringBuffer buf = new StringBuffer();\n",
            "    buf.append(ch);\n",
            "    if (ch == entityChar) {\n",
            "     while (ch != ';') {\n",
            "      ch = reader.read();\n",
            "      buf.append(ch);\n",
            "     }\n",
            "    }\n",
            "    return buf.toString();\n",
            "243\n",
            "NOT COHERENT\n",
            "====================================================================================================\n",
            "====================================================================================================\n",
            "/**\n",
            "  * Throws an XMLParseException to indicate that an entity could not be\n",
            "  * resolved.\n",
            "  *\n",
            "  * @param systemID     the system ID of the data source\n",
            "  * @param lineNr     the line number in the data source\n",
            "  * @param entity  the name of the entity\n",
            "  */\n",
            "   static void errorInvalidEntity(String systemID,\n",
            "                  int  lineNr,\n",
            "                  String   entity)\n",
            "    throws XMLParseException\n",
            "   {\n",
            "    throw new XMLParseException(systemID, lineNr,\n",
            "                  \"Invalid entity: `&\" + entity + \";'\");\n",
            "244\n",
            "COHERENT\n",
            "====================================================================================================\n",
            "====================================================================================================\n",
            "/**\n",
            "  * Throws an XMLValidationException to indicate that an element is\n",
            "  * unexpected.\n",
            "  *\n",
            "  * @param systemID     the system ID of the data source\n",
            "  * @param lineNr     the line number in the data source\n",
            "  * @param parentElementName the name of the parent element\n",
            "  * @param unexpectedElementName the name of the unexpected element\n",
            "  */\n",
            "   static void errorUnexpectedElement(String systemID,\n",
            "                    int  lineNr,\n",
            "                    String parentElementName,\n",
            "                    String unexpectedElementName)\n",
            "    throws XMLValidationException\n",
            "   {\n",
            "    throw new XMLValidationException(\n",
            "                XMLValidationException.UNEXPECTED_ELEMENT,\n",
            "                systemID, lineNr,\n",
            "                unexpectedElementName,\n",
            "                /*attributeName*/ null,\n",
            "                /*attributeValue*/ null,\n",
            "                \"Unexpected \" + unexpectedElementName + \" in a \"\n",
            "                + parentElementName);\n",
            "245\n",
            "COHERENT\n",
            "====================================================================================================\n",
            "====================================================================================================\n",
            "/**\n",
            "  * Throws an XMLParseException to indicate that a string is not expected\n",
            "  * at this point.\n",
            "  *\n",
            "  * @param systemID     the system ID of the data source\n",
            "  * @param lineNr     the line number in the data source\n",
            "  * @param unexpectedString the string that is unexpected\n",
            "  */\n",
            "   static void errorInvalidInput(String systemID,\n",
            "                 int  lineNr,\n",
            "                 String   unexpectedString)\n",
            "    throws XMLParseException\n",
            "   {\n",
            "    throw new XMLParseException(systemID, lineNr,\n",
            "                  \"Invalid input: \" + unexpectedString);\n",
            "246\n",
            "COHERENT\n",
            "====================================================================================================\n",
            "====================================================================================================\n",
            "/**\n",
            "  * Throws an XMLValidationException to indicate that a #PCDATA element was\n",
            "  * missing.\n",
            "  *\n",
            "  * @param systemID     the system ID of the data source\n",
            "  * @param lineNr     the line number in the data source\n",
            "  * @param parentElementName the name of the parent element\n",
            "  */\n",
            "   static void errorMissingPCData(String systemID,\n",
            "                  int  lineNr,\n",
            "                  String parentElementName)\n",
            "    throws XMLValidationException\n",
            "   {\n",
            "    throw new XMLValidationException(\n",
            "               XMLValidationException.MISSING_PCDATA,\n",
            "               systemID, lineNr,\n",
            "               /*elementName*/ null,\n",
            "               /*attributeName*/ null,\n",
            "               /*attributeValue*/ null,\n",
            "               \"Missing #PCDATA in element \" + parentElementName);\n",
            "247\n",
            "COHERENT\n",
            "====================================================================================================\n",
            "====================================================================================================\n",
            "/**\n",
            "  * Throws an XMLParseException to indicate that an expected string is not\n",
            "  * encountered.\n",
            "  *\n",
            "  * @param systemID     the system ID of the data source\n",
            "  * @param lineNr     the line number in the data source\n",
            "  * @param expectedString the string that is expected\n",
            "  */\n",
            "   static void errorExpectedInput(String systemID,\n",
            "                  int  lineNr,\n",
            "                  String expectedString)\n",
            "    throws XMLParseException\n",
            "   {\n",
            "    throw new XMLParseException(systemID, lineNr,\n",
            "                  \"Expected: \" + expectedString);\n",
            "248\n",
            "COHERENT\n",
            "====================================================================================================\n",
            "====================================================================================================\n",
            "/**\n",
            "  * Throws an XMLValidationException to indicate that an element is missing.\n",
            "  *\n",
            "  * @param systemID     the system ID of the data source\n",
            "  * @param lineNr     the line number in the data source\n",
            "  * @param parentElementName the name of the parent element\n",
            "  * @param missingElementName the name of the missing element\n",
            "  */\n",
            "   static void errorMissingElement(String systemID,\n",
            "                   int  lineNr,\n",
            "                   String parentElementName,\n",
            "                   String missingElementName)\n",
            "    throws XMLValidationException\n",
            "   {\n",
            "    throw new XMLValidationException(\n",
            "                XMLValidationException.MISSING_ELEMENT,\n",
            "                systemID, lineNr,\n",
            "                missingElementName,\n",
            "                /*attributeName*/ null,\n",
            "                /*attributeValue*/ null,\n",
            "                \"Element \" + parentElementName\n",
            "                + \" expects to have a \" + missingElementName);\n",
            "249\n",
            "COHERENT\n",
            "====================================================================================================\n",
            "====================================================================================================\n",
            "/**\n",
            "  * Throws an XMLParseException to indicate that an entity reference is\n",
            "  * unexpected at this point.\n",
            "  *\n",
            "  * @param systemID     the system ID of the data source\n",
            "  * @param lineNr     the line number in the data source\n",
            "  * @param entity  the name of the entity\n",
            "  */\n",
            "   static void errorUnexpectedEntity(String systemID,\n",
            "                   int  lineNr,\n",
            "                   String entity)\n",
            "    throws XMLParseException\n",
            "   {\n",
            "    throw new XMLParseException(systemID, lineNr,\n",
            "                  \"No entity reference is expected here (\"\n",
            "                  + entity + \")\");\n",
            "250\n",
            "COHERENT\n",
            "====================================================================================================\n"
          ],
          "name": "stdout"
        }
      ]
    },
    {
      "cell_type": "code",
      "metadata": {
        "id": "VrfWx_Ck-wh1"
      },
      "source": [
        "answers = []\n",
        "for id in ids:\n",
        "  answers.append(df[df['id'] == str(id)]['target'].iloc[0] == ' COHERENT')\n",
        "Y = answers "
      ],
      "execution_count": null,
      "outputs": []
    },
    {
      "cell_type": "code",
      "metadata": {
        "id": "1l4LyoT3Grhr",
        "colab": {
          "base_uri": "https://localhost:8080/"
        },
        "outputId": "0e8adc39-7712-4d6f-b8c4-575f0a28c140"
      },
      "source": [
        "# Example of TF-IDF transformation\n",
        "from sklearn.feature_extraction.text import TfidfVectorizer, CountVectorizer\n",
        "from sklearn.pipeline import Pipeline\n",
        "\n",
        "corpus = [\n",
        "     ['this', 'is', 'the', 'first', 'document', 'document'],\n",
        "     ['this', 'is', 'the', 'second', 'document'],\n",
        "     ['this', 'is', 'the', 'third', 'document', 'document']\n",
        "    ]\n",
        "vectorizer = TfidfVectorizer(tokenizer=lambda x:x, lowercase=False, use_idf=True, sublinear_tf=True, norm='l2')\n",
        "X = vectorizer.fit_transform(corpus)\n",
        "print(vectorizer.get_feature_names())\n",
        "print(X)"
      ],
      "execution_count": null,
      "outputs": [
        {
          "output_type": "stream",
          "text": [
            "['document', 'first', 'is', 'second', 'the', 'third', 'this']\n",
            "  (0, 0)\t0.5729288343964706\n",
            "  (0, 1)\t0.5729288343964706\n",
            "  (0, 4)\t0.3383809989908826\n",
            "  (0, 2)\t0.3383809989908826\n",
            "  (0, 6)\t0.3383809989908826\n",
            "  (1, 3)\t0.6461289150464732\n",
            "  (1, 0)\t0.3816141458138271\n",
            "  (1, 4)\t0.3816141458138271\n",
            "  (1, 2)\t0.3816141458138271\n",
            "  (1, 6)\t0.3816141458138271\n",
            "  (2, 5)\t0.5729288343964706\n",
            "  (2, 0)\t0.5729288343964706\n",
            "  (2, 4)\t0.3383809989908826\n",
            "  (2, 2)\t0.3383809989908826\n",
            "  (2, 6)\t0.3383809989908826\n"
          ],
          "name": "stdout"
        }
      ]
    },
    {
      "cell_type": "code",
      "metadata": {
        "id": "9tUf0vxpLMOO"
      },
      "source": [
        "from sklearn.feature_extraction.text import TfidfVectorizer, CountVectorizer\n",
        "from sklearn.pipeline import Pipeline\n",
        "\n",
        "documents = []\n",
        "for code, comment in all:\n",
        "  pcode, pcomment = process_code_comment(code, comment)\n",
        "  documents.append(pcode)\n",
        "  documents.append(pcomment)\n",
        "codes = documents[::2]\n",
        "comments = documents[1::2]"
      ],
      "execution_count": null,
      "outputs": []
    },
    {
      "cell_type": "code",
      "metadata": {
        "id": "YMU6xYRhL6U-"
      },
      "source": [
        "vectorizer = TfidfVectorizer(tokenizer=lambda x:x, lowercase=False, use_idf=True, sublinear_tf=True, norm='l2')\n",
        "X = vectorizer.fit_transform(documents)"
      ],
      "execution_count": null,
      "outputs": []
    },
    {
      "cell_type": "code",
      "metadata": {
        "id": "Q9dBOkJxMO1w",
        "colab": {
          "base_uri": "https://localhost:8080/"
        },
        "outputId": "69ba4310-2c9b-4789-f6d7-e603478fcd5f"
      },
      "source": [
        "print(X.shape, type(X))"
      ],
      "execution_count": null,
      "outputs": [
        {
          "output_type": "stream",
          "text": [
            "(5762, 2179) <class 'scipy.sparse.csr.csr_matrix'>\n"
          ],
          "name": "stdout"
        }
      ]
    },
    {
      "cell_type": "code",
      "metadata": {
        "id": "mj0juf86Nadi",
        "colab": {
          "base_uri": "https://localhost:8080/"
        },
        "outputId": "64e622ae-dc81-43d8-9f31-369a136256cb"
      },
      "source": [
        "# positive class is oversized\n",
        "sum(Y) / len(Y)"
      ],
      "execution_count": null,
      "outputs": [
        {
          "output_type": "execute_result",
          "data": {
            "text/plain": [
              "0.594585213467546"
            ]
          },
          "metadata": {
            "tags": []
          },
          "execution_count": 40
        }
      ]
    },
    {
      "cell_type": "code",
      "metadata": {
        "id": "XqPQ_RsQO7Vt"
      },
      "source": [
        "X = X.toarray().reshape(X.shape[0] // 2, -1) # concat comment and code vectors"
      ],
      "execution_count": null,
      "outputs": []
    },
    {
      "cell_type": "code",
      "metadata": {
        "id": "OYmZ4U0EKIB0",
        "colab": {
          "base_uri": "https://localhost:8080/"
        },
        "outputId": "44e04af0-ca9f-4174-bbfb-240f12a01bb2"
      },
      "source": [
        "X.shape"
      ],
      "execution_count": null,
      "outputs": [
        {
          "output_type": "execute_result",
          "data": {
            "text/plain": [
              "(2881, 4358)"
            ]
          },
          "metadata": {
            "tags": []
          },
          "execution_count": 42
        }
      ]
    },
    {
      "cell_type": "code",
      "metadata": {
        "id": "oe3jwy29PIYJ",
        "colab": {
          "base_uri": "https://localhost:8080/"
        },
        "outputId": "22cc95c3-4a57-43e9-82a9-c9eb0d5e6346"
      },
      "source": [
        "vocab2 = vectorizer.get_feature_names()\n",
        "index = 2\n",
        "print(codes[index])\n",
        "print(comments[index])\n",
        "print(X[index], X[index].mean(), X[index].max(), np.argmax(X[index]), (list(vocab2) + list(vocab2))[np.argmax(X[index])])"
      ],
      "execution_count": null,
      "outputs": [
        {
          "output_type": "stream",
          "text": [
            "['public', 'static', 'void', 'main', 'menu', 'system', 'println', 'add', 'recip', 'system', 'println', 'delet', 'recip', 'system', 'println', 'edit', 'recip', 'system', 'println', 'add', 'inventori', 'system', 'println', 'check', 'inventori', 'system', 'println', 'make', 'coffe', 'system', 'println', 'exit', 'n', 'tri', 'int', 'user', 'input', 'integ', 'pars', 'int', 'input', 'output', 'pleas', 'press', 'number', 'correspond', 'would', 'like', 'coffe', 'maker', 'user', 'input', 'user', 'input', 'user', 'input', 'add', 'recip', 'user', 'input', 'delet', 'recip', 'user', 'input', 'edit', 'recip', 'user', 'input', 'add', 'inventori', 'user', 'input', 'check', 'inventori', 'user', 'input', 'make', 'coffe', 'user', 'input', 'system', 'exit', 'els', 'system', 'println', 'pleas', 'enter', 'number', 'main', 'menu', 'catch', 'number', 'format', 'except', 'e', 'system', 'println', 'pleas', 'enter', 'number', 'main', 'menu']\n",
            "['print', 'main', 'menu', 'handl', 'user', 'input', 'main', 'menu', 'command']\n",
            "[0. 0. 0. ... 0. 0. 0.] 0.0018129997237914602 0.6059144742412809 3326 main\n"
          ],
          "name": "stdout"
        }
      ]
    },
    {
      "cell_type": "code",
      "metadata": {
        "id": "qw7un97WMc6X"
      },
      "source": [
        "# Чтобы дойти я потратил 11 часов дебажанья и писания кода, сноса conda, pyenv, python и всего такого\n",
        "# stonks\n",
        "from sklearn.model_selection import train_test_split\n",
        "X_train, X_test, y_train, y_test, ids_train, ids_test = train_test_split(X, Y, list(range(X.shape[0])), test_size=.25, random_state=23)"
      ],
      "execution_count": null,
      "outputs": []
    },
    {
      "cell_type": "code",
      "metadata": {
        "id": "fFumjkZAg6TH"
      },
      "source": [
        "from sklearn.pipeline import Pipeline\n",
        "from sklearn.model_selection import GridSearchCV\n",
        "from sklearn.svm import SVC\n",
        "# param_grid = [# Parameters for Linear Kernel \n",
        "#               {'clf__C': [1e3, 1e2, 1e1],\n",
        "#                'clf__kernel': ['linear']}, \n",
        "#               # Parameter for RBF Kernel\n",
        "#               {'clf__C': [1e3, 1e2, 1e1],\n",
        "#                'clf__gamma': [1.0, 1e-1, 1e1],\n",
        "#                'clf__kernel': ['rbf']}#,\n",
        "#               # Parameter for Polynomial Kernel\n",
        "#               #{'clf__C': [1e3, 1e2, 1e1],\n",
        "#               # 'clf__degree': [2, 3, 5],\n",
        "#               # 'clf__coef0': [0, 1],\n",
        "#               # 'clf__kernel': ['poly']},\n",
        "#             ]\n",
        "param_grid = [{'clf__C': [1e1],\n",
        "               'clf__gamma': [1.0],\n",
        "               'clf__kernel': ['rbf']}]\n",
        "# So far, the `Pipeline` is not actually needed, but\n",
        "# this code is ready in case multiple (features selection)\n",
        "# steps would be considered for inclusion\n",
        "pipe_svc = Pipeline([('clf', SVC(random_state=1))]) \n"
      ],
      "execution_count": null,
      "outputs": []
    },
    {
      "cell_type": "code",
      "metadata": {
        "id": "C4XDBxfsQn3d"
      },
      "source": [
        "from sklearn.model_selection import cross_val_score\n",
        "from sklearn.metrics import confusion_matrix\n",
        "def classify_samples(pipe_svc, param_grid, score, scoring='accuracy', **extra_score_params):\n",
        "    \"\"\"\n",
        "    \"\"\"\n",
        "    \n",
        "    print('-'*80)\n",
        "    print('PERFORMING MACHINE LEARNING ANALYSIS WITH SCORING METRIC: ', scoring)\n",
        "    \n",
        "    # GridSearch CV\n",
        "    gs = GridSearchCV(estimator=pipe_svc,\n",
        "                      param_grid=param_grid,\n",
        "                      scoring=scoring,\n",
        "                      cv=10, n_jobs=-1, verbose=10)\n",
        "    \n",
        "    gs = gs.fit(X_train, y_train)  # Fit the GridSearchCV Estimator \n",
        "\n",
        "    # Printing training results \n",
        "    print('Best Score: ', gs.best_score_)\n",
        "    print('Best Parameters: ', gs.best_params_)\n",
        "    #print('Grid Scores: ', gs.grid_scores_)\n",
        "    \n",
        "    # Predict with Best Estimator\n",
        "    clf = gs.best_estimator_\n",
        "    clf.fit(X_train, y_train)\n",
        "    y_pred = clf.predict(X_test)\n",
        "\n",
        "    print('Mean Accuracy on Test set: %.3f' %  (clf.score(X_test, y_test)))\n",
        "    \n",
        "    print('Calculating Score on Prediction: ', score(y_test, y_pred, **extra_score_params))\n",
        "    \n",
        "    #Confusion Matrix\n",
        "    cm = confusion_matrix(y_test, y_pred)\n",
        "    print(cm)\n",
        "    \n",
        "    scores = cross_val_score(gs, X, Y, scoring=scoring, cv=5, n_jobs=-1, verbose=10)\n",
        "    print('All CV Scores')\n",
        "    for i, score in enumerate(scores):\n",
        "        print(i, '): ', score)\n",
        "\n",
        "    print('CV %s : %.3f +/- %.3f' % (scoring, np.mean(scores), np.std(scores)))\n",
        "    \n",
        "    print('-'*80)\n"
      ],
      "execution_count": null,
      "outputs": []
    },
    {
      "cell_type": "code",
      "metadata": {
        "id": "TN5vSvU0iHRR",
        "colab": {
          "base_uri": "https://localhost:8080/",
          "height": 470
        },
        "outputId": "8f5bfa3b-3390-4029-ae53-c1d2c7e6dc37"
      },
      "source": [
        "# Accuracy (replication)\n",
        "#\n",
        "from sklearn.metrics import accuracy_score\n",
        "classify_samples(pipe_svc, param_grid, accuracy_score, scoring='accuracy')"
      ],
      "execution_count": null,
      "outputs": [
        {
          "output_type": "stream",
          "text": [
            "--------------------------------------------------------------------------------\n",
            "PERFORMING MACHINE LEARNING ANALYSIS WITH SCORING METRIC:  accuracy\n",
            "Fitting 10 folds for each of 1 candidates, totalling 10 fits\n"
          ],
          "name": "stdout"
        },
        {
          "output_type": "stream",
          "text": [
            "[Parallel(n_jobs=-1)]: Using backend LokyBackend with 2 concurrent workers.\n",
            "[Parallel(n_jobs=-1)]: Done   1 tasks      | elapsed:   23.9s\n",
            "[Parallel(n_jobs=-1)]: Done   2 tasks      | elapsed:   23.9s\n",
            "[Parallel(n_jobs=-1)]: Done   3 tasks      | elapsed:   23.9s\n",
            "[Parallel(n_jobs=-1)]: Done   4 tasks      | elapsed:   23.9s\n"
          ],
          "name": "stderr"
        },
        {
          "output_type": "error",
          "ename": "KeyboardInterrupt",
          "evalue": "ignored",
          "traceback": [
            "\u001b[0;31m---------------------------------------------------------------------------\u001b[0m",
            "\u001b[0;31mKeyboardInterrupt\u001b[0m                         Traceback (most recent call last)",
            "\u001b[0;32m<ipython-input-47-cc6b66f41fdd>\u001b[0m in \u001b[0;36m<module>\u001b[0;34m()\u001b[0m\n\u001b[1;32m      2\u001b[0m \u001b[0;31m#\u001b[0m\u001b[0;34m\u001b[0m\u001b[0;34m\u001b[0m\u001b[0;34m\u001b[0m\u001b[0m\n\u001b[1;32m      3\u001b[0m \u001b[0;32mfrom\u001b[0m \u001b[0msklearn\u001b[0m\u001b[0;34m.\u001b[0m\u001b[0mmetrics\u001b[0m \u001b[0;32mimport\u001b[0m \u001b[0maccuracy_score\u001b[0m\u001b[0;34m\u001b[0m\u001b[0;34m\u001b[0m\u001b[0m\n\u001b[0;32m----> 4\u001b[0;31m \u001b[0mclassify_samples\u001b[0m\u001b[0;34m(\u001b[0m\u001b[0mpipe_svc\u001b[0m\u001b[0;34m,\u001b[0m \u001b[0mparam_grid\u001b[0m\u001b[0;34m,\u001b[0m \u001b[0maccuracy_score\u001b[0m\u001b[0;34m,\u001b[0m \u001b[0mscoring\u001b[0m\u001b[0;34m=\u001b[0m\u001b[0;34m'accuracy'\u001b[0m\u001b[0;34m)\u001b[0m\u001b[0;34m\u001b[0m\u001b[0;34m\u001b[0m\u001b[0m\n\u001b[0m",
            "\u001b[0;32m<ipython-input-46-436feee96468>\u001b[0m in \u001b[0;36mclassify_samples\u001b[0;34m(pipe_svc, param_grid, score, scoring, **extra_score_params)\u001b[0m\n\u001b[1;32m     14\u001b[0m                       cv=10, n_jobs=-1, verbose=10)\n\u001b[1;32m     15\u001b[0m \u001b[0;34m\u001b[0m\u001b[0m\n\u001b[0;32m---> 16\u001b[0;31m     \u001b[0mgs\u001b[0m \u001b[0;34m=\u001b[0m \u001b[0mgs\u001b[0m\u001b[0;34m.\u001b[0m\u001b[0mfit\u001b[0m\u001b[0;34m(\u001b[0m\u001b[0mX_train\u001b[0m\u001b[0;34m,\u001b[0m \u001b[0my_train\u001b[0m\u001b[0;34m)\u001b[0m  \u001b[0;31m# Fit the GridSearchCV Estimator\u001b[0m\u001b[0;34m\u001b[0m\u001b[0;34m\u001b[0m\u001b[0m\n\u001b[0m\u001b[1;32m     17\u001b[0m \u001b[0;34m\u001b[0m\u001b[0m\n\u001b[1;32m     18\u001b[0m     \u001b[0;31m# Printing training results\u001b[0m\u001b[0;34m\u001b[0m\u001b[0;34m\u001b[0m\u001b[0;34m\u001b[0m\u001b[0m\n",
            "\u001b[0;32m/usr/local/lib/python3.6/dist-packages/sklearn/model_selection/_search.py\u001b[0m in \u001b[0;36mfit\u001b[0;34m(self, X, y, groups, **fit_params)\u001b[0m\n\u001b[1;32m    708\u001b[0m                 \u001b[0;32mreturn\u001b[0m \u001b[0mresults\u001b[0m\u001b[0;34m\u001b[0m\u001b[0;34m\u001b[0m\u001b[0m\n\u001b[1;32m    709\u001b[0m \u001b[0;34m\u001b[0m\u001b[0m\n\u001b[0;32m--> 710\u001b[0;31m             \u001b[0mself\u001b[0m\u001b[0;34m.\u001b[0m\u001b[0m_run_search\u001b[0m\u001b[0;34m(\u001b[0m\u001b[0mevaluate_candidates\u001b[0m\u001b[0;34m)\u001b[0m\u001b[0;34m\u001b[0m\u001b[0;34m\u001b[0m\u001b[0m\n\u001b[0m\u001b[1;32m    711\u001b[0m \u001b[0;34m\u001b[0m\u001b[0m\n\u001b[1;32m    712\u001b[0m         \u001b[0;31m# For multi-metric evaluation, store the best_index_, best_params_ and\u001b[0m\u001b[0;34m\u001b[0m\u001b[0;34m\u001b[0m\u001b[0;34m\u001b[0m\u001b[0m\n",
            "\u001b[0;32m/usr/local/lib/python3.6/dist-packages/sklearn/model_selection/_search.py\u001b[0m in \u001b[0;36m_run_search\u001b[0;34m(self, evaluate_candidates)\u001b[0m\n\u001b[1;32m   1149\u001b[0m     \u001b[0;32mdef\u001b[0m \u001b[0m_run_search\u001b[0m\u001b[0;34m(\u001b[0m\u001b[0mself\u001b[0m\u001b[0;34m,\u001b[0m \u001b[0mevaluate_candidates\u001b[0m\u001b[0;34m)\u001b[0m\u001b[0;34m:\u001b[0m\u001b[0;34m\u001b[0m\u001b[0;34m\u001b[0m\u001b[0m\n\u001b[1;32m   1150\u001b[0m         \u001b[0;34m\"\"\"Search all candidates in param_grid\"\"\"\u001b[0m\u001b[0;34m\u001b[0m\u001b[0;34m\u001b[0m\u001b[0m\n\u001b[0;32m-> 1151\u001b[0;31m         \u001b[0mevaluate_candidates\u001b[0m\u001b[0;34m(\u001b[0m\u001b[0mParameterGrid\u001b[0m\u001b[0;34m(\u001b[0m\u001b[0mself\u001b[0m\u001b[0;34m.\u001b[0m\u001b[0mparam_grid\u001b[0m\u001b[0;34m)\u001b[0m\u001b[0;34m)\u001b[0m\u001b[0;34m\u001b[0m\u001b[0;34m\u001b[0m\u001b[0m\n\u001b[0m\u001b[1;32m   1152\u001b[0m \u001b[0;34m\u001b[0m\u001b[0m\n\u001b[1;32m   1153\u001b[0m \u001b[0;34m\u001b[0m\u001b[0m\n",
            "\u001b[0;32m/usr/local/lib/python3.6/dist-packages/sklearn/model_selection/_search.py\u001b[0m in \u001b[0;36mevaluate_candidates\u001b[0;34m(candidate_params)\u001b[0m\n\u001b[1;32m    687\u001b[0m                                \u001b[0;32mfor\u001b[0m \u001b[0mparameters\u001b[0m\u001b[0;34m,\u001b[0m \u001b[0;34m(\u001b[0m\u001b[0mtrain\u001b[0m\u001b[0;34m,\u001b[0m \u001b[0mtest\u001b[0m\u001b[0;34m)\u001b[0m\u001b[0;34m\u001b[0m\u001b[0;34m\u001b[0m\u001b[0m\n\u001b[1;32m    688\u001b[0m                                in product(candidate_params,\n\u001b[0;32m--> 689\u001b[0;31m                                           cv.split(X, y, groups)))\n\u001b[0m\u001b[1;32m    690\u001b[0m \u001b[0;34m\u001b[0m\u001b[0m\n\u001b[1;32m    691\u001b[0m                 \u001b[0;32mif\u001b[0m \u001b[0mlen\u001b[0m\u001b[0;34m(\u001b[0m\u001b[0mout\u001b[0m\u001b[0;34m)\u001b[0m \u001b[0;34m<\u001b[0m \u001b[0;36m1\u001b[0m\u001b[0;34m:\u001b[0m\u001b[0;34m\u001b[0m\u001b[0;34m\u001b[0m\u001b[0m\n",
            "\u001b[0;32m/usr/local/lib/python3.6/dist-packages/joblib/parallel.py\u001b[0m in \u001b[0;36m__call__\u001b[0;34m(self, iterable)\u001b[0m\n\u001b[1;32m   1059\u001b[0m \u001b[0;34m\u001b[0m\u001b[0m\n\u001b[1;32m   1060\u001b[0m             \u001b[0;32mwith\u001b[0m \u001b[0mself\u001b[0m\u001b[0;34m.\u001b[0m\u001b[0m_backend\u001b[0m\u001b[0;34m.\u001b[0m\u001b[0mretrieval_context\u001b[0m\u001b[0;34m(\u001b[0m\u001b[0;34m)\u001b[0m\u001b[0;34m:\u001b[0m\u001b[0;34m\u001b[0m\u001b[0;34m\u001b[0m\u001b[0m\n\u001b[0;32m-> 1061\u001b[0;31m                 \u001b[0mself\u001b[0m\u001b[0;34m.\u001b[0m\u001b[0mretrieve\u001b[0m\u001b[0;34m(\u001b[0m\u001b[0;34m)\u001b[0m\u001b[0;34m\u001b[0m\u001b[0;34m\u001b[0m\u001b[0m\n\u001b[0m\u001b[1;32m   1062\u001b[0m             \u001b[0;31m# Make sure that we get a last message telling us we are done\u001b[0m\u001b[0;34m\u001b[0m\u001b[0;34m\u001b[0m\u001b[0;34m\u001b[0m\u001b[0m\n\u001b[1;32m   1063\u001b[0m             \u001b[0melapsed_time\u001b[0m \u001b[0;34m=\u001b[0m \u001b[0mtime\u001b[0m\u001b[0;34m.\u001b[0m\u001b[0mtime\u001b[0m\u001b[0;34m(\u001b[0m\u001b[0;34m)\u001b[0m \u001b[0;34m-\u001b[0m \u001b[0mself\u001b[0m\u001b[0;34m.\u001b[0m\u001b[0m_start_time\u001b[0m\u001b[0;34m\u001b[0m\u001b[0;34m\u001b[0m\u001b[0m\n",
            "\u001b[0;32m/usr/local/lib/python3.6/dist-packages/joblib/parallel.py\u001b[0m in \u001b[0;36mretrieve\u001b[0;34m(self)\u001b[0m\n\u001b[1;32m    938\u001b[0m             \u001b[0;32mtry\u001b[0m\u001b[0;34m:\u001b[0m\u001b[0;34m\u001b[0m\u001b[0;34m\u001b[0m\u001b[0m\n\u001b[1;32m    939\u001b[0m                 \u001b[0;32mif\u001b[0m \u001b[0mgetattr\u001b[0m\u001b[0;34m(\u001b[0m\u001b[0mself\u001b[0m\u001b[0;34m.\u001b[0m\u001b[0m_backend\u001b[0m\u001b[0;34m,\u001b[0m \u001b[0;34m'supports_timeout'\u001b[0m\u001b[0;34m,\u001b[0m \u001b[0;32mFalse\u001b[0m\u001b[0;34m)\u001b[0m\u001b[0;34m:\u001b[0m\u001b[0;34m\u001b[0m\u001b[0;34m\u001b[0m\u001b[0m\n\u001b[0;32m--> 940\u001b[0;31m                     \u001b[0mself\u001b[0m\u001b[0;34m.\u001b[0m\u001b[0m_output\u001b[0m\u001b[0;34m.\u001b[0m\u001b[0mextend\u001b[0m\u001b[0;34m(\u001b[0m\u001b[0mjob\u001b[0m\u001b[0;34m.\u001b[0m\u001b[0mget\u001b[0m\u001b[0;34m(\u001b[0m\u001b[0mtimeout\u001b[0m\u001b[0;34m=\u001b[0m\u001b[0mself\u001b[0m\u001b[0;34m.\u001b[0m\u001b[0mtimeout\u001b[0m\u001b[0;34m)\u001b[0m\u001b[0;34m)\u001b[0m\u001b[0;34m\u001b[0m\u001b[0;34m\u001b[0m\u001b[0m\n\u001b[0m\u001b[1;32m    941\u001b[0m                 \u001b[0;32melse\u001b[0m\u001b[0;34m:\u001b[0m\u001b[0;34m\u001b[0m\u001b[0;34m\u001b[0m\u001b[0m\n\u001b[1;32m    942\u001b[0m                     \u001b[0mself\u001b[0m\u001b[0;34m.\u001b[0m\u001b[0m_output\u001b[0m\u001b[0;34m.\u001b[0m\u001b[0mextend\u001b[0m\u001b[0;34m(\u001b[0m\u001b[0mjob\u001b[0m\u001b[0;34m.\u001b[0m\u001b[0mget\u001b[0m\u001b[0;34m(\u001b[0m\u001b[0;34m)\u001b[0m\u001b[0;34m)\u001b[0m\u001b[0;34m\u001b[0m\u001b[0;34m\u001b[0m\u001b[0m\n",
            "\u001b[0;32m/usr/local/lib/python3.6/dist-packages/joblib/_parallel_backends.py\u001b[0m in \u001b[0;36mwrap_future_result\u001b[0;34m(future, timeout)\u001b[0m\n\u001b[1;32m    540\u001b[0m         AsyncResults.get from multiprocessing.\"\"\"\n\u001b[1;32m    541\u001b[0m         \u001b[0;32mtry\u001b[0m\u001b[0;34m:\u001b[0m\u001b[0;34m\u001b[0m\u001b[0;34m\u001b[0m\u001b[0m\n\u001b[0;32m--> 542\u001b[0;31m             \u001b[0;32mreturn\u001b[0m \u001b[0mfuture\u001b[0m\u001b[0;34m.\u001b[0m\u001b[0mresult\u001b[0m\u001b[0;34m(\u001b[0m\u001b[0mtimeout\u001b[0m\u001b[0;34m=\u001b[0m\u001b[0mtimeout\u001b[0m\u001b[0;34m)\u001b[0m\u001b[0;34m\u001b[0m\u001b[0;34m\u001b[0m\u001b[0m\n\u001b[0m\u001b[1;32m    543\u001b[0m         \u001b[0;32mexcept\u001b[0m \u001b[0mCfTimeoutError\u001b[0m \u001b[0;32mas\u001b[0m \u001b[0me\u001b[0m\u001b[0;34m:\u001b[0m\u001b[0;34m\u001b[0m\u001b[0;34m\u001b[0m\u001b[0m\n\u001b[1;32m    544\u001b[0m             \u001b[0;32mraise\u001b[0m \u001b[0mTimeoutError\u001b[0m \u001b[0;32mfrom\u001b[0m \u001b[0me\u001b[0m\u001b[0;34m\u001b[0m\u001b[0;34m\u001b[0m\u001b[0m\n",
            "\u001b[0;32m/usr/lib/python3.6/concurrent/futures/_base.py\u001b[0m in \u001b[0;36mresult\u001b[0;34m(self, timeout)\u001b[0m\n\u001b[1;32m    425\u001b[0m                 \u001b[0;32mreturn\u001b[0m \u001b[0mself\u001b[0m\u001b[0;34m.\u001b[0m\u001b[0m__get_result\u001b[0m\u001b[0;34m(\u001b[0m\u001b[0;34m)\u001b[0m\u001b[0;34m\u001b[0m\u001b[0;34m\u001b[0m\u001b[0m\n\u001b[1;32m    426\u001b[0m \u001b[0;34m\u001b[0m\u001b[0m\n\u001b[0;32m--> 427\u001b[0;31m             \u001b[0mself\u001b[0m\u001b[0;34m.\u001b[0m\u001b[0m_condition\u001b[0m\u001b[0;34m.\u001b[0m\u001b[0mwait\u001b[0m\u001b[0;34m(\u001b[0m\u001b[0mtimeout\u001b[0m\u001b[0;34m)\u001b[0m\u001b[0;34m\u001b[0m\u001b[0;34m\u001b[0m\u001b[0m\n\u001b[0m\u001b[1;32m    428\u001b[0m \u001b[0;34m\u001b[0m\u001b[0m\n\u001b[1;32m    429\u001b[0m             \u001b[0;32mif\u001b[0m \u001b[0mself\u001b[0m\u001b[0;34m.\u001b[0m\u001b[0m_state\u001b[0m \u001b[0;32min\u001b[0m \u001b[0;34m[\u001b[0m\u001b[0mCANCELLED\u001b[0m\u001b[0;34m,\u001b[0m \u001b[0mCANCELLED_AND_NOTIFIED\u001b[0m\u001b[0;34m]\u001b[0m\u001b[0;34m:\u001b[0m\u001b[0;34m\u001b[0m\u001b[0;34m\u001b[0m\u001b[0m\n",
            "\u001b[0;32m/usr/lib/python3.6/threading.py\u001b[0m in \u001b[0;36mwait\u001b[0;34m(self, timeout)\u001b[0m\n\u001b[1;32m    293\u001b[0m         \u001b[0;32mtry\u001b[0m\u001b[0;34m:\u001b[0m    \u001b[0;31m# restore state no matter what (e.g., KeyboardInterrupt)\u001b[0m\u001b[0;34m\u001b[0m\u001b[0;34m\u001b[0m\u001b[0m\n\u001b[1;32m    294\u001b[0m             \u001b[0;32mif\u001b[0m \u001b[0mtimeout\u001b[0m \u001b[0;32mis\u001b[0m \u001b[0;32mNone\u001b[0m\u001b[0;34m:\u001b[0m\u001b[0;34m\u001b[0m\u001b[0;34m\u001b[0m\u001b[0m\n\u001b[0;32m--> 295\u001b[0;31m                 \u001b[0mwaiter\u001b[0m\u001b[0;34m.\u001b[0m\u001b[0macquire\u001b[0m\u001b[0;34m(\u001b[0m\u001b[0;34m)\u001b[0m\u001b[0;34m\u001b[0m\u001b[0;34m\u001b[0m\u001b[0m\n\u001b[0m\u001b[1;32m    296\u001b[0m                 \u001b[0mgotit\u001b[0m \u001b[0;34m=\u001b[0m \u001b[0;32mTrue\u001b[0m\u001b[0;34m\u001b[0m\u001b[0;34m\u001b[0m\u001b[0m\n\u001b[1;32m    297\u001b[0m             \u001b[0;32melse\u001b[0m\u001b[0;34m:\u001b[0m\u001b[0;34m\u001b[0m\u001b[0;34m\u001b[0m\u001b[0m\n",
            "\u001b[0;31mKeyboardInterrupt\u001b[0m: "
          ]
        }
      ]
    },
    {
      "cell_type": "code",
      "metadata": {
        "id": "9pX8JZIRAU9f",
        "colab": {
          "base_uri": "https://localhost:8080/"
        },
        "outputId": "2bf4bb97-5921-4a26-f92c-99b2b3f722cc"
      },
      "source": [
        "from sklearn.metrics import f1_score\n",
        "from sklearn.metrics import roc_auc_score\n",
        "clf = SVC(random_state=1, kernel='rbf', C=1e3, gamma=1.0)\n",
        "clf.fit(X_train, y_train)\n",
        "y_pred = clf.predict(X_test)\n",
        "\n",
        "print('Mean Accuracy on Test set: %.3f' %  (clf.score(X_test, y_test)))\n",
        "print('Calculating F1-Score on Prediction: ', f1_score(y_test, y_pred,  average='binary'))\n",
        "print('Calculating F1-MacroAverage-Score on Prediction: ', f1_score(y_test, y_pred,  average='macro'))\n",
        "print('Calculating RocAUC on Prediction: ', roc_auc_score(y_test, y_pred,  average='macro'))\n",
        "#classify_samples(pipe_svc, param_grid, f1_score, scoring='f1',)"
      ],
      "execution_count": null,
      "outputs": [
        {
          "output_type": "stream",
          "text": [
            "Mean Accuracy on Test set: 0.814\n",
            "Calculating F1-Score on Prediction:  0.8484162895927602\n",
            "Calculating F1-MacroAverage-Score on Prediction:  0.8041364602085666\n",
            "Calculating RocAUC on Prediction:  0.7982621374527112\n"
          ],
          "name": "stdout"
        }
      ]
    },
    {
      "cell_type": "code",
      "metadata": {
        "id": "RObf29CaB95o",
        "colab": {
          "base_uri": "https://localhost:8080/"
        },
        "outputId": "8fb5df33-3a4c-4a3b-8b53-3774af751658"
      },
      "source": [
        "code_example = \"\"\"\n",
        "public String concat(String s1, String s2) {\n",
        "  return s1 + s2;\n",
        "}\n",
        "\"\"\"\n",
        "comment_example = \"Returns concatenation of two strings\"\n",
        "pcode, pcomment = process_code_comment(code_example, comment_example)\n",
        "example = np.array(vectorizer.transform([pcode, pcomment]).toarray()).reshape(1, -1)\n",
        "clf.predict(example)"
      ],
      "execution_count": null,
      "outputs": [
        {
          "output_type": "execute_result",
          "data": {
            "text/plain": [
              "array([ True])"
            ]
          },
          "metadata": {
            "tags": []
          },
          "execution_count": 49
        }
      ]
    },
    {
      "cell_type": "code",
      "metadata": {
        "id": "7Zaw-FPCKPhR",
        "colab": {
          "base_uri": "https://localhost:8080/"
        },
        "outputId": "5a107c36-c46d-412f-fd72-549522a2bc35"
      },
      "source": [
        "code_example = \"\"\"\n",
        "public String concat(String s1, String s2) {\n",
        "  return s1 + s2;\n",
        "}\n",
        "\"\"\"\n",
        "comment_example = \"wrong comment\"\n",
        "pcode, pcomment = process_code_comment(code_example, comment_example)\n",
        "example = np.array(vectorizer.transform([pcode, pcomment]).toarray()).reshape(1, -1)\n",
        "clf.predict(example), pcode, pcomment, vectorizer.transform([pcode, pcomment])"
      ],
      "execution_count": null,
      "outputs": [
        {
          "output_type": "execute_result",
          "data": {
            "text/plain": [
              "(array([ True]),\n",
              " ['public', 'string', 'concat', 'string', 'string', 'return'],\n",
              " ['wrong', 'comment'],\n",
              " <2x2179 sparse matrix of type '<class 'numpy.float64'>'\n",
              " \twith 5 stored elements in Compressed Sparse Row format>)"
            ]
          },
          "metadata": {
            "tags": []
          },
          "execution_count": 50
        }
      ]
    },
    {
      "cell_type": "code",
      "metadata": {
        "id": "s5e5sqdDKuGW",
        "colab": {
          "base_uri": "https://localhost:8080/"
        },
        "outputId": "759dedcc-29a2-4062-80b4-223dde9e967a"
      },
      "source": [
        "code_example = \"\"\"\n",
        "public int addNumbers(int x, int y) {\n",
        "  return x + y;\n",
        "\"\"\"\n",
        "comment_example = \"\"\"Creates new form SVGDrawingPanelSample\"\"\"\n",
        "pcode, pcomment = process_code_comment(code_example, comment_example)\n",
        "example = np.array(vectorizer.transform([pcode, pcomment]).toarray()).reshape(1, -1)\n",
        "clf.predict(example), pcode, pcomment, vectorizer.transform([pcode, pcomment])"
      ],
      "execution_count": null,
      "outputs": [
        {
          "output_type": "execute_result",
          "data": {
            "text/plain": [
              "(array([False]),\n",
              " ['public', 'int', 'add', 'number', 'int', 'x', 'int', 'return', 'x'],\n",
              " ['creat', 'new', 'form', 'svg', 'draw', 'panel', 'sampl'],\n",
              " <2x2179 sparse matrix of type '<class 'numpy.float64'>'\n",
              " \twith 13 stored elements in Compressed Sparse Row format>)"
            ]
          },
          "metadata": {
            "tags": []
          },
          "execution_count": 51
        }
      ]
    },
    {
      "cell_type": "code",
      "metadata": {
        "id": "w2zA57ftLFST",
        "colab": {
          "base_uri": "https://localhost:8080/"
        },
        "outputId": "0b393084-f593-422a-9e20-0a19d9b6a850"
      },
      "source": [
        "sum(y_test) / len(y_test)"
      ],
      "execution_count": null,
      "outputs": [
        {
          "output_type": "execute_result",
          "data": {
            "text/plain": [
              "0.5769764216366158"
            ]
          },
          "metadata": {
            "tags": []
          },
          "execution_count": 52
        }
      ]
    },
    {
      "cell_type": "code",
      "metadata": {
        "id": "OFnSI50gRoQp",
        "colab": {
          "base_uri": "https://localhost:8080/"
        },
        "outputId": "a7c7d0f7-4c10-4093-e938-3d52c25f4d03"
      },
      "source": [
        "ids_test[:10]"
      ],
      "execution_count": null,
      "outputs": [
        {
          "output_type": "execute_result",
          "data": {
            "text/plain": [
              "[2699, 1943, 433, 599, 1289, 876, 863, 145, 187, 1742]"
            ]
          },
          "metadata": {
            "tags": []
          },
          "execution_count": 53
        }
      ]
    },
    {
      "cell_type": "code",
      "metadata": {
        "id": "ewfqHboeP8s2"
      },
      "source": [
        "# Посмотрим, где модель выдает True Negative\n",
        "TN, TP, FN, FP = [], [], [], []\n",
        "for index, pred in enumerate(y_pred):\n",
        "  target = y_test[index]\n",
        "  example_index = ids_test[index]\n",
        "  example = all[example_index]\n",
        "  if pred == y_test[index]:\n",
        "    if pred == 0:\n",
        "      TN.append(example)\n",
        "    else:\n",
        "      TP.append(example)\n",
        "  else:\n",
        "    if pred == 0:\n",
        "      FN.append(example)\n",
        "    else:\n",
        "      FP.append(example)"
      ],
      "execution_count": null,
      "outputs": []
    },
    {
      "cell_type": "code",
      "metadata": {
        "id": "bl6r1k6DR7Lp",
        "colab": {
          "base_uri": "https://localhost:8080/"
        },
        "outputId": "9d8c89f3-714d-4985-93e2-bed657094465"
      },
      "source": [
        "index = 101\n",
        "print(TN[index][1], TN[index][0], sep='\\n----------------------------\\n')"
      ],
      "execution_count": null,
      "outputs": [
        {
          "output_type": "stream",
          "text": [
            "/**\n",
            "   * Method to set a {@code DragTracker}. If you specify null, the\n",
            "   * {@code SelectionTool} uses the {@code DefaultDragTracker}.\n",
            "   */\n",
            "----------------------------\n",
            "  public void setDragTracker(DragTracker newValue) {\n",
            "    dragTracker = newValue;\n"
          ],
          "name": "stdout"
        }
      ]
    },
    {
      "cell_type": "code",
      "metadata": {
        "id": "vEsZ-boVS-CW",
        "colab": {
          "base_uri": "https://localhost:8080/"
        },
        "outputId": "8bfcbe61-9f7b-4b25-a957-ae03bb8a34aa"
      },
      "source": [
        "index = 43\n",
        "print(FP[index][1], FP[index][0], sep='\\n----------------------------\\n')"
      ],
      "execution_count": null,
      "outputs": [
        {
          "output_type": "stream",
          "text": [
            "/**\n",
            "   * Returns the option that the JFileChooser or JOptionPane returned.\n",
            "   */\n",
            "----------------------------\n",
            "  public int getOption() {\n",
            "    return option;\n"
          ],
          "name": "stdout"
        }
      ]
    },
    {
      "cell_type": "code",
      "metadata": {
        "id": "EXjNM0LDTxat",
        "colab": {
          "base_uri": "https://localhost:8080/"
        },
        "outputId": "65810846-d33c-475a-8e2c-92e2848a9e63"
      },
      "source": [
        "index = 10\n",
        "print(FN[index][1], FN[index][0], sep='\\n----------------------------\\n')"
      ],
      "execution_count": null,
      "outputs": [
        {
          "output_type": "stream",
          "text": [
            "/** Creates new form SVGDrawingPanelSample */\n",
            "----------------------------\n",
            "  public SVGDrawingPanelSample() {\n",
            "    initComponents();\n",
            "    setSize(new Dimension(600, 400));\n"
          ],
          "name": "stdout"
        }
      ]
    },
    {
      "cell_type": "code",
      "metadata": {
        "id": "4RaTaCgESLH1",
        "colab": {
          "base_uri": "https://localhost:8080/"
        },
        "outputId": "001578db-ed8f-4ba5-e10c-e07704d2b9d7"
      },
      "source": [
        "len(TN), len(FN), len(FP), len(TP)"
      ],
      "execution_count": null,
      "outputs": [
        {
          "output_type": "execute_result",
          "data": {
            "text/plain": [
              "(212, 41, 93, 375)"
            ]
          },
          "metadata": {
            "tags": []
          },
          "execution_count": 58
        }
      ]
    },
    {
      "cell_type": "code",
      "metadata": {
        "id": "JiBaAtvkUnsS"
      },
      "source": [
        "# Кажется, данные очень специфичные, примеры из моей головы слишком часто отправляются в True и почти никогда в False"
      ],
      "execution_count": null,
      "outputs": []
    },
    {
      "cell_type": "code",
      "metadata": {
        "id": "gSGDjNePUwYm"
      },
      "source": [
        "# Давайте попробуем проверить это классификатор на другом датасете"
      ],
      "execution_count": null,
      "outputs": []
    },
    {
      "cell_type": "code",
      "metadata": {
        "id": "UZIi-R2PU0wg"
      },
      "source": [
        "import requests\n",
        "\n",
        "def download_file_from_google_drive(id, destination):\n",
        "    URL = \"https://docs.google.com/uc?export=download\"\n",
        "\n",
        "    session = requests.Session()\n",
        "\n",
        "    response = session.get(URL, params = { 'id' : id }, stream = True)\n",
        "    token = get_confirm_token(response)\n",
        "\n",
        "    if token:\n",
        "        params = { 'id' : id, 'confirm' : token }\n",
        "        response = session.get(URL, params = params, stream = True)\n",
        "\n",
        "    save_response_content(response, destination)    \n",
        "\n",
        "def get_confirm_token(response):\n",
        "    for key, value in response.cookies.items():\n",
        "        if key.startswith('download_warning'):\n",
        "            return value\n",
        "\n",
        "    return None\n",
        "\n",
        "def save_response_content(response, destination):\n",
        "    CHUNK_SIZE = 32768\n",
        "\n",
        "    with open(destination, \"wb\") as f:\n",
        "        for chunk in response.iter_content(CHUNK_SIZE):\n",
        "            if chunk: # filter out keep-alive new chunks\n",
        "                f.write(chunk)\n",
        "\n",
        "file_id = '1Tv9_Rgbt08O9aUJvxjRT4b537VyFf0sh'\n",
        "destination = 'texas_test'\n",
        "download_file_from_google_drive(file_id, destination)"
      ],
      "execution_count": null,
      "outputs": []
    },
    {
      "cell_type": "code",
      "metadata": {
        "id": "5ZkcL9ggYeQP"
      },
      "source": [
        "import json\n",
        "with open('texas_test') as json_file:\n",
        "  texas_data = json.load(json_file)"
      ],
      "execution_count": null,
      "outputs": []
    },
    {
      "cell_type": "code",
      "metadata": {
        "id": "-3vEYfBaYtEm",
        "colab": {
          "base_uri": "https://localhost:8080/"
        },
        "outputId": "dbc9e5f1-9f3a-4fe6-c50e-f8e85e342701"
      },
      "source": [
        "print(*texas_data[0].keys(), sep='\\n')"
      ],
      "execution_count": null,
      "outputs": [
        {
          "output_type": "stream",
          "text": [
            "id\n",
            "old_comment\n",
            "old_comment_tokens\n",
            "new_comment\n",
            "new_comment_tokens\n",
            "old_code\n",
            "old_code_tokens\n",
            "new_code\n",
            "new_code_tokens\n",
            "span_diff_code\n",
            "span_diff_code_tokens\n",
            "span_minimal_diff_comment\n",
            "span_minimal_diff_comment_tokens\n",
            "token_diff_code_tokens\n"
          ],
          "name": "stdout"
        }
      ]
    },
    {
      "cell_type": "code",
      "metadata": {
        "id": "hEyhhZNeY91P",
        "colab": {
          "base_uri": "https://localhost:8080/"
        },
        "outputId": "75ebd434-c88d-41a4-e780-cdfbaad0f62c"
      },
      "source": [
        "len(texas_data)"
      ],
      "execution_count": null,
      "outputs": [
        {
          "output_type": "execute_result",
          "data": {
            "text/plain": [
              "736"
            ]
          },
          "metadata": {
            "tags": []
          },
          "execution_count": 62
        }
      ]
    },
    {
      "cell_type": "code",
      "metadata": {
        "id": "VUrNSnBHZ-u2",
        "colab": {
          "base_uri": "https://localhost:8080/"
        },
        "outputId": "03eb7cb4-53f4-4250-f7a7-3b4e2ceeaa1d"
      },
      "source": [
        "texas_vocab = set()\n",
        "for sample in texas_data:\n",
        "  texas_vocab = texas_vocab.union(sample['old_code_tokens'])\n",
        "  texas_vocab = texas_vocab.union(sample['new_code_tokens'])\n",
        "  texas_vocab = texas_vocab.union(sample['old_comment_tokens'])\n",
        "  texas_vocab = texas_vocab.union(sample['new_comment_tokens'])\n",
        "len(texas_vocab)"
      ],
      "execution_count": null,
      "outputs": [
        {
          "output_type": "execute_result",
          "data": {
            "text/plain": [
              "3238"
            ]
          },
          "metadata": {
            "tags": []
          },
          "execution_count": 63
        }
      ]
    },
    {
      "cell_type": "code",
      "metadata": {
        "id": "IitSzKonafA2",
        "colab": {
          "base_uri": "https://localhost:8080/"
        },
        "outputId": "e73d29f4-2ac6-426d-b673-883c38238ece"
      },
      "source": [
        "jaccard_coefficient(texas_vocab, vocab2) # vocabs are diferent"
      ],
      "execution_count": null,
      "outputs": [
        {
          "output_type": "execute_result",
          "data": {
            "text/plain": [
              "0.1452431289640592"
            ]
          },
          "metadata": {
            "tags": []
          },
          "execution_count": 64
        }
      ]
    },
    {
      "cell_type": "code",
      "metadata": {
        "id": "rWkbWpSOay15"
      },
      "source": [
        "X_texas_test, Y_texas_test = [], []\n",
        "for sample in texas_data:\n",
        "  C1, C2 = sample['old_comment'], sample['new_comment']\n",
        "  M1, M2 = sample['old_code'], sample['new_code']\n",
        "  X_texas_test.append((M2, C1))\n",
        "  Y_texas_test.append(0)\n",
        "  X_texas_test.append((M2, C2))\n",
        "  Y_texas_test.append(1)"
      ],
      "execution_count": null,
      "outputs": []
    },
    {
      "cell_type": "code",
      "metadata": {
        "id": "3hP68wKGcgtd",
        "colab": {
          "base_uri": "https://localhost:8080/"
        },
        "outputId": "34ce88ab-3765-4aa3-88f9-5a48b77f4d9c"
      },
      "source": [
        "for sample in texas_data[100:102]:\n",
        "  C1, C2 = sample['old_comment'], sample['new_comment']\n",
        "  M1, M2 = sample['old_code'], sample['new_code']\n",
        "  print(M1, C1, sep='\\n')\n",
        "  print('=' * 80)\n",
        "  print(M2, C2, sep='\\n')\n",
        "  print('-' * 160)\n",
        "  print('-' * 160)"
      ],
      "execution_count": null,
      "outputs": [
        {
          "output_type": "stream",
          "text": [
            "public string create text ( mil std2525 tactical graphic graphic ) { string function id = graphic . get function id ( ) ; if ( circular fire support area . function _ id _ target . equals ( function id ) ) return graphic . get text ( ) ; else return create date range text ( graphic , function id ) ; }\n",
            "label text .\n",
            "================================================================================\n",
            "public string [ ] create text ( mil std2525 tactical graphic graphic ) { string [ ] result ; string function id = graphic . get function id ( ) ; if ( circular fire support area . function _ id _ target . equals ( function id ) ) { result = new string [ ] { graphic . get text ( ) } ; } else { boolean use separate time label = this . is show separate time label ( function id ) ; string main text = this . create main text ( graphic , function id , ! use separate time label ) ; if ( use separate time label ) { string time text = this . create time range text ( graphic ) ; result = new string [ ] { main text , time text } ; } else { result = new string [ ] { main text } ; } } return result ; }\n",
            "array of text for labels . this array will always include at least one string : the main label text . it may include a second element . the second element ( if present ) is text for a label that must be placed at the left side of the area .\n",
            "----------------------------------------------------------------------------------------------------------------------------------------------------------------\n",
            "----------------------------------------------------------------------------------------------------------------------------------------------------------------\n",
            "public static builder host ( final string host ) { return builder ( ) . host ( host ) ; }\n",
            "ping host\n",
            "================================================================================\n",
            "public builder host ( string host ) { this . host = host ; return this ; }\n",
            "builder\n",
            "----------------------------------------------------------------------------------------------------------------------------------------------------------------\n",
            "----------------------------------------------------------------------------------------------------------------------------------------------------------------\n"
          ],
          "name": "stdout"
        }
      ]
    },
    {
      "cell_type": "code",
      "metadata": {
        "id": "g9RKemrPdWbj"
      },
      "source": [
        "#X_texas_test[0]\n",
        "X_texas = []\n",
        "for code, comment in X_texas_test:\n",
        "  pcode, pcomment = process_code_comment(code, comment)\n",
        "  tfcode = np.array(vectorizer.transform([pcode]).toarray())\n",
        "  tfcomment = np.array(vectorizer.transform([pcomment]).toarray())\n",
        "  X_texas.append(np.concatenate((tfcode, tfcomment), axis=1).reshape(-1))"
      ],
      "execution_count": null,
      "outputs": []
    },
    {
      "cell_type": "code",
      "metadata": {
        "id": "3Hzq5kLCeOXa",
        "colab": {
          "base_uri": "https://localhost:8080/"
        },
        "outputId": "179c5e28-e5c6-4896-d5e0-92a70ce6ee8d"
      },
      "source": [
        "X_texas = np.array(X_texas)\n",
        "X_texas.shape"
      ],
      "execution_count": null,
      "outputs": [
        {
          "output_type": "execute_result",
          "data": {
            "text/plain": [
              "(1472, 4358)"
            ]
          },
          "metadata": {
            "tags": []
          },
          "execution_count": 87
        }
      ]
    },
    {
      "cell_type": "code",
      "metadata": {
        "id": "eTcTD48HePQV",
        "colab": {
          "base_uri": "https://localhost:8080/"
        },
        "outputId": "5bb46ff3-4847-4b59-e745-0c24866485ff"
      },
      "source": [
        "print('Accuracy on texas set: %.3f' %  (clf.score(X_texas, Y_texas_test)))\n",
        "y_texas_pred = clf.predict(X_texas)\n",
        "confusion_matrix(Y_texas_test, y_texas_pred)"
      ],
      "execution_count": null,
      "outputs": [
        {
          "output_type": "stream",
          "text": [
            "Accuracy on texas set: 0.499\n"
          ],
          "name": "stdout"
        },
        {
          "output_type": "execute_result",
          "data": {
            "text/plain": [
              "array([[ 51, 685],\n",
              "       [ 52, 684]])"
            ]
          },
          "metadata": {
            "tags": []
          },
          "execution_count": 93
        }
      ]
    },
    {
      "cell_type": "code",
      "metadata": {
        "id": "M4s8zperh1cf"
      },
      "source": [
        "# очень много False Positive"
      ],
      "execution_count": null,
      "outputs": []
    },
    {
      "cell_type": "code",
      "metadata": {
        "id": "ogyHneUpjGaL"
      },
      "source": [
        "# А что, если обучаться на этом же датасете?\n",
        "from sklearn.model_selection import train_test_split\n",
        "XT_train, XT_test, YT_train, YT_test, idsT_train, idsT_test = train_test_split(X_texas, Y_texas_test, list(range(X_texas.shape[0])), test_size=.25, random_state=23)"
      ],
      "execution_count": null,
      "outputs": []
    },
    {
      "cell_type": "code",
      "metadata": {
        "id": "AvM5SkkTtuXw",
        "colab": {
          "base_uri": "https://localhost:8080/"
        },
        "outputId": "bed85aa8-775f-4864-80dc-2613646b3cfc"
      },
      "source": [
        "len(XT_train), len(XT_test)"
      ],
      "execution_count": null,
      "outputs": [
        {
          "output_type": "execute_result",
          "data": {
            "text/plain": [
              "(1104, 368)"
            ]
          },
          "metadata": {
            "tags": []
          },
          "execution_count": 90
        }
      ]
    },
    {
      "cell_type": "code",
      "metadata": {
        "id": "jJwEaRRhtxu3",
        "colab": {
          "base_uri": "https://localhost:8080/"
        },
        "outputId": "80639354-1975-4203-e606-5cf5d9db4ea6"
      },
      "source": [
        "from sklearn.metrics import f1_score\n",
        "from sklearn.metrics import roc_auc_score\n",
        "clf = SVC(random_state=1, kernel='rbf', C=100)\n",
        "clf.fit(XT_train, YT_train)\n",
        "YT_pred = clf.predict(XT_test)\n",
        "\n",
        "print('Mean Accuracy on Test set: %.3f' %  (clf.score(XT_test, YT_test)))\n",
        "print('Calculating F1-Score on Prediction: ', f1_score(YT_test, YT_pred,  average='binary'))\n",
        "print('Calculating F1-MacroAverage-Score on Prediction: ', f1_score(YT_test, YT_pred,  average='macro'))\n",
        "print('Calculating RocAUC on Prediction: ', roc_auc_score(YT_test, YT_pred,  average='macro'))\n",
        "confusion_matrix(YT_test, YT_pred)\n",
        "#classify_samples(pipe_svc, param_grid, f1_score, scoring='f1',)"
      ],
      "execution_count": null,
      "outputs": [
        {
          "output_type": "stream",
          "text": [
            "Mean Accuracy on Test set: 0.380\n",
            "Calculating F1-Score on Prediction:  0.3701657458563536\n",
            "Calculating F1-MacroAverage-Score on Prediction:  0.3802700387035779\n",
            "Calculating RocAUC on Prediction:  0.38160735942260476\n"
          ],
          "name": "stdout"
        },
        {
          "output_type": "execute_result",
          "data": {
            "text/plain": [
              "array([[ 73, 104],\n",
              "       [124,  67]])"
            ]
          },
          "metadata": {
            "tags": []
          },
          "execution_count": 104
        }
      ]
    },
    {
      "cell_type": "code",
      "metadata": {
        "id": "esQnEmOTxHaM",
        "colab": {
          "base_uri": "https://localhost:8080/"
        },
        "outputId": "de6ddcb4-b744-4510-a6d2-7f799444cbb3"
      },
      "source": [
        "\n",
        "X_train = XT_train\n",
        "X_test = XT_test\n",
        "y_train = YT_train\n",
        "y_test = YT_test\n",
        "from sklearn.pipeline import Pipeline\n",
        "from sklearn.model_selection import GridSearchCV\n",
        "from sklearn.svm import SVC\n",
        "param_grid = [# Parameters for Linear Kernel \n",
        "              {'clf__C': [1e3, 1e2, 1e1],\n",
        "               'clf__kernel': ['linear']}, \n",
        "              # Parameter for RBF Kernel\n",
        "              {'clf__C': [1e3, 1e2, 1e1],\n",
        "               'clf__gamma': [1.0, 1e-1, 1e1],\n",
        "               'clf__kernel': ['rbf']}#,\n",
        "              # Parameter for Polynomial Kernel\n",
        "              #{'clf__C': [1e3, 1e2, 1e1],\n",
        "              # 'clf__degree': [2, 3, 5],\n",
        "              # 'clf__coef0': [0, 1],\n",
        "              # 'clf__kernel': ['poly']},\n",
        "            ]\n",
        "pipe_svc = Pipeline([('clf', SVC(random_state=1))]) \n",
        "classify_samples(pipe_svc, param_grid, f1_score, scoring='f1',)"
      ],
      "execution_count": null,
      "outputs": [
        {
          "output_type": "stream",
          "text": [
            "--------------------------------------------------------------------------------\n",
            "PERFORMING MACHINE LEARNING ANALYSIS WITH SCORING METRIC:  f1\n",
            "Fitting 10 folds for each of 12 candidates, totalling 120 fits\n"
          ],
          "name": "stdout"
        },
        {
          "output_type": "stream",
          "text": [
            "[Parallel(n_jobs=-1)]: Using backend LokyBackend with 2 concurrent workers.\n",
            "[Parallel(n_jobs=-1)]: Done   1 tasks      | elapsed:   11.0s\n",
            "[Parallel(n_jobs=-1)]: Done   4 tasks      | elapsed:   22.8s\n",
            "[Parallel(n_jobs=-1)]: Done   9 tasks      | elapsed:   52.4s\n",
            "[Parallel(n_jobs=-1)]: Done  14 tasks      | elapsed:  1.2min\n",
            "[Parallel(n_jobs=-1)]: Done  21 tasks      | elapsed:  1.7min\n",
            "[Parallel(n_jobs=-1)]: Done  28 tasks      | elapsed:  2.2min\n",
            "[Parallel(n_jobs=-1)]: Done  37 tasks      | elapsed:  2.9min\n",
            "[Parallel(n_jobs=-1)]: Done  46 tasks      | elapsed:  3.5min\n",
            "[Parallel(n_jobs=-1)]: Done  57 tasks      | elapsed:  4.3min\n",
            "[Parallel(n_jobs=-1)]: Done  68 tasks      | elapsed:  5.1min\n",
            "[Parallel(n_jobs=-1)]: Done  81 tasks      | elapsed:  6.0min\n",
            "[Parallel(n_jobs=-1)]: Done  94 tasks      | elapsed:  6.9min\n",
            "[Parallel(n_jobs=-1)]: Done 109 tasks      | elapsed:  7.9min\n",
            "[Parallel(n_jobs=-1)]: Done 120 out of 120 | elapsed:  8.7min finished\n"
          ],
          "name": "stderr"
        },
        {
          "output_type": "stream",
          "text": [
            "Best Score:  0.38049039568513343\n",
            "Best Parameters:  {'clf__C': 1000.0, 'clf__kernel': 'linear'}\n",
            "Mean Accuracy on Test set: 0.356\n",
            "Calculating Score on Prediction:  0.34710743801652894\n",
            "[[ 68 109]\n",
            " [128  63]]\n"
          ],
          "name": "stdout"
        },
        {
          "output_type": "stream",
          "text": [
            "[Parallel(n_jobs=-1)]: Using backend LokyBackend with 2 concurrent workers.\n",
            "[Parallel(n_jobs=-1)]: Done   1 tasks      | elapsed: 48.6min\n",
            "/usr/local/lib/python3.6/dist-packages/joblib/externals/loky/process_executor.py:691: UserWarning: A worker stopped while some jobs were given to the executor. This can be caused by a too short worker timeout or by a memory leak.\n",
            "  \"timeout or by a memory leak.\", UserWarning\n",
            "[Parallel(n_jobs=-1)]: Done   3 out of   5 | elapsed: 101.5min remaining: 67.6min\n"
          ],
          "name": "stderr"
        },
        {
          "output_type": "stream",
          "text": [
            "All CV Scores\n",
            "0 ):  0.7408231368186876\n",
            "1 ):  0.7468208092485548\n",
            "2 ):  0.7798594847775175\n",
            "3 ):  0.8113879003558719\n",
            "4 ):  0.7571743929359823\n",
            "CV f1 : 0.767 +/- 0.026\n",
            "--------------------------------------------------------------------------------\n"
          ],
          "name": "stdout"
        },
        {
          "output_type": "stream",
          "text": [
            "[Parallel(n_jobs=-1)]: Done   5 out of   5 | elapsed: 127.6min remaining:    0.0s\n",
            "[Parallel(n_jobs=-1)]: Done   5 out of   5 | elapsed: 127.6min finished\n"
          ],
          "name": "stderr"
        }
      ]
    }
  ]
}