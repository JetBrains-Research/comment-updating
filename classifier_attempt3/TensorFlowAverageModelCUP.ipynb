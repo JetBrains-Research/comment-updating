{
  "nbformat": 4,
  "nbformat_minor": 0,
  "metadata": {
    "colab": {
      "name": "TensorFlowAverageModelCUP.ipynb",
      "provenance": [],
      "collapsed_sections": []
    },
    "kernelspec": {
      "name": "python3",
      "display_name": "Python 3"
    },
    "accelerator": "GPU"
  },
  "cells": [
    {
      "cell_type": "markdown",
      "metadata": {
        "id": "WL1-7LEFB-Q7"
      },
      "source": [
        "# Data Loading"
      ]
    },
    {
      "cell_type": "code",
      "metadata": {
        "id": "81l6MlnkYyhC"
      },
      "source": [
        "import requests\n",
        "\n",
        "def download_file_from_google_drive(id, destination):\n",
        "    URL = \"https://docs.google.com/uc?export=download\"\n",
        "\n",
        "    session = requests.Session()\n",
        "\n",
        "    response = session.get(URL, params = { 'id' : id }, stream = True)\n",
        "    token = get_confirm_token(response)\n",
        "\n",
        "    if token:\n",
        "        params = { 'id' : id, 'confirm' : token }\n",
        "        response = session.get(URL, params = params, stream = True)\n",
        "\n",
        "    save_response_content(response, destination)    \n",
        "\n",
        "def get_confirm_token(response):\n",
        "    for key, value in response.cookies.items():\n",
        "        if key.startswith('download_warning'):\n",
        "            return value\n",
        "\n",
        "    return None\n",
        "\n",
        "def save_response_content(response, destination):\n",
        "    CHUNK_SIZE = 32768\n",
        "\n",
        "    with open(destination, \"wb\") as f:\n",
        "        for chunk in response.iter_content(CHUNK_SIZE):\n",
        "            if chunk: # filter out keep-alive new chunks\n",
        "                f.write(chunk)"
      ],
      "execution_count": null,
      "outputs": []
    },
    {
      "cell_type": "code",
      "metadata": {
        "id": "ayyXVwG-drXw"
      },
      "source": [
        "file_id = '1o2qka7h7K1DJhj2hBoK7hLJpxe7gtc2-'\n",
        "destination = 'cup.json'\n",
        "download_file_from_google_drive(file_id, destination)"
      ],
      "execution_count": null,
      "outputs": []
    },
    {
      "cell_type": "code",
      "metadata": {
        "id": "Ufk0dbzDd1NO"
      },
      "source": [
        "import json\n",
        "with open('cup.json', 'r') as fp:\n",
        "    cup = json.load(fp)"
      ],
      "execution_count": null,
      "outputs": []
    },
    {
      "cell_type": "code",
      "metadata": {
        "id": "4SgJwg2aeDfn",
        "colab": {
          "base_uri": "https://localhost:8080/"
        },
        "outputId": "1fdb366c-002b-4691-e76e-b2b23487ee50"
      },
      "source": [
        "cup[0].keys()"
      ],
      "execution_count": null,
      "outputs": [
        {
          "output_type": "execute_result",
          "data": {
            "text/plain": [
              "dict_keys(['C1', 'C2', 'M1', 'M2'])"
            ]
          },
          "metadata": {
            "tags": []
          },
          "execution_count": 4
        }
      ]
    },
    {
      "cell_type": "code",
      "metadata": {
        "id": "Ahy6v3dtmP1M",
        "colab": {
          "base_uri": "https://localhost:8080/"
        },
        "outputId": "11766ad0-01a4-4b8f-aa77-f66ea2a1a20f"
      },
      "source": [
        "comment_vocab = set()\n",
        "code_vocab = set()\n",
        "for sample in cup:\n",
        "  comment_vocab |= set(sample['C1']) | set(sample['C2'])\n",
        "  code_vocab |= set(sample['M1']) | set(sample['M2'])\n",
        "print(len(comment_vocab), len(code_vocab))"
      ],
      "execution_count": null,
      "outputs": [
        {
          "output_type": "stream",
          "text": [
            "11353 14901\n"
          ],
          "name": "stdout"
        }
      ]
    },
    {
      "cell_type": "code",
      "metadata": {
        "id": "fSrg01tRpJxw",
        "colab": {
          "base_uri": "https://localhost:8080/"
        },
        "outputId": "2426e027-4640-472f-cbf9-9810de09a3f6"
      },
      "source": [
        "cup[0]"
      ],
      "execution_count": null,
      "outputs": [
        {
          "output_type": "execute_result",
          "data": {
            "text/plain": [
              "{'C1': ['▁get', '▁the', '▁p', 'im', '▁interface'],\n",
              " 'C2': ['▁return', '▁the', '▁onos', '▁interface'],\n",
              " 'M1': ['▁public',\n",
              "  '▁interface',\n",
              "  '▁get',\n",
              "  '▁interface',\n",
              "  '▁return',\n",
              "  '▁the',\n",
              "  '▁interface'],\n",
              " 'M2': ['▁public',\n",
              "  '▁interface',\n",
              "  '▁get',\n",
              "  '▁interface',\n",
              "  '▁return',\n",
              "  '▁this',\n",
              "  '▁onos',\n",
              "  '▁interface']}"
            ]
          },
          "metadata": {
            "tags": []
          },
          "execution_count": 6
        }
      ]
    },
    {
      "cell_type": "code",
      "metadata": {
        "id": "RnyX1E8SoTw0",
        "colab": {
          "base_uri": "https://localhost:8080/"
        },
        "outputId": "60cf07d6-4d9b-45d0-9a35-a9204917b24f"
      },
      "source": [
        "# \"▁\" is not equal to \"_\"\n",
        "\"▁public\" in code_vocab, \"▁\" == \"_\""
      ],
      "execution_count": null,
      "outputs": [
        {
          "output_type": "execute_result",
          "data": {
            "text/plain": [
              "(True, False)"
            ]
          },
          "metadata": {
            "tags": []
          },
          "execution_count": 7
        }
      ]
    },
    {
      "cell_type": "code",
      "metadata": {
        "id": "nqHmMNL2mnW4"
      },
      "source": [
        "# c - token in comment, m - token im method\n",
        "def id2c(id):\n",
        "  return list(comment_vocab)[id - 1]\n",
        "\n",
        "c2id = {c: id + 1 for id, c in enumerate(comment_vocab)}"
      ],
      "execution_count": null,
      "outputs": []
    },
    {
      "cell_type": "code",
      "metadata": {
        "id": "zQ_4XNijnHf9"
      },
      "source": [
        "def id2m(id):\n",
        "  return list(code_vocab)[id - 1]\n",
        "\n",
        "m2id = {m: id + 1 for id, m in enumerate(code_vocab)}"
      ],
      "execution_count": null,
      "outputs": []
    },
    {
      "cell_type": "code",
      "metadata": {
        "id": "GmBJ3E67nWNg"
      },
      "source": [
        "def tokens_to_ids(tokens, is_c):\n",
        "  if is_c:\n",
        "    return [c2id[c] for c in tokens]\n",
        "  else:\n",
        "    return [m2id[m] for m in tokens]\n",
        "def ids_to_tokens(ids, is_c):\n",
        "  if is_c:\n",
        "    return [id2c(id) for id in ids]\n",
        "  else:\n",
        "    return [id2m(id) for id in ids]"
      ],
      "execution_count": null,
      "outputs": []
    },
    {
      "cell_type": "code",
      "metadata": {
        "id": "vmsmslBaoLZG",
        "colab": {
          "base_uri": "https://localhost:8080/"
        },
        "outputId": "e3e1ad6a-baa1-4ef3-a9bd-f8ea79d957f5"
      },
      "source": [
        "ids_to_tokens(tokens_to_ids(['▁if', '▁else', '▁print'], True), True)"
      ],
      "execution_count": null,
      "outputs": [
        {
          "output_type": "execute_result",
          "data": {
            "text/plain": [
              "['▁if', '▁else', '▁print']"
            ]
          },
          "metadata": {
            "tags": []
          },
          "execution_count": 13
        }
      ]
    },
    {
      "cell_type": "code",
      "metadata": {
        "id": "spUm16b4pZ7i"
      },
      "source": [
        "import tensorflow as tf"
      ],
      "execution_count": null,
      "outputs": []
    },
    {
      "cell_type": "code",
      "metadata": {
        "id": "03g7tlpfWch0"
      },
      "source": [
        "def create_dataset(data):\n",
        "  cX, mX = [], []\n",
        "  Y = []\n",
        "  for sample in data:\n",
        "    C1 = tokens_to_ids(sample['C1'], is_c=True)\n",
        "    C2 = tokens_to_ids(sample['C2'], is_c=True)\n",
        "    M1 = tokens_to_ids(sample['M1'], is_c=False)\n",
        "    M2 = tokens_to_ids(sample['M2'], is_c=False)\n",
        "    # New code and old comment --> inconsistency \n",
        "    cX.append(C1)\n",
        "    mX.append(M2)\n",
        "    Y.append(1)\n",
        "    # New code and new comment --> consistency\n",
        "    cX.append(C2)\n",
        "    mX.append(M2)\n",
        "    Y.append(0)\n",
        "  return cX, mX, Y"
      ],
      "execution_count": null,
      "outputs": []
    },
    {
      "cell_type": "code",
      "metadata": {
        "id": "li98X-UNW-Qg"
      },
      "source": [
        "cX, mX, Y = create_dataset(cup)"
      ],
      "execution_count": null,
      "outputs": []
    },
    {
      "cell_type": "code",
      "metadata": {
        "id": "0Gn1y8-WX1pX"
      },
      "source": [
        "from sklearn.model_selection import train_test_split\n",
        "cX_train, cX_test, mX_train, mX_test, Y_train, Y_test = train_test_split(cX, mX, Y, test_size=0.2)"
      ],
      "execution_count": null,
      "outputs": []
    },
    {
      "cell_type": "code",
      "metadata": {
        "id": "-YLFYqRVZrF6",
        "colab": {
          "base_uri": "https://localhost:8080/"
        },
        "outputId": "95eb4f8e-b079-45a3-fe83-e967f27f4d7b"
      },
      "source": [
        "# PAD sequences to max len\n",
        "min(map(len, cX_train)), min(map(len, mX_train)) "
      ],
      "execution_count": null,
      "outputs": [
        {
          "output_type": "execute_result",
          "data": {
            "text/plain": [
              "(3, 5)"
            ]
          },
          "metadata": {
            "tags": []
          },
          "execution_count": 29
        }
      ]
    },
    {
      "cell_type": "code",
      "metadata": {
        "id": "TJ_YE8ucaqgd"
      },
      "source": [
        "cX_train = tf.keras.preprocessing.sequence.pad_sequences(cX_train, value=0, padding='post')\n",
        "mX_train = tf.keras.preprocessing.sequence.pad_sequences(mX_train, value=0, padding='post')"
      ],
      "execution_count": null,
      "outputs": []
    },
    {
      "cell_type": "code",
      "metadata": {
        "id": "KSplA7IWoRn4"
      },
      "source": [
        "cX_test = tf.keras.preprocessing.sequence.pad_sequences(cX_test, value=0, padding='post')\n",
        "mX_test = tf.keras.preprocessing.sequence.pad_sequences(mX_test, value=0, padding='post')"
      ],
      "execution_count": null,
      "outputs": []
    },
    {
      "cell_type": "code",
      "metadata": {
        "id": "jkHTkJjCsRMx",
        "colab": {
          "base_uri": "https://localhost:8080/"
        },
        "outputId": "b971a161-d3e6-4590-f661-7266e6810020"
      },
      "source": [
        "import numpy as np\n",
        "def sample_data(cX, mX, Y, k = 5):\n",
        "  for _ in range(k):\n",
        "    id = np.random.randint(0, len(Y))\n",
        "    C = cX[id]\n",
        "    M = mX[id]\n",
        "    C = list(filter(lambda x: x != 0, C))\n",
        "    C = list(map(lambda x: id2c(x), C))\n",
        "    M = list(filter(lambda x: x != 0, M))\n",
        "    M = list(map(lambda x: id2m(x), M))\n",
        "    print(f\"C: {' '.join(C)} \\n M: {' '.join(M)} \\n {'Inconsistent' if Y[id] else 'Consistent'}\")\n",
        "sample_data(cX_train, mX_train, Y_train)"
      ],
      "execution_count": null,
      "outputs": [
        {
          "output_type": "stream",
          "text": [
            "C: ▁note ▁that ▁code ▁null ▁is ▁a ▁default ▁local ▁instance ▁name \n",
            " M: ▁public ▁ignite ▁configuration ▁set ▁ignite ▁instance ▁name ▁string ▁node ▁name ▁this ▁ignite ▁instance ▁name ▁node ▁name ▁return ▁this \n",
            " Inconsistent\n",
            "C: ▁url ▁encodes ▁a ▁given ▁string \n",
            " M: ▁public ▁static ▁string ▁escape ▁string ▁source ▁return ▁encoder ▁escape ▁w ▁blanks ▁source \n",
            " Inconsistent\n",
            "C: ▁checks ▁whether ▁the ▁agent ▁is ▁currently ▁at ▁the ▁specified ▁location \n",
            " M: ▁protected ▁agent ▁get ▁agent ▁object ▁location ▁vacuum ▁environment ▁e ▁get ▁vacuum ▁env ▁for ▁agent ▁a ▁e ▁get ▁agents ▁if ▁location ▁equals ▁e ▁get ▁agent ▁location ▁a ▁return ▁a ▁return \n",
            " Inconsistent\n",
            "C: ▁sets ▁the ▁default ▁condition ▁evaluation ▁listener ▁that ▁all ▁await ▁statements ▁will ▁use \n",
            " M: ▁public ▁static ▁void ▁set ▁default ▁condition ▁evaluation ▁listener ▁condition ▁evaluation ▁listener ▁default ▁condition ▁evaluation ▁listener ▁await ility ▁default ▁condition ▁evaluation ▁listener ▁default ▁condition ▁evaluation ▁listener \n",
            " Consistent\n",
            "C: ▁this ▁queue ▁is ▁a ▁blocking ▁queue ▁intended ▁for ▁use ▁by ▁the ▁ingest ▁manager ▁s ▁file ▁ingest ▁threads \n",
            " M: ▁blocking ▁ingest ▁task ▁queue ▁get ▁file ▁ingest ▁task ▁queue ▁return ▁this ▁file ▁ingest ▁threads ▁queue \n",
            " Inconsistent\n"
          ],
          "name": "stdout"
        }
      ]
    },
    {
      "cell_type": "code",
      "metadata": {
        "id": "xj_3kU1ga_Mz",
        "colab": {
          "base_uri": "https://localhost:8080/"
        },
        "outputId": "d8cac01b-2595-4bc5-8f11-775c93b6c257"
      },
      "source": [
        "import numpy as np\n",
        "np.array(cX_train).shape"
      ],
      "execution_count": null,
      "outputs": [
        {
          "output_type": "execute_result",
          "data": {
            "text/plain": [
              "(60838, 52)"
            ]
          },
          "metadata": {
            "tags": []
          },
          "execution_count": 35
        }
      ]
    },
    {
      "cell_type": "markdown",
      "metadata": {
        "id": "Jm_6fg9HCCr1"
      },
      "source": [
        "# Average em. model"
      ]
    },
    {
      "cell_type": "code",
      "metadata": {
        "id": "f3uFGobHbGTk",
        "colab": {
          "base_uri": "https://localhost:8080/"
        },
        "outputId": "51270606-cf06-4a6c-885f-c4c796c5e080"
      },
      "source": [
        "from tensorflow.keras import layers\n",
        "m_vocab_size = len(code_vocab)\n",
        "c_vocab_size = len(comment_vocab) \n",
        "embedding_size = 128\n",
        "\n",
        "code_input = tf.keras.Input((None,), name='code')\n",
        "comment_input = tf.keras.Input((None, ), name='comment')\n",
        "\n",
        "code_features = layers.Embedding(input_dim=m_vocab_size + 1,\n",
        "                                output_dim=embedding_size, mask_zero=True)(code_input)\n",
        "\n",
        "comment_features = layers.Embedding(input_dim=c_vocab_size + 1,\n",
        "                                output_dim=embedding_size, mask_zero=True)(comment_input)\n",
        "\n",
        "dropout_rate = 0.2\n",
        "code_features_d = layers.Dropout(dropout_rate)(code_features)\n",
        "\n",
        "code_encoder = layers.GlobalAveragePooling1D()(code_features_d)\n",
        "\n",
        "comment_features_d = layers.Dropout(dropout_rate)(comment_features)\n",
        "\n",
        "comment_encoder = layers.GlobalAveragePooling1D()(comment_features_d)\n",
        "\n",
        "encoder = layers.Concatenate()([code_encoder, comment_encoder])\n",
        "\n",
        "encoder_d = layers.Dropout(dropout_rate)(encoder)\n",
        "output = layers.Dense(1, name='out', activation='sigmoid')(encoder_d)\n",
        "\n",
        "model = tf.keras.Model(inputs=[code_input, comment_input],\n",
        "                        outputs=[output])\n",
        "\n",
        "model.summary()"
      ],
      "execution_count": null,
      "outputs": [
        {
          "output_type": "stream",
          "text": [
            "Model: \"functional_3\"\n",
            "__________________________________________________________________________________________________\n",
            "Layer (type)                    Output Shape         Param #     Connected to                     \n",
            "==================================================================================================\n",
            "code (InputLayer)               [(None, None)]       0                                            \n",
            "__________________________________________________________________________________________________\n",
            "comment (InputLayer)            [(None, None)]       0                                            \n",
            "__________________________________________________________________________________________________\n",
            "embedding_2 (Embedding)         (None, None, 128)    1907456     code[0][0]                       \n",
            "__________________________________________________________________________________________________\n",
            "embedding_3 (Embedding)         (None, None, 128)    1453312     comment[0][0]                    \n",
            "__________________________________________________________________________________________________\n",
            "dropout_3 (Dropout)             (None, None, 128)    0           embedding_2[0][0]                \n",
            "__________________________________________________________________________________________________\n",
            "dropout_4 (Dropout)             (None, None, 128)    0           embedding_3[0][0]                \n",
            "__________________________________________________________________________________________________\n",
            "global_average_pooling1d_2 (Glo (None, 128)          0           dropout_3[0][0]                  \n",
            "__________________________________________________________________________________________________\n",
            "global_average_pooling1d_3 (Glo (None, 128)          0           dropout_4[0][0]                  \n",
            "__________________________________________________________________________________________________\n",
            "concatenate_1 (Concatenate)     (None, 256)          0           global_average_pooling1d_2[0][0] \n",
            "                                                                 global_average_pooling1d_3[0][0] \n",
            "__________________________________________________________________________________________________\n",
            "dropout_5 (Dropout)             (None, 256)          0           concatenate_1[0][0]              \n",
            "__________________________________________________________________________________________________\n",
            "out (Dense)                     (None, 1)            257         dropout_5[0][0]                  \n",
            "==================================================================================================\n",
            "Total params: 3,361,025\n",
            "Trainable params: 3,361,025\n",
            "Non-trainable params: 0\n",
            "__________________________________________________________________________________________________\n"
          ],
          "name": "stdout"
        }
      ]
    },
    {
      "cell_type": "code",
      "metadata": {
        "id": "6F8kaf2KcnHv"
      },
      "source": [
        "from tensorflow.keras import losses\n",
        "model.compile(loss=losses.BinaryCrossentropy(from_logits=True),\n",
        "              optimizer='adam',\n",
        "              metrics='accuracy')"
      ],
      "execution_count": null,
      "outputs": []
    },
    {
      "cell_type": "code",
      "metadata": {
        "id": "BZnXChpJc3UL",
        "colab": {
          "base_uri": "https://localhost:8080/"
        },
        "outputId": "40f863fa-b7a5-4cd4-9665-978e8fc2283e"
      },
      "source": [
        "epochs = 5\n",
        "history = model.fit(\n",
        "    x={'code': np.array(mX_train), 'comment': np.array(cX_train)}, \n",
        "    y={'out': np.array(Y_train)},\n",
        "    epochs=epochs,\n",
        "    batch_size=32,\n",
        "    validation_split=0.2\n",
        ")"
      ],
      "execution_count": null,
      "outputs": [
        {
          "output_type": "stream",
          "text": [
            "Epoch 1/5\n",
            "1521/1521 [==============================] - 49s 32ms/step - loss: 0.6954 - accuracy: 0.5027 - val_loss: 0.6907 - val_accuracy: 0.5081\n",
            "Epoch 2/5\n",
            "1521/1521 [==============================] - 48s 32ms/step - loss: 0.6850 - accuracy: 0.5238 - val_loss: 0.6906 - val_accuracy: 0.5222\n",
            "Epoch 3/5\n",
            "1521/1521 [==============================] - 48s 32ms/step - loss: 0.6733 - accuracy: 0.5640 - val_loss: 0.6934 - val_accuracy: 0.5219\n",
            "Epoch 4/5\n",
            "1521/1521 [==============================] - 49s 32ms/step - loss: 0.6631 - accuracy: 0.5972 - val_loss: 0.6977 - val_accuracy: 0.5218\n",
            "Epoch 5/5\n",
            "1521/1521 [==============================] - 48s 32ms/step - loss: 0.6546 - accuracy: 0.6241 - val_loss: 0.7002 - val_accuracy: 0.5232\n"
          ],
          "name": "stdout"
        }
      ]
    },
    {
      "cell_type": "code",
      "metadata": {
        "id": "7zKFyX5Oxz6M",
        "colab": {
          "base_uri": "https://localhost:8080/",
          "height": 295
        },
        "outputId": "725b7159-ebdb-4b97-d4a9-d8bc41d3d258"
      },
      "source": [
        "# Plot history: MAE\n",
        "import matplotlib.pyplot as plt\n",
        "\n",
        "plt.plot(history.history['loss'], label='loss (training data)')\n",
        "plt.plot(history.history['val_loss'], label='loss (validation data)')\n",
        "plt.title('Average pooling embeddings')\n",
        "plt.ylabel('loss value')\n",
        "plt.xlabel('No. epoch')\n",
        "plt.legend(loc=\"upper left\")\n",
        "plt.show()"
      ],
      "execution_count": null,
      "outputs": [
        {
          "output_type": "display_data",
          "data": {
            "image/png": "[encoded data removed]",
            "text/plain": [
              "<Figure size 432x288 with 1 Axes>"
            ]
          },
          "metadata": {
            "tags": [],
            "needs_background": "light"
          }
        }
      ]
    },
    {
      "cell_type": "code",
      "metadata": {
        "id": "JLIRcunNih-g",
        "colab": {
          "base_uri": "https://localhost:8080/"
        },
        "outputId": "e95a833e-481d-418f-872f-3d481a0c21ef"
      },
      "source": [
        "print(\"Evaluate on test data\")\n",
        "results = model.evaluate({'code': np.array(mX_test), 'comment': np.array(cX_test)}, {'out': np.array(Y_test)})\n",
        "print(\"test loss, test acc:\", results)"
      ],
      "execution_count": null,
      "outputs": [
        {
          "output_type": "stream",
          "text": [
            "Evaluate on test data\n",
            "476/476 [==============================] - 2s 3ms/step - loss: 0.6969 - accuracy: 0.5245\n",
            "test loss, test acc: [0.6969444155693054, 0.5245233178138733]\n"
          ],
          "name": "stdout"
        }
      ]
    },
    {
      "cell_type": "code",
      "metadata": {
        "id": "MHj-kIxR_ONc",
        "colab": {
          "base_uri": "https://localhost:8080/"
        },
        "outputId": "b6a8d0fd-de41-41cb-b132-f57c0b3fab96"
      },
      "source": [
        "index = 10\n",
        "model.predict(x={'code': np.array([mX_train[index]]), 'comment': np.array([cX_train[index]])}), Y[index]"
      ],
      "execution_count": null,
      "outputs": [
        {
          "output_type": "execute_result",
          "data": {
            "text/plain": [
              "(array([[0.99586016]], dtype=float32), 1)"
            ]
          },
          "metadata": {
            "tags": []
          },
          "execution_count": 48
        }
      ]
    },
    {
      "cell_type": "code",
      "metadata": {
        "id": "qG3EIAm3B8Xh"
      },
      "source": [
        ""
      ],
      "execution_count": null,
      "outputs": []
    },
    {
      "cell_type": "markdown",
      "metadata": {
        "id": "2N4dXZ3qCIke"
      },
      "source": [
        "# TF-IDF"
      ]
    },
    {
      "cell_type": "code",
      "metadata": {
        "id": "7JC8Wd1-cMjV"
      },
      "source": [
        "# Example of TF-IDF transformation\n",
        "from sklearn.feature_extraction.text import TfidfVectorizer, CountVectorizer\n",
        "from sklearn.pipeline import Pipeline\n",
        "\n",
        "def create_translator(is_code):\n",
        "  def tf_idf_tokenizer(ids):\n",
        "    tokens = []\n",
        "    for id in ids:\n",
        "      if is_code and id == PAD_m:\n",
        "        tokens.append('<PAD>')\n",
        "      elif not is_code and id == PAD_c:\n",
        "        tokens.append('<PAD>')\n",
        "      else:\n",
        "        if is_code:\n",
        "          tokens.append(id2m(id))\n",
        "        else:\n",
        "          tokens.append(id2c(id))\n",
        "    return tokens\n",
        "  return tf_idf_tokenizer\n",
        "\n",
        "corpus = [\n",
        "     cX_train[0],\n",
        "     cX_train[1],\n",
        "    ]\n",
        "\n",
        "vectorizer = TfidfVectorizer(max_features=5000, tokenizer=create_translator(False), lowercase=False, use_idf=True, sublinear_tf=True, norm='l2')\n",
        "tf_cX = vectorizer.fit_transform(cX)"
      ],
      "execution_count": null,
      "outputs": []
    },
    {
      "cell_type": "code",
      "metadata": {
        "id": "ig-MIm89cRnA"
      },
      "source": [
        "vectorizer = TfidfVectorizer(max_features=5000, tokenizer=create_translator(True), lowercase=False, use_idf=True, sublinear_tf=True, norm='l2')\n",
        "tf_mX = vectorizer.fit_transform(mX)"
      ],
      "execution_count": null,
      "outputs": []
    },
    {
      "cell_type": "code",
      "metadata": {
        "id": "DcbtNz2FcS--"
      },
      "source": [
        "tf_X = np.hstack((np.array(tf_cX.toarray()), np.array(tf_mX.toarray())))"
      ],
      "execution_count": null,
      "outputs": []
    },
    {
      "cell_type": "code",
      "metadata": {
        "id": "NjH41Z2hcVJs"
      },
      "source": [
        "tf_X.shape"
      ],
      "execution_count": null,
      "outputs": []
    },
    {
      "cell_type": "code",
      "metadata": {
        "id": "Fr6gFIpId8qK"
      },
      "source": [
        "tf_X_train, tf_X_test, tf_Y_train, tf_Y_test, tf_ids_train, tf_ids_test = train_test_split(\n",
        "    tf_X, \n",
        "    Y, \n",
        "    list(range(tf_X.shape[0])), test_size=.2, random_state=23)"
      ],
      "execution_count": null,
      "outputs": []
    },
    {
      "cell_type": "code",
      "metadata": {
        "id": "yIikH3z2d-K1"
      },
      "source": [
        "from sklearn.metrics import f1_score\n",
        "from sklearn.metrics import roc_auc_score\n",
        "from sklearn.svm import SVC\n",
        "\n",
        "clf = SVC(random_state=1, kernel='linear', C=1e4)\n",
        "clf.fit(tf_X_train, tf_Y_train)\n",
        "y_pred = clf.predict(tf_X_test)\n",
        "\n",
        "#print('Mean Accuracy on Test set: %.3f' %  (clf.score(tf_X_test, tf_Y_test)))\n",
        "print('Calculating F1-Score on Prediction: ', f1_score(tf_Y_test, y_pred,  average='binary'))\n",
        "print('Calculating F1-MacroAverage-Score on Prediction: ', f1_score(tf_Y_test, y_pred,  average='macro'))\n",
        "print('Calculating RocAUC on Prediction: ', roc_auc_score(tf_Y_test, y_pred,  average='macro'))\n",
        "#classify_samples(pipe_svc, param_grid, f1_score, scoring='f1',)"
      ],
      "execution_count": null,
      "outputs": []
    }
  ]
}