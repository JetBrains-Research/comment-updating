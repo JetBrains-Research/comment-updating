{
  "nbformat": 4,
  "nbformat_minor": 0,
  "metadata": {
    "colab": {
      "name": "TensorFlowAverageModelTexas.ipynb",
      "provenance": [],
      "collapsed_sections": [],
      "toc_visible": true
    },
    "kernelspec": {
      "name": "python3",
      "display_name": "Python 3"
    },
    "accelerator": "GPU"
  },
  "cells": [
    {
      "cell_type": "markdown",
      "metadata": {
        "id": "FFVhDMN3CTIj"
      },
      "source": [
        "# Data Loading"
      ]
    },
    {
      "cell_type": "code",
      "metadata": {
        "id": "81l6MlnkYyhC"
      },
      "source": [
        "import requests\n",
        "\n",
        "def download_file_from_google_drive(id, destination):\n",
        "    URL = \"https://docs.google.com/uc?export=download\"\n",
        "\n",
        "    session = requests.Session()\n",
        "\n",
        "    response = session.get(URL, params = { 'id' : id }, stream = True)\n",
        "    token = get_confirm_token(response)\n",
        "\n",
        "    if token:\n",
        "        params = { 'id' : id, 'confirm' : token }\n",
        "        response = session.get(URL, params = params, stream = True)\n",
        "\n",
        "    save_response_content(response, destination)    \n",
        "\n",
        "def get_confirm_token(response):\n",
        "    for key, value in response.cookies.items():\n",
        "        if key.startswith('download_warning'):\n",
        "            return value\n",
        "\n",
        "    return None\n",
        "\n",
        "def save_response_content(response, destination):\n",
        "    CHUNK_SIZE = 32768\n",
        "\n",
        "    with open(destination, \"wb\") as f:\n",
        "        for chunk in response.iter_content(CHUNK_SIZE):\n",
        "            if chunk: # filter out keep-alive new chunks\n",
        "                f.write(chunk)"
      ],
      "execution_count": null,
      "outputs": []
    },
    {
      "cell_type": "code",
      "metadata": {
        "id": "ayyXVwG-drXw"
      },
      "source": [
        "file_id = '1affGFPxQ1RmV73Vk7tDNaDSbUWP4YDHP'\n",
        "destination = 'texas.json'\n",
        "download_file_from_google_drive(file_id, destination)"
      ],
      "execution_count": null,
      "outputs": []
    },
    {
      "cell_type": "code",
      "metadata": {
        "id": "Ufk0dbzDd1NO"
      },
      "source": [
        "import json\n",
        "with open('texas.json', 'r') as fp:\n",
        "    texas = json.load(fp)"
      ],
      "execution_count": null,
      "outputs": []
    },
    {
      "cell_type": "code",
      "metadata": {
        "id": "4SgJwg2aeDfn",
        "colab": {
          "base_uri": "https://localhost:8080/"
        },
        "outputId": "a2b28587-ad1e-4f85-d282-93e6a3e5dca8"
      },
      "source": [
        "texas[0].keys()"
      ],
      "execution_count": null,
      "outputs": [
        {
          "output_type": "execute_result",
          "data": {
            "text/plain": [
              "dict_keys(['C1', 'C2', 'M1', 'M2'])"
            ]
          },
          "metadata": {
            "tags": []
          },
          "execution_count": 5
        }
      ]
    },
    {
      "cell_type": "code",
      "metadata": {
        "id": "Ahy6v3dtmP1M",
        "colab": {
          "base_uri": "https://localhost:8080/"
        },
        "outputId": "5e7531c3-cc86-4774-bc49-fe218443e591"
      },
      "source": [
        "comment_vocab = set()\n",
        "code_vocab = set()\n",
        "for sample in texas:\n",
        "  comment_vocab |= set(sample['C1']) | set(sample['C2'])\n",
        "  code_vocab |= set(sample['M1']) | set(sample['M2'])\n",
        "print(len(comment_vocab), len(code_vocab))"
      ],
      "execution_count": null,
      "outputs": [
        {
          "output_type": "stream",
          "text": [
            "3780 5632\n"
          ],
          "name": "stdout"
        }
      ]
    },
    {
      "cell_type": "code",
      "metadata": {
        "id": "fSrg01tRpJxw",
        "colab": {
          "base_uri": "https://localhost:8080/"
        },
        "outputId": "db95f5cd-ad1e-4a3d-ad9f-bd5d75e02054"
      },
      "source": [
        "texas[0]"
      ],
      "execution_count": null,
      "outputs": [
        {
          "output_type": "execute_result",
          "data": {
            "text/plain": [
              "{'C1': ['crash',\n",
              "  'report',\n",
              "  'data',\n",
              "  'read',\n",
              "  'from',\n",
              "  'the',\n",
              "  'supplied',\n",
              "  'input',\n",
              "  'stream'],\n",
              " 'C2': ['crash', 'report', 'data', 'read', 'from', 'the', 'supplied', 'file'],\n",
              " 'M1': ['non',\n",
              "  'public',\n",
              "  'crash',\n",
              "  'report',\n",
              "  'data',\n",
              "  'load',\n",
              "  'non',\n",
              "  'file',\n",
              "  'file',\n",
              "  'throws',\n",
              "  'ioexception',\n",
              "  'final',\n",
              "  'input',\n",
              "  'stream',\n",
              "  'in',\n",
              "  'new',\n",
              "  'buffered',\n",
              "  'input',\n",
              "  'stream',\n",
              "  'new',\n",
              "  'file',\n",
              "  'input',\n",
              "  'stream',\n",
              "  'file',\n",
              "  'acraconstants',\n",
              "  'default',\n",
              "  'buffer',\n",
              "  'size',\n",
              "  'in',\n",
              "  'bytes',\n",
              "  'try',\n",
              "  'return',\n",
              "  'load',\n",
              "  'new',\n",
              "  'input',\n",
              "  'stream',\n",
              "  'reader',\n",
              "  'in',\n",
              "  'str',\n",
              "  'finally',\n",
              "  'ioutils',\n",
              "  'safe',\n",
              "  'close',\n",
              "  'in'],\n",
              " 'M2': ['non',\n",
              "  'public',\n",
              "  'crash',\n",
              "  'report',\n",
              "  'data',\n",
              "  'load',\n",
              "  'non',\n",
              "  'file',\n",
              "  'file',\n",
              "  'throws',\n",
              "  'ioexception',\n",
              "  'jsonexception',\n",
              "  'final',\n",
              "  'input',\n",
              "  'stream',\n",
              "  'in',\n",
              "  'new',\n",
              "  'buffered',\n",
              "  'input',\n",
              "  'stream',\n",
              "  'new',\n",
              "  'file',\n",
              "  'input',\n",
              "  'stream',\n",
              "  'file',\n",
              "  'acraconstants',\n",
              "  'default',\n",
              "  'buffer',\n",
              "  'size',\n",
              "  'in',\n",
              "  'bytes',\n",
              "  'try',\n",
              "  'return',\n",
              "  'json',\n",
              "  'utils',\n",
              "  'to',\n",
              "  'crash',\n",
              "  'report',\n",
              "  'data',\n",
              "  'new',\n",
              "  'jsonobject',\n",
              "  'ioutils',\n",
              "  'stream',\n",
              "  'to',\n",
              "  'string',\n",
              "  'in',\n",
              "  'finally',\n",
              "  'ioutils',\n",
              "  'safe',\n",
              "  'close',\n",
              "  'in']}"
            ]
          },
          "metadata": {
            "tags": []
          },
          "execution_count": 7
        }
      ]
    },
    {
      "cell_type": "code",
      "metadata": {
        "id": "RnyX1E8SoTw0",
        "colab": {
          "base_uri": "https://localhost:8080/"
        },
        "outputId": "987f7194-8e4a-48df-ee9a-41bb657a8146"
      },
      "source": [
        "\"public\" in code_vocab"
      ],
      "execution_count": null,
      "outputs": [
        {
          "output_type": "execute_result",
          "data": {
            "text/plain": [
              "True"
            ]
          },
          "metadata": {
            "tags": []
          },
          "execution_count": 8
        }
      ]
    },
    {
      "cell_type": "code",
      "metadata": {
        "id": "nqHmMNL2mnW4"
      },
      "source": [
        "# c - token in comment, m - token im method\n",
        "def id2c(id):\n",
        "  return list(comment_vocab)[id]\n",
        "\n",
        "c2id = {c: id for id, c in enumerate(comment_vocab)}"
      ],
      "execution_count": null,
      "outputs": []
    },
    {
      "cell_type": "code",
      "metadata": {
        "id": "zQ_4XNijnHf9"
      },
      "source": [
        "def id2m(id):\n",
        "  return list(code_vocab)[id]\n",
        "\n",
        "m2id = {m: id for id, m in enumerate(code_vocab)}"
      ],
      "execution_count": null,
      "outputs": []
    },
    {
      "cell_type": "code",
      "metadata": {
        "id": "GmBJ3E67nWNg"
      },
      "source": [
        "def tokens_to_ids(tokens, is_c):\n",
        "  if is_c:\n",
        "    return [c2id[c] for c in tokens]\n",
        "  else:\n",
        "    return [m2id[m] for m in tokens]\n",
        "def ids_to_tokens(ids, is_c):\n",
        "  if is_c:\n",
        "    return [id2c(id) for id in ids]\n",
        "  else:\n",
        "    return [id2m(id) for id in ids]"
      ],
      "execution_count": null,
      "outputs": []
    },
    {
      "cell_type": "code",
      "metadata": {
        "id": "vmsmslBaoLZG",
        "colab": {
          "base_uri": "https://localhost:8080/"
        },
        "outputId": "1328c3c8-9fc3-4266-c2d9-c7072a1079d8"
      },
      "source": [
        "ids_to_tokens(tokens_to_ids(['if', 'else', 'print'], False), False)"
      ],
      "execution_count": null,
      "outputs": [
        {
          "output_type": "execute_result",
          "data": {
            "text/plain": [
              "['if', 'else', 'print']"
            ]
          },
          "metadata": {
            "tags": []
          },
          "execution_count": 12
        }
      ]
    },
    {
      "cell_type": "code",
      "metadata": {
        "id": "spUm16b4pZ7i"
      },
      "source": [
        "import tensorflow as tf"
      ],
      "execution_count": null,
      "outputs": []
    },
    {
      "cell_type": "code",
      "metadata": {
        "id": "03g7tlpfWch0"
      },
      "source": [
        "def create_dataset(data):\n",
        "  cX, mX = [], []\n",
        "  Y = []\n",
        "  for sample in data:\n",
        "    C1 = tokens_to_ids(sample['C1'], is_c=True)\n",
        "    C2 = tokens_to_ids(sample['C2'], is_c=True)\n",
        "    M1 = tokens_to_ids(sample['M1'], is_c=False)\n",
        "    M2 = tokens_to_ids(sample['M2'], is_c=False)\n",
        "    # New code and old comment --> inconsistency \n",
        "    cX.append(C1)\n",
        "    mX.append(M2)\n",
        "    Y.append(1)\n",
        "    # New code and new comment --> consistency\n",
        "    cX.append(C2)\n",
        "    mX.append(M2)\n",
        "    Y.append(0)\n",
        "  return cX, mX, Y"
      ],
      "execution_count": null,
      "outputs": []
    },
    {
      "cell_type": "code",
      "metadata": {
        "id": "li98X-UNW-Qg"
      },
      "source": [
        "cX, mX, Y = create_dataset(texas)"
      ],
      "execution_count": null,
      "outputs": []
    },
    {
      "cell_type": "code",
      "metadata": {
        "id": "0Gn1y8-WX1pX"
      },
      "source": [
        "from sklearn.model_selection import train_test_split\n",
        "cX_train, cX_test, mX_train, mX_test, Y_train, Y_test = train_test_split(cX, mX, Y, test_size=0.2)"
      ],
      "execution_count": null,
      "outputs": []
    },
    {
      "cell_type": "code",
      "metadata": {
        "id": "-YLFYqRVZrF6",
        "colab": {
          "base_uri": "https://localhost:8080/"
        },
        "outputId": "86755b45-2061-45d2-eb42-8532f5427b96"
      },
      "source": [
        "# PAD sequences to max len\n",
        "PAD_m = len(code_vocab)\n",
        "PAD_c = len(comment_vocab)\n",
        "max(map(len, cX_train)), max(map(len, mX_train)) "
      ],
      "execution_count": null,
      "outputs": [
        {
          "output_type": "execute_result",
          "data": {
            "text/plain": [
              "(109, 972)"
            ]
          },
          "metadata": {
            "tags": []
          },
          "execution_count": 18
        }
      ]
    },
    {
      "cell_type": "code",
      "metadata": {
        "id": "TJ_YE8ucaqgd"
      },
      "source": [
        "cX_train = tf.keras.preprocessing.sequence.pad_sequences(cX_train, value=PAD_c, padding='post')\n",
        "mX_train = tf.keras.preprocessing.sequence.pad_sequences(mX_train, value=PAD_m, padding='post')"
      ],
      "execution_count": null,
      "outputs": []
    },
    {
      "cell_type": "code",
      "metadata": {
        "id": "KSplA7IWoRn4"
      },
      "source": [
        "cX_test = tf.keras.preprocessing.sequence.pad_sequences(cX_test, value=PAD_c, padding='post')\n",
        "mX_test = tf.keras.preprocessing.sequence.pad_sequences(mX_test, value=PAD_m, padding='post')"
      ],
      "execution_count": null,
      "outputs": []
    },
    {
      "cell_type": "code",
      "metadata": {
        "id": "xj_3kU1ga_Mz",
        "colab": {
          "base_uri": "https://localhost:8080/"
        },
        "outputId": "6447972f-2a72-45b2-d03e-32532f98112b"
      },
      "source": [
        "import numpy as np\n",
        "np.array(cX_train).shape"
      ],
      "execution_count": null,
      "outputs": [
        {
          "output_type": "execute_result",
          "data": {
            "text/plain": [
              "(5230, 109)"
            ]
          },
          "metadata": {
            "tags": []
          },
          "execution_count": 22
        }
      ]
    },
    {
      "cell_type": "code",
      "metadata": {
        "id": "bx-pAOwBu-Jy",
        "colab": {
          "base_uri": "https://localhost:8080/"
        },
        "outputId": "4db58b56-07f4-43ce-9417-6ad1f6e00096"
      },
      "source": [
        "def sample_data(cX, mX, Y, k = 5):\n",
        "  for _ in range(k):\n",
        "    id = np.random.randint(0, len(Y))\n",
        "    C = cX[id]\n",
        "    M = mX[id]\n",
        "    C = list(filter(lambda x: x != PAD_c, C))\n",
        "    C = list(map(lambda x: id2c(x), C))\n",
        "    M = list(filter(lambda x: x != PAD_m, M))\n",
        "    M = list(map(lambda x: id2m(x), M))\n",
        "    print(f\"C: {' '.join(C)} \\n M: {' '.join(M)} \\n {'Inconsistent' if Y[id] else 'Consistent'}\")\n",
        "sample_data(cX_train, mX_train, Y_train)"
      ],
      "execution_count": null,
      "outputs": [
        {
          "output_type": "stream",
          "text": [
            "C: a method delegation implementation to the given instance methods \n",
            " M: public method delegation to object target type type return to target type method graph compiler default \n",
            " Inconsistent\n",
            "C: formatted value formats time in ms and appends difference finish time start time as returned by format time diff if finish time is empty string is returned if start time is then difference is not appended to return value \n",
            " M: deprecated public static string get formatted time with diff date format date format long finish time long start time string formatted finish time date format format finish time return get formatted time with diff formatted finish time finish time start time \n",
            " Consistent\n",
            "C: the resulting char sequence \n",
            " M: public static string replace first char sequence self pattern pattern char sequence replacement return pattern matcher self replace first replacement to string \n",
            " Inconsistent\n",
            "C: the signature of the lambda \n",
            " M: public static try method type get lambda signature serializable lambda return get serialized lambda lambda map serialized lambda final string signature serialized lambda get impl method signature return method type from method descriptor string signature lambda get class get class loader \n",
            " Inconsistent\n",
            "C: an instance of iitem property descriptor \n",
            " M: public sorted item property descriptor get item property descriptor int row if this identifiable object obj this rows get row if obj instanceof sorted item property descriptor return sorted item property descriptor obj return \n",
            " Inconsistent\n"
          ],
          "name": "stdout"
        }
      ]
    },
    {
      "cell_type": "markdown",
      "metadata": {
        "id": "kcVcggd-CPgG"
      },
      "source": [
        "# Average em. "
      ]
    },
    {
      "cell_type": "code",
      "metadata": {
        "id": "f3uFGobHbGTk",
        "colab": {
          "base_uri": "https://localhost:8080/"
        },
        "outputId": "17831b29-7cc5-4a6e-a2d5-e4601b2283c7"
      },
      "source": [
        "from tensorflow.keras import layers\n",
        "m_vocab_size = len(code_vocab)\n",
        "c_vocab_size = len(comment_vocab) \n",
        "embedding_size = 128\n",
        "\n",
        "code_input = tf.keras.Input((None,), name='code')\n",
        "comment_input = tf.keras.Input((None, ), name='comment')\n",
        "\n",
        "code_features = layers.Embedding(input_dim=m_vocab_size + 1,\n",
        "                                output_dim=embedding_size)(code_input)\n",
        "\n",
        "comment_features = layers.Embedding(input_dim=c_vocab_size + 1,\n",
        "                                output_dim=embedding_size)(comment_input)\n",
        "\n",
        "dropout_rate = 0.2\n",
        "code_features_d = layers.Dropout(dropout_rate)(code_features)\n",
        "\n",
        "code_encoder = layers.GlobalAveragePooling1D()(code_features_d)\n",
        "\n",
        "comment_features_d = layers.Dropout(dropout_rate)(comment_features)\n",
        "\n",
        "comment_encoder = layers.GlobalAveragePooling1D()(comment_features_d)\n",
        "\n",
        "encoder = layers.Concatenate()([code_encoder, comment_encoder])\n",
        "\n",
        "#encoder_d = layers.Dropout(dropout_rate)(encoder)\n",
        "output = layers.Dense(1, name='out', activation='sigmoid')(encoder)\n",
        "\n",
        "model = tf.keras.Model(inputs=[code_input, comment_input],\n",
        "                        outputs=[output])\n",
        "\n",
        "model.summary()"
      ],
      "execution_count": null,
      "outputs": [
        {
          "output_type": "stream",
          "text": [
            "Model: \"functional_1\"\n",
            "__________________________________________________________________________________________________\n",
            "Layer (type)                    Output Shape         Param #     Connected to                     \n",
            "==================================================================================================\n",
            "code (InputLayer)               [(None, None)]       0                                            \n",
            "__________________________________________________________________________________________________\n",
            "comment (InputLayer)            [(None, None)]       0                                            \n",
            "__________________________________________________________________________________________________\n",
            "embedding (Embedding)           (None, None, 128)    721024      code[0][0]                       \n",
            "__________________________________________________________________________________________________\n",
            "embedding_1 (Embedding)         (None, None, 128)    483968      comment[0][0]                    \n",
            "__________________________________________________________________________________________________\n",
            "dropout (Dropout)               (None, None, 128)    0           embedding[0][0]                  \n",
            "__________________________________________________________________________________________________\n",
            "dropout_1 (Dropout)             (None, None, 128)    0           embedding_1[0][0]                \n",
            "__________________________________________________________________________________________________\n",
            "global_average_pooling1d (Globa (None, 128)          0           dropout[0][0]                    \n",
            "__________________________________________________________________________________________________\n",
            "global_average_pooling1d_1 (Glo (None, 128)          0           dropout_1[0][0]                  \n",
            "__________________________________________________________________________________________________\n",
            "concatenate (Concatenate)       (None, 256)          0           global_average_pooling1d[0][0]   \n",
            "                                                                 global_average_pooling1d_1[0][0] \n",
            "__________________________________________________________________________________________________\n",
            "dropout_2 (Dropout)             (None, 256)          0           concatenate[0][0]                \n",
            "__________________________________________________________________________________________________\n",
            "out (Dense)                     (None, 1)            257         dropout_2[0][0]                  \n",
            "==================================================================================================\n",
            "Total params: 1,205,249\n",
            "Trainable params: 1,205,249\n",
            "Non-trainable params: 0\n",
            "__________________________________________________________________________________________________\n"
          ],
          "name": "stdout"
        }
      ]
    },
    {
      "cell_type": "code",
      "metadata": {
        "id": "6F8kaf2KcnHv"
      },
      "source": [
        "from tensorflow.keras import losses\n",
        "model.compile(loss=losses.BinaryCrossentropy(from_logits=True),\n",
        "              optimizer=tf.keras.optimizers.Adam(learning_rate=1e-4),\n",
        "              metrics='accuracy')"
      ],
      "execution_count": null,
      "outputs": []
    },
    {
      "cell_type": "code",
      "metadata": {
        "id": "BZnXChpJc3UL",
        "colab": {
          "base_uri": "https://localhost:8080/"
        },
        "outputId": "174b3b9b-0e37-4ab8-e4da-42512363204d"
      },
      "source": [
        "epochs = 10\n",
        "history = model.fit(\n",
        "    x={'code': np.array(mX_train), 'comment': np.array(cX_train)}, \n",
        "    y={'out': np.array(Y_train)},\n",
        "    epochs=epochs,\n",
        "    validation_split=0.2\n",
        ")"
      ],
      "execution_count": null,
      "outputs": [
        {
          "output_type": "stream",
          "text": [
            "Epoch 1/10\n",
            "131/131 [==============================] - 3s 21ms/step - loss: 0.6931 - accuracy: 0.5022 - val_loss: 0.6931 - val_accuracy: 0.4924\n",
            "Epoch 2/10\n",
            "131/131 [==============================] - 3s 21ms/step - loss: 0.6931 - accuracy: 0.5022 - val_loss: 0.6931 - val_accuracy: 0.4924\n",
            "Epoch 3/10\n",
            "131/131 [==============================] - 3s 21ms/step - loss: 0.6931 - accuracy: 0.5022 - val_loss: 0.6931 - val_accuracy: 0.4924\n",
            "Epoch 4/10\n",
            "131/131 [==============================] - 3s 21ms/step - loss: 0.6931 - accuracy: 0.5022 - val_loss: 0.6931 - val_accuracy: 0.4924\n",
            "Epoch 5/10\n",
            "131/131 [==============================] - 3s 21ms/step - loss: 0.6931 - accuracy: 0.5022 - val_loss: 0.6931 - val_accuracy: 0.4924\n",
            "Epoch 6/10\n",
            "131/131 [==============================] - 3s 21ms/step - loss: 0.6931 - accuracy: 0.5022 - val_loss: 0.6931 - val_accuracy: 0.4924\n",
            "Epoch 7/10\n",
            "131/131 [==============================] - 3s 21ms/step - loss: 0.6931 - accuracy: 0.5022 - val_loss: 0.6931 - val_accuracy: 0.4924\n",
            "Epoch 8/10\n",
            "131/131 [==============================] - 3s 21ms/step - loss: 0.6931 - accuracy: 0.5022 - val_loss: 0.6931 - val_accuracy: 0.4924\n",
            "Epoch 9/10\n",
            "131/131 [==============================] - 3s 21ms/step - loss: 0.6931 - accuracy: 0.5022 - val_loss: 0.6931 - val_accuracy: 0.4924\n",
            "Epoch 10/10\n",
            "131/131 [==============================] - 3s 21ms/step - loss: 0.6931 - accuracy: 0.5022 - val_loss: 0.6931 - val_accuracy: 0.4924\n"
          ],
          "name": "stdout"
        }
      ]
    },
    {
      "cell_type": "code",
      "metadata": {
        "id": "x4BPP6rHwVvP",
        "colab": {
          "base_uri": "https://localhost:8080/",
          "height": 295
        },
        "outputId": "98fdcf17-5fda-46ff-e800-90e42a58c8b7"
      },
      "source": [
        "# Plot history: MAE\n",
        "import matplotlib.pyplot as plt\n",
        "\n",
        "plt.plot(history.history['loss'], label='loss (training data)')\n",
        "plt.plot(history.history['val_loss'], label='loss (validation data)')\n",
        "plt.title('Average pooling embeddings')\n",
        "plt.ylabel('loss value')\n",
        "plt.xlabel('No. epoch')\n",
        "plt.legend(loc=\"upper left\")\n",
        "plt.show()"
      ],
      "execution_count": null,
      "outputs": [
        {
          "output_type": "display_data",
          "data": {
            "image/png": "[encoded data removed]",
            "text/plain": [
              "<Figure size 432x288 with 1 Axes>"
            ]
          },
          "metadata": {
            "tags": [],
            "needs_background": "light"
          }
        }
      ]
    },
    {
      "cell_type": "code",
      "metadata": {
        "id": "JLIRcunNih-g",
        "colab": {
          "base_uri": "https://localhost:8080/"
        },
        "outputId": "e4509615-83f0-4aeb-d754-130f6d21ac56"
      },
      "source": [
        "print(\"Evaluate on test data\")\n",
        "results = model.evaluate({'code': np.array(mX_test), 'comment': np.array(cX_test)}, {'out': np.array(Y_test)})\n",
        "print(\"test loss, test acc:\", results)"
      ],
      "execution_count": null,
      "outputs": [
        {
          "output_type": "stream",
          "text": [
            "Evaluate on test data\n",
            "41/41 [==============================] - 0s 5ms/step - loss: 0.6931 - accuracy: 0.4992\n",
            "test loss, test acc: [0.6931475400924683, 0.49923548102378845]\n"
          ],
          "name": "stdout"
        }
      ]
    },
    {
      "cell_type": "code",
      "metadata": {
        "id": "rcGJimB0vuoj",
        "colab": {
          "base_uri": "https://localhost:8080/"
        },
        "outputId": "6bafbf68-6273-4f99-8715-744b50d7b807"
      },
      "source": [
        "int(len(cX_test))"
      ],
      "execution_count": null,
      "outputs": [
        {
          "output_type": "execute_result",
          "data": {
            "text/plain": [
              "1308"
            ]
          },
          "metadata": {
            "tags": []
          },
          "execution_count": 39
        }
      ]
    },
    {
      "cell_type": "markdown",
      "metadata": {
        "id": "TvKlag0UCLqB"
      },
      "source": [
        "# TF-IDF"
      ]
    },
    {
      "cell_type": "code",
      "metadata": {
        "id": "B7hN6qqOCRzg",
        "colab": {
          "base_uri": "https://localhost:8080/"
        },
        "outputId": "bf4901e8-c5ac-442a-a9f9-51ebfa5bb1e7"
      },
      "source": [
        "# Example of TF-IDF transformation\n",
        "from sklearn.feature_extraction.text import TfidfVectorizer, CountVectorizer\n",
        "from sklearn.pipeline import Pipeline\n",
        "\n",
        "corpus = [\n",
        "     ['this', 'is', 'the', 'first', 'document', 'document'],\n",
        "     ['this', 'is', 'the', 'second', 'document'],\n",
        "     ['this', 'is', 'the', 'third', 'document', 'document']\n",
        "    ]\n",
        "vectorizer = TfidfVectorizer(tokenizer=lambda x:x, lowercase=False, use_idf=True, sublinear_tf=True, norm='l2')\n",
        "X = vectorizer.fit_transform(corpus)\n",
        "print(vectorizer.get_feature_names())\n",
        "print(X)"
      ],
      "execution_count": null,
      "outputs": [
        {
          "output_type": "stream",
          "text": [
            "['document', 'first', 'is', 'second', 'the', 'third', 'this']\n",
            "  (0, 0)\t0.5729288343964706\n",
            "  (0, 1)\t0.5729288343964706\n",
            "  (0, 4)\t0.3383809989908826\n",
            "  (0, 2)\t0.3383809989908826\n",
            "  (0, 6)\t0.3383809989908826\n",
            "  (1, 3)\t0.6461289150464732\n",
            "  (1, 0)\t0.3816141458138271\n",
            "  (1, 4)\t0.3816141458138271\n",
            "  (1, 2)\t0.3816141458138271\n",
            "  (1, 6)\t0.3816141458138271\n",
            "  (2, 5)\t0.5729288343964706\n",
            "  (2, 0)\t0.5729288343964706\n",
            "  (2, 4)\t0.3383809989908826\n",
            "  (2, 2)\t0.3383809989908826\n",
            "  (2, 6)\t0.3383809989908826\n"
          ],
          "name": "stdout"
        }
      ]
    },
    {
      "cell_type": "code",
      "metadata": {
        "id": "5Czb_1H_Csei"
      },
      "source": [
        "# Example of TF-IDF transformation\n",
        "from sklearn.feature_extraction.text import TfidfVectorizer, CountVectorizer\n",
        "from sklearn.pipeline import Pipeline\n",
        "\n",
        "def create_translator(is_code):\n",
        "  def tf_idf_tokenizer(ids):\n",
        "    tokens = []\n",
        "    for id in ids:\n",
        "      if is_code and id == PAD_m:\n",
        "        tokens.append('<PAD>')\n",
        "      elif not is_code and id == PAD_c:\n",
        "        tokens.append('<PAD>')\n",
        "      else:\n",
        "        if is_code:\n",
        "          tokens.append(id2m(id))\n",
        "        else:\n",
        "          tokens.append(id2c(id))\n",
        "    return tokens\n",
        "  return tf_idf_tokenizer\n",
        "\n",
        "corpus = [\n",
        "     cX_train[0],\n",
        "     cX_train[1],\n",
        "    ]\n",
        "\n",
        "vectorizer = TfidfVectorizer(max_features=1500, tokenizer=create_translator(False), lowercase=False, use_idf=True, sublinear_tf=True, norm='l2')\n",
        "tf_cX = vectorizer.fit_transform(cX)"
      ],
      "execution_count": null,
      "outputs": []
    },
    {
      "cell_type": "code",
      "metadata": {
        "id": "so4hh5afEkNl"
      },
      "source": [
        "vectorizer = TfidfVectorizer(max_features=3000, tokenizer=create_translator(True), lowercase=False, use_idf=True, sublinear_tf=True, norm='l2')\n",
        "tf_mX = vectorizer.fit_transform(mX)"
      ],
      "execution_count": null,
      "outputs": []
    },
    {
      "cell_type": "code",
      "metadata": {
        "id": "lOceJiyBExwv"
      },
      "source": [
        "tf_X = np.hstack((np.array(tf_cX.toarray()), np.array(tf_mX.toarray())))"
      ],
      "execution_count": null,
      "outputs": []
    },
    {
      "cell_type": "code",
      "metadata": {
        "id": "fiHVJZtsFixW",
        "colab": {
          "base_uri": "https://localhost:8080/"
        },
        "outputId": "68f1c974-6401-44c4-fac2-da54cbe574df"
      },
      "source": [
        "tf_X.shape"
      ],
      "execution_count": null,
      "outputs": [
        {
          "output_type": "execute_result",
          "data": {
            "text/plain": [
              "(6538, 4500)"
            ]
          },
          "metadata": {
            "tags": []
          },
          "execution_count": 83
        }
      ]
    },
    {
      "cell_type": "code",
      "metadata": {
        "id": "IER1euKzGHik"
      },
      "source": [
        "tf_X_train, tf_X_test, tf_Y_train, tf_Y_test, tf_ids_train, tf_ids_test = train_test_split(\n",
        "    tf_X, \n",
        "    Y, \n",
        "    list(range(tf_X.shape[0])), test_size=.2, random_state=23)"
      ],
      "execution_count": null,
      "outputs": []
    },
    {
      "cell_type": "code",
      "metadata": {
        "id": "Zq6CRRzUFyy4"
      },
      "source": [
        "from sklearn.metrics import f1_score\n",
        "from sklearn.metrics import roc_auc_score\n",
        "from sklearn.svm import SVC\n",
        "\n",
        "clf = SVC(random_state=1, kernel='linear', C=1e8)\n",
        "clf.fit(tf_X_train, tf_Y_train)\n",
        "y_pred = clf.predict(tf_X_test)\n",
        "\n",
        "#print('Mean Accuracy on Test set: %.3f' %  (clf.score(tf_X_test, tf_Y_test)))\n",
        "print('Calculating F1-Score on Prediction: ', f1_score(tf_Y_test, y_pred,  average='binary'))\n",
        "print('Calculating F1-MacroAverage-Score on Prediction: ', f1_score(tf_Y_test, y_pred,  average='macro'))\n",
        "print('Calculating RocAUC on Prediction: ', roc_auc_score(tf_Y_test, y_pred,  average='macro'))\n",
        "#classify_samples(pipe_svc, param_grid, f1_score, scoring='f1',)"
      ],
      "execution_count": null,
      "outputs": []
    },
    {
      "cell_type": "code",
      "metadata": {
        "id": "mTtt78U7Xhbo",
        "colab": {
          "base_uri": "https://localhost:8080/"
        },
        "outputId": "ffcd2ff0-51f2-4f71-a451-24ec0573a6d2"
      },
      "source": [
        "clf.dual_coef_"
      ],
      "execution_count": null,
      "outputs": [
        {
          "output_type": "execute_result",
          "data": {
            "text/plain": [
              "array([[-2.05885888, -1.26802272, -2.54055169, ...,  5.94274887,\n",
              "         3.0323873 ,  2.51175123]])"
            ]
          },
          "metadata": {
            "tags": []
          },
          "execution_count": 97
        }
      ]
    },
    {
      "cell_type": "code",
      "metadata": {
        "id": "9Fj2KF7TT5aP"
      },
      "source": [
        "print('Mean Accuracy on Test set: %.3f' %  (clf.score(tf_X_train, tf_Y_train)))\n"
      ],
      "execution_count": null,
      "outputs": []
    }
  ]
}