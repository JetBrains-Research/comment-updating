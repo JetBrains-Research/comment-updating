{
  "nbformat": 4,
  "nbformat_minor": 0,
  "metadata": {
    "colab": {
      "name": "DataAnalyzeCU.ipynb",
      "provenance": [],
      "collapsed_sections": [
        "c_8zgvPSJ0f1",
        "kXNuP-obVlSw",
        "xIaxk8TCkHgL"
      ],
      "toc_visible": true
    },
    "kernelspec": {
      "name": "python3",
      "display_name": "Python 3"
    }
  },
  "cells": [
    {
      "cell_type": "markdown",
      "metadata": {
        "id": "NTi2m_9hJRyt"
      },
      "source": [
        "Есть 3 датасета\n",
        "1. Размеченный руками, маленький, из трёх разных проектов. 2800 примеров (код - комментарий - is coherence).\n",
        "2. Большой из статьи про генерацию комментариев.\n",
        "3. Средний из статьи про генерацию комментариев из техаса, только комментарии про return. "
      ]
    },
    {
      "cell_type": "markdown",
      "metadata": {
        "id": "c_8zgvPSJ0f1"
      },
      "source": [
        "# Загрузка данных (на диск)"
      ]
    },
    {
      "cell_type": "code",
      "metadata": {
        "id": "B8x_wa1tIlx1"
      },
      "source": [
        "import requests\n",
        "\n",
        "def download_file_from_google_drive(id, destination):\n",
        "    URL = \"https://docs.google.com/uc?export=download\"\n",
        "\n",
        "    session = requests.Session()\n",
        "\n",
        "    response = session.get(URL, params = { 'id' : id }, stream = True)\n",
        "    token = get_confirm_token(response)\n",
        "\n",
        "    if token:\n",
        "        params = { 'id' : id, 'confirm' : token }\n",
        "        response = session.get(URL, params = params, stream = True)\n",
        "\n",
        "    save_response_content(response, destination)    \n",
        "\n",
        "def get_confirm_token(response):\n",
        "    for key, value in response.cookies.items():\n",
        "        if key.startswith('download_warning'):\n",
        "            return value\n",
        "\n",
        "    return None\n",
        "\n",
        "def save_response_content(response, destination):\n",
        "    CHUNK_SIZE = 32768\n",
        "\n",
        "    with open(destination, \"wb\") as f:\n",
        "        for chunk in response.iter_content(CHUNK_SIZE):\n",
        "            if chunk: # filter out keep-alive new chunks\n",
        "                f.write(chunk)"
      ],
      "execution_count": null,
      "outputs": []
    },
    {
      "cell_type": "code",
      "metadata": {
        "id": "yyPkmAr1KGDm"
      },
      "source": [
        "file_id = '1r0qA2CHQs17M7hcqZVlet9I8-Cup4I8y'\n",
        "destination = 'common.py'\n",
        "download_file_from_google_drive(file_id, destination)"
      ],
      "execution_count": null,
      "outputs": []
    },
    {
      "cell_type": "code",
      "metadata": {
        "id": "Uv6P7omUSdIN"
      },
      "source": [
        "file_id = '1mp4E60gRq6DOHJNEB1gp_WHvHarR0qoz'\n",
        "destination = 'dataset.py'\n",
        "download_file_from_google_drive(file_id, destination)"
      ],
      "execution_count": null,
      "outputs": []
    },
    {
      "cell_type": "code",
      "metadata": {
        "id": "ETwcsPkXSmBN"
      },
      "source": [
        "file_id = '1RJdYuq_0qlNVEwjAm9JjMCckOh4zsFMH'\n",
        "destination = 'vocab.py'\n",
        "download_file_from_google_drive(file_id, destination)"
      ],
      "execution_count": null,
      "outputs": []
    },
    {
      "cell_type": "code",
      "metadata": {
        "id": "-h1Ha3voSwrN"
      },
      "source": [
        "import os\n",
        "file_id = '1VUWt9LV_ury9EqWapr37GbFBAlsvM-Jb'\n",
        "os.mkdir('CUP')\n",
        "destination = 'CUP/mix_vocab_embeddings.pkl'\n",
        "download_file_from_google_drive(file_id, destination)"
      ],
      "execution_count": null,
      "outputs": []
    },
    {
      "cell_type": "code",
      "metadata": {
        "id": "7eqXAX36TcHr"
      },
      "source": [
        "file_id = '1BC4GKnWDQwfYkGCnAvubD3XElEs3iRmN'\n",
        "destination = 'CUP/mix_vocab.json'\n",
        "download_file_from_google_drive(file_id, destination)"
      ],
      "execution_count": null,
      "outputs": []
    },
    {
      "cell_type": "code",
      "metadata": {
        "id": "wHo00XXPTpzD"
      },
      "source": [
        "file_id = '1YdJIgDz-sCWoGDZ5h0HwSzSRBIvFqyZl'\n",
        "destination = 'CUP/test.json'\n",
        "download_file_from_google_drive(file_id, destination)"
      ],
      "execution_count": null,
      "outputs": []
    },
    {
      "cell_type": "code",
      "metadata": {
        "id": "b91dJRN9T09y"
      },
      "source": [
        "file_id = '1r_FzyO-oHIWeeDUDrAciR707wd1ZczJO'\n",
        "destination = 'CUP/train.json'\n",
        "download_file_from_google_drive(file_id, destination)"
      ],
      "execution_count": null,
      "outputs": []
    },
    {
      "cell_type": "code",
      "metadata": {
        "id": "YuYNFcWKkNXX"
      },
      "source": [
        "file_id = '1cxEo7ZxDmvDy4ECqfDtV9hXorFeR6QPM'\n",
        "destination = 'CUP/vocab.json'\n",
        "download_file_from_google_drive(file_id, destination)"
      ],
      "execution_count": null,
      "outputs": []
    },
    {
      "cell_type": "code",
      "metadata": {
        "id": "DxQdk9D7kNh1"
      },
      "source": [
        "file_id = '1jpi-KTVjKDoDzdS8u0aeNVi3O-iRt_s0'\n",
        "destination = 'CUP/vocab_embeddings.pkl'\n",
        "download_file_from_google_drive(file_id, destination)"
      ],
      "execution_count": null,
      "outputs": []
    },
    {
      "cell_type": "code",
      "metadata": {
        "id": "ev1NVSwWT9D0"
      },
      "source": [
        "# Данные CUP загружены в colab"
      ],
      "execution_count": null,
      "outputs": []
    },
    {
      "cell_type": "code",
      "metadata": {
        "id": "T1zqC9-tUDun"
      },
      "source": [
        "os.mkdir('texas')"
      ],
      "execution_count": null,
      "outputs": []
    },
    {
      "cell_type": "code",
      "metadata": {
        "id": "VYoF58EMUeLg"
      },
      "source": [
        "# checkout https://drive.google.com/drive/folders/12VMmdE67bp5UFYIoBUf0ibKGXFCH6fQo\n",
        "file_id = '1bUtfE5pBmkxtqAluYN4Mo2_bIjXPA8S9'\n",
        "destination = 'texas/train.json'\n",
        "download_file_from_google_drive(file_id, destination)\n",
        "file_id = '1Tv9_Rgbt08O9aUJvxjRT4b537VyFf0sh'\n",
        "destination = 'texas/test.json'\n",
        "download_file_from_google_drive(file_id, destination)\n",
        "file_id = '1hv3QscBFFPtFSSM-eDPJ10g5532QqdqD'\n",
        "destination = 'texas/valid.json'\n",
        "download_file_from_google_drive(file_id, destination)\n",
        "# Данные статьи из техаса загружены (средний ДС)"
      ],
      "execution_count": null,
      "outputs": []
    },
    {
      "cell_type": "code",
      "metadata": {
        "id": "6eh9YGfaVEP3"
      },
      "source": [
        "import requests\n",
        "os.mkdir('small')\n",
        "data_url = 'http://www2.unibas.it/gscanniello/coherence/report_files/Benchmark_Raw_Data.txt'\n",
        "r = requests.get(data_url, allow_redirects=True)\n",
        "raw_data = r.content.decode(encoding='utf-8')\n",
        "with open('small/data.txt', 'w') as f:\n",
        "  f.write(raw_data)"
      ],
      "execution_count": null,
      "outputs": []
    },
    {
      "cell_type": "code",
      "metadata": {
        "id": "-CHRUYE6WfNZ"
      },
      "source": [
        "ans_url = 'http://www2.unibas.it/gscanniello/coherence/report_files/Benchmark_Coherence_Data.txt'\n",
        "\n",
        "r = requests.get(ans_url, allow_redirects=True)\n",
        "raw_data = r.content.decode(encoding='utf-8')\n",
        "with open('small/ans.txt', 'w') as f:\n",
        "  f.write(raw_data)"
      ],
      "execution_count": null,
      "outputs": []
    },
    {
      "cell_type": "markdown",
      "metadata": {
        "id": "kXNuP-obVlSw"
      },
      "source": [
        "# Загрузка данных (в память)"
      ]
    },
    {
      "cell_type": "code",
      "metadata": {
        "id": "AUBgMbt4VsBI"
      },
      "source": [
        "# Маленький датасет сначала"
      ],
      "execution_count": null,
      "outputs": []
    },
    {
      "cell_type": "code",
      "metadata": {
        "id": "cgoFL9LtVu3H",
        "outputId": "1c424f98-8eaa-4215-a5c6-41c982423b90",
        "colab": {
          "base_uri": "https://localhost:8080/",
          "height": 52
        }
      },
      "source": [
        "# Data format::\n",
        "\"\"\"\n",
        "method_id, method_name, class_name, software_system\n",
        "filepath, start_line, end_line,\n",
        "Length of the Head Comments\n",
        "Head Comment\n",
        "Length of the Implementation\n",
        "Method Implementation\n",
        "###\n",
        "\"\"\""
      ],
      "execution_count": null,
      "outputs": [
        {
          "output_type": "execute_result",
          "data": {
            "application/vnd.google.colaboratory.intrinsic+json": {
              "type": "string"
            },
            "text/plain": [
              "'\\nmethod_id, method_name, class_name, software_system\\nfilepath, start_line, end_line,\\nLength of the Head Comments\\nHead Comment\\nLength of the Implementation\\nMethod Implementation\\n###\\n'"
            ]
          },
          "metadata": {
            "tags": []
          },
          "execution_count": 15
        }
      ]
    },
    {
      "cell_type": "code",
      "metadata": {
        "id": "mxApFwUXWNso"
      },
      "source": [
        "def parse_raw(raw_data):\n",
        "  raw_lines = raw_data.split('\\n')\n",
        "  index = 0\n",
        "  data = []\n",
        "  ids = []\n",
        "  while True:\n",
        "    try:\n",
        "      method_id = int(raw_lines[index].split(',')[0].strip())\n",
        "    except:\n",
        "      print('parse error')\n",
        "      print(f'left:', *raw_lines[index:], sep='\\n')\n",
        "      return data, ids\n",
        "    #file_meta = raw_lines[index + 1]\n",
        "    index += 2\n",
        "    try:\n",
        "      comment_len = int(raw_lines[index].strip())\n",
        "    except:\n",
        "      print('parse error')\n",
        "      print(f'left:', *raw_lines[index:], sep='\\n')\n",
        "      return data, ids\n",
        "    comment = ('\\n'.join([line for line in raw_lines[index + 1: index + comment_len + 1]])).replace('\\r', '') \n",
        "    index += comment_len + 1\n",
        "    try:\n",
        "      code_len = int(raw_lines[index].strip())\n",
        "    except Exception:\n",
        "      print('parse error')\n",
        "      print(f'left:', *raw_lines[index:], sep='\\n')\n",
        "      return data, ids\n",
        "    code = ('\\n'.join([line for line in raw_lines[index + 1: index + code_len + 1]])).replace('\\r', '')\n",
        "    index += code_len + 1\n",
        "    try: \n",
        "      assert raw_lines[index].startswith(\"###\")\n",
        "    except:\n",
        "      print(raw_lines[index],  \"  not equal ###\\n\")\n",
        "      return data, ids\n",
        "    data.append((code, comment))\n",
        "    ids.append(method_id)\n",
        "    index += 1"
      ],
      "execution_count": null,
      "outputs": []
    },
    {
      "cell_type": "code",
      "metadata": {
        "id": "gsKKZA05WQid",
        "outputId": "89eab6c1-219f-4c33-fdde-ad7cbb133c6c",
        "colab": {
          "base_uri": "https://localhost:8080/"
        }
      },
      "source": [
        "with open('small/data.txt') as f:\n",
        "  raw_data = f.read()\n",
        "  small_raw_data, small_data_ids = parse_raw(raw_data)"
      ],
      "execution_count": null,
      "outputs": [
        {
          "output_type": "stream",
          "text": [
            "parse error\n",
            "left:\n",
            "\n"
          ],
          "name": "stdout"
        }
      ]
    },
    {
      "cell_type": "code",
      "metadata": {
        "id": "LyYKMxGSWTwI",
        "outputId": "ee9a42b7-8048-47e3-fe15-215ab0bff068",
        "colab": {
          "base_uri": "https://localhost:8080/"
        }
      },
      "source": [
        "len(small_raw_data), len(small_data_ids)"
      ],
      "execution_count": null,
      "outputs": [
        {
          "output_type": "execute_result",
          "data": {
            "text/plain": [
              "(2881, 2881)"
            ]
          },
          "metadata": {
            "tags": []
          },
          "execution_count": 18
        }
      ]
    },
    {
      "cell_type": "code",
      "metadata": {
        "id": "kExD38dYWU-9"
      },
      "source": [
        "# Load answers:\n",
        "import pandas as pd\n",
        "with open('small/ans.txt', 'r') as f:\n",
        "  str_content = f.read()\n",
        "small_ans_df = pd.DataFrame([x.split(',') for x in str_content.split('\\n')], columns=['id', 'target'])\n",
        "import numpy as np\n",
        "answers = []\n",
        "for id in small_data_ids:\n",
        "  answers.append(small_ans_df[small_ans_df['id'] == str(id)]['target'].iloc[0] == ' COHERENT')\n",
        "small_ans_np = answers \n",
        "small_ans_np = np.array(list(map(int, small_ans_np)))"
      ],
      "execution_count": null,
      "outputs": []
    },
    {
      "cell_type": "code",
      "metadata": {
        "id": "C1nctT37YA0N",
        "outputId": "daf9c7e2-afa6-4b5f-e692-4ee1389a4b80",
        "colab": {
          "base_uri": "https://localhost:8080/",
          "height": 195
        }
      },
      "source": [
        "small_codes, small_comments = [], []\n",
        "for code, comment in small_raw_data:\n",
        "  small_codes.append(code)\n",
        "  small_comments.append(comment)\n",
        "small_df = pd.DataFrame(data={'code':small_codes, 'comment': small_comments, 'coherence': small_ans_np})\n",
        "small_df.head()"
      ],
      "execution_count": null,
      "outputs": [
        {
          "output_type": "execute_result",
          "data": {
            "text/html": [
              "<div>\n",
              "<style scoped>\n",
              "    .dataframe tbody tr th:only-of-type {\n",
              "        vertical-align: middle;\n",
              "    }\n",
              "\n",
              "    .dataframe tbody tr th {\n",
              "        vertical-align: top;\n",
              "    }\n",
              "\n",
              "    .dataframe thead th {\n",
              "        text-align: right;\n",
              "    }\n",
              "</style>\n",
              "<table border=\"1\" class=\"dataframe\">\n",
              "  <thead>\n",
              "    <tr style=\"text-align: right;\">\n",
              "      <th></th>\n",
              "      <th>code</th>\n",
              "      <th>comment</th>\n",
              "      <th>coherence</th>\n",
              "    </tr>\n",
              "  </thead>\n",
              "  <tbody>\n",
              "    <tr>\n",
              "      <th>0</th>\n",
              "      <td>public static void makeCoffee() {\\n    Recip...</td>\n",
              "      <td>/**\\n   * Make coffee user interface the proce...</td>\n",
              "      <td>0</td>\n",
              "    </tr>\n",
              "    <tr>\n",
              "      <th>1</th>\n",
              "      <td>public static void deleteRecipe() {\\n    Rec...</td>\n",
              "      <td>/**\\n   * Delete recipe user interface that pr...</td>\n",
              "      <td>0</td>\n",
              "    </tr>\n",
              "    <tr>\n",
              "      <th>2</th>\n",
              "      <td>public static void mainMenu() {\\n    System....</td>\n",
              "      <td>/**\\n   * Prints the main menu and handles use...</td>\n",
              "      <td>1</td>\n",
              "    </tr>\n",
              "    <tr>\n",
              "      <th>3</th>\n",
              "      <td>private static String inputOutput(String mes...</td>\n",
              "      <td>/**\\n   * Passes a prompt to the user and retu...</td>\n",
              "      <td>0</td>\n",
              "    </tr>\n",
              "    <tr>\n",
              "      <th>4</th>\n",
              "      <td>public static void addInventory() {\\n    //R...</td>\n",
              "      <td>/**\\n   * Add inventory user interface that pr...</td>\n",
              "      <td>0</td>\n",
              "    </tr>\n",
              "  </tbody>\n",
              "</table>\n",
              "</div>"
            ],
            "text/plain": [
              "                                                code  ... coherence\n",
              "0    public static void makeCoffee() {\\n    Recip...  ...         0\n",
              "1    public static void deleteRecipe() {\\n    Rec...  ...         0\n",
              "2    public static void mainMenu() {\\n    System....  ...         1\n",
              "3    private static String inputOutput(String mes...  ...         0\n",
              "4    public static void addInventory() {\\n    //R...  ...         0\n",
              "\n",
              "[5 rows x 3 columns]"
            ]
          },
          "metadata": {
            "tags": []
          },
          "execution_count": 20
        }
      ]
    },
    {
      "cell_type": "code",
      "metadata": {
        "id": "xONq4YxgZhtx"
      },
      "source": [
        "# Средний датасет"
      ],
      "execution_count": null,
      "outputs": []
    },
    {
      "cell_type": "code",
      "metadata": {
        "id": "uCm_T-MXa-Tu",
        "outputId": "9c692f17-e3bb-46d9-b3a7-2f20c513adfa",
        "colab": {
          "base_uri": "https://localhost:8080/"
        }
      },
      "source": [
        "import json\n",
        "with open('texas/train.json') as json_file:\n",
        "  texas_data = json.load(json_file)\n",
        "print(*texas_data[0].keys(), sep='\\n')"
      ],
      "execution_count": null,
      "outputs": [
        {
          "output_type": "stream",
          "text": [
            "id\n",
            "old_comment\n",
            "old_comment_tokens\n",
            "new_comment\n",
            "new_comment_tokens\n",
            "old_code\n",
            "old_code_tokens\n",
            "new_code\n",
            "new_code_tokens\n",
            "span_diff_code\n",
            "span_diff_code_tokens\n",
            "span_minimal_diff_comment\n",
            "span_minimal_diff_comment_tokens\n",
            "token_diff_code_tokens\n"
          ],
          "name": "stdout"
        }
      ]
    },
    {
      "cell_type": "code",
      "metadata": {
        "id": "BWR1H2usbRa1"
      },
      "source": [
        "# Большой датасет"
      ],
      "execution_count": null,
      "outputs": []
    },
    {
      "cell_type": "code",
      "metadata": {
        "id": "x6gdzJ2sgC5a"
      },
      "source": [
        "with open('CUP/train.json', 'r') as f:\n",
        "  cup_data = []\n",
        "  for line in f.readlines():\n",
        "      cup_data.append(json.loads(line))"
      ],
      "execution_count": null,
      "outputs": []
    },
    {
      "cell_type": "code",
      "metadata": {
        "id": "xZofe9t7g73E",
        "outputId": "bfa4b62c-16a7-44c9-dd6b-9fd42570f7ca",
        "colab": {
          "base_uri": "https://localhost:8080/"
        }
      },
      "source": [
        "print(*cup_data[0].keys(), sep='\\n')\n",
        "cup_data[0]['code_change_seq']"
      ],
      "execution_count": null,
      "outputs": [
        {
          "output_type": "stream",
          "text": [
            "sample_id\n",
            "full_name\n",
            "commit_id\n",
            "src_method\n",
            "dst_method\n",
            "src_javadoc\n",
            "dst_javadoc\n",
            "code_change_seq\n",
            "index\n",
            "src_desc\n",
            "dst_desc\n",
            "src_desc_tokens\n",
            "dst_desc_tokens\n",
            "desc_change_seq\n",
            "dist\n"
          ],
          "name": "stdout"
        },
        {
          "output_type": "execute_result",
          "data": {
            "text/plain": [
              "[['public', 'public', 'equal'],\n",
              " ['Interface', 'Interface', 'equal'],\n",
              " ['get', 'get', 'equal'],\n",
              " ['<con>', '<con>', 'equal'],\n",
              " ['Interface', 'Interface', 'equal'],\n",
              " ['(', '(', 'equal'],\n",
              " [')', ')', 'equal'],\n",
              " ['{', '{', 'equal'],\n",
              " ['return', 'return', 'equal'],\n",
              " ['', 'this', 'insert'],\n",
              " ['', '.', 'insert'],\n",
              " ['the', 'onos', 'replace'],\n",
              " ['<con>', '<con>', 'equal'],\n",
              " ['Interface', 'Interface', 'equal'],\n",
              " [';', ';', 'equal'],\n",
              " ['}', '}', 'equal']]"
            ]
          },
          "metadata": {
            "tags": []
          },
          "execution_count": 26
        }
      ]
    },
    {
      "cell_type": "markdown",
      "metadata": {
        "id": "xIaxk8TCkHgL"
      },
      "source": [
        "# Токенизация \n"
      ]
    },
    {
      "cell_type": "code",
      "metadata": {
        "id": "vQANn739lQDH",
        "outputId": "d4b07561-9a78-48b2-a946-bfa0ce1623dc",
        "colab": {
          "base_uri": "https://localhost:8080/"
        }
      },
      "source": [
        "!pip install javalang"
      ],
      "execution_count": null,
      "outputs": [
        {
          "output_type": "stream",
          "text": [
            "Collecting javalang\n",
            "  Downloading https://files.pythonhosted.org/packages/cb/e0/12344443d66b9a84844171be90112892a371da6db09866741774b8bc0a2f/javalang-0.13.0-py3-none-any.whl\n",
            "Requirement already satisfied: six in /usr/local/lib/python3.6/dist-packages (from javalang) (1.15.0)\n",
            "Installing collected packages: javalang\n",
            "Successfully installed javalang-0.13.0\n"
          ],
          "name": "stdout"
        }
      ]
    },
    {
      "cell_type": "code",
      "metadata": {
        "id": "a2wP063IlFz7"
      },
      "source": [
        "import re\n",
        "from nltk.tokenize import regexp_tokenize\n",
        "import javalang\n",
        "\n",
        "# We only interested in [Keyword, String, Identifier, Modifier, Annotation] tokens\n",
        "language_tokens = set([javalang.tokenizer.Keyword, javalang.tokenizer.String, javalang.tokenizer.String, javalang.tokenizer.Identifier, \n",
        "                      javalang.tokenizer.Modifier, javalang.tokenizer.Annotation])\n",
        "\n",
        "\n",
        "\n",
        "def split_identifiers(identifier):\n",
        "  if '_' in identifier:\n",
        "    splitted = identifier.split('_')\n",
        "  else:\n",
        "    splitted = re.sub('([A-Z][a-z]+)', r' \\1', re.sub('([A-Z]+)', r' \\1', identifier)).split()\n",
        "  return list(filter(lambda x: x.isalpha(), splitted))\n",
        "\n",
        "def tokenize_comment(comment):\n",
        "  tokens = regexp_tokenize(comment, pattern=\"\\w+\")\n",
        "  result = []\n",
        "  for token in tokens:\n",
        "    split_id = split_identifiers(token) \n",
        "    result.extend(split_id)\n",
        "  return result\n",
        "\n",
        "def tokenize_code(code):\n",
        "  tokens =  list(filter(lambda x: isinstance(x, tuple(language_tokens)), javalang.tokenizer.tokenize(code)))\n",
        "  result = []\n",
        "  for token in tokens:\n",
        "    if isinstance(token, javalang.tokenizer.Identifier):\n",
        "      result.extend(split_identifiers(token.value))\n",
        "    elif isinstance(token, javalang.tokenizer.String):\n",
        "      result.extend(tokenize_comment(token.value))\n",
        "    else:\n",
        "      result.append(token.value)\n",
        "  return result"
      ],
      "execution_count": null,
      "outputs": []
    },
    {
      "cell_type": "code",
      "metadata": {
        "id": "jY2KVMM_ljfl",
        "outputId": "114747c6-b670-47ce-f1c0-9703d3a2aa68",
        "colab": {
          "base_uri": "https://localhost:8080/"
        }
      },
      "source": [
        "import nltk\n",
        "from nltk.corpus import stopwords\n",
        "from nltk.stem.snowball import EnglishStemmer\n",
        "\n",
        "nltk.download('stopwords')\n",
        "stemmer = EnglishStemmer()\n",
        "stopwords = stopwords.words('english')"
      ],
      "execution_count": null,
      "outputs": [
        {
          "output_type": "stream",
          "text": [
            "[nltk_data] Downloading package stopwords to /root/nltk_data...\n",
            "[nltk_data]   Unzipping corpora/stopwords.zip.\n"
          ],
          "name": "stdout"
        }
      ]
    },
    {
      "cell_type": "code",
      "metadata": {
        "id": "vvEgcBJZl2LX"
      },
      "source": [
        "def process_code_comment(code, comment):\n",
        "  code_tokens = tokenize_code(code)\n",
        "  comment_tokens = tokenize_comment(comment)\n",
        "  filtered_code_tokens, filtered_comment_tokens = [], []\n",
        "  \n",
        "  for token in code_tokens:\n",
        "    token = token.lower()\n",
        "    if token.isalpha():\n",
        "      filtered_code_tokens.append(stemmer.stem(token.lower()))\n",
        "  for token in comment_tokens:\n",
        "    token = token.lower()\n",
        "    if token not in stopwords and token.isalpha():\n",
        "      filtered_comment_tokens.append(stemmer.stem(token))\n",
        "  return filtered_code_tokens, filtered_comment_tokens"
      ],
      "execution_count": null,
      "outputs": []
    },
    {
      "cell_type": "markdown",
      "metadata": {
        "id": "lZnFw6wzl_Ww"
      },
      "source": [
        "# Changes and len stats analysis"
      ]
    },
    {
      "cell_type": "code",
      "metadata": {
        "id": "DveTL6J8kMly",
        "outputId": "4304cb2f-05df-45ef-e053-5768d1f4e894",
        "colab": {
          "base_uri": "https://localhost:8080/"
        }
      },
      "source": [
        "index = 1000\n",
        "print(cup_data[index]['src_javadoc'])\n",
        "print('_' * 70)\n",
        "print(cup_data[index]['dst_javadoc'])"
      ],
      "execution_count": null,
      "outputs": [
        {
          "output_type": "stream",
          "text": [
            "Tests resiliency when D2 device is down.\n",
            "______________________________________________________________________\n",
            "Tests resilency when L2 and L4 link is down.\n"
          ],
          "name": "stdout"
        }
      ]
    },
    {
      "cell_type": "code",
      "metadata": {
        "id": "jgHEltPMkxnM"
      },
      "source": [
        "for index, data in enumerate(cup_data):\n",
        "  full_src_coment = data['src_javadoc']\n",
        "  full_dst_comment = data['dst_javadoc']\n",
        "  src_comment_tokens = tokenize_comment(full_src_coment)\n",
        "  dst_comment_tokens = tokenize_comment(full_dst_comment)\n",
        "  cup_data[index]['old_comment_tokens'] = src_comment_tokens\n",
        "  cup_data[index]['new_comment_tokens'] = dst_comment_tokens"
      ],
      "execution_count": null,
      "outputs": []
    },
    {
      "cell_type": "code",
      "metadata": {
        "id": "CkGRStPumtEi",
        "outputId": "7fdb1c4a-7a79-4177-ba91-a29bf9cef828",
        "colab": {
          "base_uri": "https://localhost:8080/"
        }
      },
      "source": [
        "index = 132\n",
        "print(cup_data[index]['old_comment_tokens'])\n",
        "print('_' * 70)\n",
        "print(cup_data[index]['new_comment_tokens'])"
      ],
      "execution_count": null,
      "outputs": [
        {
          "output_type": "stream",
          "text": [
            "['Simplifies', 'a', 'C', 'function', 'name', 'by', 'removing', 'the', 'template', 'instantiation', 'information', 'including', 'template', 'arguments', 'Essentially', 'removes', 'angle', 'brackets', 'and', 'everything', 'between', 'them', 'For', 'example', 'Func', 'Template', 'Func', 'Template']\n",
            "______________________________________________________________________\n",
            "['Simplifies', 'a', 'C', 'symbol', 'e', 'g', 'function', 'name', 'or', 'namespace', 'by', 'removing', 'the', 'template', 'instantiation', 'information', 'including', 'template', 'arguments', 'Essentially', 'removes', 'angle', 'brackets', 'and', 'everything', 'between', 'them', 'For', 'example', 'Func', 'Template', 'Func', 'Template', 'If', 'it', 'can', 't', 'find', 'matching', 'angle', 'brackets', 'falls', 'back', 'to', 'the', 'full', 'symbol', 'string']\n"
          ],
          "name": "stdout"
        }
      ]
    },
    {
      "cell_type": "code",
      "metadata": {
        "id": "RgtTTzEAnohE",
        "outputId": "2878983c-87e1-42fd-a775-f68048173550",
        "colab": {
          "base_uri": "https://localhost:8080/"
        }
      },
      "source": [
        "from difflib import SequenceMatcher\n",
        "def understand_opcode(opcode):\n",
        "  inserted_count = 0\n",
        "  deleted_count = 0\n",
        "  for op in opcode:\n",
        "    if op[0] == 'insert':\n",
        "      inserted_count += op[4] - op[3]\n",
        "    elif op[0] == 'replace':\n",
        "      deleted_count += op[2] - op[1]\n",
        "      inserted_count += op[4] - op[3]\n",
        "    elif op[0] == 'delete':\n",
        "      deleted_count += op[2] - op[1] \n",
        "  return inserted_count, deleted_count \n",
        "index = 11\n",
        "s = SequenceMatcher(None, cup_data[index]['old_comment_tokens'], \n",
        "                    cup_data[index]['new_comment_tokens'])\n",
        "s.ratio(), s.get_matching_blocks(), s.get_opcodes(), understand_opcode(s.get_opcodes())"
      ],
      "execution_count": null,
      "outputs": [
        {
          "output_type": "execute_result",
          "data": {
            "text/plain": [
              "(0.7777777777777778,\n",
              " [Match(a=0, b=0, size=7), Match(a=7, b=11, size=0)],\n",
              " [('equal', 0, 7, 0, 7), ('insert', 7, 7, 7, 11)],\n",
              " (4, 0))"
            ]
          },
          "metadata": {
            "tags": []
          },
          "execution_count": 36
        }
      ]
    },
    {
      "cell_type": "code",
      "metadata": {
        "id": "JuPxubiDphaw"
      },
      "source": [
        "diff_ratios = []\n",
        "for data in cup_data:\n",
        "  old = data['old_comment_tokens']\n",
        "  new = data['new_comment_tokens']\n",
        "  diff_ratios.append(SequenceMatcher(None, old, new).ratio())"
      ],
      "execution_count": null,
      "outputs": []
    },
    {
      "cell_type": "code",
      "metadata": {
        "id": "7BBU8EbGp3Rh",
        "outputId": "54266ae1-1202-4b7d-e6f0-1bbc482c163b",
        "colab": {
          "base_uri": "https://localhost:8080/",
          "height": 354
        }
      },
      "source": [
        "import matplotlib.pyplot as plt\n",
        "plt.style.use('classic')\n",
        "%matplotlib inline\n",
        "import seaborn as sns\n",
        "sns.kdeplot(diff_ratios, shade=True, bw=.05, color=\"olive\").set_title('Diff ratio density in comments')"
      ],
      "execution_count": null,
      "outputs": [
        {
          "output_type": "stream",
          "text": [
            "/usr/local/lib/python3.6/dist-packages/seaborn/distributions.py:1659: FutureWarning: The `bw` parameter is deprecated in favor of `bw_method` and `bw_adjust`. Using 0.05 for `bw_method`, but please see the docs for the new parameters and update your code.\n",
            "  warnings.warn(msg, FutureWarning)\n"
          ],
          "name": "stderr"
        },
        {
          "output_type": "execute_result",
          "data": {
            "text/plain": [
              "Text(0.5, 1.0, 'Diff ratio density in comments')"
            ]
          },
          "metadata": {
            "tags": []
          },
          "execution_count": 141
        },
        {
          "output_type": "display_data",
          "data": {
            "image/png": "[encoded data removed]",
            "text/plain": [
              "<Figure size 432x288 with 1 Axes>"
            ]
          },
          "metadata": {
            "tags": [],
            "needs_background": "light"
          }
        }
      ]
    },
    {
      "cell_type": "code",
      "metadata": {
        "id": "lKF3U1njtJjP"
      },
      "source": [
        "# Посмотрим на абсолютное и относительное число изменений"
      ],
      "execution_count": null,
      "outputs": []
    },
    {
      "cell_type": "code",
      "metadata": {
        "id": "zVIUn8t-tWUT"
      },
      "source": [
        "inserted_counts = []\n",
        "deleted_counts = []\n",
        "rel_deleted_counts = []\n",
        "rel_inserted_counts = []\n",
        "rel_changes = []\n",
        "changes = []\n",
        "for data in cup_data:\n",
        "  old = data['old_comment_tokens']\n",
        "  new = data['new_comment_tokens']\n",
        "  if len(old) == 0 or len(new) == 0:\n",
        "    continue\n",
        "  inserted, deleted = understand_opcode(SequenceMatcher(None, old, new).get_opcodes())\n",
        "  inserted_counts.append(inserted)\n",
        "  deleted_counts.append(deleted)\n",
        "  rel_deleted_counts.append(deleted / len(old))\n",
        "  rel_inserted_counts.append(inserted / len(old))\n",
        "  changes.append(inserted + deleted)\n",
        "  rel_changes.append((inserted + deleted) / (len(old) + len(new)))"
      ],
      "execution_count": null,
      "outputs": []
    },
    {
      "cell_type": "code",
      "metadata": {
        "id": "P5YSrXIuwbX6",
        "outputId": "e7fd5b72-befe-4cb6-93a9-d1689f2e1fa8",
        "colab": {
          "base_uri": "https://localhost:8080/",
          "height": 354
        }
      },
      "source": [
        "sns.distplot(changes, bins=40, kde=False, rug=False).set_title('Insertion and deletions in comments')\n",
        "# очень шумный график"
      ],
      "execution_count": null,
      "outputs": [
        {
          "output_type": "stream",
          "text": [
            "/usr/local/lib/python3.6/dist-packages/seaborn/distributions.py:2551: FutureWarning: `distplot` is a deprecated function and will be removed in a future version. Please adapt your code to use either `displot` (a figure-level function with similar flexibility) or `histplot` (an axes-level function for histograms).\n",
            "  warnings.warn(msg, FutureWarning)\n"
          ],
          "name": "stderr"
        },
        {
          "output_type": "execute_result",
          "data": {
            "text/plain": [
              "Text(0.5, 1.0, 'Insertion and deletions in comments')"
            ]
          },
          "metadata": {
            "tags": []
          },
          "execution_count": 197
        },
        {
          "output_type": "display_data",
          "data": {
            "image/png": "[encoded data removed]",
            "text/plain": [
              "<Figure size 432x288 with 1 Axes>"
            ]
          },
          "metadata": {
            "tags": [],
            "needs_background": "light"
          }
        }
      ]
    },
    {
      "cell_type": "code",
      "metadata": {
        "id": "_-QEtr8ExyuB",
        "outputId": "0a5a030d-cce2-41bb-ff60-e45fde25187f",
        "colab": {
          "base_uri": "https://localhost:8080/",
          "height": 354
        }
      },
      "source": [
        "def bound_data(data, alpha=0.02):\n",
        "  qmax = np.quantile(changes, 1 - alpha)\n",
        "  qmin = np.quantile(changes, alpha)\n",
        "  bdata = np.array(data)\n",
        "  bdata = bdata[bdata < qmax]\n",
        "  bdata = bdata[bdata > qmin]\n",
        "  return bdata\n",
        "\n",
        "sns.distplot(bound_data(changes), bins=20, kde=False, rug=False).set_title('Insertion and deletions in comments 0.96 interval')"
      ],
      "execution_count": null,
      "outputs": [
        {
          "output_type": "stream",
          "text": [
            "/usr/local/lib/python3.6/dist-packages/seaborn/distributions.py:2551: FutureWarning: `distplot` is a deprecated function and will be removed in a future version. Please adapt your code to use either `displot` (a figure-level function with similar flexibility) or `histplot` (an axes-level function for histograms).\n",
            "  warnings.warn(msg, FutureWarning)\n"
          ],
          "name": "stderr"
        },
        {
          "output_type": "execute_result",
          "data": {
            "text/plain": [
              "Text(0.5, 1.0, 'Insertion and deletions in comments 0.96 interval')"
            ]
          },
          "metadata": {
            "tags": []
          },
          "execution_count": 232
        },
        {
          "output_type": "display_data",
          "data": {
            "image/png": "[encoded data removed]",
            "text/plain": [
              "<Figure size 432x288 with 1 Axes>"
            ]
          },
          "metadata": {
            "tags": [],
            "needs_background": "light"
          }
        }
      ]
    },
    {
      "cell_type": "code",
      "metadata": {
        "id": "ds0GnuOA0TwX",
        "outputId": "38aaaa16-6b88-43d1-ae9d-968bc663a7e7",
        "colab": {
          "base_uri": "https://localhost:8080/",
          "height": 354
        }
      },
      "source": [
        "sns.kdeplot(rel_changes, shade=True, bw=.05, color=\"olive\").set_title('Rel changes density in comments')"
      ],
      "execution_count": null,
      "outputs": [
        {
          "output_type": "stream",
          "text": [
            "/usr/local/lib/python3.6/dist-packages/seaborn/distributions.py:1659: FutureWarning: The `bw` parameter is deprecated in favor of `bw_method` and `bw_adjust`. Using 0.05 for `bw_method`, but please see the docs for the new parameters and update your code.\n",
            "  warnings.warn(msg, FutureWarning)\n"
          ],
          "name": "stderr"
        },
        {
          "output_type": "execute_result",
          "data": {
            "text/plain": [
              "Text(0.5, 1.0, 'Rel changes density in comments')"
            ]
          },
          "metadata": {
            "tags": []
          },
          "execution_count": 208
        },
        {
          "output_type": "display_data",
          "data": {
            "image/png": "[encoded data removed]",
            "text/plain": [
              "<Figure size 432x288 with 1 Axes>"
            ]
          },
          "metadata": {
            "tags": [],
            "needs_background": "light"
          }
        }
      ]
    },
    {
      "cell_type": "code",
      "metadata": {
        "id": "3MB86SEE0l5R",
        "outputId": "98a0ad46-11f4-4c20-eff1-918b55970dac",
        "colab": {
          "base_uri": "https://localhost:8080/",
          "height": 354
        }
      },
      "source": [
        "sns.distplot(bound_data(inserted_counts), bins=20, kde=False, rug=False).set_title('Insertions count in comments 0.96 interval')"
      ],
      "execution_count": null,
      "outputs": [
        {
          "output_type": "stream",
          "text": [
            "/usr/local/lib/python3.6/dist-packages/seaborn/distributions.py:2551: FutureWarning: `distplot` is a deprecated function and will be removed in a future version. Please adapt your code to use either `displot` (a figure-level function with similar flexibility) or `histplot` (an axes-level function for histograms).\n",
            "  warnings.warn(msg, FutureWarning)\n"
          ],
          "name": "stderr"
        },
        {
          "output_type": "execute_result",
          "data": {
            "text/plain": [
              "Text(0.5, 1.0, 'Insertions count in comments 0.96 interval')"
            ]
          },
          "metadata": {
            "tags": []
          },
          "execution_count": 231
        },
        {
          "output_type": "display_data",
          "data": {
            "image/png": "[encoded data removed]",
            "text/plain": [
              "<Figure size 432x288 with 1 Axes>"
            ]
          },
          "metadata": {
            "tags": [],
            "needs_background": "light"
          }
        }
      ]
    },
    {
      "cell_type": "code",
      "metadata": {
        "id": "nQ70Uo9G1wAl",
        "outputId": "a2a6337b-70f9-431c-8934-6963cb0bbf2a",
        "colab": {
          "base_uri": "https://localhost:8080/",
          "height": 354
        }
      },
      "source": [
        "sns.distplot(bound_data(deleted_counts, 0.02), bins=20, color=\"red\", kde=False, rug=False).set_title('Deletions count in comments 0.96 interval')"
      ],
      "execution_count": null,
      "outputs": [
        {
          "output_type": "stream",
          "text": [
            "/usr/local/lib/python3.6/dist-packages/seaborn/distributions.py:2551: FutureWarning: `distplot` is a deprecated function and will be removed in a future version. Please adapt your code to use either `displot` (a figure-level function with similar flexibility) or `histplot` (an axes-level function for histograms).\n",
            "  warnings.warn(msg, FutureWarning)\n"
          ],
          "name": "stderr"
        },
        {
          "output_type": "execute_result",
          "data": {
            "text/plain": [
              "Text(0.5, 1.0, 'Deletions count in comments 0.96 interval')"
            ]
          },
          "metadata": {
            "tags": []
          },
          "execution_count": 230
        },
        {
          "output_type": "display_data",
          "data": {
            "image/png": "[encoded data removed]",
            "text/plain": [
              "<Figure size 432x288 with 1 Axes>"
            ]
          },
          "metadata": {
            "tags": [],
            "needs_background": "light"
          }
        }
      ]
    },
    {
      "cell_type": "code",
      "metadata": {
        "id": "MA0xYSK-5RWQ",
        "outputId": "6887cc85-e8c6-42ec-c3c1-229485ba4217",
        "colab": {
          "base_uri": "https://localhost:8080/",
          "height": 441
        }
      },
      "source": [
        "x = bound_data(inserted_counts)\n",
        "y = bound_data(deleted_counts)\n",
        "x = x[:min(len(x), len(y))]\n",
        "y = y[:min(len(x), len(y))]\n",
        "with sns.axes_style('white'):\n",
        "    sns.jointplot(x=x, y=y, kind='kde');"
      ],
      "execution_count": null,
      "outputs": [
        {
          "output_type": "display_data",
          "data": {
            "image/png": "[encoded data removed]",
            "text/plain": [
              "<Figure size 432x432 with 3 Axes>"
            ]
          },
          "metadata": {
            "tags": []
          }
        }
      ]
    },
    {
      "cell_type": "code",
      "metadata": {
        "id": "rnK_1UWc_jy6",
        "outputId": "e94a9e09-6390-4a03-bc8d-fc31878279e0",
        "colab": {
          "base_uri": "https://localhost:8080/"
        }
      },
      "source": [
        "changes = np.array(changes)\n",
        "# Очень много данных, где комментарий меняется только в одном токене\n",
        "print(len(changes[changes <= 1]), len(changes))"
      ],
      "execution_count": null,
      "outputs": [
        {
          "output_type": "stream",
          "text": [
            "11286 85653\n"
          ],
          "name": "stdout"
        }
      ]
    },
    {
      "cell_type": "code",
      "metadata": {
        "id": "Cu9X1YuRAeym"
      },
      "source": [
        "# Посмотрим на те же статистики в изменениях кода"
      ],
      "execution_count": null,
      "outputs": []
    },
    {
      "cell_type": "code",
      "metadata": {
        "id": "CQpp1gFCAuA1",
        "outputId": "a1a8407f-c3c5-4d57-a4c3-5d5f4779dc15",
        "colab": {
          "base_uri": "https://localhost:8080/",
          "height": 346
        }
      },
      "source": [
        "inserted_counts = []\n",
        "deleted_counts = []\n",
        "rel_deleted_counts = []\n",
        "rel_inserted_counts = []\n",
        "rel_changes = []\n",
        "changes = []\n",
        "for data in cup_data:\n",
        "  edit = data['code_change_seq']\n",
        "  inserted, deleted = len(list(filter(lambda x: x[2] == 'insert', edit))), len(list(filter(lambda x: x[2] == 'delete', edit)))\n",
        "  replaced = len(list(filter(lambda x: x[2] == 'replace', edit)))\n",
        "  inserted += replaced\n",
        "  deleted += replaced\n",
        "  inserted_counts.append(inserted)\n",
        "  deleted_counts.append(deleted)\n",
        "  rel_deleted_counts.append(deleted / len(edit))\n",
        "  rel_inserted_counts.append(inserted / len(edit))\n",
        "  changes.append(inserted + deleted)\n",
        "  rel_changes.append((inserted + deleted) / (len(edit)))"
      ],
      "execution_count": null,
      "outputs": [
        {
          "output_type": "error",
          "ename": "KeyboardInterrupt",
          "evalue": "ignored",
          "traceback": [
            "\u001b[0;31m---------------------------------------------------------------------------\u001b[0m",
            "\u001b[0;31mKeyboardInterrupt\u001b[0m                         Traceback (most recent call last)",
            "\u001b[0;32m<ipython-input-293-8995c73c7c47>\u001b[0m in \u001b[0;36m<module>\u001b[0;34m()\u001b[0m\n\u001b[1;32m      7\u001b[0m \u001b[0;32mfor\u001b[0m \u001b[0mdata\u001b[0m \u001b[0;32min\u001b[0m \u001b[0mcup_data\u001b[0m\u001b[0;34m:\u001b[0m\u001b[0;34m\u001b[0m\u001b[0;34m\u001b[0m\u001b[0m\n\u001b[1;32m      8\u001b[0m   \u001b[0medit\u001b[0m \u001b[0;34m=\u001b[0m \u001b[0mdata\u001b[0m\u001b[0;34m[\u001b[0m\u001b[0;34m'code_change_seq'\u001b[0m\u001b[0;34m]\u001b[0m\u001b[0;34m\u001b[0m\u001b[0;34m\u001b[0m\u001b[0m\n\u001b[0;32m----> 9\u001b[0;31m   \u001b[0minserted\u001b[0m\u001b[0;34m,\u001b[0m \u001b[0mdeleted\u001b[0m \u001b[0;34m=\u001b[0m \u001b[0mlen\u001b[0m\u001b[0;34m(\u001b[0m\u001b[0mlist\u001b[0m\u001b[0;34m(\u001b[0m\u001b[0mfilter\u001b[0m\u001b[0;34m(\u001b[0m\u001b[0;32mlambda\u001b[0m \u001b[0mx\u001b[0m\u001b[0;34m:\u001b[0m \u001b[0mx\u001b[0m\u001b[0;34m[\u001b[0m\u001b[0;36m2\u001b[0m\u001b[0;34m]\u001b[0m \u001b[0;34m==\u001b[0m \u001b[0;34m'insert'\u001b[0m\u001b[0;34m,\u001b[0m \u001b[0medit\u001b[0m\u001b[0;34m)\u001b[0m\u001b[0;34m)\u001b[0m\u001b[0;34m)\u001b[0m\u001b[0;34m,\u001b[0m \u001b[0mlen\u001b[0m\u001b[0;34m(\u001b[0m\u001b[0mlist\u001b[0m\u001b[0;34m(\u001b[0m\u001b[0mfilter\u001b[0m\u001b[0;34m(\u001b[0m\u001b[0;32mlambda\u001b[0m \u001b[0mx\u001b[0m\u001b[0;34m:\u001b[0m \u001b[0mx\u001b[0m\u001b[0;34m[\u001b[0m\u001b[0;36m2\u001b[0m\u001b[0;34m]\u001b[0m \u001b[0;34m==\u001b[0m \u001b[0;34m'delete'\u001b[0m\u001b[0;34m,\u001b[0m \u001b[0medit\u001b[0m\u001b[0;34m)\u001b[0m\u001b[0;34m)\u001b[0m\u001b[0;34m)\u001b[0m\u001b[0;34m\u001b[0m\u001b[0;34m\u001b[0m\u001b[0m\n\u001b[0m\u001b[1;32m     10\u001b[0m   \u001b[0mreplaced\u001b[0m \u001b[0;34m=\u001b[0m \u001b[0mlen\u001b[0m\u001b[0;34m(\u001b[0m\u001b[0mlist\u001b[0m\u001b[0;34m(\u001b[0m\u001b[0mfilter\u001b[0m\u001b[0;34m(\u001b[0m\u001b[0;32mlambda\u001b[0m \u001b[0mx\u001b[0m\u001b[0;34m:\u001b[0m \u001b[0mx\u001b[0m\u001b[0;34m[\u001b[0m\u001b[0;36m2\u001b[0m\u001b[0;34m]\u001b[0m \u001b[0;34m==\u001b[0m \u001b[0;34m'replace'\u001b[0m\u001b[0;34m,\u001b[0m \u001b[0medit\u001b[0m\u001b[0;34m)\u001b[0m\u001b[0;34m)\u001b[0m\u001b[0;34m)\u001b[0m\u001b[0;34m\u001b[0m\u001b[0;34m\u001b[0m\u001b[0m\n\u001b[1;32m     11\u001b[0m   \u001b[0minserted\u001b[0m \u001b[0;34m+=\u001b[0m \u001b[0mreplaced\u001b[0m\u001b[0;34m\u001b[0m\u001b[0;34m\u001b[0m\u001b[0m\n",
            "\u001b[0;32m<ipython-input-293-8995c73c7c47>\u001b[0m in \u001b[0;36m<lambda>\u001b[0;34m(x)\u001b[0m\n\u001b[1;32m      7\u001b[0m \u001b[0;32mfor\u001b[0m \u001b[0mdata\u001b[0m \u001b[0;32min\u001b[0m \u001b[0mcup_data\u001b[0m\u001b[0;34m:\u001b[0m\u001b[0;34m\u001b[0m\u001b[0;34m\u001b[0m\u001b[0m\n\u001b[1;32m      8\u001b[0m   \u001b[0medit\u001b[0m \u001b[0;34m=\u001b[0m \u001b[0mdata\u001b[0m\u001b[0;34m[\u001b[0m\u001b[0;34m'code_change_seq'\u001b[0m\u001b[0;34m]\u001b[0m\u001b[0;34m\u001b[0m\u001b[0;34m\u001b[0m\u001b[0m\n\u001b[0;32m----> 9\u001b[0;31m   \u001b[0minserted\u001b[0m\u001b[0;34m,\u001b[0m \u001b[0mdeleted\u001b[0m \u001b[0;34m=\u001b[0m \u001b[0mlen\u001b[0m\u001b[0;34m(\u001b[0m\u001b[0mlist\u001b[0m\u001b[0;34m(\u001b[0m\u001b[0mfilter\u001b[0m\u001b[0;34m(\u001b[0m\u001b[0;32mlambda\u001b[0m \u001b[0mx\u001b[0m\u001b[0;34m:\u001b[0m \u001b[0mx\u001b[0m\u001b[0;34m[\u001b[0m\u001b[0;36m2\u001b[0m\u001b[0;34m]\u001b[0m \u001b[0;34m==\u001b[0m \u001b[0;34m'insert'\u001b[0m\u001b[0;34m,\u001b[0m \u001b[0medit\u001b[0m\u001b[0;34m)\u001b[0m\u001b[0;34m)\u001b[0m\u001b[0;34m)\u001b[0m\u001b[0;34m,\u001b[0m \u001b[0mlen\u001b[0m\u001b[0;34m(\u001b[0m\u001b[0mlist\u001b[0m\u001b[0;34m(\u001b[0m\u001b[0mfilter\u001b[0m\u001b[0;34m(\u001b[0m\u001b[0;32mlambda\u001b[0m \u001b[0mx\u001b[0m\u001b[0;34m:\u001b[0m \u001b[0mx\u001b[0m\u001b[0;34m[\u001b[0m\u001b[0;36m2\u001b[0m\u001b[0;34m]\u001b[0m \u001b[0;34m==\u001b[0m \u001b[0;34m'delete'\u001b[0m\u001b[0;34m,\u001b[0m \u001b[0medit\u001b[0m\u001b[0;34m)\u001b[0m\u001b[0;34m)\u001b[0m\u001b[0;34m)\u001b[0m\u001b[0;34m\u001b[0m\u001b[0;34m\u001b[0m\u001b[0m\n\u001b[0m\u001b[1;32m     10\u001b[0m   \u001b[0mreplaced\u001b[0m \u001b[0;34m=\u001b[0m \u001b[0mlen\u001b[0m\u001b[0;34m(\u001b[0m\u001b[0mlist\u001b[0m\u001b[0;34m(\u001b[0m\u001b[0mfilter\u001b[0m\u001b[0;34m(\u001b[0m\u001b[0;32mlambda\u001b[0m \u001b[0mx\u001b[0m\u001b[0;34m:\u001b[0m \u001b[0mx\u001b[0m\u001b[0;34m[\u001b[0m\u001b[0;36m2\u001b[0m\u001b[0;34m]\u001b[0m \u001b[0;34m==\u001b[0m \u001b[0;34m'replace'\u001b[0m\u001b[0;34m,\u001b[0m \u001b[0medit\u001b[0m\u001b[0;34m)\u001b[0m\u001b[0;34m)\u001b[0m\u001b[0;34m)\u001b[0m\u001b[0;34m\u001b[0m\u001b[0;34m\u001b[0m\u001b[0m\n\u001b[1;32m     11\u001b[0m   \u001b[0minserted\u001b[0m \u001b[0;34m+=\u001b[0m \u001b[0mreplaced\u001b[0m\u001b[0;34m\u001b[0m\u001b[0;34m\u001b[0m\u001b[0m\n",
            "\u001b[0;31mKeyboardInterrupt\u001b[0m: "
          ]
        }
      ]
    },
    {
      "cell_type": "code",
      "metadata": {
        "id": "l17VI_lQB7Wc",
        "outputId": "54bf90bd-867a-4a59-c770-de5c8c4fa65a",
        "colab": {
          "base_uri": "https://localhost:8080/",
          "height": 354
        }
      },
      "source": [
        "sns.distplot(bound_data(changes), bins=20, kde=False, rug=False).set_title('Insertion and deletions in code 0.96 interval')"
      ],
      "execution_count": null,
      "outputs": [
        {
          "output_type": "stream",
          "text": [
            "/usr/local/lib/python3.6/dist-packages/seaborn/distributions.py:2551: FutureWarning: `distplot` is a deprecated function and will be removed in a future version. Please adapt your code to use either `displot` (a figure-level function with similar flexibility) or `histplot` (an axes-level function for histograms).\n",
            "  warnings.warn(msg, FutureWarning)\n"
          ],
          "name": "stderr"
        },
        {
          "output_type": "execute_result",
          "data": {
            "text/plain": [
              "Text(0.5, 1.0, 'Insertion and deletions in code 0.96 interval')"
            ]
          },
          "metadata": {
            "tags": []
          },
          "execution_count": 257
        },
        {
          "output_type": "display_data",
          "data": {
            "image/png": "[encoded data removed]",
            "text/plain": [
              "<Figure size 432x288 with 1 Axes>"
            ]
          },
          "metadata": {
            "tags": [],
            "needs_background": "light"
          }
        }
      ]
    },
    {
      "cell_type": "code",
      "metadata": {
        "id": "kgBLnqlgCDUA",
        "outputId": "e7d21391-f55c-42ec-bb94-2eb76049f0a4",
        "colab": {
          "base_uri": "https://localhost:8080/",
          "height": 354
        }
      },
      "source": [
        "sns.kdeplot(rel_changes, shade=True, bw=.05, color=\"olive\").set_title('Rel changes density in code')"
      ],
      "execution_count": null,
      "outputs": [
        {
          "output_type": "stream",
          "text": [
            "/usr/local/lib/python3.6/dist-packages/seaborn/distributions.py:1659: FutureWarning: The `bw` parameter is deprecated in favor of `bw_method` and `bw_adjust`. Using 0.05 for `bw_method`, but please see the docs for the new parameters and update your code.\n",
            "  warnings.warn(msg, FutureWarning)\n"
          ],
          "name": "stderr"
        },
        {
          "output_type": "execute_result",
          "data": {
            "text/plain": [
              "Text(0.5, 1.0, 'Rel changes density in code')"
            ]
          },
          "metadata": {
            "tags": []
          },
          "execution_count": 259
        },
        {
          "output_type": "display_data",
          "data": {
            "image/png": "[encoded data removed]",
            "text/plain": [
              "<Figure size 432x288 with 1 Axes>"
            ]
          },
          "metadata": {
            "tags": [],
            "needs_background": "light"
          }
        }
      ]
    },
    {
      "cell_type": "code",
      "metadata": {
        "id": "3-xTHwZpCLXU",
        "outputId": "f1a70c06-7524-4768-f5ef-00688642f9e2",
        "colab": {
          "base_uri": "https://localhost:8080/",
          "height": 354
        }
      },
      "source": [
        "sns.distplot(bound_data(inserted_counts), bins=20, kde=False, rug=False).set_title('Insertions count in code 0.96 interval')"
      ],
      "execution_count": null,
      "outputs": [
        {
          "output_type": "stream",
          "text": [
            "/usr/local/lib/python3.6/dist-packages/seaborn/distributions.py:2551: FutureWarning: `distplot` is a deprecated function and will be removed in a future version. Please adapt your code to use either `displot` (a figure-level function with similar flexibility) or `histplot` (an axes-level function for histograms).\n",
            "  warnings.warn(msg, FutureWarning)\n"
          ],
          "name": "stderr"
        },
        {
          "output_type": "execute_result",
          "data": {
            "text/plain": [
              "Text(0.5, 1.0, 'Insertions count in code 0.96 interval')"
            ]
          },
          "metadata": {
            "tags": []
          },
          "execution_count": 260
        },
        {
          "output_type": "display_data",
          "data": {
            "image/png": "[encoded data removed]",
            "text/plain": [
              "<Figure size 432x288 with 1 Axes>"
            ]
          },
          "metadata": {
            "tags": [],
            "needs_background": "light"
          }
        }
      ]
    },
    {
      "cell_type": "code",
      "metadata": {
        "id": "kWep3m7QCiEN",
        "outputId": "572b8ba7-4dc4-496d-db73-4f2d74af8a1c",
        "colab": {
          "base_uri": "https://localhost:8080/",
          "height": 354
        }
      },
      "source": [
        "sns.distplot(bound_data(deleted_counts), bins=20, color=\"red\", kde=False, rug=False).set_title('Deletions count in code 0.96 interval')"
      ],
      "execution_count": null,
      "outputs": [
        {
          "output_type": "stream",
          "text": [
            "/usr/local/lib/python3.6/dist-packages/seaborn/distributions.py:2551: FutureWarning: `distplot` is a deprecated function and will be removed in a future version. Please adapt your code to use either `displot` (a figure-level function with similar flexibility) or `histplot` (an axes-level function for histograms).\n",
            "  warnings.warn(msg, FutureWarning)\n"
          ],
          "name": "stderr"
        },
        {
          "output_type": "execute_result",
          "data": {
            "text/plain": [
              "Text(0.5, 1.0, 'Deletions count in code 0.96 interval')"
            ]
          },
          "metadata": {
            "tags": []
          },
          "execution_count": 262
        },
        {
          "output_type": "display_data",
          "data": {
            "image/png": "[encoded data removed]",
            "text/plain": [
              "<Figure size 432x288 with 1 Axes>"
            ]
          },
          "metadata": {
            "tags": [],
            "needs_background": "light"
          }
        }
      ]
    },
    {
      "cell_type": "code",
      "metadata": {
        "id": "v3d8ynCzCoMs",
        "outputId": "eeb75822-b3d0-4b58-f62b-fa8cb25891a8",
        "colab": {
          "base_uri": "https://localhost:8080/"
        }
      },
      "source": [
        "changes = np.array(changes)\n",
        "# Очень много данных, где код меняется только в двух токенах\n",
        "print(len(changes[changes <= 2]), len(changes))"
      ],
      "execution_count": null,
      "outputs": [
        {
          "output_type": "stream",
          "text": [
            "11050 85657\n"
          ],
          "name": "stdout"
        }
      ]
    },
    {
      "cell_type": "code",
      "metadata": {
        "id": "XjQGrstvJw_s",
        "outputId": "b7a329bd-5b95-48f7-b98c-e608b2124f0e",
        "colab": {
          "base_uri": "https://localhost:8080/"
        }
      },
      "source": [
        "# давайте посмотрим на длины кода и комментариев\n",
        "from tqdm import tqdm\n",
        "code_lens = []\n",
        "comment_lens = []\n",
        "for data in tqdm(cup_data, position=0):\n",
        "  M1 = data['dst_method']\n",
        "  M2 = data['src_method']\n",
        "  C1 = data['src_javadoc']\n",
        "  C2 = data['dst_javadoc']\n",
        "  M1, C1 = process_code_comment(M1, C1)\n",
        "  M2, C2 = process_code_comment(M2, C2)\n",
        "  code_lens.append(len(M1))\n",
        "  code_lens.append(len(M2))\n",
        "  comment_lens.append(len(C1))\n",
        "  comment_lens.append(len(C2))"
      ],
      "execution_count": null,
      "outputs": [
        {
          "output_type": "stream",
          "text": [
            "100%|██████████| 85657/85657 [05:28<00:00, 261.06it/s]\n"
          ],
          "name": "stderr"
        }
      ]
    },
    {
      "cell_type": "code",
      "metadata": {
        "id": "Jgio_dK_NI0Z",
        "outputId": "7c71ea88-c7a8-4c27-994d-081c7e2ada8d",
        "colab": {
          "base_uri": "https://localhost:8080/",
          "height": 354
        }
      },
      "source": [
        "sns.distplot(code_lens, bins=50, kde=False, rug=False).set_title('Insertions count in code 0.96 interval')"
      ],
      "execution_count": null,
      "outputs": [
        {
          "output_type": "stream",
          "text": [
            "/usr/local/lib/python3.6/dist-packages/seaborn/distributions.py:2551: FutureWarning: `distplot` is a deprecated function and will be removed in a future version. Please adapt your code to use either `displot` (a figure-level function with similar flexibility) or `histplot` (an axes-level function for histograms).\n",
            "  warnings.warn(msg, FutureWarning)\n"
          ],
          "name": "stderr"
        },
        {
          "output_type": "execute_result",
          "data": {
            "text/plain": [
              "Text(0.5, 1.0, 'Insertions count in code 0.96 interval')"
            ]
          },
          "metadata": {
            "tags": []
          },
          "execution_count": 274
        },
        {
          "output_type": "display_data",
          "data": {
            "image/png": "[encoded data removed]",
            "text/plain": [
              "<Figure size 432x288 with 1 Axes>"
            ]
          },
          "metadata": {
            "tags": [],
            "needs_background": "light"
          }
        }
      ]
    },
    {
      "cell_type": "code",
      "metadata": {
        "id": "KnRxUjWVPM74",
        "outputId": "95557aa3-f867-46c7-a80c-021f61fa7da6",
        "colab": {
          "base_uri": "https://localhost:8080/",
          "height": 354
        }
      },
      "source": [
        "sns.distplot(bound_data(comment_lens, 0.05), bins=50, kde=False, rug=False).set_title('Insertions count in code 0.96 interval')"
      ],
      "execution_count": null,
      "outputs": [
        {
          "output_type": "stream",
          "text": [
            "/usr/local/lib/python3.6/dist-packages/seaborn/distributions.py:2551: FutureWarning: `distplot` is a deprecated function and will be removed in a future version. Please adapt your code to use either `displot` (a figure-level function with similar flexibility) or `histplot` (an axes-level function for histograms).\n",
            "  warnings.warn(msg, FutureWarning)\n"
          ],
          "name": "stderr"
        },
        {
          "output_type": "execute_result",
          "data": {
            "text/plain": [
              "Text(0.5, 1.0, 'Insertions count in code 0.96 interval')"
            ]
          },
          "metadata": {
            "tags": []
          },
          "execution_count": 272
        },
        {
          "output_type": "display_data",
          "data": {
            "image/png": "[encoded data removed]",
            "text/plain": [
              "<Figure size 432x288 with 1 Axes>"
            ]
          },
          "metadata": {
            "tags": [],
            "needs_background": "light"
          }
        }
      ]
    },
    {
      "cell_type": "code",
      "metadata": {
        "id": "SZG9PzgcQVJu",
        "outputId": "caf95320-6fe5-4b2b-a63e-e08fcc8f60d1",
        "colab": {
          "base_uri": "https://localhost:8080/"
        }
      },
      "source": [
        "comment_lens = np.array(comment_lens)\n",
        "print(np.quantile(comment_lens, 0.8))\n",
        "print(len(comment_lens[comment_lens <= 25]), len(comment_lens), 100 * len(comment_lens[comment_lens <= 25]) / len(comment_lens))"
      ],
      "execution_count": null,
      "outputs": [
        {
          "output_type": "stream",
          "text": [
            "25.0\n",
            "138230 171314 80.68809320896132\n"
          ],
          "name": "stdout"
        }
      ]
    },
    {
      "cell_type": "code",
      "metadata": {
        "id": "_Kaeva0aQmVf",
        "outputId": "f79da9ec-bbca-4a87-a9e7-f45bae546e15",
        "colab": {
          "base_uri": "https://localhost:8080/"
        }
      },
      "source": [
        "code_lens = np.array(code_lens)\n",
        "print(np.quantile(code_lens, 0.8))"
      ],
      "execution_count": null,
      "outputs": [
        {
          "output_type": "stream",
          "text": [
            "70.0\n"
          ],
          "name": "stdout"
        }
      ]
    },
    {
      "cell_type": "markdown",
      "metadata": {
        "id": "VxQyWUhyPzvw"
      },
      "source": [
        "Итого, что мы увидели\n",
        "\n",
        "*   ~10% комментариев меняются в <= 1 токене\n",
        "*   ~10% кода меняется в <= 2 токенах\n",
        "*   ~80% комментариев длиной <= 25\n",
        "*   ~80% кода имеет длину <= 75\n",
        "\n"
      ]
    },
    {
      "cell_type": "code",
      "metadata": {
        "id": "CajTajGKU8o5",
        "outputId": "253c84d0-b284-40bb-f057-c6ba1e7f5b4e",
        "colab": {
          "base_uri": "https://localhost:8080/"
        }
      },
      "source": [
        "# Удалим ненужные статистики, чтобы не занимать память\n",
        "del changes\n",
        "del rel_changes\n",
        "del rel_deleted_counts\n",
        "del rel_inserted_counts\n",
        "del deleted_counts\n",
        "del inserted_counts\n",
        "import gc\n",
        "gc.collect()"
      ],
      "execution_count": null,
      "outputs": [
        {
          "output_type": "execute_result",
          "data": {
            "text/plain": [
              "27482"
            ]
          },
          "metadata": {
            "tags": []
          },
          "execution_count": 294
        }
      ]
    },
    {
      "cell_type": "code",
      "metadata": {
        "id": "yC3TYLLZVaO4",
        "outputId": "53060566-83b7-4535-a68b-4ebd8c692d12",
        "colab": {
          "base_uri": "https://localhost:8080/"
        }
      },
      "source": [
        "# давайте посмотрим на длины кода и комментариев\n",
        "from tqdm import tqdm\n",
        "from collections import Counter\n",
        "code_vocab = set()\n",
        "comment_vocab = set()\n",
        "code_counter = Counter()\n",
        "comment_counter = Counter()\n",
        "for data in tqdm(cup_data,  position=0):\n",
        "  M1 = data['dst_method']\n",
        "  M2 = data['src_method']\n",
        "  C1 = data['src_javadoc']\n",
        "  C2 = data['dst_javadoc']\n",
        "  M1, C1 = process_code_comment(M1, C1)\n",
        "  M2, C2 = process_code_comment(M2, C2)\n",
        "  code_vocab = code_vocab.union(M1)\n",
        "  code_vocab = code_vocab.union(M2)\n",
        "  code_counter |= Counter(M1)\n",
        "  code_counter |= Counter(M2)\n",
        "  comment_counter |= Counter(C1)\n",
        "  comment_counter |= Counter(C2)\n",
        "  comment_vocab = comment_vocab.union(C1)\n",
        "  comment_vocab = comment_vocab.union(C2)\n"
      ],
      "execution_count": null,
      "outputs": [
        {
          "output_type": "stream",
          "text": [
            "100%|██████████| 85657/85657 [11:07<00:00, 128.34it/s]\n"
          ],
          "name": "stderr"
        }
      ]
    },
    {
      "cell_type": "code",
      "metadata": {
        "id": "Z2DoF89gYEmC",
        "outputId": "31414989-46ac-4f45-9c2a-c10da0b6e2e9",
        "colab": {
          "base_uri": "https://localhost:8080/"
        }
      },
      "source": [
        "len(code_vocab), len(comment_vocab), len(code_vocab.intersection(comment_vocab)) / len(code_vocab.union(comment_vocab))"
      ],
      "execution_count": null,
      "outputs": [
        {
          "output_type": "execute_result",
          "data": {
            "text/plain": [
              "(18876, 13674, 0.3763213530655391)"
            ]
          },
          "metadata": {
            "tags": []
          },
          "execution_count": 33
        }
      ]
    },
    {
      "cell_type": "code",
      "metadata": {
        "id": "156_EvJeb5su",
        "outputId": "cd8fd49f-52ea-4a9d-864d-2cf05f7d1c32",
        "colab": {
          "base_uri": "https://localhost:8080/"
        }
      },
      "source": [
        "code_counter.most_common(100)"
      ],
      "execution_count": null,
      "outputs": [
        {
          "output_type": "execute_result",
          "data": {
            "text/plain": [
              "[('css', 64),\n",
              " ('atom', 62),\n",
              " ('type', 61),\n",
              " ('out', 57),\n",
              " ('left', 56),\n",
              " ('right', 56),\n",
              " ('step', 52),\n",
              " ('menu', 52),\n",
              " ('column', 51),\n",
              " ('opcod', 50),\n",
              " ('instrument', 48),\n",
              " ('read', 47),\n",
              " ('bucket', 47),\n",
              " ('member', 47),\n",
              " ('suit', 47),\n",
              " ('resourc', 46),\n",
              " ('rate', 46),\n",
              " ('test', 45),\n",
              " ('workflow', 45),\n",
              " ('view', 44),\n",
              " ('messag', 44),\n",
              " ('header', 44),\n",
              " ('db', 44),\n",
              " ('empir', 44),\n",
              " ('key', 43),\n",
              " ('file', 43),\n",
              " ('option', 43),\n",
              " ('sourc', 43),\n",
              " ('command', 43),\n",
              " ('node', 43),\n",
              " ('peer', 43),\n",
              " ('smiley', 43),\n",
              " ('state', 42),\n",
              " ('user', 42),\n",
              " ('handler', 42),\n",
              " ('templat', 42),\n",
              " ('citi', 42),\n",
              " ('aggreg', 42),\n",
              " ('pipe', 42),\n",
              " ('name', 41),\n",
              " ('client', 41),\n",
              " ('comment', 41),\n",
              " ('annot', 41),\n",
              " ('rule', 41),\n",
              " ('gl', 41),\n",
              " ('show', 41),\n",
              " ('encod', 40),\n",
              " ('modifi', 40),\n",
              " ('field', 40),\n",
              " ('connect', 40),\n",
              " ('part', 40),\n",
              " ('instanc', 39),\n",
              " ('index', 39),\n",
              " ('properti', 39),\n",
              " ('imag', 39),\n",
              " ('ref', 39),\n",
              " ('slot', 39),\n",
              " ('video', 39),\n",
              " ('idx', 39),\n",
              " ('flow', 39),\n",
              " ('cue', 39),\n",
              " ('list', 38),\n",
              " ('servic', 38),\n",
              " ('i', 38),\n",
              " ('class', 38),\n",
              " ('target', 38),\n",
              " ('pos', 38),\n",
              " ('assign', 38),\n",
              " ('dao', 38),\n",
              " ('storag', 38),\n",
              " ('disk', 38),\n",
              " ('checkpoint', 38),\n",
              " ('journey', 38),\n",
              " ('segment', 37),\n",
              " ('id', 37),\n",
              " ('element', 37),\n",
              " ('action', 37),\n",
              " ('session', 37),\n",
              " ('case', 37),\n",
              " ('job', 37),\n",
              " ('task', 37),\n",
              " ('item', 37),\n",
              " ('record', 37),\n",
              " ('artifact', 37),\n",
              " ('this', 36),\n",
              " ('event', 36),\n",
              " ('log', 36),\n",
              " ('run', 36),\n",
              " ('resolv', 36),\n",
              " ('block', 36),\n",
              " ('lock', 36),\n",
              " ('constraint', 36),\n",
              " ('tx', 36),\n",
              " ('tier', 36),\n",
              " ('song', 36),\n",
              " ('produc', 36),\n",
              " ('unit', 36),\n",
              " ('grade', 36),\n",
              " ('movement', 36),\n",
              " ('articl', 36)]"
            ]
          },
          "metadata": {
            "tags": []
          },
          "execution_count": 38
        }
      ]
    },
    {
      "cell_type": "code",
      "metadata": {
        "id": "-oCL7L78b82B",
        "outputId": "13acf2ff-4a65-4103-8d84-66f06c239da9",
        "colab": {
          "base_uri": "https://localhost:8080/"
        }
      },
      "source": [
        "print(len([1 for k, v in comment_counter.items() if v == 1]))\n",
        "print(len([1 for k, v in code_counter.items() if v == 1]))"
      ],
      "execution_count": null,
      "outputs": [
        {
          "output_type": "stream",
          "text": [
            "8453\n",
            "6688\n"
          ],
          "name": "stdout"
        }
      ]
    },
    {
      "cell_type": "code",
      "metadata": {
        "id": "NSidKHD7d6rK"
      },
      "source": [
        "# Давайте посемлируем комментарии, которые мало изменяются "
      ],
      "execution_count": null,
      "outputs": []
    },
    {
      "cell_type": "code",
      "metadata": {
        "id": "9xDNfHuYfU-N"
      },
      "source": [
        "import difflib\n",
        "\n",
        "d = difflib.Differ()"
      ],
      "execution_count": null,
      "outputs": []
    },
    {
      "cell_type": "code",
      "metadata": {
        "id": "1ZXlD9C2iURp",
        "outputId": "5ffd2e1f-7202-40d1-f6ee-59d3983cfd35",
        "colab": {
          "base_uri": "https://localhost:8080/"
        }
      },
      "source": [
        "code_changes = []\n",
        "comment_changes = []\n",
        "for data in tqdm(cup_data, position=0):\n",
        "  old_code = process_code_comment(data['src_method'], '')[0]\n",
        "  new_code = process_code_comment(data['dst_method'], '')[0]\n",
        "  old = process_code_comment('', data['src_javadoc'])[1]\n",
        "  new = process_code_comment('', data['dst_javadoc'])[1]\n",
        "  if len(old) == 0 or len(new) == 0:\n",
        "    comment_changes.append(0)\n",
        "    code_changes.append(0)\n",
        "    continue\n",
        "  inserted, deleted = understand_opcode(SequenceMatcher(None, old_code, new_code).get_opcodes())\n",
        "  code_changes.append(inserted + deleted)\n",
        "  inserted, deleted = understand_opcode(SequenceMatcher(None, old, new).get_opcodes())\n",
        "  comment_changes.append(inserted + deleted)"
      ],
      "execution_count": null,
      "outputs": [
        {
          "output_type": "stream",
          "text": [
            "100%|██████████| 85657/85657 [05:37<00:00, 254.16it/s]\n"
          ],
          "name": "stderr"
        }
      ]
    },
    {
      "cell_type": "code",
      "metadata": {
        "id": "tbrz2n6md0Z3",
        "outputId": "1a8e1606-131c-40a0-9f8f-2ef1e3ea016b",
        "colab": {
          "base_uri": "https://localhost:8080/",
          "height": 229
        }
      },
      "source": [
        "from termcolor import colored, cprint\n",
        "def show_diff(diff):\n",
        "  for diff_item in diff:\n",
        "   if diff_item.startswith('+'):\n",
        "     cprint(diff_item, 'green')\n",
        "   elif diff_item.startswith('-'):\n",
        "     cprint(diff_item, 'red')\n",
        "   else:\n",
        "     print(diff_item)\n",
        "\n",
        "def show_seq_diffs(seq1, seq2):\n",
        "  show_diff(d.compare(seq1, seq2))\n",
        "\n",
        "short_mask = np.array(np.array(comment_changes) <= 1, dtype=int) | np.array(np.array(code_changes) <= 2, dtype=int)\n",
        "print(sum(short_mask))\n",
        "shorts = np.nonzero(short_mask)[0]\n",
        "for _ in range(10):\n",
        "  id = np.random.choice(shorts.reshape(-1))\n",
        "  print(f\"Comment change: {comment_changes[id]}, Code change: {code_changes[id]}\")\n",
        "  print(\"Comment: \", '===' * 20)\n",
        "  show_seq_diffs(cup_data[id]['src_javadoc'].split('\\n'), cup_data[id]['dst_javadoc'].split('\\n'))\n",
        "  \n",
        "  print(\"Code: \", '===' * 20)\n",
        "  show_seq_diffs(cup_data[id]['src_method'].split('\\n'), cup_data[id]['dst_method'].split('\\n'))"
      ],
      "execution_count": null,
      "outputs": [
        {
          "output_type": "error",
          "ename": "NameError",
          "evalue": "ignored",
          "traceback": [
            "\u001b[0;31m---------------------------------------------------------------------------\u001b[0m",
            "\u001b[0;31mNameError\u001b[0m                                 Traceback (most recent call last)",
            "\u001b[0;32m<ipython-input-31-af7c922c428b>\u001b[0m in \u001b[0;36m<module>\u001b[0;34m()\u001b[0m\n\u001b[1;32m     12\u001b[0m   \u001b[0mshow_diff\u001b[0m\u001b[0;34m(\u001b[0m\u001b[0md\u001b[0m\u001b[0;34m.\u001b[0m\u001b[0mcompare\u001b[0m\u001b[0;34m(\u001b[0m\u001b[0mseq1\u001b[0m\u001b[0;34m,\u001b[0m \u001b[0mseq2\u001b[0m\u001b[0;34m)\u001b[0m\u001b[0;34m)\u001b[0m\u001b[0;34m\u001b[0m\u001b[0;34m\u001b[0m\u001b[0m\n\u001b[1;32m     13\u001b[0m \u001b[0;34m\u001b[0m\u001b[0m\n\u001b[0;32m---> 14\u001b[0;31m \u001b[0mshort_mask\u001b[0m \u001b[0;34m=\u001b[0m \u001b[0mnp\u001b[0m\u001b[0;34m.\u001b[0m\u001b[0marray\u001b[0m\u001b[0;34m(\u001b[0m\u001b[0mnp\u001b[0m\u001b[0;34m.\u001b[0m\u001b[0marray\u001b[0m\u001b[0;34m(\u001b[0m\u001b[0mcomment_changes\u001b[0m\u001b[0;34m)\u001b[0m \u001b[0;34m<=\u001b[0m \u001b[0;36m1\u001b[0m\u001b[0;34m,\u001b[0m \u001b[0mdtype\u001b[0m\u001b[0;34m=\u001b[0m\u001b[0mint\u001b[0m\u001b[0;34m)\u001b[0m \u001b[0;34m|\u001b[0m \u001b[0mnp\u001b[0m\u001b[0;34m.\u001b[0m\u001b[0marray\u001b[0m\u001b[0;34m(\u001b[0m\u001b[0mnp\u001b[0m\u001b[0;34m.\u001b[0m\u001b[0marray\u001b[0m\u001b[0;34m(\u001b[0m\u001b[0mcode_changes\u001b[0m\u001b[0;34m)\u001b[0m \u001b[0;34m<=\u001b[0m \u001b[0;36m2\u001b[0m\u001b[0;34m,\u001b[0m \u001b[0mdtype\u001b[0m\u001b[0;34m=\u001b[0m\u001b[0mint\u001b[0m\u001b[0;34m)\u001b[0m\u001b[0;34m\u001b[0m\u001b[0;34m\u001b[0m\u001b[0m\n\u001b[0m\u001b[1;32m     15\u001b[0m \u001b[0mprint\u001b[0m\u001b[0;34m(\u001b[0m\u001b[0msum\u001b[0m\u001b[0;34m(\u001b[0m\u001b[0mshort_mask\u001b[0m\u001b[0;34m)\u001b[0m\u001b[0;34m)\u001b[0m\u001b[0;34m\u001b[0m\u001b[0;34m\u001b[0m\u001b[0m\n\u001b[1;32m     16\u001b[0m \u001b[0mshorts\u001b[0m \u001b[0;34m=\u001b[0m \u001b[0mnp\u001b[0m\u001b[0;34m.\u001b[0m\u001b[0mnonzero\u001b[0m\u001b[0;34m(\u001b[0m\u001b[0mshort_mask\u001b[0m\u001b[0;34m)\u001b[0m\u001b[0;34m[\u001b[0m\u001b[0;36m0\u001b[0m\u001b[0;34m]\u001b[0m\u001b[0;34m\u001b[0m\u001b[0;34m\u001b[0m\u001b[0m\n",
            "\u001b[0;31mNameError\u001b[0m: name 'comment_changes' is not defined"
          ]
        }
      ]
    },
    {
      "cell_type": "markdown",
      "metadata": {
        "id": "Gwtqp_yFmBaj"
      },
      "source": [
        "Видим, что нашлось очень много примеров 28719! , когда наш токенайзер говорит, что изменений произошло не больше одного в комментарии или не больше двух в коде. Часто это логичные изменения, например возвращаемый тип, но также часто это опечатки или какие-то странные переименования. "
      ]
    },
    {
      "cell_type": "code",
      "metadata": {
        "id": "dq33KBrynvoi",
        "outputId": "69e3af79-ae2a-42d4-c026-081979f75fe5",
        "colab": {
          "base_uri": "https://localhost:8080/"
        }
      },
      "source": [
        "# 45% примеров содержат не более 2-ух изменений в комментарии\n",
        "print(np.quantile(comment_changes, 0.45))\n",
        "# 25 % примеров содержат не более  3-ех изменений в комментарии\n",
        "print(np.quantile(code_changes, 0.25))"
      ],
      "execution_count": null,
      "outputs": [
        {
          "output_type": "stream",
          "text": [
            "2.0\n",
            "3.0\n"
          ],
          "name": "stdout"
        }
      ]
    },
    {
      "cell_type": "markdown",
      "metadata": {
        "id": "jjLSUKiOaziK"
      },
      "source": [
        "Посмотрим на данные из Техаса"
      ]
    },
    {
      "cell_type": "code",
      "metadata": {
        "id": "gXCX10kza2yI",
        "outputId": "04888f0c-d05f-4a31-a523-a0aba6acebc3",
        "colab": {
          "base_uri": "https://localhost:8080/"
        }
      },
      "source": [
        "index = 100\n",
        "print(texas_data[index]['old_comment'], texas_data[index]['new_comment'], sep='\\n' + '-' * 75 + '\\n')\n",
        "print(texas_data[index]['old_code'], texas_data[index]['new_code'], sep='\\n' + '-' * 75 + '\\n')"
      ],
      "execution_count": null,
      "outputs": [
        {
          "output_type": "stream",
          "text": [
            "the result of the api request\n",
            "---------------------------------------------------------------------------\n",
            "an api result object which can be used to get the result of this query .\n",
            "public jsonobject post ( ) throws api exception { return make request ( api . method _ post ) ; }\n",
            "---------------------------------------------------------------------------\n",
            "public api result post ( ) { return setup request ( api . method _ post ) ; }\n"
          ],
          "name": "stdout"
        }
      ]
    },
    {
      "cell_type": "code",
      "metadata": {
        "id": "3b1fA0y7snsW",
        "outputId": "57a5a2f7-92e8-497f-868b-b568906f52bb",
        "colab": {
          "base_uri": "https://localhost:8080/"
        }
      },
      "source": [
        "from difflib import SequenceMatcher\n",
        "def understand_opcode(opcode):\n",
        "  inserted_count = 0\n",
        "  deleted_count = 0\n",
        "  for op in opcode:\n",
        "    if op[0] == 'insert':\n",
        "      inserted_count += op[4] - op[3]\n",
        "    elif op[0] == 'replace':\n",
        "      deleted_count += op[2] - op[1]\n",
        "      inserted_count += op[4] - op[3]\n",
        "    elif op[0] == 'delete':\n",
        "      deleted_count += op[2] - op[1] \n",
        "  return inserted_count, deleted_count \n",
        "index = 11\n",
        "s = SequenceMatcher(None, texas_data[index]['old_comment_tokens'], \n",
        "                    texas_data[index]['new_comment_tokens'])\n",
        "s.ratio(), s.get_matching_blocks(), s.get_opcodes(), understand_opcode(s.get_opcodes())"
      ],
      "execution_count": null,
      "outputs": [
        {
          "output_type": "execute_result",
          "data": {
            "text/plain": [
              "(0.8275862068965517,\n",
              " [Match(a=0, b=0, size=8),\n",
              "  Match(a=8, b=9, size=1),\n",
              "  Match(a=10, b=10, size=1),\n",
              "  Match(a=12, b=11, size=1),\n",
              "  Match(a=13, b=13, size=1),\n",
              "  Match(a=14, b=15, size=0)],\n",
              " [('equal', 0, 8, 0, 8),\n",
              "  ('insert', 8, 8, 8, 9),\n",
              "  ('equal', 8, 9, 9, 10),\n",
              "  ('delete', 9, 10, 10, 10),\n",
              "  ('equal', 10, 11, 10, 11),\n",
              "  ('delete', 11, 12, 11, 11),\n",
              "  ('equal', 12, 13, 11, 12),\n",
              "  ('insert', 13, 13, 12, 13),\n",
              "  ('equal', 13, 14, 13, 14),\n",
              "  ('insert', 14, 14, 14, 15)],\n",
              " (3, 2))"
            ]
          },
          "metadata": {
            "tags": []
          },
          "execution_count": 37
        }
      ]
    },
    {
      "cell_type": "code",
      "metadata": {
        "id": "WVJmmoFc5vBf"
      },
      "source": [
        "rel_changes = []\n",
        "changes = []\n",
        "for data in texas_data:\n",
        "  inserted, deleted = understand_opcode(SequenceMatcher(None, data['old_comment_tokens'], \n",
        "                    data['new_comment_tokens']).get_opcodes())\n",
        "  changes.append(inserted + deleted)\n",
        "  rel_changes.append(2 * (inserted + deleted) / (len(data['old_comment_tokens']) + len(data['new_comment_tokens'])))"
      ],
      "execution_count": null,
      "outputs": []
    },
    {
      "cell_type": "code",
      "metadata": {
        "id": "BPdw0CWT6UqV",
        "outputId": "68849a56-d598-4cad-fb09-bd77782d3654",
        "colab": {
          "base_uri": "https://localhost:8080/",
          "height": 351
        }
      },
      "source": [
        "import seaborn as sns\n",
        "def bound_data(data, alpha=0.02):\n",
        "  qmax = np.quantile(changes, 1 - alpha)\n",
        "  qmin = np.quantile(changes, alpha)\n",
        "  bdata = np.array(data)\n",
        "  bdata = bdata[bdata < qmax]\n",
        "  bdata = bdata[bdata > qmin]\n",
        "  return bdata\n",
        "sns.distplot(bound_data(changes), bins=20, color=\"red\", kde=False, rug=False).set_title('Changes count in texas comment 0.96 interval')"
      ],
      "execution_count": null,
      "outputs": [
        {
          "output_type": "stream",
          "text": [
            "/usr/local/lib/python3.6/dist-packages/seaborn/distributions.py:2551: FutureWarning: `distplot` is a deprecated function and will be removed in a future version. Please adapt your code to use either `displot` (a figure-level function with similar flexibility) or `histplot` (an axes-level function for histograms).\n",
            "  warnings.warn(msg, FutureWarning)\n"
          ],
          "name": "stderr"
        },
        {
          "output_type": "execute_result",
          "data": {
            "text/plain": [
              "Text(0.5, 1.0, 'Changes count in texas comment 0.96 interval')"
            ]
          },
          "metadata": {
            "tags": []
          },
          "execution_count": 47
        },
        {
          "output_type": "display_data",
          "data": {
            "image/png": "[encoded data removed]",
            "text/plain": [
              "<Figure size 432x288 with 1 Axes>"
            ]
          },
          "metadata": {
            "tags": [],
            "needs_background": "light"
          }
        }
      ]
    },
    {
      "cell_type": "code",
      "metadata": {
        "id": "vGlRDqQY-VG2",
        "outputId": "49c0fe6c-dc33-49a7-e62d-282b685b3476",
        "colab": {
          "base_uri": "https://localhost:8080/",
          "height": 351
        }
      },
      "source": [
        "sns.kdeplot(rel_changes, shade=True, bw=.05, color=\"olive\").set_title('Rel changes density in texas comments')"
      ],
      "execution_count": null,
      "outputs": [
        {
          "output_type": "stream",
          "text": [
            "/usr/local/lib/python3.6/dist-packages/seaborn/distributions.py:1659: FutureWarning: The `bw` parameter is deprecated in favor of `bw_method` and `bw_adjust`. Using 0.05 for `bw_method`, but please see the docs for the new parameters and update your code.\n",
            "  warnings.warn(msg, FutureWarning)\n"
          ],
          "name": "stderr"
        },
        {
          "output_type": "execute_result",
          "data": {
            "text/plain": [
              "Text(0.5, 1.0, 'Rel changes density in texas comments')"
            ]
          },
          "metadata": {
            "tags": []
          },
          "execution_count": 48
        },
        {
          "output_type": "display_data",
          "data": {
            "image/png": "[encoded data removed]",
            "text/plain": [
              "<Figure size 432x288 with 1 Axes>"
            ]
          },
          "metadata": {
            "tags": [],
            "needs_background": "light"
          }
        }
      ]
    },
    {
      "cell_type": "code",
      "metadata": {
        "id": "4AaccB0L-v4p"
      },
      "source": [
        "rel_changes = []\n",
        "changes = []\n",
        "for data in texas_data:\n",
        "  inserted, deleted = understand_opcode(SequenceMatcher(None, data['old_code_tokens'], \n",
        "                    data['new_code_tokens']).get_opcodes())\n",
        "  changes.append(inserted + deleted)\n",
        "  rel_changes.append(2 * (inserted + deleted) / (len(data['old_code_tokens']) + len(data['new_code_tokens'])))"
      ],
      "execution_count": null,
      "outputs": []
    },
    {
      "cell_type": "code",
      "metadata": {
        "id": "GhGlP4g5-4ni",
        "outputId": "655deda0-d01b-4818-9c49-92c565648a83",
        "colab": {
          "base_uri": "https://localhost:8080/",
          "height": 351
        }
      },
      "source": [
        "sns.distplot(bound_data(changes), bins=20, color=\"red\", kde=False, rug=False).set_title('Changes count in texas code 0.96 interval')"
      ],
      "execution_count": null,
      "outputs": [
        {
          "output_type": "stream",
          "text": [
            "/usr/local/lib/python3.6/dist-packages/seaborn/distributions.py:2551: FutureWarning: `distplot` is a deprecated function and will be removed in a future version. Please adapt your code to use either `displot` (a figure-level function with similar flexibility) or `histplot` (an axes-level function for histograms).\n",
            "  warnings.warn(msg, FutureWarning)\n"
          ],
          "name": "stderr"
        },
        {
          "output_type": "execute_result",
          "data": {
            "text/plain": [
              "Text(0.5, 1.0, 'Changes count in texas code 0.96 interval')"
            ]
          },
          "metadata": {
            "tags": []
          },
          "execution_count": 50
        },
        {
          "output_type": "display_data",
          "data": {
            "image/png": "[encoded data removed]",
            "text/plain": [
              "<Figure size 432x288 with 1 Axes>"
            ]
          },
          "metadata": {
            "tags": [],
            "needs_background": "light"
          }
        }
      ]
    },
    {
      "cell_type": "code",
      "metadata": {
        "id": "wiVLBm_u-7PT",
        "outputId": "41b915e8-20ad-4779-ab7a-3136448767cb",
        "colab": {
          "base_uri": "https://localhost:8080/",
          "height": 351
        }
      },
      "source": [
        "sns.kdeplot(rel_changes, shade=True, bw=.05, color=\"olive\").set_title('Rel changes density in texas code')"
      ],
      "execution_count": null,
      "outputs": [
        {
          "output_type": "stream",
          "text": [
            "/usr/local/lib/python3.6/dist-packages/seaborn/distributions.py:1659: FutureWarning: The `bw` parameter is deprecated in favor of `bw_method` and `bw_adjust`. Using 0.05 for `bw_method`, but please see the docs for the new parameters and update your code.\n",
            "  warnings.warn(msg, FutureWarning)\n"
          ],
          "name": "stderr"
        },
        {
          "output_type": "execute_result",
          "data": {
            "text/plain": [
              "Text(0.5, 1.0, 'Rel changes density in texas code')"
            ]
          },
          "metadata": {
            "tags": []
          },
          "execution_count": 51
        },
        {
          "output_type": "display_data",
          "data": {
            "image/png": "[encoded data removed]",
            "text/plain": [
              "<Figure size 432x288 with 1 Axes>"
            ]
          },
          "metadata": {
            "tags": [],
            "needs_background": "light"
          }
        }
      ]
    },
    {
      "cell_type": "code",
      "metadata": {
        "id": "rEeeSM6O_ACc"
      },
      "source": [
        "code_changes = []\n",
        "comment_changes = []\n",
        "for data in texas_data:\n",
        "  old = data['old_comment_tokens']\n",
        "  old = list(filter(lambda x: x.isalpha(), old))\n",
        "  new = data['new_comment_tokens']\n",
        "  new = list(filter(lambda x: x.isalpha(), new))\n",
        "  old_code = data['old_code_tokens']\n",
        "  new_code = data['new_code_tokens']\n",
        "  old_code = list(filter(lambda x: x.isalpha(), old_code))\n",
        "  new_code = list(filter(lambda x: x.isalpha(), new_code))\n",
        "  inserted, deleted = understand_opcode(SequenceMatcher(None, old_code, new_code).get_opcodes())\n",
        "  code_changes.append(inserted + deleted)\n",
        "  inserted, deleted = understand_opcode(SequenceMatcher(None, old, new).get_opcodes())\n",
        "  comment_changes.append(inserted + deleted)"
      ],
      "execution_count": null,
      "outputs": []
    },
    {
      "cell_type": "code",
      "metadata": {
        "id": "hDSK-jRHAU5n",
        "outputId": "93661215-181a-4416-cd15-17f4b6ffca23",
        "colab": {
          "base_uri": "https://localhost:8080/"
        }
      },
      "source": [
        "import difflib\n",
        "\n",
        "d = difflib.Differ()\n",
        "from termcolor import colored, cprint\n",
        "def show_diff(diff):\n",
        "  for diff_item in diff:\n",
        "   if diff_item.startswith('+'):\n",
        "     cprint(diff_item, 'green')\n",
        "   elif diff_item.startswith('-'):\n",
        "     cprint(diff_item, 'red')\n",
        "   else:\n",
        "     print(diff_item)\n",
        "\n",
        "def show_seq_diffs(seq1, seq2):\n",
        "  show_diff(d.compare(seq1, seq2))\n",
        "\n",
        "short_mask = np.array(np.array(comment_changes) <= 1, dtype=int) | np.array(np.array(code_changes) <= 2, dtype=int)\n",
        "print(sum(short_mask), len(short_mask))\n",
        "shorts = np.nonzero(short_mask)[0]\n",
        "for _ in range(10):\n",
        "  id = np.random.choice(shorts.reshape(-1))\n",
        "  old = texas_data[id]['old_comment_tokens']\n",
        "  old = list(filter(lambda x: x.isalpha(), old))\n",
        "  new = texas_data[id]['new_comment_tokens']\n",
        "  new = list(filter(lambda x: x.isalpha(), new))\n",
        "  old_code = texas_data[id]['old_code_tokens']\n",
        "  new_code = texas_data[id]['new_code_tokens']\n",
        "  old_code = list(filter(lambda x: x.isalpha(), old_code))\n",
        "  new_code = list(filter(lambda x: x.isalpha(), new_code))\n",
        "  print(f\"Comment change: {comment_changes[id]}, Code change: {code_changes[id]}\")\n",
        "  print(\"Comment: \", '===' * 20)\n",
        "  show_seq_diffs(old, new)\n",
        "  \n",
        "  print(\"Code: \", '===' * 20)\n",
        "  show_seq_diffs(old_code, new_code)"
      ],
      "execution_count": null,
      "outputs": [
        {
          "output_type": "stream",
          "text": [
            "1507 5791\n",
            "Comment change: 36, Code change: 1\n",
            "Comment:  ============================================================\n",
            "  current\n",
            "  position\n",
            "\u001b[31m- state\u001b[0m\n",
            "  within\n",
            "  range\n",
            "  where\n",
            "  is\n",
            "  for\n",
            "  initial\n",
            "  from\n",
            "  position\n",
            "  and\n",
            "  is\n",
            "  for\n",
            "  final\n",
            "  to\n",
            "  position\n",
            "\u001b[32m+ note\u001b[0m\n",
            "\u001b[32m+ that\u001b[0m\n",
            "\u001b[32m+ final\u001b[0m\n",
            "\u001b[32m+ position\u001b[0m\n",
            "\u001b[32m+ can\u001b[0m\n",
            "\u001b[32m+ be\u001b[0m\n",
            "\u001b[32m+ changed\u001b[0m\n",
            "\u001b[32m+ by\u001b[0m\n",
            "\u001b[32m+ set\u001b[0m\n",
            "\u001b[32m+ to\u001b[0m\n",
            "\u001b[32m+ state\u001b[0m\n",
            "\u001b[32m+ state\u001b[0m\n",
            "\u001b[32m+ float\u001b[0m\n",
            "\u001b[32m+ so\u001b[0m\n",
            "\u001b[32m+ if\u001b[0m\n",
            "\u001b[32m+ you\u001b[0m\n",
            "\u001b[32m+ need\u001b[0m\n",
            "\u001b[32m+ to\u001b[0m\n",
            "\u001b[32m+ have\u001b[0m\n",
            "\u001b[32m+ real\u001b[0m\n",
            "\u001b[32m+ value\u001b[0m\n",
            "\u001b[32m+ of\u001b[0m\n",
            "\u001b[32m+ final\u001b[0m\n",
            "\u001b[32m+ position\u001b[0m\n",
            "\u001b[32m+ instead\u001b[0m\n",
            "\u001b[32m+ of\u001b[0m\n",
            "\u001b[32m+ then\u001b[0m\n",
            "\u001b[32m+ you\u001b[0m\n",
            "\u001b[32m+ need\u001b[0m\n",
            "\u001b[32m+ to\u001b[0m\n",
            "\u001b[32m+ use\u001b[0m\n",
            "\u001b[32m+ get\u001b[0m\n",
            "\u001b[32m+ to\u001b[0m\n",
            "\u001b[32m+ position\u001b[0m\n",
            "\u001b[32m+ method\u001b[0m\n",
            "Code:  ============================================================\n",
            "  public\n",
            "  float\n",
            "  get\n",
            "  position\n",
            "  state\n",
            "  return\n",
            "  position\n",
            "\u001b[31m- state\u001b[0m\n",
            "Comment change: 2, Code change: 2\n",
            "Comment:  ============================================================\n",
            "  a\n",
            "  ftp\n",
            "  file\n",
            "\u001b[31m- payload\u001b[0m\n",
            "\u001b[32m+ attributes\u001b[0m\n",
            "  or\n",
            "  null\n",
            "  if\n",
            "  it\n",
            "  doesn\n",
            "  t\n",
            "  exists\n",
            "Code:  ============================================================\n",
            "  protected\n",
            "  ftp\n",
            "  file\n",
            "\u001b[31m- payload\u001b[0m\n",
            "\u001b[32m+ attributes\u001b[0m\n",
            "  get\n",
            "  file\n",
            "  string\n",
            "  file\n",
            "  path\n",
            "  return\n",
            "  get\n",
            "  file\n",
            "  file\n",
            "  path\n",
            "  false\n",
            "Comment change: 3, Code change: 2\n",
            "Comment:  ============================================================\n",
            "  the\n",
            "  minimum\n",
            "  size\n",
            "  in\n",
            "  pixels\n",
            "  of\n",
            "  the\n",
            "  text\n",
            "\u001b[31m- size\u001b[0m\n",
            "  in\n",
            "  this\n",
            "\u001b[31m- autofit\u001b[0m\n",
            "\u001b[31m- text\u001b[0m\n",
            "  view\n",
            "Code:  ============================================================\n",
            "  public\n",
            "  float\n",
            "  get\n",
            "  min\n",
            "  text\n",
            "  size\n",
            "  return\n",
            "  m\n",
            "\u001b[32m+ helper\u001b[0m\n",
            "\u001b[32m+ get\u001b[0m\n",
            "  min\n",
            "  text\n",
            "  size\n",
            "Comment change: 1, Code change: 3\n",
            "Comment:  ============================================================\n",
            "  a\n",
            "  new\n",
            "\u001b[31m- asynchronous\u001b[0m\n",
            "  server\n",
            "  socket\n",
            "  channel\n",
            "Code:  ============================================================\n",
            "  public\n",
            "  static\n",
            "  fiber\n",
            "  server\n",
            "  socket\n",
            "  channel\n",
            "  open\n",
            "\u001b[31m- asynchronous\u001b[0m\n",
            "  channel\n",
            "  group\n",
            "  group\n",
            "  throws\n",
            "  ioexception\n",
            "  suspend\n",
            "  execution\n",
            "  return\n",
            "  new\n",
            "  fiber\n",
            "  server\n",
            "  socket\n",
            "  channel\n",
            "  asynchronous\n",
            "  server\n",
            "  socket\n",
            "  channel\n",
            "  open\n",
            "  group\n",
            "  null\n",
            "  group\n",
            "\u001b[32m+ get\u001b[0m\n",
            "\u001b[32m+ group\u001b[0m\n",
            "  fiber\n",
            "  async\n",
            "  io\n",
            "  default\n",
            "  group\n",
            "Comment change: 1, Code change: 2\n",
            "Comment:  ============================================================\n",
            "  the\n",
            "  id\n",
            "  of\n",
            "  the\n",
            "  read\n",
            "  security\n",
            "  table\n",
            "  or\n",
            "\u001b[32m+ null\u001b[0m\n",
            "  if\n",
            "  there\n",
            "  is\n",
            "  none\n",
            "Code:  ============================================================\n",
            "  public\n",
            "\u001b[31m- long\u001b[0m\n",
            "\u001b[32m+ string\u001b[0m\n",
            "  get\n",
            "  read\n",
            "  security\n",
            "  table\n",
            "  id\n",
            "  return\n",
            "  read\n",
            "  security\n",
            "  table\n",
            "  id\n",
            "Comment change: 2, Code change: 2\n",
            "Comment:  ============================================================\n",
            "  a\n",
            "  swtbot\n",
            "  toolbar\n",
            "\u001b[31m- checkbox\u001b[0m\n",
            "\u001b[32m+ toggle\u001b[0m\n",
            "  button\n",
            "  with\n",
            "  the\n",
            "  specified\n",
            "  mnemonic\n",
            "  text\n",
            "Code:  ============================================================\n",
            "  public\n",
            "  swtbot\n",
            "  toolbar\n",
            "\u001b[31m- checkbox\u001b[0m\n",
            "\u001b[32m+ toggle\u001b[0m\n",
            "  button\n",
            "  toolbar\n",
            "  toggle\n",
            "  button\n",
            "  string\n",
            "  mnemonic\n",
            "  text\n",
            "  return\n",
            "  toolbar\n",
            "  toggle\n",
            "  button\n",
            "  mnemonic\n",
            "  text\n",
            "  num\n",
            "Comment change: 1, Code change: 11\n",
            "Comment:  ============================================================\n",
            "  this\n",
            "\u001b[32m+ object\u001b[0m\n",
            "Code:  ============================================================\n",
            "  public\n",
            "  jsonobject\n",
            "  put\n",
            "  opt\n",
            "  string\n",
            "\u001b[31m- key\u001b[0m\n",
            "\u001b[32m+ name\u001b[0m\n",
            "  object\n",
            "  value\n",
            "  throws\n",
            "  jsonexception\n",
            "  if\n",
            "\u001b[31m- key\u001b[0m\n",
            "\u001b[32m+ name\u001b[0m\n",
            "  null\n",
            "  value\n",
            "  null\n",
            "\u001b[31m- put\u001b[0m\n",
            "\u001b[31m- key\u001b[0m\n",
            "\u001b[31m- value\u001b[0m\n",
            "  return\n",
            "  this\n",
            "\u001b[32m+ return\u001b[0m\n",
            "\u001b[32m+ put\u001b[0m\n",
            "\u001b[32m+ name\u001b[0m\n",
            "\u001b[32m+ value\u001b[0m\n",
            "Comment change: 1, Code change: 3\n",
            "Comment:  ============================================================\n",
            "  if\n",
            "\u001b[31m- a\u001b[0m\n",
            "  ast\n",
            "  is\n",
            "  a\n",
            "  return\n",
            "  statment\n",
            "  with\n",
            "  a\n",
            "  boolean\n",
            "  literal\n",
            "Code:  ============================================================\n",
            "  private\n",
            "  static\n",
            "  boolean\n",
            "  returns\n",
            "  only\n",
            "  boolean\n",
            "  literal\n",
            "  ast\n",
            "\u001b[31m- a\u001b[0m\n",
            "  ast\n",
            "  if\n",
            "  is\n",
            "  boolean\n",
            "  literal\n",
            "  return\n",
            "  statement\n",
            "\u001b[31m- a\u001b[0m\n",
            "  ast\n",
            "  return\n",
            "  true\n",
            "  final\n",
            "  ast\n",
            "  first\n",
            "  stmnt\n",
            "\u001b[31m- a\u001b[0m\n",
            "  ast\n",
            "  get\n",
            "  first\n",
            "  child\n",
            "  return\n",
            "  is\n",
            "  boolean\n",
            "  literal\n",
            "  return\n",
            "  statement\n",
            "  first\n",
            "  stmnt\n",
            "Comment change: 1, Code change: 1\n",
            "Comment:  ============================================================\n",
            "  a\n",
            "  new\n",
            "  histogram\n",
            "\u001b[31m- metric\u001b[0m\n",
            "Code:  ============================================================\n",
            "  public\n",
            "  histogram\n",
            "\u001b[31m- metric\u001b[0m\n",
            "  new\n",
            "  histogram\n",
            "  class\n",
            "  klass\n",
            "  string\n",
            "  name\n",
            "  return\n",
            "  new\n",
            "  histogram\n",
            "  klass\n",
            "  name\n",
            "  false\n",
            "Comment change: 1, Code change: 90\n",
            "Comment:  ============================================================\n",
            "  a\n",
            "\u001b[32m+ new\u001b[0m\n",
            "  non\n",
            "  null\n",
            "  realm\n",
            "  results\n",
            "  containing\n",
            "  the\n",
            "  distinct\n",
            "  objects\n",
            "Code:  ============================================================\n",
            "  public\n",
            "  realm\n",
            "  results\n",
            "  e\n",
            "  distinct\n",
            "  string\n",
            "  field\n",
            "  name\n",
            "\u001b[32m+ sort\u001b[0m\n",
            "\u001b[32m+ descriptor\u001b[0m\n",
            "\u001b[32m+ distinct\u001b[0m\n",
            "\u001b[32m+ descriptor\u001b[0m\n",
            "\u001b[32m+ sort\u001b[0m\n",
            "\u001b[32m+ descriptor\u001b[0m\n",
            "\u001b[31m- realm\u001b[0m\n",
            "\u001b[31m- check\u001b[0m\n",
            "\u001b[31m- if\u001b[0m\n",
            "\u001b[31m- valid\u001b[0m\n",
            "\u001b[31m- long\u001b[0m\n",
            "\u001b[31m- column\u001b[0m\n",
            "\u001b[31m- index\u001b[0m\n",
            "\u001b[31m- realm\u001b[0m\n",
            "\u001b[31m- query\u001b[0m\n",
            "  get\n",
            "\u001b[31m- and\u001b[0m\n",
            "\u001b[31m- validate\u001b[0m\n",
            "\u001b[32m+ instance\u001b[0m\n",
            "\u001b[32m+ for\u001b[0m\n",
            "  distinct\n",
            "\u001b[31m- column\u001b[0m\n",
            "\u001b[31m- index\u001b[0m\n",
            "\u001b[32m+ collection\u001b[0m\n",
            "\u001b[32m+ get\u001b[0m\n",
            "\u001b[32m+ table\u001b[0m\n",
            "  field\n",
            "  name\n",
            "\u001b[32m+ collection\u001b[0m\n",
            "\u001b[32m+ distinct\u001b[0m\n",
            "\u001b[32m+ collection\u001b[0m\n",
            "\u001b[32m+ collection\u001b[0m\n",
            "\u001b[32m+ distinct\u001b[0m\n",
            "\u001b[32m+ distinct\u001b[0m\n",
            "\u001b[32m+ descriptor\u001b[0m\n",
            "\u001b[31m- this\u001b[0m\n",
            "\u001b[31m- table\u001b[0m\n",
            "\u001b[31m- get\u001b[0m\n",
            "\u001b[31m- table\u001b[0m\n",
            "\u001b[31m- table\u001b[0m\n",
            "\u001b[31m- or\u001b[0m\n",
            "\u001b[31m- view\u001b[0m\n",
            "\u001b[31m- table\u001b[0m\n",
            "\u001b[31m- or\u001b[0m\n",
            "\u001b[31m- view\u001b[0m\n",
            "\u001b[31m- get\u001b[0m\n",
            "\u001b[31m- table\u001b[0m\n",
            "\u001b[31m- or\u001b[0m\n",
            "\u001b[31m- view\u001b[0m\n",
            "  if\n",
            "\u001b[32m+ class\u001b[0m\n",
            "\u001b[32m+ name\u001b[0m\n",
            "\u001b[32m+ null\u001b[0m\n",
            "\u001b[32m+ return\u001b[0m\n",
            "\u001b[32m+ new\u001b[0m\n",
            "\u001b[32m+ realm\u001b[0m\n",
            "\u001b[32m+ results\u001b[0m\n",
            "\u001b[32m+ e\u001b[0m\n",
            "\u001b[32m+ realm\u001b[0m\n",
            "\u001b[31m- table\u001b[0m\n",
            "\u001b[31m- or\u001b[0m\n",
            "\u001b[31m- view\u001b[0m\n",
            "\u001b[31m- instanceof\u001b[0m\n",
            "\u001b[31m- table\u001b[0m\n",
            "\u001b[31m- this\u001b[0m\n",
            "\u001b[31m- table\u001b[0m\n",
            "\u001b[31m- table\u001b[0m\n",
            "\u001b[31m- table\u001b[0m\n",
            "\u001b[31m- or\u001b[0m\n",
            "\u001b[31m- view\u001b[0m\n",
            "\u001b[31m- get\u001b[0m\n",
            "  distinct\n",
            "\u001b[31m- view\u001b[0m\n",
            "\u001b[31m- column\u001b[0m\n",
            "\u001b[31m- index\u001b[0m\n",
            "\u001b[32m+ collection\u001b[0m\n",
            "\u001b[32m+ class\u001b[0m\n",
            "\u001b[32m+ name\u001b[0m\n",
            "  else\n",
            "\u001b[31m- table\u001b[0m\n",
            "\u001b[31m- view\u001b[0m\n",
            "\u001b[31m- table\u001b[0m\n",
            "\u001b[31m- or\u001b[0m\n",
            "\u001b[31m- view\u001b[0m\n",
            "\u001b[32m+ return\u001b[0m\n",
            "\u001b[32m+ new\u001b[0m\n",
            "\u001b[32m+ realm\u001b[0m\n",
            "\u001b[32m+ results\u001b[0m\n",
            "\u001b[32m+ e\u001b[0m\n",
            "\u001b[32m+ realm\u001b[0m\n",
            "  distinct\n",
            "\u001b[32m+ collection\u001b[0m\n",
            "\u001b[32m+ class\u001b[0m\n",
            "\u001b[32m+ spec\u001b[0m\n",
            "\u001b[31m- column\u001b[0m\n",
            "\u001b[31m- index\u001b[0m\n",
            "\u001b[31m- return\u001b[0m\n",
            "\u001b[31m- this\u001b[0m\n"
          ],
          "name": "stdout"
        }
      ]
    },
    {
      "cell_type": "code",
      "metadata": {
        "id": "RnljDD_NNJrz",
        "outputId": "e5b91a55-54d7-48d1-f20f-5b9c9d3201db",
        "colab": {
          "base_uri": "https://localhost:8080/"
        }
      },
      "source": [
        "# ~ 20% кода меняется на 2 токена\n",
        "print(np.quantile(code_changes, 0.2))\n",
        "# ~ 10% комменатриев меняется на 1 токен\n",
        "print(np.quantile(comment_changes, 0.1))"
      ],
      "execution_count": null,
      "outputs": [
        {
          "output_type": "stream",
          "text": [
            "2.0\n",
            "1.0\n"
          ],
          "name": "stdout"
        }
      ]
    },
    {
      "cell_type": "code",
      "metadata": {
        "id": "mIkK3LUEc50f",
        "outputId": "feb49749-db07-4b75-d7f4-cdb45a403eb0",
        "colab": {
          "base_uri": "https://localhost:8080/"
        }
      },
      "source": [
        "from tqdm import tqdm\n",
        "code_vocab = set()\n",
        "comment_vocab = set()\n",
        "for data in tqdm(texas_data, position=0):\n",
        "  C1, C2 = data['old_comment'], data['new_comment']\n",
        "  M1, M2 = data['old_code'], data['new_code']\n",
        "  pm1, pc1 = process_code_comment(M1, C1)\n",
        "  pm2, pc2 = process_code_comment(M2, C2)\n",
        "  code_vocab |= set(pm1) | set(pm2)\n",
        "  comment_vocab |= set(pc1) | set(pc2)"
      ],
      "execution_count": null,
      "outputs": [
        {
          "output_type": "stream",
          "text": [
            "100%|██████████| 5791/5791 [00:18<00:00, 309.73it/s]\n"
          ],
          "name": "stderr"
        }
      ]
    },
    {
      "cell_type": "code",
      "metadata": {
        "id": "Q2-Ywwobdp1T",
        "outputId": "6adf6743-c852-4b73-e925-780b8e4305c8",
        "colab": {
          "base_uri": "https://localhost:8080/"
        }
      },
      "source": [
        "len(code_vocab), len(comment_vocab), (len(code_vocab & comment_vocab) / len(code_vocab | comment_vocab)) "
      ],
      "execution_count": null,
      "outputs": [
        {
          "output_type": "execute_result",
          "data": {
            "text/plain": [
              "(5129, 3181, 0.4414570685169124)"
            ]
          },
          "metadata": {
            "tags": []
          },
          "execution_count": 88
        }
      ]
    },
    {
      "cell_type": "markdown",
      "metadata": {
        "id": "2TzZ8lreip0z"
      },
      "source": [
        "# Vocab analysis"
      ]
    },
    {
      "cell_type": "code",
      "metadata": {
        "id": "xhEjJghxjfom",
        "outputId": "50cf196d-bff0-4d64-871d-079b362e1d1d",
        "colab": {
          "base_uri": "https://localhost:8080/"
        }
      },
      "source": [
        "!pip install fasttext"
      ],
      "execution_count": null,
      "outputs": [
        {
          "output_type": "stream",
          "text": [
            "Collecting fasttext\n",
            "\u001b[?25l  Downloading https://files.pythonhosted.org/packages/f8/85/e2b368ab6d3528827b147fdb814f8189acc981a4bc2f99ab894650e05c40/fasttext-0.9.2.tar.gz (68kB)\n",
            "\r\u001b[K     |████▊                           | 10kB 15.5MB/s eta 0:00:01\r\u001b[K     |█████████▌                      | 20kB 5.9MB/s eta 0:00:01\r\u001b[K     |██████████████▎                 | 30kB 7.3MB/s eta 0:00:01\r\u001b[K     |███████████████████             | 40kB 6.7MB/s eta 0:00:01\r\u001b[K     |███████████████████████▉        | 51kB 6.5MB/s eta 0:00:01\r\u001b[K     |████████████████████████████▋   | 61kB 7.4MB/s eta 0:00:01\r\u001b[K     |████████████████████████████████| 71kB 4.0MB/s \n",
            "\u001b[?25hRequirement already satisfied: pybind11>=2.2 in /usr/local/lib/python3.6/dist-packages (from fasttext) (2.6.0)\n",
            "Requirement already satisfied: setuptools>=0.7.0 in /usr/local/lib/python3.6/dist-packages (from fasttext) (50.3.2)\n",
            "Requirement already satisfied: numpy in /usr/local/lib/python3.6/dist-packages (from fasttext) (1.18.5)\n",
            "Building wheels for collected packages: fasttext\n",
            "  Building wheel for fasttext (setup.py) ... \u001b[?25l\u001b[?25hdone\n",
            "  Created wheel for fasttext: filename=fasttext-0.9.2-cp36-cp36m-linux_x86_64.whl size=3025467 sha256=4a40551bb333d67a58ecc7ac8fab919b57ca4dea3a3eb694356a7816a7f65a84\n",
            "  Stored in directory: /root/.cache/pip/wheels/98/ba/7f/b154944a1cf5a8cee91c154b75231136cc3a3321ab0e30f592\n",
            "Successfully built fasttext\n",
            "Installing collected packages: fasttext\n",
            "Successfully installed fasttext-0.9.2\n"
          ],
          "name": "stdout"
        }
      ]
    },
    {
      "cell_type": "code",
      "metadata": {
        "id": "FYlwZqp-i0l6"
      },
      "source": [
        "from vocab import MixVocab, Vocab\n",
        "cup_vocab = Vocab.load('CUP/vocab.json')\n",
        "cup_vocab.load_embeddings('CUP/vocab_embeddings.pkl')\n",
        "mixvocab = MixVocab.load('CUP/mix_vocab.json')\n",
        "mixvocab.load_embeddings('CUP/mix_vocab_embeddings.pkl')"
      ],
      "execution_count": null,
      "outputs": []
    },
    {
      "cell_type": "code",
      "metadata": {
        "id": "eb7A-4c2klkI",
        "outputId": "9b935105-fc8b-4d6c-a480-bcf814e2176e",
        "colab": {
          "base_uri": "https://localhost:8080/"
        }
      },
      "source": [
        "cup_vocab.code, cup_vocab.nl, mixvocab.token"
      ],
      "execution_count": null,
      "outputs": [
        {
          "output_type": "execute_result",
          "data": {
            "text/plain": [
              "(Vocabulary[size=38606], Vocabulary[size=21408], Vocabulary[size=44578])"
            ]
          },
          "metadata": {
            "tags": []
          },
          "execution_count": 34
        }
      ]
    },
    {
      "cell_type": "code",
      "metadata": {
        "id": "Mhz-wT-alPRu",
        "outputId": "65a5f0ca-0af2-4f6b-a697-969e50635e1c",
        "colab": {
          "base_uri": "https://localhost:8080/"
        }
      },
      "source": [
        "mixvocab.token.embeddings.shape, cup_vocab.nl.embeddings.shape"
      ],
      "execution_count": null,
      "outputs": [
        {
          "output_type": "execute_result",
          "data": {
            "text/plain": [
              "((44578, 300), (21408, 300))"
            ]
          },
          "metadata": {
            "tags": []
          },
          "execution_count": 42
        }
      ]
    },
    {
      "cell_type": "code",
      "metadata": {
        "id": "9KZ_8afVlwLD",
        "outputId": "87d1cf81-8367-4f38-889f-d6747d4175f5",
        "colab": {
          "base_uri": "https://localhost:8080/"
        }
      },
      "source": [
        "# давайте посмотрим на длины кода и комментариев\n",
        "from tqdm import tqdm\n",
        "from collections import Counter\n",
        "code_vocab = set()\n",
        "comment_vocab = set()\n",
        "code_counter = Counter()\n",
        "comment_counter = Counter()\n",
        "for data in tqdm(cup_data,  position=0):\n",
        "  M1 = data['dst_method']\n",
        "  M2 = data['src_method']\n",
        "  C1 = data['src_javadoc']\n",
        "  C2 = data['dst_javadoc']\n",
        "  M1, C1 = process_code_comment(M1, C1)\n",
        "  M2, C2 = process_code_comment(M2, C2)\n",
        "  code_vocab = code_vocab.union(M1)\n",
        "  code_vocab = code_vocab.union(M2)\n",
        "  code_counter |= Counter(M1)\n",
        "  code_counter |= Counter(M2)\n",
        "  comment_counter |= Counter(C1)\n",
        "  comment_counter |= Counter(C2)\n",
        "  comment_vocab = comment_vocab.union(C1)\n",
        "  comment_vocab = comment_vocab.union(C2)"
      ],
      "execution_count": null,
      "outputs": [
        {
          "output_type": "stream",
          "text": [
            "100%|██████████| 85657/85657 [11:42<00:00, 121.91it/s]\n"
          ],
          "name": "stderr"
        }
      ]
    },
    {
      "cell_type": "code",
      "metadata": {
        "id": "CK6LFnWRsjlG",
        "outputId": "29379223-1cdb-431a-a020-6b5820e947dd",
        "colab": {
          "base_uri": "https://localhost:8080/"
        }
      },
      "source": [
        "len(code_vocab), len(comment_vocab), len(code_vocab & comment_vocab), len(code_vocab | comment_vocab)"
      ],
      "execution_count": null,
      "outputs": [
        {
          "output_type": "execute_result",
          "data": {
            "text/plain": [
              "(18876, 13674, 8900, 23650)"
            ]
          },
          "metadata": {
            "tags": []
          },
          "execution_count": 65
        }
      ]
    },
    {
      "cell_type": "code",
      "metadata": {
        "id": "Lg31tnpWok5_",
        "outputId": "c7e9a0e7-93e7-405f-81a1-fdd6c0d0249c",
        "colab": {
          "base_uri": "https://localhost:8080/"
        }
      },
      "source": [
        "len(comment_vocab), len(set(cup_vocab.nl.word2id.keys()) & comment_vocab)"
      ],
      "execution_count": null,
      "outputs": [
        {
          "output_type": "execute_result",
          "data": {
            "text/plain": [
              "(13674, 4177)"
            ]
          },
          "metadata": {
            "tags": []
          },
          "execution_count": 49
        }
      ]
    },
    {
      "cell_type": "code",
      "metadata": {
        "id": "IYjGJrjzpBBu"
      },
      "source": [
        "cup_comment_set = set(cup_vocab.nl.word2id.keys())\n",
        "cup_comment_set = set(map(lambda x: stemmer.stem(x.lower()), cup_comment_set))"
      ],
      "execution_count": null,
      "outputs": []
    },
    {
      "cell_type": "code",
      "metadata": {
        "id": "XCbEP7d7pRz2",
        "outputId": "88e9f133-bbb4-4645-9214-698225ba4d12",
        "colab": {
          "base_uri": "https://localhost:8080/"
        }
      },
      "source": [
        "# After stemming, vocabs are very similar\n",
        "len(cup_comment_set), len(comment_vocab & cup_comment_set)"
      ],
      "execution_count": null,
      "outputs": [
        {
          "output_type": "execute_result",
          "data": {
            "text/plain": [
              "(10128, 9028)"
            ]
          },
          "metadata": {
            "tags": []
          },
          "execution_count": 54
        }
      ]
    },
    {
      "cell_type": "code",
      "metadata": {
        "id": "PO8tGzgDpdLJ",
        "outputId": "cda5ba74-1599-412b-e4ae-c2fd4cf33bc2",
        "colab": {
          "base_uri": "https://localhost:8080/"
        }
      },
      "source": [
        "# words in set difference mostly contain digits (those words I'm filtering in my tokenizer)\n",
        "import random\n",
        "diff = cup_comment_set - comment_vocab\n",
        "print(*random.sample(diff, 20), sep='\\n')\n",
        "print('-' * 80)\n",
        "diff = comment_vocab - cup_comment_set\n",
        "print(*random.sample(diff, 10), sep='\\n')"
      ],
      "execution_count": null,
      "outputs": [
        {
          "output_type": "stream",
          "text": [
            "p02\n",
            "10000\n",
            "12h\n",
            "08\n",
            "gl45\n",
            "p256\n",
            "function5\n",
            "column1\n",
            "glassfishv3\n",
            "ds12\n",
            "ds1\n",
            "fields1\n",
            "conf2\n",
            "03\n",
            "function1\n",
            "wasn\n",
            "string1\n",
            "431\n",
            "vpls3\n",
            "1x01\n",
            "--------------------------------------------------------------------------------\n",
            "byteabl\n",
            "decmal\n",
            "cobertura\n",
            "acm\n",
            "blks\n",
            "damerau\n",
            "endpoind\n",
            "searchstr\n",
            "configr\n",
            "cappedboolean\n"
          ],
          "name": "stdout"
        }
      ]
    },
    {
      "cell_type": "code",
      "metadata": {
        "id": "8lbPLW1KsFPZ",
        "outputId": "7b9bca08-fad0-4e6b-b761-1c37259c9f92",
        "colab": {
          "base_uri": "https://localhost:8080/"
        }
      },
      "source": [
        "random.sample(code_vocab - comment_vocab, 10)"
      ],
      "execution_count": null,
      "outputs": [
        {
          "output_type": "execute_result",
          "data": {
            "text/plain": [
              "['mbin',\n",
              " 'violenc',\n",
              " 'mauric',\n",
              " 'javacript',\n",
              " 'jtds',\n",
              " 'localtrac',\n",
              " 'removebykti',\n",
              " 'lstate',\n",
              " 'unauthz',\n",
              " 'webinfpath']"
            ]
          },
          "metadata": {
            "tags": []
          },
          "execution_count": 67
        }
      ]
    },
    {
      "cell_type": "code",
      "metadata": {
        "id": "8kp6QK06tNNu",
        "outputId": "eebe3005-2b51-4970-a849-f8bd6088a4f2",
        "colab": {
          "base_uri": "https://localhost:8080/"
        }
      },
      "source": [
        "split_identifiers('WebInfPath'), split_identifiers('web_inf_path')"
      ],
      "execution_count": null,
      "outputs": [
        {
          "output_type": "execute_result",
          "data": {
            "text/plain": [
              "(['Web', 'Inf', 'Path'], ['web', 'inf', 'path'])"
            ]
          },
          "metadata": {
            "tags": []
          },
          "execution_count": 69
        }
      ]
    },
    {
      "cell_type": "code",
      "metadata": {
        "id": "vyf-bPJ0tdNo",
        "outputId": "f3acca85-d690-44c3-f931-e1d3ffba25a6",
        "colab": {
          "base_uri": "https://localhost:8080/"
        }
      },
      "source": [
        "# ~ 33% of code tokens used only once\n",
        "single_tokens = [token for token, count in code_counter.items() if count == 1]\n",
        "len(single_tokens) "
      ],
      "execution_count": null,
      "outputs": [
        {
          "output_type": "execute_result",
          "data": {
            "text/plain": [
              "6688"
            ]
          },
          "metadata": {
            "tags": []
          },
          "execution_count": 72
        }
      ]
    },
    {
      "cell_type": "code",
      "metadata": {
        "id": "8Kbku-bJt7cg",
        "outputId": "56ba1ed6-e3ba-4a16-bd73-b24deccd4a52",
        "colab": {
          "base_uri": "https://localhost:8080/"
        }
      },
      "source": [
        "comment_counter.most_common(10)"
      ],
      "execution_count": null,
      "outputs": [
        {
          "output_type": "execute_result",
          "data": {
            "text/plain": [
              "[('bucket', 103),\n",
              " ('link', 92),\n",
              " ('code', 86),\n",
              " ('valu', 67),\n",
              " ('instanc', 56),\n",
              " ('file', 50),\n",
              " ('attribut', 50),\n",
              " ('modul', 48),\n",
              " ('type', 44),\n",
              " ('overflow', 44)]"
            ]
          },
          "metadata": {
            "tags": []
          },
          "execution_count": 74
        }
      ]
    },
    {
      "cell_type": "code",
      "metadata": {
        "id": "3AIDwCIrt0rk",
        "outputId": "698a9c7a-0c8c-4320-fe75-4739b1fac4af",
        "colab": {
          "base_uri": "https://localhost:8080/"
        }
      },
      "source": [
        "# ~ 60% of comment tokens used only once!\n",
        "single_tokens = [token for token, count in comment_counter.items() if count == 1]\n",
        "len(single_tokens) "
      ],
      "execution_count": null,
      "outputs": [
        {
          "output_type": "execute_result",
          "data": {
            "text/plain": [
              "8453"
            ]
          },
          "metadata": {
            "tags": []
          },
          "execution_count": 73
        }
      ]
    },
    {
      "cell_type": "markdown",
      "metadata": {
        "id": "Z6lO2okVufrF"
      },
      "source": [
        "Это странно, очень много токенов из комментариев используются только один раз. Если например заменять их на `<UNK>`, то мы потеряем 60% всего словаря"
      ]
    },
    {
      "cell_type": "code",
      "metadata": {
        "id": "3oUEhIDtuIMn",
        "outputId": "c936258f-6102-485e-e8a4-297ac7963876",
        "colab": {
          "base_uri": "https://localhost:8080/"
        }
      },
      "source": [
        "random.sample(single_tokens, 16)"
      ],
      "execution_count": null,
      "outputs": [
        {
          "output_type": "execute_result",
          "data": {
            "text/plain": [
              "['quickfix',\n",
              " 'rehydr',\n",
              " 'onelevel',\n",
              " 'weaken',\n",
              " 'agg',\n",
              " 'generatevpnclientpackag',\n",
              " 'sublcass',\n",
              " 'rcs',\n",
              " 'micronaut',\n",
              " 'unkown',\n",
              " 'virt',\n",
              " 'vulkan',\n",
              " 'ecl',\n",
              " 'nlms',\n",
              " 'berlin',\n",
              " 'testcas']"
            ]
          },
          "metadata": {
            "tags": []
          },
          "execution_count": 81
        }
      ]
    },
    {
      "cell_type": "code",
      "metadata": {
        "id": "8F9RvP0OusHJ"
      },
      "source": [
        "# Давайте посмотрим на частотные словари для токенизации, которую предлагает CUP"
      ],
      "execution_count": null,
      "outputs": []
    },
    {
      "cell_type": "code",
      "metadata": {
        "id": "F-jftj5Luzuk",
        "outputId": "8d23e0a8-4530-4e1e-f1c1-ddce82b3f24f",
        "colab": {
          "base_uri": "https://localhost:8080/"
        }
      },
      "source": [
        "def filter_cup_tokens(tokens):\n",
        "  result = []\n",
        "  for token in tokens:\n",
        "    token = token.lower()\n",
        "    if token.isalpha():\n",
        "      result.append(token)\n",
        "  return result\n",
        "cup_code_counter = Counter()\n",
        "cup_comment_counter = Counter()\n",
        "for data in tqdm(cup_data, position=0):\n",
        "  M1 = filter_cup_tokens([item[0] for item in data['code_change_seq']])\n",
        "  M2 = filter_cup_tokens([item[1] for item in data['code_change_seq']])\n",
        "  C1 = filter_cup_tokens(data['src_desc_tokens'])\n",
        "  C2 = filter_cup_tokens(data['dst_desc_tokens'])\n",
        "  cup_code_counter |= Counter(M1) | Counter(M2)\n",
        "  cup_comment_counter |= Counter(C1) | Counter(C2)"
      ],
      "execution_count": null,
      "outputs": [
        {
          "output_type": "stream",
          "text": [
            "100%|██████████| 85657/85657 [02:07<00:00, 672.91it/s]\n"
          ],
          "name": "stderr"
        }
      ]
    },
    {
      "cell_type": "code",
      "metadata": {
        "id": "uYA8XJIRxaDf",
        "outputId": "c7052051-02f8-44fd-fc1f-8f19ad4e1e1c",
        "colab": {
          "base_uri": "https://localhost:8080/"
        }
      },
      "source": [
        "len(cup_code_counter), len(cup_comment_counter)"
      ],
      "execution_count": null,
      "outputs": [
        {
          "output_type": "execute_result",
          "data": {
            "text/plain": [
              "(21848, 16919)"
            ]
          },
          "metadata": {
            "tags": []
          },
          "execution_count": 93
        }
      ]
    },
    {
      "cell_type": "code",
      "metadata": {
        "id": "LRbxsmDlwY7X",
        "outputId": "eda62726-268d-441c-be08-3f5dfd49fef9",
        "colab": {
          "base_uri": "https://localhost:8080/"
        }
      },
      "source": [
        "cup_code_counter.most_common(10)"
      ],
      "execution_count": null,
      "outputs": [
        {
          "output_type": "execute_result",
          "data": {
            "text/plain": [
              "[('css', 64),\n",
              " ('atom', 62),\n",
              " ('type', 61),\n",
              " ('out', 57),\n",
              " ('left', 56),\n",
              " ('right', 56),\n",
              " ('menu', 52),\n",
              " ('column', 51),\n",
              " ('suite', 47),\n",
              " ('read', 46)]"
            ]
          },
          "metadata": {
            "tags": []
          },
          "execution_count": 89
        }
      ]
    },
    {
      "cell_type": "code",
      "metadata": {
        "id": "JnZmWfgRx5l2",
        "outputId": "0699ddbc-5cfb-4689-f797-723437c11a7b",
        "colab": {
          "base_uri": "https://localhost:8080/"
        }
      },
      "source": [
        "single_tokens = [token for token, count in cup_code_counter.items() if count == 1]\n",
        "len(single_tokens) "
      ],
      "execution_count": null,
      "outputs": [
        {
          "output_type": "execute_result",
          "data": {
            "text/plain": [
              "6454"
            ]
          },
          "metadata": {
            "tags": []
          },
          "execution_count": 94
        }
      ]
    },
    {
      "cell_type": "code",
      "metadata": {
        "id": "fMeTKDPYxKAG",
        "outputId": "9de6c981-6531-4613-dc0d-7b86a876a190",
        "colab": {
          "base_uri": "https://localhost:8080/"
        }
      },
      "source": [
        "# Этот частотный словарь построен только по первым предложениям комментариев, потому что\n",
        "# Только для них есть токенизация \n",
        "cup_comment_counter.most_common(20)"
      ],
      "execution_count": null,
      "outputs": [
        {
          "output_type": "execute_result",
          "data": {
            "text/plain": [
              "[('the', 9),\n",
              " ('id', 9),\n",
              " ('lhs', 8),\n",
              " ('are', 7),\n",
              " ('version', 7),\n",
              " ('task', 7),\n",
              " ('zoom', 7),\n",
              " ('string', 6),\n",
              " ('file', 6),\n",
              " ('key', 6),\n",
              " ('b', 6),\n",
              " ('bytes', 6),\n",
              " ('generates', 6),\n",
              " ('comment', 6),\n",
              " ('secret', 6),\n",
              " ('peers', 6),\n",
              " ('interface', 5),\n",
              " ('with', 5),\n",
              " ('name', 5),\n",
              " ('or', 5)]"
            ]
          },
          "metadata": {
            "tags": []
          },
          "execution_count": 102
        }
      ]
    },
    {
      "cell_type": "code",
      "metadata": {
        "id": "Pi2zdLDMx9GY",
        "outputId": "c335ce72-2b06-4e1b-af52-682d0fa3630e",
        "colab": {
          "base_uri": "https://localhost:8080/"
        }
      },
      "source": [
        "# ~80% of tokens in CUP description comments are used only once\n",
        "single_tokens = [token for token, count in cup_comment_counter.items() if count == 1]\n",
        "len(single_tokens) "
      ],
      "execution_count": null,
      "outputs": [
        {
          "output_type": "execute_result",
          "data": {
            "text/plain": [
              "13175"
            ]
          },
          "metadata": {
            "tags": []
          },
          "execution_count": 95
        }
      ]
    },
    {
      "cell_type": "code",
      "metadata": {
        "id": "nQMpoV-pyKP1",
        "outputId": "78ca1598-651d-4f2f-f564-7c40fd69404d",
        "colab": {
          "base_uri": "https://localhost:8080/"
        }
      },
      "source": [
        "random.sample(single_tokens, 12)"
      ],
      "execution_count": null,
      "outputs": [
        {
          "output_type": "execute_result",
          "data": {
            "text/plain": [
              "['kickstarts',\n",
              " 'algrebra',\n",
              " 'respond',\n",
              " 'road',\n",
              " 'javafile',\n",
              " 'cram',\n",
              " 'raster',\n",
              " 'itemstack',\n",
              " 'propertys',\n",
              " 'childe',\n",
              " 'genomic',\n",
              " 'papx']"
            ]
          },
          "metadata": {
            "tags": []
          },
          "execution_count": 98
        }
      ]
    },
    {
      "cell_type": "code",
      "metadata": {
        "id": "3AzHHssDyh7l",
        "outputId": "68e9103a-36cc-40d8-acec-1716f8084426",
        "colab": {
          "base_uri": "https://localhost:8080/"
        }
      },
      "source": [
        "random.sample(set(cup_comment_counter.keys()) - set(single_tokens), 10)"
      ],
      "execution_count": null,
      "outputs": [
        {
          "output_type": "execute_result",
          "data": {
            "text/plain": [
              "['am',\n",
              " 'within',\n",
              " 'easy',\n",
              " 'style',\n",
              " 'sequences',\n",
              " 'tidy',\n",
              " 'hash',\n",
              " 'uncompress',\n",
              " 'vect',\n",
              " 'superclass']"
            ]
          },
          "metadata": {
            "tags": []
          },
          "execution_count": 101
        }
      ]
    },
    {
      "cell_type": "markdown",
      "metadata": {
        "id": "wE1kYWpRyU7D"
      },
      "source": [
        "В итоге, как не токенизируй, очень много слов из комментариев встречаются только раз. Кроме этого, если сэмплировать эти слова, они какие-то все очень странные. "
      ]
    },
    {
      "cell_type": "code",
      "metadata": {
        "id": "L-s0pl1Iy4Ub",
        "outputId": "51de34fb-79a9-469e-ab50-e40627d191f2",
        "colab": {
          "base_uri": "https://localhost:8080/"
        }
      },
      "source": [
        "# Уникальные слова используются даже чаще, чем не уникальные \n",
        "sum(cup_comment_counter.values()), len(single_tokens)"
      ],
      "execution_count": null,
      "outputs": [
        {
          "output_type": "execute_result",
          "data": {
            "text/plain": [
              "(21941, 13175)"
            ]
          },
          "metadata": {
            "tags": []
          },
          "execution_count": 104
        }
      ]
    },
    {
      "cell_type": "markdown",
      "metadata": {
        "id": "aTb3pRsT09ec"
      },
      "source": [
        "Посмотрим на данные из техаса"
      ]
    },
    {
      "cell_type": "code",
      "metadata": {
        "id": "pP_sDvTn08ck"
      },
      "source": [
        "def filter_texas_tokens(tokens, stem=False):\n",
        "  result = []\n",
        "  for token in tokens:\n",
        "    token = token.lower()\n",
        "    if token.isalpha():\n",
        "      if stem:\n",
        "        result.append(stemmer.stem(token))\n",
        "      else:  \n",
        "        result.append(token)\n",
        "  return result\n",
        "\n",
        "texas_comment_vocab = set()\n",
        "texas_code_vocab = set()\n",
        "texas_code_counter = Counter()\n",
        "texas_comment_counter = Counter()\n",
        "for data in texas_data:\n",
        "  C1 = filter_texas_tokens(data['old_comment_tokens'])\n",
        "  C2 = filter_texas_tokens(data['new_comment_tokens'])\n",
        "  M1 = filter_texas_tokens(data['old_code_tokens'])\n",
        "  M2 = filter_texas_tokens(data['new_code_tokens'])\n",
        "  texas_comment_vocab |= set(C1) | set(C2)\n",
        "  texas_comment_counter |= Counter(C1) | Counter(C2)\n",
        "  texas_code_vocab |= set(M1) | set(M2)\n",
        "  texas_code_counter |= Counter(M1) | Counter(M2)"
      ],
      "execution_count": null,
      "outputs": []
    },
    {
      "cell_type": "code",
      "metadata": {
        "id": "KT0q_GJy2Z9F",
        "outputId": "decb163a-525b-420d-f39d-8abbfbe33233",
        "colab": {
          "base_uri": "https://localhost:8080/"
        }
      },
      "source": [
        "len(texas_code_vocab), len(texas_comment_vocab), len(texas_code_vocab & texas_comment_vocab)"
      ],
      "execution_count": null,
      "outputs": [
        {
          "output_type": "execute_result",
          "data": {
            "text/plain": [
              "(6787, 4608, 3392)"
            ]
          },
          "metadata": {
            "tags": []
          },
          "execution_count": 115
        }
      ]
    },
    {
      "cell_type": "code",
      "metadata": {
        "id": "cEKX5jcl2sjK",
        "outputId": "c7cfbe11-d8f8-4a66-fb44-f8869d0cb42b",
        "colab": {
          "base_uri": "https://localhost:8080/"
        }
      },
      "source": [
        "texas_comment_counter.most_common(10)"
      ],
      "execution_count": null,
      "outputs": [
        {
          "output_type": "execute_result",
          "data": {
            "text/plain": [
              "[('method', 16),\n",
              " ('type', 16),\n",
              " ('the', 12),\n",
              " ('parameter', 12),\n",
              " ('address', 9),\n",
              " ('size', 8),\n",
              " ('argument', 8),\n",
              " ('reference', 8),\n",
              " ('download', 7),\n",
              " ('time', 6)]"
            ]
          },
          "metadata": {
            "tags": []
          },
          "execution_count": 116
        }
      ]
    },
    {
      "cell_type": "code",
      "metadata": {
        "id": "mJUyPgoO3He_",
        "outputId": "768fccbc-f019-4af7-9271-72ba22fc523c",
        "colab": {
          "base_uri": "https://localhost:8080/"
        }
      },
      "source": [
        "texas_code_counter.most_common(10)"
      ],
      "execution_count": null,
      "outputs": [
        {
          "output_type": "execute_result",
          "data": {
            "text/plain": [
              "[('m', 175),\n",
              " ('value', 174),\n",
              " ('operator', 122),\n",
              " ('date', 82),\n",
              " ('token', 82),\n",
              " ('report', 81),\n",
              " ('str', 80),\n",
              " ('is', 78),\n",
              " ('if', 77),\n",
              " ('app', 75)]"
            ]
          },
          "metadata": {
            "tags": []
          },
          "execution_count": 117
        }
      ]
    },
    {
      "cell_type": "code",
      "metadata": {
        "id": "x7YF-5JX3g-D",
        "outputId": "80a1d26c-2eda-4856-f410-400065a92a09",
        "colab": {
          "base_uri": "https://localhost:8080/",
          "height": 351
        }
      },
      "source": [
        "import seaborn as sns\n",
        "sns.distplot(list(texas_comment_counter.values()), bins=20, color=\"red\", kde=False, rug=False).set_title('Frequency of tokens in texas comments')"
      ],
      "execution_count": null,
      "outputs": [
        {
          "output_type": "stream",
          "text": [
            "/usr/local/lib/python3.6/dist-packages/seaborn/distributions.py:2551: FutureWarning: `distplot` is a deprecated function and will be removed in a future version. Please adapt your code to use either `displot` (a figure-level function with similar flexibility) or `histplot` (an axes-level function for histograms).\n",
            "  warnings.warn(msg, FutureWarning)\n"
          ],
          "name": "stderr"
        },
        {
          "output_type": "execute_result",
          "data": {
            "text/plain": [
              "Text(0.5, 1.0, 'Changes count in texas code 0.96 interval')"
            ]
          },
          "metadata": {
            "tags": []
          },
          "execution_count": 123
        },
        {
          "output_type": "display_data",
          "data": {
            "image/png": "[encoded data removed]",
            "text/plain": [
              "<Figure size 432x288 with 1 Axes>"
            ]
          },
          "metadata": {
            "tags": [],
            "needs_background": "light"
          }
        }
      ]
    },
    {
      "cell_type": "code",
      "metadata": {
        "id": "65lZSShU3_3V",
        "outputId": "53bdfd17-a594-415e-add7-a28839328e62",
        "colab": {
          "base_uri": "https://localhost:8080/",
          "height": 351
        }
      },
      "source": [
        "import seaborn as sns\n",
        "sns.distplot(list(texas_code_counter.values()), bins=50, color=\"red\", kde=False, rug=False).set_title('Frequency of tokens in texas code')"
      ],
      "execution_count": null,
      "outputs": [
        {
          "output_type": "stream",
          "text": [
            "/usr/local/lib/python3.6/dist-packages/seaborn/distributions.py:2551: FutureWarning: `distplot` is a deprecated function and will be removed in a future version. Please adapt your code to use either `displot` (a figure-level function with similar flexibility) or `histplot` (an axes-level function for histograms).\n",
            "  warnings.warn(msg, FutureWarning)\n"
          ],
          "name": "stderr"
        },
        {
          "output_type": "execute_result",
          "data": {
            "text/plain": [
              "Text(0.5, 1.0, 'Frequency of tokens in texas code')"
            ]
          },
          "metadata": {
            "tags": []
          },
          "execution_count": 127
        },
        {
          "output_type": "display_data",
          "data": {
            "image/png": "[encoded data removed]",
            "text/plain": [
              "<Figure size 432x288 with 1 Axes>"
            ]
          },
          "metadata": {
            "tags": [],
            "needs_background": "light"
          }
        }
      ]
    },
    {
      "cell_type": "code",
      "metadata": {
        "id": "BY0upKuV3KLk",
        "outputId": "3178bcf5-c17d-446e-8d5e-7bcc6d7a299f",
        "colab": {
          "base_uri": "https://localhost:8080/"
        }
      },
      "source": [
        "# ~75% of tokens in texas (not stemmed) comments used once \n",
        "single_tokens = [token for token, count in texas_comment_counter.items() if count == 1]\n",
        "len(single_tokens) "
      ],
      "execution_count": null,
      "outputs": [
        {
          "output_type": "execute_result",
          "data": {
            "text/plain": [
              "3560"
            ]
          },
          "metadata": {
            "tags": []
          },
          "execution_count": 118
        }
      ]
    },
    {
      "cell_type": "code",
      "metadata": {
        "id": "2O2fVPGf3ZD-",
        "outputId": "4f95f159-c9ba-4f83-84b0-b3883756dc78",
        "colab": {
          "base_uri": "https://localhost:8080/"
        }
      },
      "source": [
        "random.sample(single_tokens, 10)"
      ],
      "execution_count": null,
      "outputs": [
        {
          "output_type": "execute_result",
          "data": {
            "text/plain": [
              "['concerning',\n",
              " 'port',\n",
              " 'conjunction',\n",
              " 'creates',\n",
              " 'idata',\n",
              " 'configurations',\n",
              " 'jtable',\n",
              " 'threaded',\n",
              " 'ends',\n",
              " 'jtest']"
            ]
          },
          "metadata": {
            "tags": []
          },
          "execution_count": 128
        }
      ]
    },
    {
      "cell_type": "code",
      "metadata": {
        "id": "H6taO5QZ3WS3",
        "outputId": "1a9032f1-1d8b-48ab-f759-a523e4e0b017",
        "colab": {
          "base_uri": "https://localhost:8080/"
        }
      },
      "source": [
        "# ~ 20% of code tokens used once \n",
        "single_tokens = [token for token, count in texas_code_counter.items() if count == 1]\n",
        "len(single_tokens) "
      ],
      "execution_count": null,
      "outputs": [
        {
          "output_type": "execute_result",
          "data": {
            "text/plain": [
              "1808"
            ]
          },
          "metadata": {
            "tags": []
          },
          "execution_count": 129
        }
      ]
    },
    {
      "cell_type": "markdown",
      "metadata": {
        "id": "cEJzi7xK55Di"
      },
      "source": [
        "Давайте попробуем использовать стеммер"
      ]
    },
    {
      "cell_type": "code",
      "metadata": {
        "id": "vafvNA2G53tm"
      },
      "source": [
        "texas_comment_vocab = set()\n",
        "texas_code_vocab = set()\n",
        "texas_code_counter = Counter()\n",
        "texas_comment_counter = Counter()\n",
        "for data in texas_data:\n",
        "  C1 = filter_texas_tokens(data['old_comment_tokens'], stem=True)\n",
        "  C2 = filter_texas_tokens(data['new_comment_tokens'], stem=True)\n",
        "  M1 = filter_texas_tokens(data['old_code_tokens'], stem=True)\n",
        "  M2 = filter_texas_tokens(data['new_code_tokens'], stem=True)\n",
        "  texas_comment_vocab |= set(C1) | set(C2)\n",
        "  texas_comment_counter |= Counter(C1) | Counter(C2)\n",
        "  texas_code_vocab |= set(M1) | set(M2)\n",
        "  texas_code_counter |= Counter(M1) | Counter(M2)"
      ],
      "execution_count": null,
      "outputs": []
    },
    {
      "cell_type": "code",
      "metadata": {
        "id": "lG_EIQxm6FP5",
        "outputId": "e83da7aa-f018-4797-e5ba-427e06104757",
        "colab": {
          "base_uri": "https://localhost:8080/"
        }
      },
      "source": [
        "# Размер словаря комментариев сильно уменьшился (с 4608 до 3296)\n",
        "len(texas_code_vocab), len(texas_comment_vocab), len(texas_code_vocab & texas_comment_vocab)"
      ],
      "execution_count": null,
      "outputs": [
        {
          "output_type": "execute_result",
          "data": {
            "text/plain": [
              "(5131, 3295, 2632)"
            ]
          },
          "metadata": {
            "tags": []
          },
          "execution_count": 131
        }
      ]
    },
    {
      "cell_type": "code",
      "metadata": {
        "id": "AEuR8zlq6FlJ",
        "outputId": "e7d0c3d5-2d21-4ff8-e3c5-a30f96010a3f",
        "colab": {
          "base_uri": "https://localhost:8080/"
        }
      },
      "source": [
        "texas_comment_counter.most_common(10)"
      ],
      "execution_count": null,
      "outputs": [
        {
          "output_type": "execute_result",
          "data": {
            "text/plain": [
              "[('method', 16),\n",
              " ('type', 16),\n",
              " ('the', 12),\n",
              " ('paramet', 12),\n",
              " ('address', 9),\n",
              " ('size', 8),\n",
              " ('argument', 8),\n",
              " ('refer', 8),\n",
              " ('move', 8),\n",
              " ('link', 7)]"
            ]
          },
          "metadata": {
            "tags": []
          },
          "execution_count": 132
        }
      ]
    },
    {
      "cell_type": "code",
      "metadata": {
        "id": "e0pS0YNZ6HG5",
        "outputId": "43477ff1-04c3-4c16-9bbb-423cb62cb638",
        "colab": {
          "base_uri": "https://localhost:8080/"
        }
      },
      "source": [
        "texas_code_counter.most_common(10)"
      ],
      "execution_count": null,
      "outputs": [
        {
          "output_type": "execute_result",
          "data": {
            "text/plain": [
              "[('m', 175),\n",
              " ('valu', 174),\n",
              " ('oper', 122),\n",
              " ('properti', 98),\n",
              " ('date', 82),\n",
              " ('token', 82),\n",
              " ('report', 81),\n",
              " ('str', 80),\n",
              " ('is', 78),\n",
              " ('if', 77)]"
            ]
          },
          "metadata": {
            "tags": []
          },
          "execution_count": 133
        }
      ]
    },
    {
      "cell_type": "code",
      "metadata": {
        "id": "vNhuCjHp6J5-",
        "outputId": "a36a3a0a-bab7-4e5e-c3d5-26a05f649ee5",
        "colab": {
          "base_uri": "https://localhost:8080/",
          "height": 351
        }
      },
      "source": [
        "import seaborn as sns\n",
        "sns.distplot(list(texas_comment_counter.values()), bins=20, color=\"red\", kde=False, rug=False).set_title('Frequency of tokens in texas comments')"
      ],
      "execution_count": null,
      "outputs": [
        {
          "output_type": "stream",
          "text": [
            "/usr/local/lib/python3.6/dist-packages/seaborn/distributions.py:2551: FutureWarning: `distplot` is a deprecated function and will be removed in a future version. Please adapt your code to use either `displot` (a figure-level function with similar flexibility) or `histplot` (an axes-level function for histograms).\n",
            "  warnings.warn(msg, FutureWarning)\n"
          ],
          "name": "stderr"
        },
        {
          "output_type": "execute_result",
          "data": {
            "text/plain": [
              "Text(0.5, 1.0, 'Frequency of tokens in texas comments')"
            ]
          },
          "metadata": {
            "tags": []
          },
          "execution_count": 134
        },
        {
          "output_type": "display_data",
          "data": {
            "image/png": "[encoded data removed]",
            "text/plain": [
              "<Figure size 432x288 with 1 Axes>"
            ]
          },
          "metadata": {
            "tags": [],
            "needs_background": "light"
          }
        }
      ]
    },
    {
      "cell_type": "code",
      "metadata": {
        "id": "4gjTxu216LQD",
        "outputId": "8f579bc8-9785-447b-f266-9f0cb710f133",
        "colab": {
          "base_uri": "https://localhost:8080/",
          "height": 351
        }
      },
      "source": [
        "import seaborn as sns\n",
        "sns.distplot(list(texas_code_counter.values()), bins=50, color=\"red\", kde=False, rug=False).set_title('Frequency of tokens in texas code')"
      ],
      "execution_count": null,
      "outputs": [
        {
          "output_type": "stream",
          "text": [
            "/usr/local/lib/python3.6/dist-packages/seaborn/distributions.py:2551: FutureWarning: `distplot` is a deprecated function and will be removed in a future version. Please adapt your code to use either `displot` (a figure-level function with similar flexibility) or `histplot` (an axes-level function for histograms).\n",
            "  warnings.warn(msg, FutureWarning)\n"
          ],
          "name": "stderr"
        },
        {
          "output_type": "execute_result",
          "data": {
            "text/plain": [
              "Text(0.5, 1.0, 'Frequency of tokens in texas code')"
            ]
          },
          "metadata": {
            "tags": []
          },
          "execution_count": 135
        },
        {
          "output_type": "display_data",
          "data": {
            "image/png": "[encoded data removed]",
            "text/plain": [
              "<Figure size 432x288 with 1 Axes>"
            ]
          },
          "metadata": {
            "tags": [],
            "needs_background": "light"
          }
        }
      ]
    },
    {
      "cell_type": "code",
      "metadata": {
        "id": "d53whN6k6MvU",
        "outputId": "52780c59-8d27-4657-bc20-6f8714333b0e",
        "colab": {
          "base_uri": "https://localhost:8080/"
        }
      },
      "source": [
        "# ~71% of tokens in texas (not stemmed) comments used once \n",
        "single_tokens = [token for token, count in texas_comment_counter.items() if count == 1]\n",
        "len(single_tokens) "
      ],
      "execution_count": null,
      "outputs": [
        {
          "output_type": "execute_result",
          "data": {
            "text/plain": [
              "2349"
            ]
          },
          "metadata": {
            "tags": []
          },
          "execution_count": 136
        }
      ]
    },
    {
      "cell_type": "code",
      "metadata": {
        "id": "KqY4nErI6OHh",
        "outputId": "62dcad5b-fbd4-48d6-b33e-aca6cef80f86",
        "colab": {
          "base_uri": "https://localhost:8080/"
        }
      },
      "source": [
        "random.sample(single_tokens, 20)"
      ],
      "execution_count": null,
      "outputs": [
        {
          "output_type": "execute_result",
          "data": {
            "text/plain": [
              "['uriimpl',\n",
              " 'qlfield',\n",
              " 'idt',\n",
              " 'picker',\n",
              " 'lhex',\n",
              " 'fss',\n",
              " 'miranda',\n",
              " 'stringifi',\n",
              " 'tempor',\n",
              " 'er',\n",
              " 'atan',\n",
              " 'springframework',\n",
              " 'isourc',\n",
              " 'mu',\n",
              " 'startend',\n",
              " 'colonifi',\n",
              " 'failov',\n",
              " 'ioruntim',\n",
              " 'unsync',\n",
              " 'invari']"
            ]
          },
          "metadata": {
            "tags": []
          },
          "execution_count": 140
        }
      ]
    },
    {
      "cell_type": "code",
      "metadata": {
        "id": "HV3xjuWb6PiJ",
        "outputId": "e77fdd6a-2a96-4747-91c2-3e8e1b1e60d8",
        "colab": {
          "base_uri": "https://localhost:8080/"
        }
      },
      "source": [
        "# ~ 20% of code tokens used once \n",
        "single_tokens = [token for token, count in texas_code_counter.items() if count == 1]\n",
        "len(single_tokens) "
      ],
      "execution_count": null,
      "outputs": [
        {
          "output_type": "execute_result",
          "data": {
            "text/plain": [
              "1288"
            ]
          },
          "metadata": {
            "tags": []
          },
          "execution_count": 138
        }
      ]
    }
  ]
}