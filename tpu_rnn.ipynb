{
 "nbformat": 4,
 "nbformat_minor": 0,
 "metadata": {
  "accelerator": "TPU",
  "colab": {
   "name": "tpu_rnn.ipynb",
   "provenance": [],
   "collapsed_sections": []
  },
  "kernelspec": {
   "name": "python3",
   "language": "python",
   "display_name": "Python 3"
  }
 },
 "cells": [
  {
   "cell_type": "code",
   "metadata": {
    "id": "1BKP-OZg-cnO"
   },
   "source": [
    "import tensorflow as tf"
   ],
   "execution_count": 1,
   "outputs": []
  },
  {
   "cell_type": "code",
   "metadata": {
    "id": "B1HakR_9_Wwo",
    "outputId": "843cd35f-cbf1-4555-d063-c91ac13b56ab",
    "colab": {
     "base_uri": "https://localhost:8080/",
     "height": 84
    }
   },
   "source": [
    "!pip install fasttext"
   ],
   "execution_count": null,
   "outputs": [
    {
     "output_type": "stream",
     "text": [
      "Requirement already satisfied: fasttext in /usr/local/lib/python3.6/dist-packages (0.9.2)\n",
      "Requirement already satisfied: setuptools>=0.7.0 in /usr/local/lib/python3.6/dist-packages (from fasttext) (50.3.0)\n",
      "Requirement already satisfied: pybind11>=2.2 in /usr/local/lib/python3.6/dist-packages (from fasttext) (2.5.0)\n",
      "Requirement already satisfied: numpy in /usr/local/lib/python3.6/dist-packages (from fasttext) (1.18.5)\n"
     ],
     "name": "stdout"
    }
   ]
  },
  {
   "cell_type": "code",
   "metadata": {
    "id": "fjjuqLOj_fmO"
   },
   "source": [
    "from vocab import MixVocab, Vocab\n",
    "mixvocab = MixVocab.load('dataset/mix_vocab.json')\n",
    "#vocab = Vocab.load('dataset/vocab.json')\n",
    "#vocab.load_embeddings('dataset/vocab_embeddings.pkl')\n",
    "mixvocab.load_embeddings('dataset/mix_vocab_embeddings.pkl')"
   ],
   "execution_count": 2,
   "outputs": []
  },
  {
   "cell_type": "code",
   "metadata": {
    "id": "-PREp4jT_0GO"
   },
   "source": [
    "from sklearn.utils import shuffle\n",
    "from dataset import Dataset\n",
    "import numpy as np\n",
    "def create_dataset(is_train):\n",
    "        if is_train:\n",
    "            dataset = Dataset.create_from_file('dataset/train.jsonl')\n",
    "        else:\n",
    "            dataset = Dataset.create_from_file('dataset/test.jsonl')\n",
    "        code_data, comment_data, Y = [], [], []\n",
    "        for example in dataset.train_batch_iter(1, shuffle=False):\n",
    "\n",
    "            new_code_tokens =mixvocab.token.words2indices(example.new_code_tokens)[0]\n",
    "            src_tokens = mixvocab.token.words2indices(example.src_tokens)[0]\n",
    "            tgt_tokens = mixvocab.token.words2indices(example.tgt_tokens)[0]\n",
    "\n",
    "             # new code and source(old) tokens --> inconsistency --> positive example\n",
    "            code_data.append(new_code_tokens)\n",
    "            comment_data.append(src_tokens)\n",
    "            Y.append(1)\n",
    "            # new code and target(new) tokens ---> consistency --> negative example\n",
    "            code_data.append(new_code_tokens)\n",
    "            comment_data.append(tgt_tokens)\n",
    "            Y.append(0)\n",
    "        return code_data, comment_data, Y"
   ],
   "execution_count": 3,
   "outputs": []
  },
  {
   "cell_type": "code",
   "metadata": {
    "id": "PWmvDwu7_3_G",
    "outputId": "53ed32eb-921c-464e-fa67-9d4ee335cb73",
    "colab": {
     "base_uri": "https://localhost:8080/",
     "height": 50
    }
   },
   "source": [
    "test_codeX, test_commentX, testY = create_dataset(is_train=False)\n",
    "codeX, commentX, Y = create_dataset(is_train=True)"
   ],
   "execution_count": 4,
   "outputs": [
    {
     "name": "stderr",
     "output_type": "stream",
     "text": [
      "INFO:root:loading 9673 samples\n",
      "INFO:root:loading 85657 samples\n"
     ]
    }
   ]
  },
  {
   "cell_type": "code",
   "metadata": {
    "id": "KMreqXo6Aoge",
    "outputId": "e3a4fd1b-902a-479a-a287-7911e6d8145f",
    "colab": {
     "base_uri": "https://localhost:8080/",
     "height": 33
    }
   },
   "source": [
    "codeX = np.array(codeX)\n",
    "commentX = np.array(commentX)\n",
    "Y = np.array(Y)\n",
    "length = list(map(len, codeX))\n",
    "q3 = np.quantile(length, 0.75)\n",
    "filter_length = length <= q3\n",
    "codeX = codeX[filter_length]\n",
    "commentX = commentX[filter_length]\n",
    "Y = Y[filter_length]\n",
    "max_code_length = int(q3)\n",
    "\n",
    "print(len(codeX))"
   ],
   "execution_count": 5,
   "outputs": [
    {
     "name": "stdout",
     "output_type": "stream",
     "text": [
      "128716\n"
     ]
    }
   ]
  },
  {
   "cell_type": "code",
   "metadata": {
    "id": "H6v1GfVyFMrr",
    "outputId": "74506d83-50ca-4c91-e174-2ed0168ff964",
    "colab": {
     "base_uri": "https://localhost:8080/",
     "height": 33
    }
   },
   "source": [
    "test_codeX = np.array(test_codeX)\n",
    "test_commentX = np.array(test_commentX)\n",
    "testY = np.array(testY)\n",
    "length = list(map(len, test_codeX))\n",
    "q3 = np.quantile(length, 0.75)\n",
    "filter_length = length <= q3\n",
    "test_codeX = test_codeX[filter_length]\n",
    "test_commentX = test_commentX[filter_length]\n",
    "testY = testY[filter_length]\n",
    "max_code_length = int(q3)\n",
    "\n",
    "print(len(test_codeX))"
   ],
   "execution_count": 6,
   "outputs": [
    {
     "name": "stdout",
     "output_type": "stream",
     "text": [
      "14520\n"
     ]
    }
   ]
  },
  {
   "cell_type": "code",
   "metadata": {
    "id": "pyG0YE6sAqMn",
    "outputId": "1599829c-8a81-476a-cbba-8bd22e12f678",
    "colab": {
     "base_uri": "https://localhost:8080/",
     "height": 33
    }
   },
   "source": [
    "max_comment_length = max(map(len, commentX))\n",
    "print(max_code_length, max_comment_length)"
   ],
   "execution_count": 7,
   "outputs": [
    {
     "name": "stdout",
     "output_type": "stream",
     "text": [
      "188 52\n"
     ]
    }
   ]
  },
  {
   "cell_type": "code",
   "metadata": {
    "id": "xb3-nnUWeP8X"
   },
   "source": [
    "codeX = tf.keras.preprocessing.sequence.pad_sequences(\n",
    "    codeX\n",
    ")\n",
    "test_codeX = tf.keras.preprocessing.sequence.pad_sequences(\n",
    "    test_codeX\n",
    ")"
   ],
   "execution_count": 8,
   "outputs": []
  },
  {
   "cell_type": "code",
   "metadata": {
    "id": "nQBmayp9eQwM"
   },
   "source": [
    "commentX = tf.keras.preprocessing.sequence.pad_sequences(\n",
    "    commentX\n",
    ")\n",
    "test_commentX = tf.keras.preprocessing.sequence.pad_sequences(\n",
    "    test_commentX\n",
    ")"
   ],
   "execution_count": 9,
   "outputs": []
  },
  {
   "cell_type": "code",
   "metadata": {
    "id": "PUFWbYrUf9AA",
    "outputId": "143b8f34-cf07-4785-a62d-cb98e3c0ab15",
    "colab": {
     "base_uri": "https://localhost:8080/",
     "height": 170
    }
   },
   "source": [
    "# just comment this cell if you use GPU\n",
    "import os\n",
    "tf.keras.backend.clear_session()\n",
    "\n",
    "resolver = tf.distribute.cluster_resolver.TPUClusterResolver(tpu='grpc://' + os.environ['COLAB_TPU_ADDR'])\n",
    "tf.config.experimental_connect_to_cluster(resolver)\n",
    "# This is the TPU initialization code that has to be at the beginning.\n",
    "tf.tpu.experimental.initialize_tpu_system(resolver)\n",
    "print(\"All devices: \", tf.config.list_logical_devices('TPU'))"
   ],
   "execution_count": null,
   "outputs": [
    {
     "output_type": "stream",
     "text": [
      "INFO:absl:Entering into master device scope: /job:worker/replica:0/task:0/device:CPU:0\n"
     ],
     "name": "stderr"
    },
    {
     "output_type": "stream",
     "text": [
      "INFO:tensorflow:Initializing the TPU system: grpc://10.5.197.50:8470\n"
     ],
     "name": "stdout"
    },
    {
     "output_type": "stream",
     "text": [
      "INFO:tensorflow:Initializing the TPU system: grpc://10.5.197.50:8470\n"
     ],
     "name": "stderr"
    },
    {
     "output_type": "stream",
     "text": [
      "INFO:tensorflow:Clearing out eager caches\n"
     ],
     "name": "stdout"
    },
    {
     "output_type": "stream",
     "text": [
      "INFO:tensorflow:Clearing out eager caches\n"
     ],
     "name": "stderr"
    },
    {
     "output_type": "stream",
     "text": [
      "INFO:tensorflow:Finished initializing TPU system.\n"
     ],
     "name": "stdout"
    },
    {
     "output_type": "stream",
     "text": [
      "INFO:tensorflow:Finished initializing TPU system.\n"
     ],
     "name": "stderr"
    },
    {
     "output_type": "stream",
     "text": [
      "All devices:  [LogicalDevice(name='/job:worker/replica:0/task:0/device:TPU:7', device_type='TPU'), LogicalDevice(name='/job:worker/replica:0/task:0/device:TPU:6', device_type='TPU'), LogicalDevice(name='/job:worker/replica:0/task:0/device:TPU:5', device_type='TPU'), LogicalDevice(name='/job:worker/replica:0/task:0/device:TPU:4', device_type='TPU'), LogicalDevice(name='/job:worker/replica:0/task:0/device:TPU:0', device_type='TPU'), LogicalDevice(name='/job:worker/replica:0/task:0/device:TPU:1', device_type='TPU'), LogicalDevice(name='/job:worker/replica:0/task:0/device:TPU:2', device_type='TPU'), LogicalDevice(name='/job:worker/replica:0/task:0/device:TPU:3', device_type='TPU')]\n"
     ],
     "name": "stdout"
    }
   ]
  },
  {
   "cell_type": "code",
   "metadata": {
    "id": "tReiDg0DeR0T",
    "outputId": "bae4a4b2-39b9-486f-d4e3-d0441ea59d7c",
    "colab": {
     "base_uri": "https://localhost:8080/",
     "height": 1000
    }
   },
   "source": [
    "from tensorflow.keras import layers\n",
    "\n",
    "# just comment this if you use GPU\n",
    "strategy = tf.distribute.TPUStrategy(resolver)\n",
    "\n",
    "# just comment this if you use GPU\n",
    "with strategy.scope():\n",
    "  vocab_size = len(mixvocab.token) \n",
    "  embedding_size = 300\n",
    "  embedding_matrix = mixvocab.token.embeddings\n",
    "\n",
    "  hidden_size = 64\n",
    "\n",
    "  code_input = tf.keras.Input((None,), name='code')\n",
    "  comment_input = tf.keras.Input((None, ), name='comment')\n",
    "  code_features = layers.Embedding(input_dim=vocab_size,\n",
    "                                  output_dim=embedding_size,\n",
    "                                  embeddings_initializer=\n",
    "                                  tf.keras.initializers.Constant(embedding_matrix),\n",
    "                                  trainable=False)(code_input)\n",
    "  comment_features = layers.Embedding(input_dim=vocab_size,\n",
    "                                  output_dim=embedding_size,\n",
    "                                  embeddings_initializer=\n",
    "                                  tf.keras.initializers.Constant(embedding_matrix),\n",
    "                                  trainable=False)(comment_input)\n",
    "\n",
    "  dropout_rate = 0.4\n",
    "  code_encoder = layers.Bidirectional(layers.LSTM(hidden_size, dropout=dropout_rate))(code_features)\n",
    "  comment_encoder = layers.Bidirectional(layers.LSTM(hidden_size, dropout=dropout_rate))(comment_features)\n",
    "\n",
    "  encoder = layers.Concatenate()([code_encoder, comment_encoder])\n",
    "\n",
    "  encoder_dense = layers.Dense(hidden_size * 4, activation='relu')(encoder)\n",
    "\n",
    "  output = layers.Dense(1, name='out')(encoder_dense)\n",
    "\n",
    "  model = tf.keras.Model(inputs=[code_input, comment_input],\n",
    "                        outputs=[output])\n",
    "  #model.build()\n",
    "  model.summary()\n",
    "  model.compile(loss=tf.keras.losses.BinaryCrossentropy(from_logits=True),\n",
    "              optimizer=tf.keras.optimizers.Adam(0.1),\n",
    "              metrics=['accuracy'])"
   ],
   "execution_count": null,
   "outputs": [
    {
     "output_type": "stream",
     "text": [
      "INFO:tensorflow:Found TPU system:\n"
     ],
     "name": "stdout"
    },
    {
     "output_type": "stream",
     "text": [
      "INFO:tensorflow:Found TPU system:\n"
     ],
     "name": "stderr"
    },
    {
     "output_type": "stream",
     "text": [
      "INFO:tensorflow:*** Num TPU Cores: 8\n"
     ],
     "name": "stdout"
    },
    {
     "output_type": "stream",
     "text": [
      "INFO:tensorflow:*** Num TPU Cores: 8\n"
     ],
     "name": "stderr"
    },
    {
     "output_type": "stream",
     "text": [
      "INFO:tensorflow:*** Num TPU Workers: 1\n"
     ],
     "name": "stdout"
    },
    {
     "output_type": "stream",
     "text": [
      "INFO:tensorflow:*** Num TPU Workers: 1\n"
     ],
     "name": "stderr"
    },
    {
     "output_type": "stream",
     "text": [
      "INFO:tensorflow:*** Num TPU Cores Per Worker: 8\n"
     ],
     "name": "stdout"
    },
    {
     "output_type": "stream",
     "text": [
      "INFO:tensorflow:*** Num TPU Cores Per Worker: 8\n"
     ],
     "name": "stderr"
    },
    {
     "output_type": "stream",
     "text": [
      "INFO:tensorflow:*** Available Device: _DeviceAttributes(/job:localhost/replica:0/task:0/device:CPU:0, CPU, 0, 0)\n"
     ],
     "name": "stdout"
    },
    {
     "output_type": "stream",
     "text": [
      "INFO:tensorflow:*** Available Device: _DeviceAttributes(/job:localhost/replica:0/task:0/device:CPU:0, CPU, 0, 0)\n"
     ],
     "name": "stderr"
    },
    {
     "output_type": "stream",
     "text": [
      "INFO:tensorflow:*** Available Device: _DeviceAttributes(/job:localhost/replica:0/task:0/device:XLA_CPU:0, XLA_CPU, 0, 0)\n"
     ],
     "name": "stdout"
    },
    {
     "output_type": "stream",
     "text": [
      "INFO:tensorflow:*** Available Device: _DeviceAttributes(/job:localhost/replica:0/task:0/device:XLA_CPU:0, XLA_CPU, 0, 0)\n"
     ],
     "name": "stderr"
    },
    {
     "output_type": "stream",
     "text": [
      "INFO:tensorflow:*** Available Device: _DeviceAttributes(/job:worker/replica:0/task:0/device:CPU:0, CPU, 0, 0)\n"
     ],
     "name": "stdout"
    },
    {
     "output_type": "stream",
     "text": [
      "INFO:tensorflow:*** Available Device: _DeviceAttributes(/job:worker/replica:0/task:0/device:CPU:0, CPU, 0, 0)\n"
     ],
     "name": "stderr"
    },
    {
     "output_type": "stream",
     "text": [
      "INFO:tensorflow:*** Available Device: _DeviceAttributes(/job:worker/replica:0/task:0/device:TPU:0, TPU, 0, 0)\n"
     ],
     "name": "stdout"
    },
    {
     "output_type": "stream",
     "text": [
      "INFO:tensorflow:*** Available Device: _DeviceAttributes(/job:worker/replica:0/task:0/device:TPU:0, TPU, 0, 0)\n"
     ],
     "name": "stderr"
    },
    {
     "output_type": "stream",
     "text": [
      "INFO:tensorflow:*** Available Device: _DeviceAttributes(/job:worker/replica:0/task:0/device:TPU:1, TPU, 0, 0)\n"
     ],
     "name": "stdout"
    },
    {
     "output_type": "stream",
     "text": [
      "INFO:tensorflow:*** Available Device: _DeviceAttributes(/job:worker/replica:0/task:0/device:TPU:1, TPU, 0, 0)\n"
     ],
     "name": "stderr"
    },
    {
     "output_type": "stream",
     "text": [
      "INFO:tensorflow:*** Available Device: _DeviceAttributes(/job:worker/replica:0/task:0/device:TPU:2, TPU, 0, 0)\n"
     ],
     "name": "stdout"
    },
    {
     "output_type": "stream",
     "text": [
      "INFO:tensorflow:*** Available Device: _DeviceAttributes(/job:worker/replica:0/task:0/device:TPU:2, TPU, 0, 0)\n"
     ],
     "name": "stderr"
    },
    {
     "output_type": "stream",
     "text": [
      "INFO:tensorflow:*** Available Device: _DeviceAttributes(/job:worker/replica:0/task:0/device:TPU:3, TPU, 0, 0)\n"
     ],
     "name": "stdout"
    },
    {
     "output_type": "stream",
     "text": [
      "INFO:tensorflow:*** Available Device: _DeviceAttributes(/job:worker/replica:0/task:0/device:TPU:3, TPU, 0, 0)\n"
     ],
     "name": "stderr"
    },
    {
     "output_type": "stream",
     "text": [
      "INFO:tensorflow:*** Available Device: _DeviceAttributes(/job:worker/replica:0/task:0/device:TPU:4, TPU, 0, 0)\n"
     ],
     "name": "stdout"
    },
    {
     "output_type": "stream",
     "text": [
      "INFO:tensorflow:*** Available Device: _DeviceAttributes(/job:worker/replica:0/task:0/device:TPU:4, TPU, 0, 0)\n"
     ],
     "name": "stderr"
    },
    {
     "output_type": "stream",
     "text": [
      "INFO:tensorflow:*** Available Device: _DeviceAttributes(/job:worker/replica:0/task:0/device:TPU:5, TPU, 0, 0)\n"
     ],
     "name": "stdout"
    },
    {
     "output_type": "stream",
     "text": [
      "INFO:tensorflow:*** Available Device: _DeviceAttributes(/job:worker/replica:0/task:0/device:TPU:5, TPU, 0, 0)\n"
     ],
     "name": "stderr"
    },
    {
     "output_type": "stream",
     "text": [
      "INFO:tensorflow:*** Available Device: _DeviceAttributes(/job:worker/replica:0/task:0/device:TPU:6, TPU, 0, 0)\n"
     ],
     "name": "stdout"
    },
    {
     "output_type": "stream",
     "text": [
      "INFO:tensorflow:*** Available Device: _DeviceAttributes(/job:worker/replica:0/task:0/device:TPU:6, TPU, 0, 0)\n"
     ],
     "name": "stderr"
    },
    {
     "output_type": "stream",
     "text": [
      "INFO:tensorflow:*** Available Device: _DeviceAttributes(/job:worker/replica:0/task:0/device:TPU:7, TPU, 0, 0)\n"
     ],
     "name": "stdout"
    },
    {
     "output_type": "stream",
     "text": [
      "INFO:tensorflow:*** Available Device: _DeviceAttributes(/job:worker/replica:0/task:0/device:TPU:7, TPU, 0, 0)\n"
     ],
     "name": "stderr"
    },
    {
     "output_type": "stream",
     "text": [
      "INFO:tensorflow:*** Available Device: _DeviceAttributes(/job:worker/replica:0/task:0/device:TPU_SYSTEM:0, TPU_SYSTEM, 0, 0)\n"
     ],
     "name": "stdout"
    },
    {
     "output_type": "stream",
     "text": [
      "INFO:tensorflow:*** Available Device: _DeviceAttributes(/job:worker/replica:0/task:0/device:TPU_SYSTEM:0, TPU_SYSTEM, 0, 0)\n"
     ],
     "name": "stderr"
    },
    {
     "output_type": "stream",
     "text": [
      "INFO:tensorflow:*** Available Device: _DeviceAttributes(/job:worker/replica:0/task:0/device:XLA_CPU:0, XLA_CPU, 0, 0)\n"
     ],
     "name": "stdout"
    },
    {
     "output_type": "stream",
     "text": [
      "INFO:tensorflow:*** Available Device: _DeviceAttributes(/job:worker/replica:0/task:0/device:XLA_CPU:0, XLA_CPU, 0, 0)\n"
     ],
     "name": "stderr"
    },
    {
     "output_type": "stream",
     "text": [
      "Model: \"functional_9\"\n",
      "__________________________________________________________________________________________________\n",
      "Layer (type)                    Output Shape         Param #     Connected to                     \n",
      "==================================================================================================\n",
      "code (InputLayer)               [(None, None)]       0                                            \n",
      "__________________________________________________________________________________________________\n",
      "comment (InputLayer)            [(None, None)]       0                                            \n",
      "__________________________________________________________________________________________________\n",
      "embedding_8 (Embedding)         (None, None, 300)    13373400    code[0][0]                       \n",
      "__________________________________________________________________________________________________\n",
      "embedding_9 (Embedding)         (None, None, 300)    13373400    comment[0][0]                    \n",
      "__________________________________________________________________________________________________\n",
      "bidirectional_8 (Bidirectional) (None, 128)          186880      embedding_8[0][0]                \n",
      "__________________________________________________________________________________________________\n",
      "bidirectional_9 (Bidirectional) (None, 128)          186880      embedding_9[0][0]                \n",
      "__________________________________________________________________________________________________\n",
      "concatenate_4 (Concatenate)     (None, 256)          0           bidirectional_8[0][0]            \n",
      "                                                                 bidirectional_9[0][0]            \n",
      "__________________________________________________________________________________________________\n",
      "dense_4 (Dense)                 (None, 256)          65792       concatenate_4[0][0]              \n",
      "__________________________________________________________________________________________________\n",
      "out (Dense)                     (None, 1)            257         dense_4[0][0]                    \n",
      "==================================================================================================\n",
      "Total params: 27,186,609\n",
      "Trainable params: 439,809\n",
      "Non-trainable params: 26,746,800\n",
      "__________________________________________________________________________________________________\n"
     ],
     "name": "stdout"
    }
   ]
  },
  {
   "cell_type": "code",
   "metadata": {
    "id": "d8TZqAX8A2SX",
    "outputId": "e236af57-c5c8-42dc-bd20-13116c544ca8",
    "colab": {
     "background_save": true,
     "base_uri": "https://localhost:8080/",
     "height": 170
    }
   },
   "source": [
    "history = model.fit({'code': codeX, 'comment':commentX}, {'out':Y}, epochs=10,\n",
    "                    shuffle= True, batch_size=32, validation_split=0.2)"
   ],
   "execution_count": null,
   "outputs": [
    {
     "output_type": "stream",
     "text": [
      "Epoch 1/3\n",
      "   1/3218 [..............................] - ETA: 2:20:06 - loss: 0.6913 - accuracy: 0.4062WARNING:tensorflow:Callbacks method `on_train_batch_end` is slow compared to the batch time (batch time: 0.0023s vs `on_train_batch_end` time: 0.0269s). Check your callbacks.\n"
     ],
     "name": "stdout"
    },
    {
     "output_type": "stream",
     "text": [
      "WARNING:tensorflow:Callbacks method `on_train_batch_end` is slow compared to the batch time (batch time: 0.0023s vs `on_train_batch_end` time: 0.0269s). Check your callbacks.\n"
     ],
     "name": "stderr"
    },
    {
     "output_type": "stream",
     "text": [
      "3217/3218 [============================>.] - ETA: 0s - loss: 0.7410 - accuracy: 0.5000WARNING:tensorflow:Callbacks method `on_test_batch_end` is slow compared to the batch time (batch time: 0.0018s vs `on_test_batch_end` time: 0.0171s). Check your callbacks.\n"
     ],
     "name": "stdout"
    },
    {
     "output_type": "stream",
     "text": [
      "WARNING:tensorflow:Callbacks method `on_test_batch_end` is slow compared to the batch time (batch time: 0.0018s vs `on_test_batch_end` time: 0.0171s). Check your callbacks.\n"
     ],
     "name": "stderr"
    },
    {
     "output_type": "stream",
     "text": [
      "3218/3218 [==============================] - 112s 35ms/step - loss: 0.7410 - accuracy: 0.5000 - val_loss: 0.6931 - val_accuracy: 0.5000\n",
      "Epoch 2/3\n",
      "3218/3218 [==============================] - 107s 33ms/step - loss: 0.6954 - accuracy: 0.5000 - val_loss: 0.6938 - val_accuracy: 0.5000\n",
      "Epoch 3/3\n",
      "3218/3218 [==============================] - 106s 33ms/step - loss: 0.6953 - accuracy: 0.5000 - val_loss: 0.6953 - val_accuracy: 0.5000\n"
     ],
     "name": "stdout"
    }
   ]
  },
  {
   "cell_type": "code",
   "metadata": {
    "id": "ZvrYWgAomO9f",
    "outputId": "ce068add-55fb-41c6-bdee-e3224e7014a8",
    "colab": {
     "base_uri": "https://localhost:8080/",
     "height": 295
    }
   },
   "source": [
    "import matplotlib.pyplot as plt\n",
    "\n",
    "plt.plot(history.history['loss'])\n",
    "plt.plot(history.history['val_loss'])\n",
    "plt.title('model loss')\n",
    "plt.ylabel('loss')\n",
    "plt.xlabel('epoch')\n",
    "plt.legend(['train', 'val'], loc='upper left')\n",
    "plt.show()"
   ],
   "execution_count": null,
   "outputs": [
    {
     "output_type": "display_data",
     "data": {
      "image/png": "[encoded data removed]",
      "text/plain": [
       "<Figure size 432x288 with 1 Axes>"
      ]
     },
     "metadata": {
      "tags": []
     }
    }
   ]
  },
  {
   "cell_type": "code",
   "metadata": {
    "id": "FvFCzwUGPZRd"
   },
   "source": [
    "print(\"Evaluate on test data\")\n",
    "results = model.evaluate({'code': test_codeX, 'comment':test_commentX}, {'out':testY})\n",
    "print(\"test loss, test acc:\", results)"
   ],
   "execution_count": null,
   "outputs": []
  }
 ]
}