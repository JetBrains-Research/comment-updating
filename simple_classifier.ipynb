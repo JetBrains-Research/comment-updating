{
 "cells": [
  {
   "cell_type": "code",
   "execution_count": null,
   "outputs": [],
   "source": [
    "from vocab import MixVocab, Vocab\n",
    "mixvocab = MixVocab.load('dataset/mix_vocab.json')\n",
    "vocab = Vocab.load('dataset/vocab.json')\n",
    "vocab.load_embeddings('dataset/vocab_embeddings.pkl')\n",
    "mixvocab.load_embeddings('dataset/mix_vocab_embeddings.pkl')"
   ],
   "metadata": {
    "collapsed": false,
    "pycharm": {
     "name": "#%%\n"
    }
   }
  },
  {
   "cell_type": "code",
   "execution_count": null,
   "outputs": [],
   "source": [
    "from sklearn.utils import shuffle\n",
    "from dataset import Dataset\n",
    "import numpy as np\n",
    "def create_dataset(is_train):\n",
    "        if is_train:\n",
    "            dataset = Dataset.create_from_file('dataset/train.jsonl')\n",
    "        else:\n",
    "            dataset = Dataset.create_from_file('dataset/test.jsonl')\n",
    "\n",
    "        code_data, comment_data, Y = [], [], []\n",
    "\n",
    "        # Pretrained embeddings\n",
    "        EM = np.array(mixvocab.token.embeddings)\n",
    "\n",
    "        for example in dataset.train_batch_iter(1, shuffle=False):\n",
    "            # take mean of embeddings\n",
    "            new_code_tokens = np.mean(EM[mixvocab.token.words2indices(example.new_code_tokens)[0]], axis=0)\n",
    "            src_tokens = np.mean(EM[mixvocab.token.words2indices(example.src_tokens)[0]], axis=0)\n",
    "            tgt_tokens = np.mean(EM[mixvocab.token.words2indices(example.tgt_tokens)[0]], axis=0)\n",
    "\n",
    "            # new code and source(old) tokens --> inconsistency --> positive example\n",
    "            code_data.append(new_code_tokens)\n",
    "            comment_data.append(src_tokens)\n",
    "            Y.append(1)\n",
    "            # new code and target(new) tokens ---> consistency --> negative example\n",
    "            code_data.append(new_code_tokens)\n",
    "            comment_data.append(tgt_tokens)\n",
    "            Y.append(0)\n",
    "        # concatenate comments and code mean embeddings\n",
    "        return np.concatenate((code_data, comment_data), axis=1), Y"
   ],
   "metadata": {
    "collapsed": false,
    "pycharm": {
     "name": "#%%\n"
    }
   }
  },
  {
   "cell_type": "code",
   "execution_count": 10,
   "outputs": [
    {
     "name": "stderr",
     "output_type": "stream",
     "text": [
      "INFO:root:loading 9673 samples\n"
     ]
    }
   ],
   "source": [
    "testX, testY = create_dataset(is_train=False)\n",
    "testX, testY = shuffle(testX, testY)"
   ],
   "metadata": {
    "collapsed": false,
    "pycharm": {
     "name": "#%%\n"
    }
   }
  },
  {
   "cell_type": "code",
   "execution_count": 11,
   "outputs": [
    {
     "name": "stderr",
     "output_type": "stream",
     "text": [
      "INFO:root:loading 85657 samples\n"
     ]
    }
   ],
   "source": [
    "X, Y = create_dataset(is_train=True)\n",
    "X, Y = shuffle(X, Y)"
   ],
   "metadata": {
    "collapsed": false,
    "pycharm": {
     "name": "#%%\n"
    }
   }
  },
  {
   "cell_type": "code",
   "execution_count": null,
   "outputs": [],
   "source": [
    "!pip install matplotlib"
   ],
   "metadata": {
    "collapsed": false,
    "pycharm": {
     "name": "#%%\n"
    }
   }
  },
  {
   "cell_type": "code",
   "execution_count": 15,
   "outputs": [],
   "source": [
    "import matplotlib.pyplot as plt\n",
    "from sklearn.base import clone\n",
    "# Create plots (train_size, model_accuracy on train) and (train_size, model_accuracy on test) for all models\n",
    "def test_models(X, Y, testX, testY, train_sizes, test_size, models):\n",
    "    plt.style.use('seaborn-darkgrid')\n",
    "    palette = plt.get_cmap('Set1')\n",
    "    num = 0\n",
    "    for model, model_name in models:\n",
    "        num += 1\n",
    "        train_vals = []\n",
    "        test_vals = []\n",
    "        for train_size in train_sizes:\n",
    "            model = clone(model) # refresh model\n",
    "            model.fit(X[:train_size], Y[:train_size])\n",
    "            train_vals.append(model.score(X[:train_size], Y[:train_size]))\n",
    "            test_vals.append(model.score(testX[:test_size], testY[:test_size]))\n",
    "        plt.subplot(121)\n",
    "        plt.plot(train_sizes, train_vals, marker='', color=palette(num), linewidth=1, alpha=0.9, label=model_name)\n",
    "        plt.subplot(122)\n",
    "        plt.plot(train_sizes, test_vals, marker='', color=palette(num), linewidth=1, alpha=0.9, label=model_name)\n",
    "    plt.legend(loc=2, ncol=2)\n",
    "    plt.title(\"train_size to accuracy\", loc='left', fontsize=12, fontweight=0, color='orange')\n",
    "    plt.xlabel(\"Size\")\n",
    "    plt.ylabel(\"Score\")\n",
    "    plt.show()"
   ],
   "metadata": {
    "collapsed": false,
    "pycharm": {
     "name": "#%%\n"
    }
   }
  },
  {
   "cell_type": "code",
   "execution_count": 19,
   "outputs": [
    {
     "name": "stderr",
     "output_type": "stream",
     "text": [
      "[Parallel(n_jobs=1)]: Using backend SequentialBackend with 1 concurrent workers.\n",
      "[Parallel(n_jobs=1)]: Done   1 out of   1 | elapsed:    0.0s finished\n",
      "[Parallel(n_jobs=1)]: Using backend SequentialBackend with 1 concurrent workers.\n",
      "[Parallel(n_jobs=1)]: Done   1 out of   1 | elapsed:    0.0s finished\n",
      "[Parallel(n_jobs=1)]: Using backend SequentialBackend with 1 concurrent workers.\n",
      "[Parallel(n_jobs=1)]: Done   1 out of   1 | elapsed:    0.0s finished\n",
      "<ipython-input-15-48aaaaeb9cbc>:17: MatplotlibDeprecationWarning: Adding an axes using the same arguments as a previous axes currently reuses the earlier instance.  In a future version, a new instance will always be created and returned.  Meanwhile, this warning can be suppressed, and the future behavior ensured, by passing a unique label to each axes instance.\n",
      "  plt.subplot(121)\n",
      "<ipython-input-15-48aaaaeb9cbc>:19: MatplotlibDeprecationWarning: Adding an axes using the same arguments as a previous axes currently reuses the earlier instance.  In a future version, a new instance will always be created and returned.  Meanwhile, this warning can be suppressed, and the future behavior ensured, by passing a unique label to each axes instance.\n",
      "  plt.subplot(122)\n",
      "<ipython-input-15-48aaaaeb9cbc>:17: MatplotlibDeprecationWarning: Adding an axes using the same arguments as a previous axes currently reuses the earlier instance.  In a future version, a new instance will always be created and returned.  Meanwhile, this warning can be suppressed, and the future behavior ensured, by passing a unique label to each axes instance.\n",
      "  plt.subplot(121)\n",
      "<ipython-input-15-48aaaaeb9cbc>:19: MatplotlibDeprecationWarning: Adding an axes using the same arguments as a previous axes currently reuses the earlier instance.  In a future version, a new instance will always be created and returned.  Meanwhile, this warning can be suppressed, and the future behavior ensured, by passing a unique label to each axes instance.\n",
      "  plt.subplot(122)\n",
      "<ipython-input-15-48aaaaeb9cbc>:17: MatplotlibDeprecationWarning: Adding an axes using the same arguments as a previous axes currently reuses the earlier instance.  In a future version, a new instance will always be created and returned.  Meanwhile, this warning can be suppressed, and the future behavior ensured, by passing a unique label to each axes instance.\n",
      "  plt.subplot(121)\n",
      "<ipython-input-15-48aaaaeb9cbc>:19: MatplotlibDeprecationWarning: Adding an axes using the same arguments as a previous axes currently reuses the earlier instance.  In a future version, a new instance will always be created and returned.  Meanwhile, this warning can be suppressed, and the future behavior ensured, by passing a unique label to each axes instance.\n",
      "  plt.subplot(122)\n"
     ]
    },
    {
     "data": {
      "text/plain": "<Figure size 432x288 with 2 Axes>",
      "image/png": "[encoded data removed]"
     },
     "metadata": {},
     "output_type": "display_data"
    }
   ],
   "source": [
    "# Really long to run with this train sizes (on my computer)\n",
    "from sklearn.svm import SVC\n",
    "from sklearn.naive_bayes import GaussianNB\n",
    "from sklearn.linear_model import LogisticRegression\n",
    "from sklearn.tree import DecisionTreeClassifier\n",
    "\n",
    "train_sizes = [100, 500, 1000, 10000, 50000] # up to 170 000\n",
    "test_size = 5000 # up to 19 000\n",
    "models = [(SVC(), 'svc'),\n",
    "          (LogisticRegression(random_state=0,  max_iter=1000, verbose=1), 'Logistic'),\n",
    "          (GaussianNB(), 'Gauss'),\n",
    "          (DecisionTreeClassifier(max_depth=5), 'DTree')]\n",
    "test_models(X, Y, testX, testY, train_sizes, test_size, models)"
   ],
   "metadata": {
    "collapsed": false,
    "pycharm": {
     "name": "#%%\n"
    }
   }
  }
 ],
 "metadata": {
  "kernelspec": {
   "display_name": "Python 3",
   "language": "python",
   "name": "python3"
  },
  "language_info": {
   "codemirror_mode": {
    "name": "ipython",
    "version": 3
   },
   "file_extension": ".py",
   "mimetype": "text/x-python",
   "name": "python",
   "nbconvert_exporter": "python",
   "pygments_lexer": "ipython3",
   "version": "3.8.3"
  }
 },
 "nbformat": 4,
 "nbformat_minor": 1
}