{
 "nbformat": 4,
 "nbformat_minor": 0,
 "metadata": {
  "accelerator": "GPU",
  "colab": {
   "name": "tpu_rnn_edits.ipynb",
   "provenance": [],
   "collapsed_sections": []
  },
  "kernelspec": {
   "name": "python3",
   "language": "python",
   "display_name": "Python 3"
  }
 },
 "cells": [
  {
   "cell_type": "code",
   "execution_count": null,
   "outputs": [],
   "source": [
    "import tensorflow as tf"
   ],
   "metadata": {
    "collapsed": false,
    "pycharm": {
     "name": "#%%\n"
    }
   }
  },
  {
   "cell_type": "code",
   "metadata": {
    "id": "B1HakR_9_Wwo",
    "outputId": "3e5b7ecc-f62e-4fb5-9d3e-d815f213f6a6",
    "colab": {
     "base_uri": "https://localhost:8080/",
     "height": 254
    }
   },
   "source": [
    "!pip install fasttext"
   ],
   "execution_count": null,
   "outputs": [
    {
     "output_type": "stream",
     "text": [
      "Collecting fasttext\n",
      "\u001B[?25l  Downloading https://files.pythonhosted.org/packages/f8/85/e2b368ab6d3528827b147fdb814f8189acc981a4bc2f99ab894650e05c40/fasttext-0.9.2.tar.gz (68kB)\n",
      "\r\u001B[K     |████▊                           | 10kB 22.7MB/s eta 0:00:01\r\u001B[K     |█████████▌                      | 20kB 28.0MB/s eta 0:00:01\r\u001B[K     |██████████████▎                 | 30kB 19.1MB/s eta 0:00:01\r\u001B[K     |███████████████████             | 40kB 13.4MB/s eta 0:00:01\r\u001B[K     |███████████████████████▉        | 51kB 11.4MB/s eta 0:00:01\r\u001B[K     |████████████████████████████▋   | 61kB 11.6MB/s eta 0:00:01\r\u001B[K     |████████████████████████████████| 71kB 5.3MB/s \n",
      "\u001B[?25hRequirement already satisfied: pybind11>=2.2 in /usr/local/lib/python3.6/dist-packages (from fasttext) (2.6.0)\n",
      "Requirement already satisfied: setuptools>=0.7.0 in /usr/local/lib/python3.6/dist-packages (from fasttext) (50.3.0)\n",
      "Requirement already satisfied: numpy in /usr/local/lib/python3.6/dist-packages (from fasttext) (1.18.5)\n",
      "Building wheels for collected packages: fasttext\n",
      "  Building wheel for fasttext (setup.py) ... \u001B[?25l\u001B[?25hdone\n",
      "  Created wheel for fasttext: filename=fasttext-0.9.2-cp36-cp36m-linux_x86_64.whl size=3023440 sha256=1dc7df5e1a19a755e40f63635b98a8ed8159f0b514f71c735b648ace5836bc9e\n",
      "  Stored in directory: /root/.cache/pip/wheels/98/ba/7f/b154944a1cf5a8cee91c154b75231136cc3a3321ab0e30f592\n",
      "Successfully built fasttext\n",
      "Installing collected packages: fasttext\n",
      "Successfully installed fasttext-0.9.2\n"
     ],
     "name": "stdout"
    }
   ]
  },
  {
   "cell_type": "code",
   "metadata": {
    "id": "fjjuqLOj_fmO"
   },
   "source": [
    "from vocab import MixVocab, Vocab\n",
    "mixvocab = MixVocab.load('dataset/mix_vocab.json')\n",
    "#vocab = Vocab.load('vocab.json')\n",
    "#vocab.load_embeddings('vocab_embeddings.pkl')\n",
    "mixvocab.load_embeddings('dataset/mix_vocab_embeddings.pkl')"
   ],
   "execution_count": null,
   "outputs": []
  },
  {
   "cell_type": "code",
   "metadata": {
    "id": "-PREp4jT_0GO"
   },
   "source": [
    "from sklearn.utils import shuffle\n",
    "from dataset import Dataset\n",
    "import numpy as np\n",
    "def create_dataset(is_train):\n",
    "        if is_train:\n",
    "            dataset = Dataset.create_from_file('dataset/train.jsonl')\n",
    "        else:\n",
    "            dataset = Dataset.create_from_file('dataset/test.jsonl')\n",
    "        old_code_data, new_code_data, comment_data, edit_data, Y = [], [], [], [], []\n",
    "        for example in dataset.train_batch_iter(1, shuffle=False):\n",
    "\n",
    "            old_code_tokens = mixvocab.token.words2indices(example.old_code_tokens)[0]\n",
    "            new_code_tokens = mixvocab.token.words2indices(example.new_code_tokens)[0]\n",
    "            edit_actions = mixvocab.action.words2indices(example.edit_actions)[0]\n",
    "            src_tokens = mixvocab.token.words2indices(example.src_tokens)[0]\n",
    "            tgt_tokens = mixvocab.token.words2indices(example.tgt_tokens)[0]\n",
    "\n",
    "            old_code_data.append(old_code_tokens)\n",
    "            new_code_data.append(new_code_tokens)\n",
    "            comment_data.append(src_tokens)\n",
    "            edit_data.append(edit_actions)\n",
    "            Y.append(1)\n",
    "            old_code_data.append(old_code_tokens)\n",
    "            new_code_data.append(new_code_tokens)\n",
    "            comment_data.append(tgt_tokens)\n",
    "            edit_data.append(edit_actions)\n",
    "            Y.append(0)\n",
    "        return old_code_data, new_code_data, comment_data, edit_data, Y"
   ],
   "execution_count": null,
   "outputs": []
  },
  {
   "cell_type": "code",
   "metadata": {
    "id": "PWmvDwu7_3_G",
    "outputId": "72d52a98-47b0-4656-f72c-7e8e05555f57",
    "colab": {
     "base_uri": "https://localhost:8080/",
     "height": 50
    }
   },
   "source": [
    "test_old_codeX, test_new_codeX, test_commentX, test_editX, testY = create_dataset(is_train=False)\n",
    "old_codeX, new_codeX, commentX, editX, Y = create_dataset(is_train=True)"
   ],
   "execution_count": null,
   "outputs": [
    {
     "output_type": "stream",
     "text": [
      "INFO:root:loading 9673 samples\n",
      "INFO:root:loading 85657 samples\n"
     ],
     "name": "stderr"
    }
   ]
  },
  {
   "cell_type": "code",
   "metadata": {
    "id": "KMreqXo6Aoge",
    "outputId": "54d4f271-ce12-4fa5-ad6d-12dddd21e991",
    "colab": {
     "base_uri": "https://localhost:8080/",
     "height": 33
    }
   },
   "source": [
    "old_codeX = np.array(old_codeX)\n",
    "new_codeX = np.array(new_codeX)\n",
    "commentX = np.array(commentX)\n",
    "editX = np.array(editX)\n",
    "Y = np.array(Y)\n",
    "length = list(map(len, new_codeX))\n",
    "q3 = np.quantile(length, 0.75)\n",
    "filter_length = length <= q3\n",
    "new_codeX = new_codeX[filter_length]\n",
    "old_codeX = old_codeX[filter_length]\n",
    "commentX = commentX[filter_length]\n",
    "editX = editX[filter_length]\n",
    "Y = Y[filter_length]\n",
    "max_code_length = int(q3)\n",
    "\n",
    "print(len(new_codeX))"
   ],
   "execution_count": null,
   "outputs": [
    {
     "output_type": "stream",
     "text": [
      "128716\n"
     ],
     "name": "stdout"
    }
   ]
  },
  {
   "cell_type": "code",
   "metadata": {
    "id": "H6v1GfVyFMrr",
    "outputId": "908d1e2e-3ecf-4dcb-f1b9-de7490746eb2",
    "colab": {
     "base_uri": "https://localhost:8080/",
     "height": 33
    }
   },
   "source": [
    "test_new_codeX = np.array(test_new_codeX)\n",
    "test_old_codeX = np.array(test_old_codeX)\n",
    "test_commentX = np.array(test_commentX)\n",
    "test_editX = np.array(test_editX)\n",
    "testY = np.array(testY)\n",
    "length = list(map(len, test_new_codeX))\n",
    "q3 = np.quantile(length, 0.75)\n",
    "filter_length = length <= q3\n",
    "test_new_codeX = test_new_codeX[filter_length]\n",
    "test_old_codeX = test_old_codeX[filter_length]\n",
    "test_commentX = test_commentX[filter_length]\n",
    "test_editX = test_editX[filter_length]\n",
    "testY = testY[filter_length]\n",
    "max_code_length = int(q3)\n",
    "\n",
    "print(len(test_new_codeX))"
   ],
   "execution_count": null,
   "outputs": [
    {
     "output_type": "stream",
     "text": [
      "14520\n"
     ],
     "name": "stdout"
    }
   ]
  },
  {
   "cell_type": "code",
   "metadata": {
    "id": "pyG0YE6sAqMn",
    "outputId": "88366c84-eebb-4206-c235-20224119763c",
    "colab": {
     "base_uri": "https://localhost:8080/",
     "height": 33
    }
   },
   "source": [
    "max_comment_length = max(map(len, commentX))\n",
    "print(max_code_length, max_comment_length)"
   ],
   "execution_count": null,
   "outputs": [
    {
     "output_type": "stream",
     "text": [
      "188 52\n"
     ],
     "name": "stdout"
    }
   ]
  },
  {
   "cell_type": "code",
   "metadata": {
    "id": "xb3-nnUWeP8X"
   },
   "source": [
    "new_codeX = tf.keras.preprocessing.sequence.pad_sequences(\n",
    "    new_codeX\n",
    ")\n",
    "test_new_codeX = tf.keras.preprocessing.sequence.pad_sequences(\n",
    "    test_new_codeX\n",
    ")"
   ],
   "execution_count": null,
   "outputs": []
  },
  {
   "cell_type": "code",
   "metadata": {
    "id": "lFID-5ZOtXjE"
   },
   "source": [
    "old_codeX = tf.keras.preprocessing.sequence.pad_sequences(\n",
    "    old_codeX\n",
    ")\n",
    "test_old_codeX = tf.keras.preprocessing.sequence.pad_sequences(\n",
    "    test_old_codeX\n",
    ")"
   ],
   "execution_count": null,
   "outputs": []
  },
  {
   "cell_type": "code",
   "metadata": {
    "id": "nQBmayp9eQwM"
   },
   "source": [
    "commentX = tf.keras.preprocessing.sequence.pad_sequences(\n",
    "    commentX\n",
    ")\n",
    "test_commentX = tf.keras.preprocessing.sequence.pad_sequences(\n",
    "    test_commentX\n",
    ")"
   ],
   "execution_count": null,
   "outputs": []
  },
  {
   "cell_type": "code",
   "metadata": {
    "id": "z_e5fKJ9nlu2"
   },
   "source": [
    "editX = tf.keras.preprocessing.sequence.pad_sequences(\n",
    "    editX\n",
    ")\n",
    "test_editX  = tf.keras.preprocessing.sequence.pad_sequences(\n",
    "    test_editX\n",
    ")"
   ],
   "execution_count": null,
   "outputs": []
  },
  {
   "cell_type": "code",
   "metadata": {
    "id": "tReiDg0DeR0T",
    "outputId": "ded5c5da-bc53-43c4-f0ea-1ecbd6470514",
    "colab": {
     "base_uri": "https://localhost:8080/",
     "height": 669
    }
   },
   "source": [
    "from tensorflow.keras import layers\n",
    "\n",
    "vocab_size = len(mixvocab.token) \n",
    "embedding_size = 300\n",
    "embedding_matrix = mixvocab.token.embeddings\n",
    "\n",
    "edit_vocab_size = len(mixvocab.action)\n",
    "edit_embedding_matrix = mixvocab.action.embeddings\n",
    "\n",
    "hidden_size = 64\n",
    "\n",
    "old_code_input = tf.keras.Input((None,), name='old_code')\n",
    "new_code_input = tf.keras.Input((None,), name='new_code')\n",
    "edit_code_input = tf.keras.Input((None,), name='edit_code')\n",
    "comment_input = tf.keras.Input((None, ), name='comment')\n",
    "old_code_features = layers.Embedding(input_dim=vocab_size,\n",
    "                                output_dim=embedding_size,\n",
    "                                embeddings_initializer=\n",
    "                                tf.keras.initializers.Constant(embedding_matrix),\n",
    "                                trainable=False)(old_code_input)\n",
    "                                \n",
    "new_code_features = layers.Embedding(input_dim=vocab_size,\n",
    "                                output_dim=embedding_size,\n",
    "                                embeddings_initializer=\n",
    "                                tf.keras.initializers.Constant(embedding_matrix),\n",
    "                                trainable=False)(new_code_input)\n",
    "                                \n",
    "edit_code_features = layers.Embedding(input_dim=edit_vocab_size,\n",
    "                                output_dim=embedding_size,\n",
    "                                embeddings_initializer=\n",
    "                                tf.keras.initializers.Constant(edit_embedding_matrix),\n",
    "                                trainable=False)(edit_code_input)\n",
    "\n",
    "comment_features = layers.Embedding(input_dim=vocab_size,\n",
    "                                output_dim=embedding_size,\n",
    "                                embeddings_initializer=\n",
    "                                tf.keras.initializers.Constant(embedding_matrix),\n",
    "                                trainable=False)(comment_input)\n",
    "\n",
    "code_features = layers.Concatenate()([old_code_features, new_code_features, edit_code_features])\n",
    "dropout_rate = 0.2\n",
    "code_encoder = layers.Bidirectional(layers.LSTM(hidden_size, dropout=dropout_rate))(code_features)\n",
    "comment_encoder = layers.Bidirectional(layers.LSTM(hidden_size, dropout=dropout_rate))(comment_features)\n",
    "\n",
    "encoder = layers.Concatenate()([code_encoder, comment_encoder])\n",
    "\n",
    "encoder_dense = layers.Dense(hidden_size * 4, activation='relu')(encoder)\n",
    "\n",
    "output = layers.Dense(1, name='out')(encoder_dense)\n",
    "\n",
    "model = tf.keras.Model(inputs=[new_code_input, old_code_input, edit_code_input, comment_input],\n",
    "                      outputs=[output])\n",
    "#model.build()\n",
    "model.summary()\n",
    "model.compile(loss=tf.keras.losses.BinaryCrossentropy(from_logits=True),\n",
    "            optimizer='adam',\n",
    "            metrics=['accuracy'])"
   ],
   "execution_count": null,
   "outputs": [
    {
     "output_type": "stream",
     "text": [
      "Model: \"functional_1\"\n",
      "__________________________________________________________________________________________________\n",
      "Layer (type)                    Output Shape         Param #     Connected to                     \n",
      "==================================================================================================\n",
      "old_code (InputLayer)           [(None, None)]       0                                            \n",
      "__________________________________________________________________________________________________\n",
      "new_code (InputLayer)           [(None, None)]       0                                            \n",
      "__________________________________________________________________________________________________\n",
      "edit_code (InputLayer)          [(None, None)]       0                                            \n",
      "__________________________________________________________________________________________________\n",
      "embedding (Embedding)           (None, None, 300)    13373400    old_code[0][0]                   \n",
      "__________________________________________________________________________________________________\n",
      "embedding_1 (Embedding)         (None, None, 300)    13373400    new_code[0][0]                   \n",
      "__________________________________________________________________________________________________\n",
      "embedding_2 (Embedding)         (None, None, 300)    1800        edit_code[0][0]                  \n",
      "__________________________________________________________________________________________________\n",
      "comment (InputLayer)            [(None, None)]       0                                            \n",
      "__________________________________________________________________________________________________\n",
      "concatenate (Concatenate)       (None, None, 900)    0           embedding[0][0]                  \n",
      "                                                                 embedding_1[0][0]                \n",
      "                                                                 embedding_2[0][0]                \n",
      "__________________________________________________________________________________________________\n",
      "embedding_3 (Embedding)         (None, None, 300)    13373400    comment[0][0]                    \n",
      "__________________________________________________________________________________________________\n",
      "bidirectional (Bidirectional)   (None, 128)          494080      concatenate[0][0]                \n",
      "__________________________________________________________________________________________________\n",
      "bidirectional_1 (Bidirectional) (None, 128)          186880      embedding_3[0][0]                \n",
      "__________________________________________________________________________________________________\n",
      "concatenate_1 (Concatenate)     (None, 256)          0           bidirectional[0][0]              \n",
      "                                                                 bidirectional_1[0][0]            \n",
      "__________________________________________________________________________________________________\n",
      "dense (Dense)                   (None, 256)          65792       concatenate_1[0][0]              \n",
      "__________________________________________________________________________________________________\n",
      "out (Dense)                     (None, 1)            257         dense[0][0]                      \n",
      "==================================================================================================\n",
      "Total params: 40,869,009\n",
      "Trainable params: 747,009\n",
      "Non-trainable params: 40,122,000\n",
      "__________________________________________________________________________________________________\n"
     ],
     "name": "stdout"
    }
   ]
  },
  {
   "cell_type": "code",
   "metadata": {
    "id": "GFGj3UeYA0Cj"
   },
   "source": [],
   "execution_count": null,
   "outputs": []
  },
  {
   "cell_type": "code",
   "metadata": {
    "id": "d8TZqAX8A2SX",
    "outputId": "16576f7e-5057-499c-b54e-3a4e02d0dc74",
    "colab": {
     "base_uri": "https://localhost:8080/",
     "height": 371
    }
   },
   "source": [
    "history = model.fit({'old_code': old_codeX, 'new_code': new_codeX, 'edit_code': editX, 'comment':commentX}, {'out':Y}, epochs=10,\n",
    "                    shuffle= True, batch_size=32, validation_split=0.2)"
   ],
   "execution_count": null,
   "outputs": [
    {
     "output_type": "stream",
     "text": [
      "Epoch 1/10\n",
      "3218/3218 [==============================] - 101s 31ms/step - loss: 0.6935 - accuracy: 0.4999 - val_loss: 0.6928 - val_accuracy: 0.5000\n",
      "Epoch 2/10\n",
      "3218/3218 [==============================] - 100s 31ms/step - loss: 0.6876 - accuracy: 0.5049 - val_loss: 0.6915 - val_accuracy: 0.5087\n",
      "Epoch 3/10\n",
      "3218/3218 [==============================] - 99s 31ms/step - loss: 0.6763 - accuracy: 0.5177 - val_loss: 0.6865 - val_accuracy: 0.5104\n",
      "Epoch 4/10\n",
      "3218/3218 [==============================] - 97s 30ms/step - loss: 0.6659 - accuracy: 0.5271 - val_loss: 0.6856 - val_accuracy: 0.5115\n",
      "Epoch 5/10\n",
      "3218/3218 [==============================] - 98s 30ms/step - loss: 0.6585 - accuracy: 0.5318 - val_loss: 0.6862 - val_accuracy: 0.5136\n",
      "Epoch 6/10\n",
      "3218/3218 [==============================] - 97s 30ms/step - loss: 0.6498 - accuracy: 0.5370 - val_loss: 0.6854 - val_accuracy: 0.5118\n",
      "Epoch 7/10\n",
      "3218/3218 [==============================] - 98s 31ms/step - loss: 0.6414 - accuracy: 0.5430 - val_loss: 0.6864 - val_accuracy: 0.5139\n",
      "Epoch 8/10\n",
      "3218/3218 [==============================] - 98s 31ms/step - loss: 0.6332 - accuracy: 0.5490 - val_loss: 0.6961 - val_accuracy: 0.5163\n",
      "Epoch 9/10\n",
      "3218/3218 [==============================] - 98s 30ms/step - loss: 0.6257 - accuracy: 0.5555 - val_loss: 0.7090 - val_accuracy: 0.5230\n",
      "Epoch 10/10\n",
      "3218/3218 [==============================] - 98s 30ms/step - loss: 0.6178 - accuracy: 0.5631 - val_loss: 0.7010 - val_accuracy: 0.5222\n"
     ],
     "name": "stdout"
    }
   ]
  },
  {
   "cell_type": "code",
   "metadata": {
    "id": "ZvrYWgAomO9f",
    "outputId": "10ddfd65-8481-4bb7-bcb7-a1a4f8e28646",
    "colab": {
     "base_uri": "https://localhost:8080/",
     "height": 295
    }
   },
   "source": [
    "import matplotlib.pyplot as plt\n",
    "\n",
    "plt.plot(history.history['loss'])\n",
    "plt.plot(history.history['val_loss'])\n",
    "plt.title('model loss')\n",
    "plt.ylabel('loss')\n",
    "plt.xlabel('epoch')\n",
    "plt.legend(['train', 'val'], loc='upper left')\n",
    "plt.show()"
   ],
   "execution_count": null,
   "outputs": [
    {
     "output_type": "display_data",
     "data": {
      "image/png": "[encoded data removed]",
      "text/plain": [
       "<Figure size 432x288 with 1 Axes>"
      ]
     },
     "metadata": {
      "tags": [],
      "needs_background": "light"
     }
    }
   ]
  },
  {
   "cell_type": "code",
   "metadata": {
    "id": "SQq_WL6hE17W",
    "outputId": "ac1c35e8-7f53-42a4-c202-76f0a0c3c27f",
    "colab": {
     "base_uri": "https://localhost:8080/",
     "height": 67
    },
    "pycharm": {
     "name": "#%%\n"
    }
   },
   "source": [
    "print(\"Evaluate on test data\")\n",
    "results = model.evaluate({'old_code': test_old_codeX, 'new_code': test_new_codeX, 'edit_code': test_editX, 'comment':test_commentX}, {'out':testY})\n",
    "print(\"test loss, test acc:\", results)"
   ],
   "execution_count": null,
   "outputs": [
    {
     "output_type": "stream",
     "text": [
      "Evaluate on test data\n",
      "454/454 [==============================] - 6s 14ms/step - loss: 0.6945 - accuracy: 0.5075\n",
      "test loss, test acc: [0.6945074796676636, 0.5075069069862366]\n"
     ],
     "name": "stdout"
    }
   ]
  }
 ]
}